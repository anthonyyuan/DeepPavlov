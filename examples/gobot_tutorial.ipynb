{
 "cells": [
  {
   "cell_type": "markdown",
   "metadata": {},
   "source": [
    "### You can also run the notebook in [COLAB](https://colab.research.google.com/github/deepmipt/DeepPavlov/blob/master/examples/gobot_tutorial.ipynb)."
   ]
  },
  {
   "cell_type": "code",
   "execution_count": null,
   "metadata": {},
   "outputs": [],
   "source": [
    "!pip install deeppavlov"
   ]
  },
  {
   "cell_type": "markdown",
   "metadata": {},
   "source": [
    "# Goal-oriented bot in DeepPavlov"
   ]
  },
  {
   "cell_type": "markdown",
   "metadata": {},
   "source": [
    "The tutor is focused on building a goal-oriented dialogue system:\n",
    "\n",
    "0. [Data preparation](#0.-Data-Preparation)\n",
    "1. [Build database of items](#1.-Build-database-of-items)\n",
    "2. [Build Slot Filler](#2.-Build-Slot-Filler)\n",
    "3. [Train bot](#3.-Train-bot)\n",
    "\n",
    "An example of the final model served as a telegram bot is:\n",
    "\n",
    "![gobot_example.png](img/gobot_example.png)"
   ]
  },
  {
   "cell_type": "markdown",
   "metadata": {},
   "source": [
    "## 0. Data Preparation"
   ]
  },
  {
   "cell_type": "markdown",
   "metadata": {},
   "source": [
    "The tutor's dialogue system will be on the domain of restaurant booking. [Dialogue State Tracking Challenge 2 (DSTC-2)](http://camdial.org/~mh521/dstc/) dataset provides dialogues of a human talking to a booking system labelled with slots and dialogue actions. The labels are will be used for training a dialogue policy network.\n",
    "\n",
    "See below a small chunk of the data. "
   ]
  },
  {
   "cell_type": "code",
   "execution_count": 1,
   "metadata": {},
   "outputs": [
    {
     "name": "stderr",
     "output_type": "stream",
     "text": [
      "2019-09-03 17:49:14.318 INFO in 'deeppavlov.dataset_readers.dstc2_reader'['dstc2_reader'] at line 269: [PosixPath('my_data/simple-dstc2-val.json'), PosixPath('my_data/simple-dstc2-tst.json')]]\n",
      "2019-09-03 17:49:14.319 INFO in 'deeppavlov.dataset_readers.dstc2_reader'['dstc2_reader'] at line 270: [downloading data from http://files.deeppavlov.ai/datasets/simple_dstc2.tar.gz to my_data]\n",
      "2019-09-03 17:49:14.349 INFO in 'deeppavlov.core.data.utils'['utils'] at line 63: Downloading from http://files.deeppavlov.ai/datasets/simple_dstc2.tar.gz to my_data/simple_dstc2.tar.gz\n",
      "100%|██████████| 497k/497k [00:00<00:00, 47.5MB/s]\n",
      "2019-09-03 17:49:14.364 INFO in 'deeppavlov.core.data.utils'['utils'] at line 201: Extracting my_data/simple_dstc2.tar.gz archive into my_data\n",
      "2019-09-03 17:49:14.388 INFO in 'deeppavlov.dataset_readers.dstc2_reader'['dstc2_reader'] at line 290: [loading dialogs from my_data/simple-dstc2-trn.json]\n",
      "2019-09-03 17:49:14.457 INFO in 'deeppavlov.dataset_readers.dstc2_reader'['dstc2_reader'] at line 290: [loading dialogs from my_data/simple-dstc2-val.json]\n",
      "2019-09-03 17:49:14.516 INFO in 'deeppavlov.dataset_readers.dstc2_reader'['dstc2_reader'] at line 290: [loading dialogs from my_data/simple-dstc2-tst.json]\n",
      "2019-09-03 17:49:14.552 INFO in 'deeppavlov.dataset_readers.dstc2_reader'['dstc2_reader'] at line 282: There are 9115 samples in train split.\n",
      "2019-09-03 17:49:14.553 INFO in 'deeppavlov.dataset_readers.dstc2_reader'['dstc2_reader'] at line 283: There are 6231 samples in valid split.\n",
      "2019-09-03 17:49:14.553 INFO in 'deeppavlov.dataset_readers.dstc2_reader'['dstc2_reader'] at line 284: There are 6345 samples in test split.\n"
     ]
    }
   ],
   "source": [
    "from deeppavlov.dataset_readers.dstc2_reader import SimpleDSTC2DatasetReader\n",
    "\n",
    "data = SimpleDSTC2DatasetReader().read('my_data')"
   ]
  },
  {
   "cell_type": "code",
   "execution_count": 2,
   "metadata": {},
   "outputs": [
    {
     "name": "stdout",
     "output_type": "stream",
     "text": [
      "simple-dstc2-templates.txt  simple-dstc2-tst.json\r\n",
      "simple-dstc2-trn.json\t    simple-dstc2-val.json\r\n"
     ]
    }
   ],
   "source": [
    "!ls my_data"
   ]
  },
  {
   "cell_type": "markdown",
   "metadata": {},
   "source": [
    "The training/validation/test data is stored in json files (`simple-dstc2-trn.json`, `simple-dstc2-val.json` and `simple-dstc2-tst.json`):"
   ]
  },
  {
   "cell_type": "code",
   "execution_count": 3,
   "metadata": {},
   "outputs": [
    {
     "name": "stdout",
     "output_type": "stream",
     "text": [
      "[\r\n",
      "  [\r\n",
      "    {\r\n",
      "      \"speaker\": 2,\r\n",
      "      \"text\": \"Hello, welcome to the Cambridge restaurant system. You can ask for restaurants by area, price range or food type. How may I help you?\",\r\n",
      "      \"slots\": [],\r\n",
      "      \"act\": \"welcomemsg\"\r\n",
      "    },\r\n",
      "    {\r\n",
      "      \"speaker\": 1,\r\n",
      "      \"text\": \"cheap restaurant\",\r\n",
      "      \"slots\": [\r\n",
      "        [\r\n",
      "          \"pricerange\",\r\n",
      "          \"cheap\"\r\n",
      "        ]\r\n",
      "      ]\r\n",
      "    },\r\n",
      "    {\r\n",
      "      \"speaker\": 2,\r\n",
      "      \"text\": \"What kind of food would you like?\",\r\n",
      "      \"slots\": [],\r\n",
      "      \"act\": \"request_food\"\r\n",
      "    },\r\n",
      "    {\r\n",
      "      \"speaker\": 1,\r\n",
      "      \"text\": \"any\",\r\n",
      "      \"slots\": [\r\n",
      "        [\r\n",
      "          \"this\",\r\n",
      "          \"dontcare\"\r\n",
      "        ]\r\n",
      "      ]\r\n",
      "    },\r\n",
      "    {\r\n",
      "      \"speaker\": 2,\r\n",
      "      \"text\": \"What part of town do you have in mind?\",\r\n",
      "      \"slots\": [],\r\n",
      "      \"act\": \"request_area\"\r\n",
      "    },\r\n",
      "    {\r\n",
      "      \"speaker\": 1,\r\n",
      "      \"text\": \"south\",\r\n",
      "      \"slots\": [\r\n",
      "        [\r\n",
      "          \"area\",\r\n",
      "          \"south\"\r\n",
      "        ]\r\n",
      "      ]\r\n",
      "    },\r\n",
      "    {\r\n",
      "      \"speaker\": 2,\r\n",
      "      \"text\": \"api_call area=\\\"south\\\" food=\\\"dontcare\\\" pricerange=\\\"cheap\\\"\",\r\n",
      "      \"db_result\": {\r\n",
      "        \"food\": \"chinese\",\r\n",
      "        \"pricerange\": \"cheap\",\r\n",
      "        \"area\": \"south\",\r\n",
      "        \"addr\": \"cambridge leisure park clifton way cherry hinton\",\r\n",
      "        \"phone\": \"01223 244277\",\r\n",
      "        \"postcode\": \"c.b 1, 7 d.y\",\r\n",
      "        \"name\": \"the lucky star\"\r\n",
      "      },\r\n",
      "      \"slots\": [\r\n",
      "        [\r\n",
      "          \"area\",\r\n",
      "          \"south\"\r\n",
      "        ],\r\n",
      "        [\r\n",
      "          \"pricerange\",\r\n",
      "          \"cheap\"\r\n",
      "        ],\r\n",
      "        [\r\n",
      "          \"food\",\r\n",
      "          \"dontcare\"\r\n",
      "        ]\r\n",
      "      ],\r\n",
      "      \"act\": \"api_call\"\r\n",
      "    },\r\n",
      "    {\r\n",
      "      \"speaker\": 2,\r\n",
      "      \"text\": \"The lucky star is a nice place in the south of town serving tasty chinese food.\",\r\n",
      "      \"slots\": [\r\n",
      "        [\r\n",
      "          \"area\",\r\n",
      "          \"south\"\r\n",
      "        ],\r\n",
      "        [\r\n",
      "          \"pricerange\",\r\n",
      "          \"cheap\"\r\n",
      "        ],\r\n",
      "        [\r\n",
      "          \"name\",\r\n",
      "          \"the lucky star\"\r\n",
      "        ],\r\n",
      "        [\r\n",
      "          \"food\",\r\n",
      "          \"chinese\"\r\n",
      "        ]\r\n",
      "      ],\r\n",
      "      \"act\": \"inform_area+inform_food+offer_name\"\r\n",
      "    },\r\n"
     ]
    }
   ],
   "source": [
    "!head -n 101 my_data/simple-dstc2-trn.json"
   ]
  },
  {
   "cell_type": "code",
   "execution_count": 4,
   "metadata": {
    "scrolled": true
   },
   "outputs": [],
   "source": [
    "from deeppavlov.dataset_iterators.dialog_iterator import DialogDatasetIterator\n",
    "\n",
    "iterator = DialogDatasetIterator(data)"
   ]
  },
  {
   "cell_type": "markdown",
   "metadata": {},
   "source": [
    "You can now iterate over batches of preprocessed DSTC-2 dialogs:"
   ]
  },
  {
   "cell_type": "code",
   "execution_count": 5,
   "metadata": {},
   "outputs": [
    {
     "name": "stdout",
     "output_type": "stream",
     "text": [
      "User utterances:\n",
      "----------------\n",
      "\n",
      "[   {'prev_resp_act': None, 'text': ''},\n",
      "    {   'prev_resp_act': 'welcomemsg',\n",
      "        'slots': [['pricerange', 'moderate']],\n",
      "        'text': 'im looking for a moderately priced restaurant'},\n",
      "    {'prev_resp_act': 'request_food', 'text': 'that serves'},\n",
      "    {   'prev_resp_act': 'request_food',\n",
      "        'slots': [['food', 'australasian']],\n",
      "        'text': 'australasian'},\n",
      "    {   'db_result': {},\n",
      "        'prev_resp_act': 'api_call',\n",
      "        'slots': [['food', 'australasian']],\n",
      "        'text': 'australasian'},\n",
      "    {   'prev_resp_act': 'canthelp_food_pricerange',\n",
      "        'slots': [['food', 'modern european']],\n",
      "        'text': 'how about modern europone'},\n",
      "    {   'db_result': {   'addr': 'doubletree by hilton cambridge granta place '\n",
      "                                 'mill lane',\n",
      "                         'area': 'centre',\n",
      "                         'food': 'modern european',\n",
      "                         'name': 'riverside brasserie',\n",
      "                         'phone': '01223 259988',\n",
      "                         'pricerange': 'moderate'},\n",
      "        'prev_resp_act': 'api_call',\n",
      "        'slots': [['food', 'modern european']],\n",
      "        'text': 'how about modern europone'},\n",
      "    {   'prev_resp_act': 'inform_food+inform_pricerange+offer_name',\n",
      "        'slots': [['slot', 'phone']],\n",
      "        'text': 'may i have the phone number'},\n",
      "    {'prev_resp_act': 'inform_phone+offer_name', 'text': 'thank you good bye'}]\n",
      "\n",
      "System responses:\n",
      "-----------------\n",
      "\n",
      "[   {   'act': 'welcomemsg',\n",
      "        'text': 'Hello, welcome to the Cambridge restaurant system. You can '\n",
      "                'ask for restaurants by area, price range or food type. How '\n",
      "                'may I help you?'},\n",
      "    {'act': 'request_food', 'text': 'What kind of food would you like?'},\n",
      "    {'act': 'request_food', 'text': 'What kind of food would you like?'},\n",
      "    {   'act': 'api_call',\n",
      "        'slots': [['food', 'australasian'], ['pricerange', 'moderate']],\n",
      "        'text': 'api_call area=\"dontcare\" food=\"australasian\" '\n",
      "                'pricerange=\"moderate\"'},\n",
      "    {   'act': 'canthelp_food_pricerange',\n",
      "        'slots': [['food', 'australasian'], ['pricerange', 'moderate']],\n",
      "        'text': 'Sorry there is no australasian restaurant in the moderate '\n",
      "                'price range.'},\n",
      "    {   'act': 'api_call',\n",
      "        'slots': [['pricerange', 'moderate'], ['food', 'modern european']],\n",
      "        'text': 'api_call area=\"dontcare\" food=\"modern european\" '\n",
      "                'pricerange=\"moderate\"'},\n",
      "    {   'act': 'inform_food+inform_pricerange+offer_name',\n",
      "        'slots': [   ['name', 'riverside brasserie'],\n",
      "                     ['pricerange', 'moderate'],\n",
      "                     ['food', 'modern european']],\n",
      "        'text': 'Riverside brasserie serves modern european food in the '\n",
      "                'moderate price range.'},\n",
      "    {   'act': 'inform_phone+offer_name',\n",
      "        'slots': [['name', 'riverside brasserie'], ['phone', '01223 259988']],\n",
      "        'text': 'The phone number of riverside brasserie is 01223 259988.'},\n",
      "    {'act': 'bye', 'text': 'You are welcome!'}]\n"
     ]
    }
   ],
   "source": [
    "from pprint import pprint\n",
    "\n",
    "for dialog in iterator.gen_batches(batch_size=1, data_type='train'):\n",
    "    turns_x, turns_y = dialog\n",
    "    \n",
    "    print(\"User utterances:\\n----------------\\n\")\n",
    "    pprint(turns_x[0], indent=4)\n",
    "    print(\"\\nSystem responses:\\n-----------------\\n\")\n",
    "    pprint(turns_y[0], indent=4)\n",
    "    \n",
    "    break"
   ]
  },
  {
   "cell_type": "code",
   "execution_count": 6,
   "metadata": {},
   "outputs": [],
   "source": [
    "!cp my_data/simple-dstc2-trn.json my_data/simple-dstc2-trn.full.json"
   ]
  },
  {
   "cell_type": "code",
   "execution_count": 7,
   "metadata": {},
   "outputs": [
    {
     "name": "stdout",
     "output_type": "stream",
     "text": [
      "Train set contains 50/967 dialogues.\n"
     ]
    }
   ],
   "source": [
    "import json\n",
    "\n",
    "NUM_TRAIN = 50\n",
    "\n",
    "\n",
    "with open('my_data/simple-dstc2-trn.full.json', 'rt') as fin,\\\n",
    "    open('my_data/simple-dstc2-trn.json', 'wt') as fout:\n",
    "        data = json.load(fin)\n",
    "        \n",
    "        print(f\"Train set contains {NUM_TRAIN}/{len(data)} dialogues.\")\n",
    "        json.dump(data[:NUM_TRAIN], fout, indent=2)\n"
   ]
  },
  {
   "cell_type": "markdown",
   "metadata": {},
   "source": [
    "## 1. Build database of items"
   ]
  },
  {
   "cell_type": "markdown",
   "metadata": {},
   "source": [
    "&nbsp;\n",
    "![gobot_database.png](img/gobot_database.png)\n",
    "&nbsp;"
   ]
  },
  {
   "cell_type": "markdown",
   "metadata": {},
   "source": [
    "For a valid goal-oriented bot there should be a `database` of relevant items. In the case of restaurant booking it will contain all available restaurants and their info.\n",
    "\n",
    "    >> database([{'pricerange': 'cheap', 'area': 'south'}])\n",
    "    \n",
    "    Out[1]: \n",
    "        [[{'name': 'the lucky star',\n",
    "           'food': 'chinese',\n",
    "           'pricerange': 'cheap',\n",
    "           'area': 'south',\n",
    "           'addr': 'cambridge leisure park clifton way cherry hinton',\n",
    "           'phone': '01223 244277',\n",
    "           'postcode': 'c.b 1, 7 d.y'},\n",
    "          {'name': 'nandos',\n",
    "           'food': 'portuguese',\n",
    "           'pricerange': 'cheap',\n",
    "           'area': 'south',\n",
    "           'addr': 'cambridge leisure park clifton way',\n",
    "           'phone': '01223 327908',\n",
    "           'postcode': 'c.b 1, 7 d.y'}]]\n",
    "           \n",
    "The dialogues in the training dataset should contain a `\"db_result\"` dictionary key. It is required for turns where system performs a special type of external action: an api call to the database of items. `\"db_result\"` should contain the result of the api call:"
   ]
  },
  {
   "cell_type": "code",
   "execution_count": 8,
   "metadata": {},
   "outputs": [
    {
     "name": "stdout",
     "output_type": "stream",
     "text": [
      "    {\r\n",
      "      \"speaker\": 2,\r\n",
      "      \"text\": \"api_call area=\\\"south\\\" food=\\\"dontcare\\\" pricerange=\\\"cheap\\\"\",\r\n",
      "      \"db_result\": {\r\n",
      "        \"food\": \"chinese\",\r\n",
      "        \"pricerange\": \"cheap\",\r\n",
      "        \"area\": \"south\",\r\n",
      "        \"addr\": \"cambridge leisure park clifton way cherry hinton\",\r\n",
      "        \"phone\": \"01223 244277\",\r\n",
      "        \"postcode\": \"c.b 1, 7 d.y\",\r\n",
      "        \"name\": \"the lucky star\"\r\n",
      "      },\r\n",
      "      \"slots\": [\r\n",
      "        [\r\n",
      "          \"area\",\r\n",
      "          \"south\"\r\n",
      "        ],\r\n",
      "        [\r\n",
      "          \"pricerange\",\r\n",
      "          \"cheap\"\r\n",
      "        ],\r\n",
      "        [\r\n",
      "          \"food\",\r\n",
      "          \"dontcare\"\r\n",
      "        ]\r\n",
      "      ],\r\n",
      "      \"act\": \"api_call\"\r\n",
      "    },\r\n"
     ]
    }
   ],
   "source": [
    "!head -n 78 my_data/simple-dstc2-trn.json | tail +51"
   ]
  },
  {
   "cell_type": "code",
   "execution_count": 9,
   "metadata": {},
   "outputs": [
    {
     "name": "stderr",
     "output_type": "stream",
     "text": [
      "2019-09-03 17:49:22.656 WARNING in 'deeppavlov.core.models.serializable'['serializable'] at line 47: No load path is set for Sqlite3Database in 'infer' mode. Using save path instead\n",
      "2019-09-03 17:49:22.658 INFO in 'deeppavlov.core.data.sqlite_database'['sqlite_database'] at line 70: Initializing empty database on /home/vimary/code-projects/Pilot/examples/my_bot/db.sqlite.\n"
     ]
    }
   ],
   "source": [
    "from deeppavlov.core.data.sqlite_database import Sqlite3Database\n",
    "\n",
    "database = Sqlite3Database(primary_keys=[\"name\"],\n",
    "                           save_path=\"my_bot/db.sqlite\")"
   ]
  },
  {
   "cell_type": "markdown",
   "metadata": {},
   "source": [
    "Set `primary_keys` to a list of slot names that have unique values for different items (common SQL term). For the case of DSTC-2, the primary slot is restaurant name.\n",
    "\n",
    "Let's find all `\"db_result\"` api call results and add it to our database of restaurants:"
   ]
  },
  {
   "cell_type": "code",
   "execution_count": 10,
   "metadata": {},
   "outputs": [
    {
     "name": "stderr",
     "output_type": "stream",
     "text": [
      "2019-09-03 17:49:23.122 INFO in 'deeppavlov.core.data.sqlite_database'['sqlite_database'] at line 145: Created table with keys {'phone': 'text', 'food': 'text', 'pricerange': 'text', 'postcode': 'text', 'addr': 'text', 'area': 'text', 'name': 'text'}.\n"
     ]
    },
    {
     "name": "stdout",
     "output_type": "stream",
     "text": [
      "Adding 3016 items.\n"
     ]
    }
   ],
   "source": [
    "db_results = []\n",
    "\n",
    "for dialog in iterator.gen_batches(batch_size=1, data_type='all'):\n",
    "    turns_x, turns_y = dialog\n",
    "    db_results.extend(x['db_result'] for x in turns_x[0] if x.get('db_result'))\n",
    "\n",
    "print(f\"Adding {len(db_results)} items.\")\n",
    "if db_results:\n",
    "    database.fit(db_results)"
   ]
  },
  {
   "cell_type": "markdown",
   "metadata": {},
   "source": [
    "##### Interacting with database"
   ]
  },
  {
   "cell_type": "markdown",
   "metadata": {},
   "source": [
    "We can now play with the database and make requests to it:"
   ]
  },
  {
   "cell_type": "code",
   "execution_count": 11,
   "metadata": {},
   "outputs": [
    {
     "data": {
      "text/plain": [
       "[[{'phone': '01223 327908',\n",
       "   'food': 'portuguese',\n",
       "   'pricerange': 'cheap',\n",
       "   'postcode': 'c.b 1, 7 d.y',\n",
       "   'addr': 'cambridge leisure park clifton way',\n",
       "   'area': 'south',\n",
       "   'name': 'nandos'},\n",
       "  {'phone': '01223 244277',\n",
       "   'food': 'chinese',\n",
       "   'pricerange': 'cheap',\n",
       "   'postcode': 'c.b 1, 7 d.y',\n",
       "   'addr': 'cambridge leisure park clifton way cherry hinton',\n",
       "   'area': 'south',\n",
       "   'name': 'the lucky star'}]]"
      ]
     },
     "execution_count": 11,
     "metadata": {},
     "output_type": "execute_result"
    }
   ],
   "source": [
    "database([{'pricerange': 'cheap', 'area': 'south'}])"
   ]
  },
  {
   "cell_type": "code",
   "execution_count": 12,
   "metadata": {},
   "outputs": [
    {
     "name": "stdout",
     "output_type": "stream",
     "text": [
      "db.sqlite\r\n"
     ]
    }
   ],
   "source": [
    "!ls my_bot"
   ]
  },
  {
   "cell_type": "markdown",
   "metadata": {},
   "source": [
    "## 2. Build Slot Filler"
   ]
  },
  {
   "cell_type": "markdown",
   "metadata": {},
   "source": [
    "&nbsp;\n",
    "![gobot_slotfiller.png](img/gobot_slotfiller.png)\n",
    "&nbsp;"
   ]
  },
  {
   "cell_type": "markdown",
   "metadata": {},
   "source": [
    "Slot Filler is component that inputs text and outputs dictionary of slot names and their values:\n",
    "\n",
    "    >> slot_filler(['I would like some chineese food'])\n",
    "    \n",
    "    Out[1]: [{'food': 'chinese'}]\n",
    "\n",
    "To implement a slot filler you need to provide\n",
    "    \n",
    " - **slot types**\n",
    " - all possible **slot values**\n",
    " - optionally, it will be good to provide examples of mentions for every value of each slot\n",
    " \n",
    "The data should be in `slot_vals.json` file with the following format:\n",
    "\n",
    "    {\n",
    "        'food': {\n",
    "            'chinese': ['chinese', 'chineese', 'chines'],\n",
    "            'french': ['french', 'freench'],\n",
    "            'dontcare': ['any food', 'any type of food']\n",
    "        }\n",
    "    }\n",
    "                \n",
    "\n",
    "Let's use a simple non-trainable slot filler that relies on levenshtein distance:"
   ]
  },
  {
   "cell_type": "code",
   "execution_count": 13,
   "metadata": {},
   "outputs": [
    {
     "name": "stderr",
     "output_type": "stream",
     "text": [
      "2019-09-03 17:49:25.676 INFO in 'deeppavlov.core.data.utils'['utils'] at line 63: Downloading from http://files.deeppavlov.ai/deeppavlov_data/dstc_slot_vals.tar.gz to my_bot/slotfill/dstc_slot_vals.tar.gz\n",
      "100%|██████████| 1.62k/1.62k [00:00<00:00, 8.00MB/s]\n",
      "2019-09-03 17:49:25.679 INFO in 'deeppavlov.core.data.utils'['utils'] at line 201: Extracting my_bot/slotfill/dstc_slot_vals.tar.gz archive into my_bot/slotfill\n"
     ]
    }
   ],
   "source": [
    "from deeppavlov.download import download_decompress\n",
    "\n",
    "download_decompress(url='http://files.deeppavlov.ai/deeppavlov_data/dstc_slot_vals.tar.gz',\n",
    "                    download_path='my_bot/slotfill')"
   ]
  },
  {
   "cell_type": "code",
   "execution_count": 14,
   "metadata": {},
   "outputs": [
    {
     "name": "stdout",
     "output_type": "stream",
     "text": [
      "dstc_slot_vals.json\r\n"
     ]
    }
   ],
   "source": [
    "!ls my_bot/slotfill"
   ]
  },
  {
   "cell_type": "code",
   "execution_count": 15,
   "metadata": {},
   "outputs": [
    {
     "name": "stdout",
     "output_type": "stream",
     "text": [
      "{\r\n",
      "    \"food\": {\r\n",
      "        \"caribbean\": [\r\n",
      "            \"carraibean\",\r\n",
      "            \"carribean\",\r\n",
      "            \"caribbean\"\r\n",
      "        ],\r\n",
      "        \"kosher\": [\r\n",
      "            \"kosher\"\r\n",
      "        ],\r\n"
     ]
    }
   ],
   "source": [
    "!head -n 10 my_bot/slotfill/dstc_slot_vals.json"
   ]
  },
  {
   "cell_type": "markdown",
   "metadata": {},
   "source": [
    "##### Metric scores on valid&test"
   ]
  },
  {
   "cell_type": "markdown",
   "metadata": {},
   "source": [
    "Let's check performance of our slot filler on DSTC-2 dataset:"
   ]
  },
  {
   "cell_type": "code",
   "execution_count": 16,
   "metadata": {},
   "outputs": [],
   "source": [
    "from deeppavlov import configs\n",
    "from deeppavlov.core.common.file import read_json\n",
    "\n",
    "slotfill_config = read_json(configs.ner.slotfill_simple_dstc2_raw)"
   ]
  },
  {
   "cell_type": "markdown",
   "metadata": {},
   "source": [
    "We take [original DSTC2 slot-filling config](https://github.com/deepmipt/DeepPavlov/blob/master/deeppavlov/configs/ner/slotfill_dstc2_raw.json) and change variables determining data paths:"
   ]
  },
  {
   "cell_type": "code",
   "execution_count": 17,
   "metadata": {},
   "outputs": [],
   "source": [
    "slotfill_config['metadata']['variables']['DATA_PATH'] = 'my_data'\n",
    "slotfill_config['metadata']['variables']['SLOT_VALS_PATH'] = 'my_bot/slotfill/dstc_slot_vals.json'"
   ]
  },
  {
   "cell_type": "code",
   "execution_count": null,
   "metadata": {},
   "outputs": [
    {
     "name": "stderr",
     "output_type": "stream",
     "text": [
      "2019-09-03 17:49:28.113 INFO in 'deeppavlov.dataset_readers.dstc2_reader'['dstc2_reader'] at line 290: [loading dialogs from /home/vimary/code-projects/Pilot/examples/my_data/simple-dstc2-trn.json]\n",
      "2019-09-03 17:49:28.118 INFO in 'deeppavlov.dataset_readers.dstc2_reader'['dstc2_reader'] at line 290: [loading dialogs from /home/vimary/code-projects/Pilot/examples/my_data/simple-dstc2-val.json]\n",
      "2019-09-03 17:49:28.205 INFO in 'deeppavlov.dataset_readers.dstc2_reader'['dstc2_reader'] at line 290: [loading dialogs from /home/vimary/code-projects/Pilot/examples/my_data/simple-dstc2-tst.json]\n",
      "2019-09-03 17:49:28.239 INFO in 'deeppavlov.dataset_readers.dstc2_reader'['dstc2_reader'] at line 282: There are 479 samples in train split.\n",
      "2019-09-03 17:49:28.240 INFO in 'deeppavlov.dataset_readers.dstc2_reader'['dstc2_reader'] at line 283: There are 6231 samples in valid split.\n",
      "2019-09-03 17:49:28.240 INFO in 'deeppavlov.dataset_readers.dstc2_reader'['dstc2_reader'] at line 284: There are 6345 samples in test split.\n",
      "[nltk_data] Downloading package punkt to /home/vimary/nltk_data...\n",
      "[nltk_data]   Package punkt is already up-to-date!\n",
      "[nltk_data] Downloading package stopwords to /home/vimary/nltk_data...\n",
      "[nltk_data]   Package stopwords is already up-to-date!\n",
      "[nltk_data] Downloading package perluniprops to\n",
      "[nltk_data]     /home/vimary/nltk_data...\n",
      "[nltk_data]   Package perluniprops is already up-to-date!\n",
      "[nltk_data] Downloading package nonbreaking_prefixes to\n",
      "[nltk_data]     /home/vimary/nltk_data...\n",
      "[nltk_data]   Package nonbreaking_prefixes is already up-to-date!\n"
     ]
    },
    {
     "name": "stdout",
     "output_type": "stream",
     "text": [
      "{\"valid\": {\"eval_examples_count\": 1253, \"metrics\": {\"slots_accuracy\": 0.933}, \"time_spent\": \"0:00:25\"}}\n"
     ]
    }
   ],
   "source": [
    "from deeppavlov import evaluate_model\n",
    "\n",
    "slotfill = evaluate_model(slotfill_config);"
   ]
  },
  {
   "cell_type": "markdown",
   "metadata": {},
   "source": [
    "We've got slot accuracy of **93% on valid** set and **94% on test** set."
   ]
  },
  {
   "cell_type": "markdown",
   "metadata": {},
   "source": [
    "##### Interacting with slot filler"
   ]
  },
  {
   "cell_type": "code",
   "execution_count": null,
   "metadata": {},
   "outputs": [],
   "source": [
    "from deeppavlov import build_model\n",
    "\n",
    "slotfill = build_model(slotfill_config)"
   ]
  },
  {
   "cell_type": "code",
   "execution_count": null,
   "metadata": {},
   "outputs": [],
   "source": [
    "slotfill(['i want cheap chinee food'])"
   ]
  },
  {
   "cell_type": "markdown",
   "metadata": {},
   "source": [
    "##### Dumping slot filler's config"
   ]
  },
  {
   "cell_type": "markdown",
   "metadata": {},
   "source": [
    "Saving slotfill config file to disk (we will require it's path later):"
   ]
  },
  {
   "cell_type": "code",
   "execution_count": null,
   "metadata": {},
   "outputs": [],
   "source": [
    "import json\n",
    "\n",
    "json.dump(slotfill_config, open('my_bot/slotfill_config.json', 'wt'))"
   ]
  },
  {
   "cell_type": "code",
   "execution_count": null,
   "metadata": {},
   "outputs": [],
   "source": [
    "!ls my_bot"
   ]
  },
  {
   "cell_type": "markdown",
   "metadata": {},
   "source": [
    "## 3. Train bot"
   ]
  },
  {
   "cell_type": "markdown",
   "metadata": {},
   "source": [
    "Let's assemble all modules together and train the final module: dialogue policy network.\n",
    "\n",
    "&nbsp;\n",
    "![gobot_policy.png](img/gobot_policy.png)\n",
    "&nbsp;\n",
    "\n",
    "Policy network decides which action the system should take on each turn of a dialogue: should it say goodbye, request user's location or make api call to a database.\n",
    "\n",
    "The policy network is a recurrent neural network (recurrent over utterances represented as bags of words) and a dense layer with softmax function on top. The network classifies user utterance into one of predefined system actions.\n",
    "\n",
    "&nbsp;\n",
    "![gobot_templates.png](img/gobot_templates.png)\n",
    "&nbsp;\n",
    "\n",
    "All actions available for the system should be listed in a `simple-dstc2-templates.txt` file. Each action should be associated with a string of the corresponding system response.\n",
    "\n",
    "Templates should be in the format `<act>TAB<template>`, where `<act>` is a dialogue action and `<template>` is the corresponding response. Response text might contain slot type names, where every `#slot_type` will be filled with the slot value from a dialogue state."
   ]
  },
  {
   "cell_type": "code",
   "execution_count": null,
   "metadata": {},
   "outputs": [],
   "source": [
    "!head -n 10 my_data/simple-dstc2-templates.txt"
   ]
  },
  {
   "cell_type": "markdown",
   "metadata": {},
   "source": [
    "So, actions are actually classes we classify over. And `simple-dstc2-templates.txt` contains the set of classes.\n",
    "\n",
    "To train the dialogue policy network for classification task you need action label for each system utterance in training dialogues. The DSTC-2 contains `\"act\"` dictionary key that contains action associated with current response.\n",
    "\n",
    "The cell below provides an example of training data for the policy network."
   ]
  },
  {
   "cell_type": "code",
   "execution_count": null,
   "metadata": {},
   "outputs": [],
   "source": [
    "!head -n 24 my_data/simple-dstc2-trn.json"
   ]
  },
  {
   "cell_type": "markdown",
   "metadata": {},
   "source": [
    "Let's **construct the final pipeline** of a dialogue system.\n",
    "\n",
    "We take [default DSTC2 bot config](https://github.com/deepmipt/DeepPavlov/blob/master/deeppavlov/configs/go_bot/gobot_dstc2.json) ([more configs](https://github.com/deepmipt/DeepPavlov/blob/master/deeppavlov/configs/go_bot) are available) and change sections responsible for \n",
    "- templates,\n",
    "- database,\n",
    "- slot filler,\n",
    "- embeddings,\n",
    "- data and model load/save paths."
   ]
  },
  {
   "cell_type": "code",
   "execution_count": null,
   "metadata": {},
   "outputs": [],
   "source": [
    "from deeppavlov import configs\n",
    "from deeppavlov.core.common.file import read_json\n",
    "\n",
    "gobot_config = read_json(configs.go_bot.gobot_simple_dstc2)"
   ]
  },
  {
   "cell_type": "markdown",
   "metadata": {},
   "source": [
    "**Configure** bot to use **templates**:"
   ]
  },
  {
   "cell_type": "code",
   "execution_count": null,
   "metadata": {},
   "outputs": [],
   "source": [
    "gobot_config['chainer']['pipe'][-1]['template_type'] = 'DefaultTemplate'\n",
    "gobot_config['chainer']['pipe'][-1]['template_path'] = 'my_data/simple-dstc2-templates.txt'"
   ]
  },
  {
   "cell_type": "markdown",
   "metadata": {},
   "source": [
    "**Configure** bot to use our built **database**:"
   ]
  },
  {
   "cell_type": "code",
   "execution_count": null,
   "metadata": {},
   "outputs": [],
   "source": [
    "gobot_config['chainer']['pipe'][-1]['database'] = {\n",
    "    'class_name': 'sqlite_database',\n",
    "    'primary_keys': [\"name\"],\n",
    "    'save_path': 'my_bot/db.sqlite'\n",
    "}"
   ]
  },
  {
   "cell_type": "markdown",
   "metadata": {},
   "source": [
    "**Configure** bot to use levenshtein distance based **slot filler**:"
   ]
  },
  {
   "cell_type": "code",
   "execution_count": null,
   "metadata": {},
   "outputs": [],
   "source": [
    "gobot_config['chainer']['pipe'][-1]['slot_filler']['config_path'] = 'my_bot/slotfill_config.json'\n",
    "\n",
    "gobot_config['chainer']['pipe'][-1]['tracker']['slot_names'] = ['pricerange', 'this', 'area', 'food']"
   ]
  },
  {
   "cell_type": "markdown",
   "metadata": {},
   "source": [
    "You can use a simple **bag-of-words as embedder** (by default):"
   ]
  },
  {
   "cell_type": "code",
   "execution_count": null,
   "metadata": {},
   "outputs": [],
   "source": [
    "gobot_config['chainer']['pipe'][-1]['embedder'] = None"
   ]
  },
  {
   "cell_type": "markdown",
   "metadata": {},
   "source": [
    "Specify train/valid/test **data path** and **path to save** the final bot model:"
   ]
  },
  {
   "cell_type": "code",
   "execution_count": null,
   "metadata": {},
   "outputs": [],
   "source": [
    "gobot_config['metadata']['variables']['DATA_PATH'] = 'my_data'\n",
    "\n",
    "gobot_config['metadata']['variables']['MODEL_PATH'] = 'my_bot'"
   ]
  },
  {
   "cell_type": "markdown",
   "metadata": {},
   "source": [
    "The whole dialogue system pipeline looks like this:\n",
    "    \n",
    "![gobot_pipeline.png](img/gobot_pipeline.png)"
   ]
  },
  {
   "cell_type": "markdown",
   "metadata": {},
   "source": [
    "##### Training policy network"
   ]
  },
  {
   "cell_type": "code",
   "execution_count": 31,
   "metadata": {},
   "outputs": [
    {
     "name": "stderr",
     "output_type": "stream",
     "text": [
      "2019-09-03 17:24:13.826 INFO in 'deeppavlov.dataset_readers.dstc2_reader'['dstc2_reader'] at line 290: [loading dialogs from /home/vimary/code-projects/Pilot/examples/my_data/simple-dstc2-trn.json]\n",
      "2019-09-03 17:24:13.832 INFO in 'deeppavlov.dataset_readers.dstc2_reader'['dstc2_reader'] at line 290: [loading dialogs from /home/vimary/code-projects/Pilot/examples/my_data/simple-dstc2-val.json]\n",
      "2019-09-03 17:24:13.932 INFO in 'deeppavlov.dataset_readers.dstc2_reader'['dstc2_reader'] at line 290: [loading dialogs from /home/vimary/code-projects/Pilot/examples/my_data/simple-dstc2-tst.json]\n",
      "2019-09-03 17:24:13.968 INFO in 'deeppavlov.dataset_readers.dstc2_reader'['dstc2_reader'] at line 282: There are 922 samples in train split.\n",
      "2019-09-03 17:24:13.969 INFO in 'deeppavlov.dataset_readers.dstc2_reader'['dstc2_reader'] at line 283: There are 6231 samples in valid split.\n",
      "2019-09-03 17:24:13.969 INFO in 'deeppavlov.dataset_readers.dstc2_reader'['dstc2_reader'] at line 284: There are 6345 samples in test split.\n",
      "2019-09-03 17:24:14.46 INFO in 'deeppavlov.core.data.simple_vocab'['simple_vocab'] at line 98: [saving vocabulary to /home/vimary/code-projects/Pilot/examples/my_bot/word.dict]\n",
      "2019-09-03 17:24:14.923 WARNING in 'deeppavlov.core.models.serializable'['serializable'] at line 50: No load path is set for Sqlite3Database!\n",
      "2019-09-03 17:24:14.924 INFO in 'deeppavlov.core.data.sqlite_database'['sqlite_database'] at line 66: Loading database from /home/vimary/code-projects/Pilot/examples/my_bot/db.sqlite.\n"
     ]
    },
    {
     "name": "stdout",
     "output_type": "stream",
     "text": [
      "WARNING:tensorflow:From /home/vimary/dp_env/lib/python3.7/site-packages/tensorflow/python/framework/op_def_library.py:263: colocate_with (from tensorflow.python.framework.ops) is deprecated and will be removed in a future version.\n",
      "Instructions for updating:\n",
      "Colocations handled automatically by placer.\n"
     ]
    },
    {
     "name": "stderr",
     "output_type": "stream",
     "text": [
      "Using TensorFlow backend.\n",
      "2019-09-03 17:24:15.157 INFO in 'deeppavlov.models.go_bot.network'['network'] at line 161: [loading templates from /home/vimary/code-projects/Pilot/examples/my_data/simple-dstc2-templates.txt]\n",
      "2019-09-03 17:24:15.158 INFO in 'deeppavlov.models.go_bot.network'['network'] at line 164: 46 templates loaded.\n",
      "2019-09-03 17:24:15.159 INFO in 'deeppavlov.models.go_bot.network'['network'] at line 210: Calculated input size for `GoalOrientedBotNetwork` is 249\n"
     ]
    },
    {
     "name": "stdout",
     "output_type": "stream",
     "text": [
      "WARNING:tensorflow:From /home/vimary/code-projects/Pilot/deeppavlov/models/go_bot/network.py:686: dense (from tensorflow.python.layers.core) is deprecated and will be removed in a future version.\n",
      "Instructions for updating:\n",
      "Use keras.layers.dense instead.\n",
      "WARNING:tensorflow:From /home/vimary/code-projects/Pilot/deeppavlov/core/layers/tf_layers.py:948: calling dropout (from tensorflow.python.ops.nn_ops) with keep_prob is deprecated and will be removed in a future version.\n",
      "Instructions for updating:\n",
      "Please use `rate` instead of `keep_prob`. Rate should be set to `rate = 1 - keep_prob`.\n",
      "WARNING:tensorflow:From /home/vimary/code-projects/Pilot/deeppavlov/models/go_bot/network.py:736: LSTMCell.__init__ (from tensorflow.python.ops.rnn_cell_impl) is deprecated and will be removed in a future version.\n",
      "Instructions for updating:\n",
      "This class is equivalent as tf.keras.layers.LSTMCell, and will be replaced by that in Tensorflow 2.0.\n",
      "WARNING:tensorflow:From /home/vimary/code-projects/Pilot/deeppavlov/models/go_bot/network.py:737: to_int32 (from tensorflow.python.ops.math_ops) is deprecated and will be removed in a future version.\n",
      "Instructions for updating:\n",
      "Use tf.cast instead.\n",
      "WARNING:tensorflow:From /home/vimary/code-projects/Pilot/deeppavlov/models/go_bot/network.py:744: dynamic_rnn (from tensorflow.python.ops.rnn) is deprecated and will be removed in a future version.\n",
      "Instructions for updating:\n",
      "Please use `keras.layers.RNN(cell)`, which is equivalent to this API\n",
      "WARNING:tensorflow:From /home/vimary/code-projects/Pilot/deeppavlov/models/go_bot/network.py:247: checkpoint_exists (from tensorflow.python.training.checkpoint_management) is deprecated and will be removed in a future version.\n",
      "Instructions for updating:\n",
      "Use standard file APIs to check for files with this prefix.\n"
     ]
    },
    {
     "name": "stderr",
     "output_type": "stream",
     "text": [
      "2019-09-03 17:24:15.728 INFO in 'deeppavlov.models.go_bot.network'['network'] at line 251: [initializing `GoalOrientedBot` from scratch]\n",
      "2019-09-03 17:25:29.833 INFO in 'deeppavlov.core.trainers.nn_trainer'['nn_trainer'] at line 164: New best per_item_dialog_accuracy of 0.014\n",
      "2019-09-03 17:25:29.833 INFO in 'deeppavlov.core.trainers.nn_trainer'['nn_trainer'] at line 166: Saving model\n",
      "2019-09-03 17:25:29.834 INFO in 'deeppavlov.core.models.tf_model'['tf_model'] at line 76: [saving model to /home/vimary/code-projects/Pilot/examples/my_bot/model]\n",
      "2019-09-03 17:25:29.903 INFO in 'deeppavlov.models.go_bot.network'['network'] at line 764: [saving parameters to /home/vimary/code-projects/Pilot/examples/my_bot/model.json]\n"
     ]
    },
    {
     "name": "stdout",
     "output_type": "stream",
     "text": [
      "{\"valid\": {\"eval_examples_count\": 575, \"metrics\": {\"per_item_dialog_accuracy\": 0.014}, \"time_spent\": \"0:01:15\", \"epochs_done\": 0, \"batches_seen\": 0, \"train_examples_seen\": 0, \"impatience\": 0, \"patience_limit\": 10}}\n",
      "{\"train\": {\"eval_examples_count\": 100, \"metrics\": {\"per_item_dialog_accuracy\": 0.4826}, \"time_spent\": \"0:02:12\", \"epochs_done\": 3, \"batches_seen\": 50, \"train_examples_seen\": 388, \"learning_rate\": 0.003, \"momentum\": 0.95, \"loss\": 1.4087233436107636}}\n"
     ]
    },
    {
     "name": "stderr",
     "output_type": "stream",
     "text": [
      "2019-09-03 17:27:40.388 INFO in 'deeppavlov.core.trainers.nn_trainer'['nn_trainer'] at line 164: New best per_item_dialog_accuracy of 0.3491\n",
      "2019-09-03 17:27:40.388 INFO in 'deeppavlov.core.trainers.nn_trainer'['nn_trainer'] at line 166: Saving model\n",
      "2019-09-03 17:27:40.389 INFO in 'deeppavlov.core.models.tf_model'['tf_model'] at line 76: [saving model to /home/vimary/code-projects/Pilot/examples/my_bot/model]\n",
      "2019-09-03 17:27:40.456 INFO in 'deeppavlov.models.go_bot.network'['network'] at line 764: [saving parameters to /home/vimary/code-projects/Pilot/examples/my_bot/model.json]\n"
     ]
    },
    {
     "name": "stdout",
     "output_type": "stream",
     "text": [
      "{\"valid\": {\"eval_examples_count\": 575, \"metrics\": {\"per_item_dialog_accuracy\": 0.3491}, \"time_spent\": \"0:03:25\", \"epochs_done\": 3, \"batches_seen\": 50, \"train_examples_seen\": 388, \"impatience\": 0, \"patience_limit\": 10}}\n",
      "{\"train\": {\"eval_examples_count\": 100, \"metrics\": {\"per_item_dialog_accuracy\": 0.6432}, \"time_spent\": \"0:04:22\", \"epochs_done\": 7, \"batches_seen\": 100, \"train_examples_seen\": 772, \"learning_rate\": 0.003, \"momentum\": 0.95, \"loss\": 0.5619615942239762}}\n"
     ]
    },
    {
     "name": "stderr",
     "output_type": "stream",
     "text": [
      "2019-09-03 17:29:50.498 INFO in 'deeppavlov.core.trainers.nn_trainer'['nn_trainer'] at line 164: New best per_item_dialog_accuracy of 0.4189\n",
      "2019-09-03 17:29:50.498 INFO in 'deeppavlov.core.trainers.nn_trainer'['nn_trainer'] at line 166: Saving model\n",
      "2019-09-03 17:29:50.499 INFO in 'deeppavlov.core.models.tf_model'['tf_model'] at line 76: [saving model to /home/vimary/code-projects/Pilot/examples/my_bot/model]\n",
      "2019-09-03 17:29:50.568 INFO in 'deeppavlov.models.go_bot.network'['network'] at line 764: [saving parameters to /home/vimary/code-projects/Pilot/examples/my_bot/model.json]\n"
     ]
    },
    {
     "name": "stdout",
     "output_type": "stream",
     "text": [
      "{\"valid\": {\"eval_examples_count\": 575, \"metrics\": {\"per_item_dialog_accuracy\": 0.4189}, \"time_spent\": \"0:05:35\", \"epochs_done\": 7, \"batches_seen\": 100, \"train_examples_seen\": 772, \"impatience\": 0, \"patience_limit\": 10}}\n",
      "{\"train\": {\"eval_examples_count\": 100, \"metrics\": {\"per_item_dialog_accuracy\": 0.7007}, \"time_spent\": \"0:06:32\", \"epochs_done\": 11, \"batches_seen\": 150, \"train_examples_seen\": 1156, \"learning_rate\": 0.003, \"momentum\": 0.95, \"loss\": 0.3414749029278755}}\n"
     ]
    },
    {
     "name": "stderr",
     "output_type": "stream",
     "text": [
      "2019-09-03 17:32:00.742 INFO in 'deeppavlov.core.trainers.nn_trainer'['nn_trainer'] at line 170: Did not improve on the per_item_dialog_accuracy of 0.4189\n"
     ]
    },
    {
     "name": "stdout",
     "output_type": "stream",
     "text": [
      "{\"valid\": {\"eval_examples_count\": 575, \"metrics\": {\"per_item_dialog_accuracy\": 0.3996}, \"time_spent\": \"0:07:46\", \"epochs_done\": 11, \"batches_seen\": 150, \"train_examples_seen\": 1156, \"impatience\": 1, \"patience_limit\": 10}}\n",
      "{\"train\": {\"eval_examples_count\": 100, \"metrics\": {\"per_item_dialog_accuracy\": 0.7267}, \"time_spent\": \"0:08:43\", \"epochs_done\": 15, \"batches_seen\": 200, \"train_examples_seen\": 1540, \"learning_rate\": 0.003, \"momentum\": 0.95, \"loss\": 0.23344842195510865}}\n"
     ]
    },
    {
     "name": "stderr",
     "output_type": "stream",
     "text": [
      "2019-09-03 17:34:11.634 INFO in 'deeppavlov.core.trainers.nn_trainer'['nn_trainer'] at line 170: Did not improve on the per_item_dialog_accuracy of 0.4189\n",
      "2019-09-03 17:34:11.642 INFO in 'deeppavlov.core.data.simple_vocab'['simple_vocab'] at line 112: [loading vocabulary from /home/vimary/code-projects/Pilot/examples/my_bot/word.dict]\n",
      "2019-09-03 17:34:11.644 WARNING in 'deeppavlov.core.models.serializable'['serializable'] at line 47: No load path is set for Sqlite3Database in 'infer' mode. Using save path instead\n",
      "2019-09-03 17:34:11.644 INFO in 'deeppavlov.core.data.sqlite_database'['sqlite_database'] at line 66: Loading database from /home/vimary/code-projects/Pilot/examples/my_bot/db.sqlite.\n",
      "2019-09-03 17:34:11.728 INFO in 'deeppavlov.models.go_bot.network'['network'] at line 161: [loading templates from /home/vimary/code-projects/Pilot/examples/my_data/simple-dstc2-templates.txt]\n",
      "2019-09-03 17:34:11.728 INFO in 'deeppavlov.models.go_bot.network'['network'] at line 164: 46 templates loaded.\n",
      "2019-09-03 17:34:11.729 INFO in 'deeppavlov.models.go_bot.network'['network'] at line 210: Calculated input size for `GoalOrientedBotNetwork` is 249\n"
     ]
    },
    {
     "name": "stdout",
     "output_type": "stream",
     "text": [
      "{\"valid\": {\"eval_examples_count\": 575, \"metrics\": {\"per_item_dialog_accuracy\": 0.3995}, \"time_spent\": \"0:09:56\", \"epochs_done\": 15, \"batches_seen\": 200, \"train_examples_seen\": 1540, \"impatience\": 2, \"patience_limit\": 10}}\n"
     ]
    },
    {
     "name": "stderr",
     "output_type": "stream",
     "text": [
      "2019-09-03 17:34:12.168 INFO in 'deeppavlov.models.go_bot.network'['network'] at line 248: [initializing `GoalOrientedBot` from saved]\n",
      "2019-09-03 17:34:12.169 INFO in 'deeppavlov.models.go_bot.network'['network'] at line 770: [loading parameters from /home/vimary/code-projects/Pilot/examples/my_bot/model.json]\n",
      "2019-09-03 17:34:12.170 INFO in 'deeppavlov.core.models.tf_model'['tf_model'] at line 52: [loading model from /home/vimary/code-projects/Pilot/examples/my_bot/model]\n"
     ]
    },
    {
     "name": "stdout",
     "output_type": "stream",
     "text": [
      "INFO:tensorflow:Restoring parameters from /home/vimary/code-projects/Pilot/examples/my_bot/model\n",
      "{\"valid\": {\"eval_examples_count\": 575, \"metrics\": {\"per_item_dialog_accuracy\": 0.4189}, \"time_spent\": \"0:01:15\"}}\n"
     ]
    },
    {
     "name": "stderr",
     "output_type": "stream",
     "text": [
      "2019-09-03 17:36:37.648 INFO in 'deeppavlov.core.data.simple_vocab'['simple_vocab'] at line 112: [loading vocabulary from /home/vimary/code-projects/Pilot/examples/my_bot/word.dict]\n",
      "2019-09-03 17:36:37.649 WARNING in 'deeppavlov.core.models.serializable'['serializable'] at line 47: No load path is set for Sqlite3Database in 'infer' mode. Using save path instead\n",
      "2019-09-03 17:36:37.650 INFO in 'deeppavlov.core.data.sqlite_database'['sqlite_database'] at line 66: Loading database from /home/vimary/code-projects/Pilot/examples/my_bot/db.sqlite.\n",
      "2019-09-03 17:36:37.735 INFO in 'deeppavlov.models.go_bot.network'['network'] at line 161: [loading templates from /home/vimary/code-projects/Pilot/examples/my_data/simple-dstc2-templates.txt]\n",
      "2019-09-03 17:36:37.735 INFO in 'deeppavlov.models.go_bot.network'['network'] at line 164: 46 templates loaded.\n",
      "2019-09-03 17:36:37.736 INFO in 'deeppavlov.models.go_bot.network'['network'] at line 210: Calculated input size for `GoalOrientedBotNetwork` is 249\n"
     ]
    },
    {
     "name": "stdout",
     "output_type": "stream",
     "text": [
      "{\"test\": {\"eval_examples_count\": 576, \"metrics\": {\"per_item_dialog_accuracy\": 0.4115}, \"time_spent\": \"0:01:12\"}}\n"
     ]
    },
    {
     "name": "stderr",
     "output_type": "stream",
     "text": [
      "2019-09-03 17:36:38.292 INFO in 'deeppavlov.models.go_bot.network'['network'] at line 248: [initializing `GoalOrientedBot` from saved]\n",
      "2019-09-03 17:36:38.293 INFO in 'deeppavlov.models.go_bot.network'['network'] at line 770: [loading parameters from /home/vimary/code-projects/Pilot/examples/my_bot/model.json]\n",
      "2019-09-03 17:36:38.297 INFO in 'deeppavlov.core.models.tf_model'['tf_model'] at line 52: [loading model from /home/vimary/code-projects/Pilot/examples/my_bot/model]\n"
     ]
    },
    {
     "name": "stdout",
     "output_type": "stream",
     "text": [
      "INFO:tensorflow:Restoring parameters from /home/vimary/code-projects/Pilot/examples/my_bot/model\n"
     ]
    }
   ],
   "source": [
    "from deeppavlov import train_model\n",
    "\n",
    "gobot_config['train']['batch_size'] = 8 # set batch size\n",
    "gobot_config['train']['max_batches'] = 00 # maximum number of training batches\n",
    "gobot_config['train']['val_every_n_batches'] = 20 # evaluate on full 'valid' split each 50 batches\n",
    "gobot_config['train']['log_every_n_batches'] = 20 # evaluate on 30 batches of 'train' split every 50 batches\n",
    "gobot_config['train']['log_on_k_batches'] = 20\n",
    "\n",
    "train_model(gobot_config);"
   ]
  },
  {
   "cell_type": "markdown",
   "metadata": {},
   "source": [
    "Training on 1k dialogues takes from 10 to 30 minutes depending on gpu/cpu.\n",
    "\n",
    "See [config doc page](http://docs.deeppavlov.ai/en/master/intro/configuration.html) for advanced configuration of the training process."
   ]
  },
  {
   "cell_type": "markdown",
   "metadata": {},
   "source": [
    "##### Metric scores on valid&test"
   ]
  },
  {
   "cell_type": "markdown",
   "metadata": {},
   "source": [
    "Calculating **accuracy** of trained bot: whether predicted system responses match true responses (full string match)."
   ]
  },
  {
   "cell_type": "code",
   "execution_count": 7,
   "metadata": {
    "scrolled": true
   },
   "outputs": [
    {
     "name": "stderr",
     "output_type": "stream",
     "text": [
      "2019-09-03 17:45:33.603 INFO in 'deeppavlov.dataset_readers.dstc2_reader'['dstc2_reader'] at line 290: [loading dialogs from /home/vimary/code-projects/Pilot/examples/my_data/simple-dstc2-trn.json]\n",
      "2019-09-03 17:45:33.609 INFO in 'deeppavlov.dataset_readers.dstc2_reader'['dstc2_reader'] at line 290: [loading dialogs from /home/vimary/code-projects/Pilot/examples/my_data/simple-dstc2-val.json]\n",
      "2019-09-03 17:45:33.662 INFO in 'deeppavlov.dataset_readers.dstc2_reader'['dstc2_reader'] at line 290: [loading dialogs from /home/vimary/code-projects/Pilot/examples/my_data/simple-dstc2-tst.json]\n",
      "2019-09-03 17:45:33.723 INFO in 'deeppavlov.dataset_readers.dstc2_reader'['dstc2_reader'] at line 282: There are 922 samples in train split.\n",
      "2019-09-03 17:45:33.723 INFO in 'deeppavlov.dataset_readers.dstc2_reader'['dstc2_reader'] at line 283: There are 6231 samples in valid split.\n",
      "2019-09-03 17:45:33.724 INFO in 'deeppavlov.dataset_readers.dstc2_reader'['dstc2_reader'] at line 284: There are 6345 samples in test split.\n",
      "[nltk_data] Downloading package punkt to /home/vimary/nltk_data...\n",
      "[nltk_data]   Package punkt is already up-to-date!\n",
      "[nltk_data] Downloading package stopwords to /home/vimary/nltk_data...\n",
      "[nltk_data]   Package stopwords is already up-to-date!\n",
      "[nltk_data] Downloading package perluniprops to\n",
      "[nltk_data]     /home/vimary/nltk_data...\n",
      "[nltk_data]   Package perluniprops is already up-to-date!\n",
      "[nltk_data] Downloading package nonbreaking_prefixes to\n",
      "[nltk_data]     /home/vimary/nltk_data...\n",
      "[nltk_data]   Package nonbreaking_prefixes is already up-to-date!\n",
      "2019-09-03 17:45:36.341 INFO in 'deeppavlov.core.data.simple_vocab'['simple_vocab'] at line 112: [loading vocabulary from /home/vimary/code-projects/Pilot/examples/my_bot/word.dict]\n",
      "2019-09-03 17:45:37.230 WARNING in 'deeppavlov.core.models.serializable'['serializable'] at line 47: No load path is set for Sqlite3Database in 'infer' mode. Using save path instead\n",
      "2019-09-03 17:45:37.231 INFO in 'deeppavlov.core.data.sqlite_database'['sqlite_database'] at line 66: Loading database from /home/vimary/code-projects/Pilot/examples/my_bot/db.sqlite.\n"
     ]
    },
    {
     "name": "stdout",
     "output_type": "stream",
     "text": [
      "WARNING:tensorflow:From /home/vimary/dp_env/lib/python3.7/site-packages/tensorflow/python/framework/op_def_library.py:263: colocate_with (from tensorflow.python.framework.ops) is deprecated and will be removed in a future version.\n",
      "Instructions for updating:\n",
      "Colocations handled automatically by placer.\n"
     ]
    },
    {
     "name": "stderr",
     "output_type": "stream",
     "text": [
      "Using TensorFlow backend.\n",
      "2019-09-03 17:45:37.464 INFO in 'deeppavlov.models.go_bot.network'['network'] at line 161: [loading templates from /home/vimary/code-projects/Pilot/examples/my_data/simple-dstc2-templates.txt]\n",
      "2019-09-03 17:45:37.464 INFO in 'deeppavlov.models.go_bot.network'['network'] at line 164: 46 templates loaded.\n",
      "2019-09-03 17:45:37.465 INFO in 'deeppavlov.models.go_bot.network'['network'] at line 210: Calculated input size for `GoalOrientedBotNetwork` is 249\n"
     ]
    },
    {
     "name": "stdout",
     "output_type": "stream",
     "text": [
      "WARNING:tensorflow:From /home/vimary/code-projects/Pilot/deeppavlov/models/go_bot/network.py:686: dense (from tensorflow.python.layers.core) is deprecated and will be removed in a future version.\n",
      "Instructions for updating:\n",
      "Use keras.layers.dense instead.\n",
      "WARNING:tensorflow:From /home/vimary/code-projects/Pilot/deeppavlov/models/go_bot/network.py:736: LSTMCell.__init__ (from tensorflow.python.ops.rnn_cell_impl) is deprecated and will be removed in a future version.\n",
      "Instructions for updating:\n",
      "This class is equivalent as tf.keras.layers.LSTMCell, and will be replaced by that in Tensorflow 2.0.\n",
      "WARNING:tensorflow:From /home/vimary/code-projects/Pilot/deeppavlov/models/go_bot/network.py:745: dynamic_rnn (from tensorflow.python.ops.rnn) is deprecated and will be removed in a future version.\n",
      "Instructions for updating:\n",
      "Please use `keras.layers.RNN(cell)`, which is equivalent to this API\n",
      "WARNING:tensorflow:From /home/vimary/dp_env/lib/python3.7/site-packages/tensorflow/python/ops/rnn.py:626: to_int32 (from tensorflow.python.ops.math_ops) is deprecated and will be removed in a future version.\n",
      "Instructions for updating:\n",
      "Use tf.cast instead.\n",
      "WARNING:tensorflow:From /home/vimary/code-projects/Pilot/deeppavlov/models/go_bot/network.py:247: checkpoint_exists (from tensorflow.python.training.checkpoint_management) is deprecated and will be removed in a future version.\n",
      "Instructions for updating:\n",
      "Use standard file APIs to check for files with this prefix.\n"
     ]
    },
    {
     "name": "stderr",
     "output_type": "stream",
     "text": [
      "2019-09-03 17:45:38.40 INFO in 'deeppavlov.models.go_bot.network'['network'] at line 248: [initializing `GoalOrientedBot` from saved]\n",
      "2019-09-03 17:45:38.41 INFO in 'deeppavlov.models.go_bot.network'['network'] at line 771: [loading parameters from /home/vimary/code-projects/Pilot/examples/my_bot/model.json]\n",
      "2019-09-03 17:45:38.43 INFO in 'deeppavlov.core.models.tf_model'['tf_model'] at line 52: [loading model from /home/vimary/code-projects/Pilot/examples/my_bot/model]\n"
     ]
    },
    {
     "name": "stdout",
     "output_type": "stream",
     "text": [
      "INFO:tensorflow:Restoring parameters from /home/vimary/code-projects/Pilot/examples/my_bot/model\n",
      "{\"valid\": {\"eval_examples_count\": 575, \"metrics\": {\"per_item_dialog_accuracy\": 0.4189}, \"time_spent\": \"0:01:16\"}}\n",
      "{\"test\": {\"eval_examples_count\": 576, \"metrics\": {\"per_item_dialog_accuracy\": 0.4115}, \"time_spent\": \"0:01:13\"}}\n"
     ]
    }
   ],
   "source": [
    "from deeppavlov import evaluate_model\n",
    "\n",
    "evaluate_model(gobot_config);"
   ]
  },
  {
   "cell_type": "markdown",
   "metadata": {},
   "source": [
    "With settings of `max_batches=200`, valid accuracy `~ 0.4` and test accuracy is `0.4`."
   ]
  },
  {
   "cell_type": "markdown",
   "metadata": {},
   "source": [
    "##### Chatting with bot"
   ]
  },
  {
   "cell_type": "code",
   "execution_count": 8,
   "metadata": {},
   "outputs": [
    {
     "name": "stderr",
     "output_type": "stream",
     "text": [
      "2019-09-03 17:48:37.476 INFO in 'deeppavlov.core.data.simple_vocab'['simple_vocab'] at line 112: [loading vocabulary from /home/vimary/code-projects/Pilot/examples/my_bot/word.dict]\n",
      "2019-09-03 17:48:37.478 WARNING in 'deeppavlov.core.models.serializable'['serializable'] at line 47: No load path is set for Sqlite3Database in 'infer' mode. Using save path instead\n",
      "2019-09-03 17:48:37.479 INFO in 'deeppavlov.core.data.sqlite_database'['sqlite_database'] at line 66: Loading database from /home/vimary/code-projects/Pilot/examples/my_bot/db.sqlite.\n",
      "2019-09-03 17:48:37.566 INFO in 'deeppavlov.models.go_bot.network'['network'] at line 161: [loading templates from /home/vimary/code-projects/Pilot/examples/my_data/simple-dstc2-templates.txt]\n",
      "2019-09-03 17:48:37.567 INFO in 'deeppavlov.models.go_bot.network'['network'] at line 164: 46 templates loaded.\n",
      "2019-09-03 17:48:37.567 INFO in 'deeppavlov.models.go_bot.network'['network'] at line 210: Calculated input size for `GoalOrientedBotNetwork` is 249\n",
      "2019-09-03 17:48:38.76 INFO in 'deeppavlov.models.go_bot.network'['network'] at line 248: [initializing `GoalOrientedBot` from saved]\n",
      "2019-09-03 17:48:38.76 INFO in 'deeppavlov.models.go_bot.network'['network'] at line 771: [loading parameters from /home/vimary/code-projects/Pilot/examples/my_bot/model.json]\n",
      "2019-09-03 17:48:38.79 INFO in 'deeppavlov.core.models.tf_model'['tf_model'] at line 52: [loading model from /home/vimary/code-projects/Pilot/examples/my_bot/model]\n"
     ]
    },
    {
     "name": "stdout",
     "output_type": "stream",
     "text": [
      "INFO:tensorflow:Restoring parameters from /home/vimary/code-projects/Pilot/examples/my_bot/model\n"
     ]
    }
   ],
   "source": [
    "from deeppavlov import build_model\n",
    "\n",
    "bot = build_model(gobot_config)"
   ]
  },
  {
   "cell_type": "code",
   "execution_count": 9,
   "metadata": {},
   "outputs": [
    {
     "name": "stderr",
     "output_type": "stream",
     "text": [
      "2019-09-03 17:48:38.184 INFO in 'deeppavlov.models.go_bot.network'['network'] at line 508: Made api_call with {'food': 'chinese'}, got 16 results.\n"
     ]
    },
    {
     "data": {
      "text/plain": [
       "['The lucky star serves chinese food.']"
      ]
     },
     "execution_count": 9,
     "metadata": {},
     "output_type": "execute_result"
    }
   ],
   "source": [
    "bot(['hi, want chinee food, can you suggest a place to go?'])"
   ]
  },
  {
   "cell_type": "code",
   "execution_count": 10,
   "metadata": {},
   "outputs": [
    {
     "data": {
      "text/plain": [
       "['Sure, the lucky star is on cambridge leisure park clifton way cherry hinton.']"
      ]
     },
     "execution_count": 10,
     "metadata": {},
     "output_type": "execute_result"
    }
   ],
   "source": [
    "bot(['ok, i want ther address'])"
   ]
  },
  {
   "cell_type": "code",
   "execution_count": 11,
   "metadata": {},
   "outputs": [
    {
     "name": "stderr",
     "output_type": "stream",
     "text": [
      "2019-09-03 17:48:39.378 INFO in 'deeppavlov.models.go_bot.network'['network'] at line 508: Made api_call with {'food': 'french', 'area': 'centre'}, got 1 results.\n"
     ]
    },
    {
     "data": {
      "text/plain": [
       "['Cote serves french food.']"
      ]
     },
     "execution_count": 11,
     "metadata": {},
     "output_type": "execute_result"
    }
   ],
   "source": [
    "bot(['now i want french food in the center of town'])"
   ]
  },
  {
   "cell_type": "code",
   "execution_count": 12,
   "metadata": {},
   "outputs": [
    {
     "data": {
      "text/plain": [
       "['Sure, cote is on bridge street city centre.']"
      ]
     },
     "execution_count": 12,
     "metadata": {},
     "output_type": "execute_result"
    }
   ],
   "source": [
    "bot(['thanks, give me their address too'])"
   ]
  },
  {
   "cell_type": "code",
   "execution_count": 13,
   "metadata": {},
   "outputs": [
    {
     "data": {
      "text/plain": [
       "['The post code of cote is c.b 2, 1 u.f.']"
      ]
     },
     "execution_count": 13,
     "metadata": {},
     "output_type": "execute_result"
    }
   ],
   "source": [
    "bot(['and post code'])"
   ]
  },
  {
   "cell_type": "code",
   "execution_count": 14,
   "metadata": {},
   "outputs": [
    {
     "data": {
      "text/plain": [
       "['Can I help you with anything else?']"
      ]
     },
     "execution_count": 14,
     "metadata": {},
     "output_type": "execute_result"
    }
   ],
   "source": [
    "bot(['bye'])"
   ]
  },
  {
   "cell_type": "code",
   "execution_count": 15,
   "metadata": {},
   "outputs": [
    {
     "data": {
      "text/plain": [
       "['Can I help you with anything else?']"
      ]
     },
     "execution_count": 15,
     "metadata": {},
     "output_type": "execute_result"
    }
   ],
   "source": [
    "bot(['no, thanks!'])"
   ]
  },
  {
   "cell_type": "code",
   "execution_count": 16,
   "metadata": {},
   "outputs": [],
   "source": [
    "bot.reset()"
   ]
  },
  {
   "cell_type": "code",
   "execution_count": 17,
   "metadata": {},
   "outputs": [
    {
     "name": "stderr",
     "output_type": "stream",
     "text": [
      "2019-09-03 17:48:41.584 INFO in 'deeppavlov.models.go_bot.network'['network'] at line 508: Made api_call with {'pricerange': 'cheap'}, got 22 results.\n"
     ]
    },
    {
     "data": {
      "text/plain": [
       "['The lucky star is a nice place in the south of town and the prices are cheap.']"
      ]
     },
     "execution_count": 17,
     "metadata": {},
     "output_type": "execute_result"
    }
   ],
   "source": [
    "bot(['hi, is there any cheap restaurant?'])"
   ]
  },
  {
   "cell_type": "code",
   "execution_count": null,
   "metadata": {},
   "outputs": [],
   "source": []
  }
 ],
 "metadata": {
  "kernelspec": {
   "display_name": "Python (dp_env)",
   "language": "python",
   "name": "dp_env"
  },
  "language_info": {
   "codemirror_mode": {
    "name": "ipython",
    "version": 3
   },
   "file_extension": ".py",
   "mimetype": "text/x-python",
   "name": "python",
   "nbconvert_exporter": "python",
   "pygments_lexer": "ipython3",
   "version": "3.7.3"
  }
 },
 "nbformat": 4,
 "nbformat_minor": 2
}
