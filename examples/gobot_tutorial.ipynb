{
 "cells": [
  {
   "cell_type": "markdown",
   "metadata": {},
   "source": [
    "## You can also run the notebook in [COLAB](https://colab.research.google.com/github/deepmipt/DeepPavlov/blob/master/examples/gobot_tutorial.ipynb)."
   ]
  },
  {
   "cell_type": "code",
   "execution_count": null,
   "metadata": {},
   "outputs": [],
   "source": [
    "!pip install deeppavlov"
   ]
  },
  {
   "cell_type": "markdown",
   "metadata": {},
   "source": [
    "## Data Preparation"
   ]
  },
  {
   "cell_type": "code",
   "execution_count": 5,
   "metadata": {},
   "outputs": [
    {
     "name": "stderr",
     "output_type": "stream",
     "text": [
      "2019-08-01 17:49:21.26 INFO in 'deeppavlov.dataset_readers.dstc2_reader'['dstc2_reader'] at line 95: [downloading data from http://files.deeppavlov.ai/datasets/dstc2_v2.tar.gz to my_data]\n",
      "2019-08-01 17:49:21.551 INFO in 'deeppavlov.core.data.utils'['utils'] at line 63: Downloading from http://files.deeppavlov.ai/datasets/dstc2_v2.tar.gz to my_data/dstc2_v2.tar.gz\n",
      "100%|██████████| 506k/506k [00:00<00:00, 51.4MB/s]\n",
      "2019-08-01 17:49:21.566 INFO in 'deeppavlov.core.data.utils'['utils'] at line 201: Extracting my_data/dstc2_v2.tar.gz archive into my_data\n",
      "2019-08-01 17:49:21.588 INFO in 'deeppavlov.dataset_readers.dstc2_reader'['dstc2_reader'] at line 112: [loading dialogs from my_data/dstc2-trn.jsonlist]\n",
      "2019-08-01 17:49:21.761 INFO in 'deeppavlov.dataset_readers.dstc2_reader'['dstc2_reader'] at line 112: [loading dialogs from my_data/dstc2-val.jsonlist]\n",
      "2019-08-01 17:49:21.902 INFO in 'deeppavlov.dataset_readers.dstc2_reader'['dstc2_reader'] at line 112: [loading dialogs from my_data/dstc2-tst.jsonlist]\n"
     ]
    }
   ],
   "source": [
    "from deeppavlov.dataset_readers.dstc2_reader import DSTC2DatasetReader\n",
    "\n",
    "data = DSTC2DatasetReader().read('my_data')"
   ]
  },
  {
   "cell_type": "code",
   "execution_count": 6,
   "metadata": {},
   "outputs": [
    {
     "data": {
      "text/plain": [
       "({'text': 'cheap restaurant',\n",
       "  'intents': [{'slots': [['pricerange', 'cheap']], 'act': 'inform'}]},\n",
       " {'text': 'What kind of food would you like?', 'act': 'request_food'})"
      ]
     },
     "execution_count": 6,
     "metadata": {},
     "output_type": "execute_result"
    }
   ],
   "source": [
    "data['train'][1]"
   ]
  },
  {
   "cell_type": "code",
   "execution_count": 7,
   "metadata": {},
   "outputs": [],
   "source": [
    "from deeppavlov.dataset_iterators.dialog_iterator import DialogDatasetIterator\n",
    "\n",
    "iterator = DialogDatasetIterator(data)"
   ]
  },
  {
   "cell_type": "code",
   "execution_count": 8,
   "metadata": {},
   "outputs": [
    {
     "data": {
      "text/plain": [
       "[{'text': '', 'intents': [], 'prev_resp_act': None},\n",
       " {'text': 'cheap restaurant',\n",
       "  'intents': [{'slots': [['pricerange', 'cheap']], 'act': 'inform'}],\n",
       "  'prev_resp_act': 'welcomemsg'},\n",
       " {'text': 'any',\n",
       "  'intents': [{'slots': [['this', 'dontcare']], 'act': 'inform'}],\n",
       "  'prev_resp_act': 'request_food'},\n",
       " {'text': 'south',\n",
       "  'intents': [{'slots': [['area', 'south']], 'act': 'inform'}],\n",
       "  'prev_resp_act': 'request_area'},\n",
       " {'text': 'south',\n",
       "  'intents': [{'slots': [['area', 'south']], 'act': 'inform'}],\n",
       "  'db_result': {'food': 'chinese',\n",
       "   'pricerange': 'cheap',\n",
       "   'area': 'south',\n",
       "   'addr': 'cambridge leisure park clifton way cherry hinton',\n",
       "   'phone': '01223 244277',\n",
       "   'postcode': 'c.b 1, 7 d.y',\n",
       "   'name': 'the lucky star'},\n",
       "  'prev_resp_act': 'api_call'},\n",
       " {'text': 'address',\n",
       "  'intents': [{'slots': [['slot', 'addr']], 'act': 'request'}],\n",
       "  'prev_resp_act': 'inform_area+inform_food+offer_name'},\n",
       " {'text': 'phone number',\n",
       "  'intents': [{'slots': [['slot', 'phone']], 'act': 'request'}],\n",
       "  'prev_resp_act': 'inform_addr+offer_name'},\n",
       " {'text': 'thank you good bye',\n",
       "  'intents': [{'slots': [], 'act': 'thankyou'}, {'slots': [], 'act': 'bye'}],\n",
       "  'prev_resp_act': 'inform_phone+offer_name'}]"
      ]
     },
     "execution_count": 8,
     "metadata": {},
     "output_type": "execute_result"
    }
   ],
   "source": [
    "x_dialog, y_dialog = iterator.train[0]\n",
    "x_dialog"
   ]
  },
  {
   "cell_type": "markdown",
   "metadata": {},
   "source": [
    "## Create database of items"
   ]
  },
  {
   "cell_type": "code",
   "execution_count": 27,
   "metadata": {},
   "outputs": [
    {
     "name": "stderr",
     "output_type": "stream",
     "text": [
      "2019-08-01 18:03:06.261 WARNING in 'deeppavlov.core.models.serializable'['serializable'] at line 47: No load path is set for Sqlite3Database in 'infer' mode. Using save path instead\n",
      "2019-08-01 18:03:06.262 INFO in 'deeppavlov.core.data.sqlite_database'['sqlite_database'] at line 63: Loading database from /home/vimary/code-projects/Pilot/examples/my_data/db.sqlite.\n"
     ]
    }
   ],
   "source": [
    "from deeppavlov.core.data.sqlite_database import Sqlite3Database\n",
    "\n",
    "database = Sqlite3Database(table_name=\"mytable\",\n",
    "                           primary_keys=[\"name\"],\n",
    "                           save_path=\"my_data/db.sqlite\")"
   ]
  },
  {
   "cell_type": "code",
   "execution_count": 38,
   "metadata": {},
   "outputs": [],
   "source": [
    "for dialog in iterator.gen_batches(batch_size=1, data_type='all'):\n",
    "    turns_x, turns_y = dialog\n",
    "    db_results = [y['db_result'] for y in turns_y if 'db_result' in y]\n",
    "    if db_results:\n",
    "        database.fit(db_results)"
   ]
  },
  {
   "cell_type": "code",
   "execution_count": 41,
   "metadata": {},
   "outputs": [
    {
     "data": {
      "text/plain": [
       "[[{'pricerange': 'cheap',\n",
       "   'food': 'chinese',\n",
       "   'name': 'the lucky star',\n",
       "   'phone': '01223 244277',\n",
       "   'addr': 'cambridge leisure park clifton way cherry hinton',\n",
       "   'postcode': 'c.b 1, 7 d.y',\n",
       "   'area': 'south'},\n",
       "  {'pricerange': 'cheap',\n",
       "   'food': 'portuguese',\n",
       "   'name': 'nandos',\n",
       "   'phone': '01223 327908',\n",
       "   'addr': 'cambridge leisure park clifton way',\n",
       "   'postcode': 'c.b 1, 7 d.y',\n",
       "   'area': 'south'}]]"
      ]
     },
     "execution_count": 41,
     "metadata": {},
     "output_type": "execute_result"
    }
   ],
   "source": [
    "database([{'pricerange': 'cheap', 'area': 'south'}])"
   ]
  },
  {
   "cell_type": "code",
   "execution_count": 42,
   "metadata": {},
   "outputs": [
    {
     "name": "stdout",
     "output_type": "stream",
     "text": [
      "db.sqlite\t     dstc2-trn.jsonlist  dstc2-val.jsonlist\r\n",
      "dstc2-templates.txt  dstc2-tst.jsonlist  resto.sqlite\r\n"
     ]
    }
   ],
   "source": [
    "!ls my_data"
   ]
  },
  {
   "cell_type": "markdown",
   "metadata": {},
   "source": [
    "## Train NER"
   ]
  },
  {
   "cell_type": "markdown",
   "metadata": {},
   "source": [
    "## Train bot"
   ]
  },
  {
   "cell_type": "code",
   "execution_count": null,
   "metadata": {},
   "outputs": [],
   "source": [
    "config = {\n",
    "  \"dataset_reader\": {\n",
    "    \"class_name\": \"dstc2_reader\",\n",
    "    \"data_path\": \"{DOWNLOADS_PATH}\"\n",
    "  },\n",
    "  \"dataset_iterator\": {\n",
    "    \"class_name\": \"dialog_iterator\"\n",
    "  },\n",
    "  \"chainer\": {\n",
    "    \"in\": [\"x\"],\n",
    "    \"in_y\": [\"y\"],\n",
    "    \"out\": [\"y_predicted\"],\n",
    "    \"pipe\": [\n",
    "      {\n",
    "        \"class_name\": \"deeppavlov.models.go_bot.wrapper:DialogComponentWrapper\",\n",
    "        \"component\": {\n",
    "            \"class_name\": \"split_tokenizer\"\n",
    "        },\n",
    "        \"in\": [\"x\"],\n",
    "        \"out\": [\"x_tokens\"]\n",
    "      },\n",
    "      {\n",
    "        \"id\": \"word_vocab\",\n",
    "        \"class_name\": \"simple_vocab\",\n",
    "        \"fit_on\": [\"x_tokens\"],\n",
    "        \"save_path\": \"{BOT_PATH}/word.dict\",\n",
    "        \"load_path\": \"{BOT_PATH}/word.dict\"\n",
    "      },\n",
    "      {\n",
    "        \"id\": \"restaurant_database\",\n",
    "        \"class_name\": \"sqlite_database\",\n",
    "        \"table_name\": \"mytable\",\n",
    "        \"primary_keys\": [\"name\"],\n",
    "        \"save_path\": \"{DOWNLOADS_PATH}/db.sqlite\"\n",
    "      },\n",
    "      {\n",
    "        \"class_name\": \"go_bot\",\n",
    "        \"load_path\": \"{BOT_PATH}/model\",\n",
    "        \"save_path\": \"{BOT_PATH}/model\",\n",
    "        \"in\": [\"x\"],\n",
    "        \"in_y\": [\"y\"],\n",
    "        \"out\": [\"y_predicted\"],\n",
    "        \"main\": True,\n",
    "        \"debug\": False,\n",
    "        \"learning_rate\": 0.003,\n",
    "        \"learning_rate_drop_patience\": 5,\n",
    "        \"learning_rate_drop_div\": 10.0,\n",
    "        \"momentum\": 0.95,\n",
    "        \"optimizer\": \"tensorflow.train:AdamOptimizer\",\n",
    "        \"clip_norm\": 2.0,\n",
    "        \"dropout_rate\": 0.4,\n",
    "        \"l2_reg_coef\": 3e-4,\n",
    "        \"hidden_size\": 128,\n",
    "        \"dense_size\": 160,\n",
    "        \"word_vocab\": \"#word_vocab\",\n",
    "        \"template_path\": \"{DOWNLOADS_PATH}/templates.txt\",\n",
    "        \"template_type\": \"DualTemplate\",\n",
    "        \"database\": \"#restaurant_database\",\n",
    "        \"api_call_action\": \"api_call\",\n",
    "        \"use_action_mask\": False,\n",
    "        \"slot_filler\": {\n",
    "          \"config_path\": \"{CONFIGS_PATH}/ner/slotfill_dstc2.json\"\n",
    "        },\n",
    "        \"intent_classifier\": None,\n",
    "        \"embedder\": {\n",
    "          \"class_name\": \"glove\",\n",
    "          \"load_path\": \"{DOWNLOADS_PATH}/glove.6B.100d.txt\"\n",
    "        },\n",
    "        \"bow_embedder\": {\n",
    "          \"class_name\": \"bow\",\n",
    "          \"depth\": \"#word_vocab.__len__()\",\n",
    "          \"with_counts\": True\n",
    "        },\n",
    "        \"tokenizer\": {\n",
    "          \"class_name\": \"stream_spacy_tokenizer\",\n",
    "          \"lowercase\": False\n",
    "        },\n",
    "        \"tracker\": {\n",
    "          \"class_name\": \"featurized_tracker\",\n",
    "          \"slot_names\": [\"pricerange\", \"this\", \"area\", \"food\", \"name\"]\n",
    "        }\n",
    "      }\n",
    "    ]\n",
    "  },\n",
    "  \"train\": {\n",
    "    \"epochs\": 200,\n",
    "    \"batch_size\": 8,\n",
    "\n",
    "    \"metrics\": [\"per_item_dialog_accuracy\"],\n",
    "    \"validation_patience\": 10,\n",
    "    \"val_every_n_batches\": 15,\n",
    "\n",
    "    \"log_every_n_batches\": 15,\n",
    "    \"show_examples\": False,\n",
    "    \"evaluation_targets\": [\n",
    "      \"valid\",\n",
    "      \"test\"\n",
    "    ],\n",
    "    \"class_name\": \"nn_trainer\"\n",
    "  },\n",
    "  \"metadata\": {\n",
    "    \"variables\": {\n",
    "      \"ROOT_PATH\": \".\",\n",
    "      \"DOWNLOADS_PATH\": \"{ROOT_PATH}/my_data\",\n",
    "      \"MODEL_PATH\": \"{ROOT_PATH}/my_model\",\n",
    "      \"CONFIGS_PATH\": \"{DEEPPAVLOV_PATH}/configs\"\n",
    "    },\n",
    "    \"requirements\": [\n",
    "      \"{DEEPPAVLOV_PATH}/requirements/tf.txt\",\n",
    "      \"{DEEPPAVLOV_PATH}/requirements/gensim.txt\",\n",
    "      \"{DEEPPAVLOV_PATH}/requirements/spacy.txt\",\n",
    "      \"{DEEPPAVLOV_PATH}/requirements/en_core_web_sm.txt\"\n",
    "    ],\n",
    "    \"labels\": {\n",
    "      \"telegram_utils\": \"GoalOrientedBot\",\n",
    "      \"server_utils\": \"GoalOrientedBot\"\n",
    "    },\n",
    "    \"download\": [\n",
    "      {\n",
    "        \"url\": \"http://files.deeppavlov.ai/embeddings/glove.6B.100d.txt\",\n",
    "        \"subdir\": \"{DOWNLOADS_PATH}/embeddings\"\n",
    "      }\n",
    "    ]\n",
    "  }\n",
    "}"
   ]
  },
  {
   "cell_type": "code",
   "execution_count": null,
   "metadata": {},
   "outputs": [],
   "source": []
  }
 ],
 "metadata": {
  "kernelspec": {
   "display_name": "Python (dp_env)",
   "language": "python",
   "name": "dp_env"
  },
  "language_info": {
   "codemirror_mode": {
    "name": "ipython",
    "version": 3
   },
   "file_extension": ".py",
   "mimetype": "text/x-python",
   "name": "python",
   "nbconvert_exporter": "python",
   "pygments_lexer": "ipython3",
   "version": "3.7.3"
  }
 },
 "nbformat": 4,
 "nbformat_minor": 2
}
