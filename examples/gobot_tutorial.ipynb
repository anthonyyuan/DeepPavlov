{
 "cells": [
  {
   "cell_type": "markdown",
   "metadata": {},
   "source": [
    "## You can also run the notebook in [COLAB](https://colab.research.google.com/github/deepmipt/DeepPavlov/blob/master/examples/gobot_tutorial.ipynb)."
   ]
  },
  {
   "cell_type": "code",
   "execution_count": null,
   "metadata": {},
   "outputs": [],
   "source": [
    "!pip install deeppavlov"
   ]
  },
  {
   "cell_type": "markdown",
   "metadata": {},
   "source": [
    "## Intro"
   ]
  },
  {
   "cell_type": "markdown",
   "metadata": {},
   "source": [
    "The tutor is focused on building a goal-oriented dialogue system.\n",
    "\n",
    "An example of the final model served as a telegram bot is:\n",
    "\n",
    "![gobot_example.png](img/gobot_example.png)"
   ]
  },
  {
   "cell_type": "markdown",
   "metadata": {},
   "source": [
    "## Data Preparation"
   ]
  },
  {
   "cell_type": "markdown",
   "metadata": {},
   "source": [
    "The tutor's dialogue system will be on the domain of restaurant booking. [Dialogue State Tracking Challenge 2 (DSTC-2)](http://camdial.org/~mh521/dstc/) dataset provides dialogues of a human talking to a booking system labelled with slots and dialogue actions. The labels are will be used for training a dialogue policy network.\n",
    "\n",
    "See below a small chunk of the data. "
   ]
  },
  {
   "cell_type": "code",
   "execution_count": 1,
   "metadata": {},
   "outputs": [
    {
     "name": "stderr",
     "output_type": "stream",
     "text": [
      "2019-09-02 18:02:38.261 INFO in 'deeppavlov.dataset_readers.dstc2_reader'['dstc2_reader'] at line 269: [downloading data from http://files.deeppavlov.ai/datasets/simple_dstc2.tar.gz to my_data]\n",
      "2019-09-02 18:02:39.298 INFO in 'deeppavlov.core.data.utils'['utils'] at line 63: Downloading from http://files.deeppavlov.ai/datasets/simple_dstc2.tar.gz to my_data/simple_dstc2.tar.gz\n",
      "100%|██████████| 497k/497k [00:00<00:00, 43.2MB/s]\n",
      "2019-09-02 18:02:39.314 INFO in 'deeppavlov.core.data.utils'['utils'] at line 201: Extracting my_data/simple_dstc2.tar.gz archive into my_data\n",
      "2019-09-02 18:02:39.343 INFO in 'deeppavlov.dataset_readers.dstc2_reader'['dstc2_reader'] at line 289: [loading dialogs from my_data/simple-dstc2-trn.json]\n",
      "2019-09-02 18:02:39.414 INFO in 'deeppavlov.dataset_readers.dstc2_reader'['dstc2_reader'] at line 289: [loading dialogs from my_data/simple-dstc2-val.json]\n",
      "2019-09-02 18:02:39.465 INFO in 'deeppavlov.dataset_readers.dstc2_reader'['dstc2_reader'] at line 289: [loading dialogs from my_data/simple-dstc2-tst.json]\n",
      "2019-09-02 18:02:39.502 INFO in 'deeppavlov.dataset_readers.dstc2_reader'['dstc2_reader'] at line 281: There are 9115 samples in train split.\n",
      "2019-09-02 18:02:39.502 INFO in 'deeppavlov.dataset_readers.dstc2_reader'['dstc2_reader'] at line 282: There are 6231 samples in valid split.\n",
      "2019-09-02 18:02:39.503 INFO in 'deeppavlov.dataset_readers.dstc2_reader'['dstc2_reader'] at line 283: There are 6345 samples in test split.\n"
     ]
    }
   ],
   "source": [
    "from deeppavlov.dataset_readers.dstc2_reader import SimpleDSTC2DatasetReader\n",
    "\n",
    "data = SimpleDSTC2DatasetReader().read('my_data')"
   ]
  },
  {
   "cell_type": "code",
   "execution_count": 2,
   "metadata": {},
   "outputs": [
    {
     "name": "stdout",
     "output_type": "stream",
     "text": [
      "simple-dstc2-templates.txt  simple-dstc2-tst.json\r\n",
      "simple-dstc2-trn.json\t    simple-dstc2-val.json\r\n"
     ]
    }
   ],
   "source": [
    "!ls my_data"
   ]
  },
  {
   "cell_type": "markdown",
   "metadata": {},
   "source": [
    "The training/validation/test data is stored in json files (`simple-dstc2-trn.json`, `simple-dstc2-val.json` and `simple-dstc2-tst.json`):"
   ]
  },
  {
   "cell_type": "code",
   "execution_count": 3,
   "metadata": {},
   "outputs": [
    {
     "name": "stdout",
     "output_type": "stream",
     "text": [
      "[\r\n",
      "  [\r\n",
      "    {\r\n",
      "      \"speaker\": 2,\r\n",
      "      \"text\": \"Hello, welcome to the Cambridge restaurant system. You can ask for restaurants by area, price range or food type. How may I help you?\",\r\n",
      "      \"slots\": [],\r\n",
      "      \"act\": \"welcomemsg\"\r\n",
      "    },\r\n",
      "    {\r\n",
      "      \"speaker\": 1,\r\n",
      "      \"text\": \"cheap restaurant\",\r\n",
      "      \"slots\": [\r\n",
      "        [\r\n",
      "          \"pricerange\",\r\n",
      "          \"cheap\"\r\n",
      "        ]\r\n",
      "      ]\r\n",
      "    },\r\n",
      "    {\r\n",
      "      \"speaker\": 2,\r\n",
      "      \"text\": \"What kind of food would you like?\",\r\n",
      "      \"slots\": [],\r\n",
      "      \"act\": \"request_food\"\r\n",
      "    },\r\n",
      "    {\r\n",
      "      \"speaker\": 1,\r\n",
      "      \"text\": \"any\",\r\n",
      "      \"slots\": [\r\n",
      "        [\r\n",
      "          \"this\",\r\n",
      "          \"dontcare\"\r\n",
      "        ]\r\n",
      "      ]\r\n",
      "    },\r\n",
      "    {\r\n",
      "      \"speaker\": 2,\r\n",
      "      \"text\": \"What part of town do you have in mind?\",\r\n",
      "      \"slots\": [],\r\n",
      "      \"act\": \"request_area\"\r\n",
      "    },\r\n",
      "    {\r\n",
      "      \"speaker\": 1,\r\n",
      "      \"text\": \"south\",\r\n",
      "      \"slots\": [\r\n",
      "        [\r\n",
      "          \"area\",\r\n",
      "          \"south\"\r\n",
      "        ]\r\n",
      "      ]\r\n",
      "    },\r\n",
      "    {\r\n",
      "      \"speaker\": 2,\r\n",
      "      \"text\": \"api_call area=\\\"south\\\" food=\\\"dontcare\\\" pricerange=\\\"cheap\\\"\",\r\n",
      "      \"db_result\": {\r\n",
      "        \"food\": \"chinese\",\r\n",
      "        \"pricerange\": \"cheap\",\r\n",
      "        \"area\": \"south\",\r\n",
      "        \"addr\": \"cambridge leisure park clifton way cherry hinton\",\r\n",
      "        \"phone\": \"01223 244277\",\r\n",
      "        \"postcode\": \"c.b 1, 7 d.y\",\r\n",
      "        \"name\": \"the lucky star\"\r\n",
      "      },\r\n",
      "      \"slots\": [\r\n",
      "        [\r\n",
      "          \"area\",\r\n",
      "          \"south\"\r\n",
      "        ],\r\n",
      "        [\r\n",
      "          \"pricerange\",\r\n",
      "          \"cheap\"\r\n",
      "        ],\r\n",
      "        [\r\n",
      "          \"food\",\r\n",
      "          \"dontcare\"\r\n",
      "        ]\r\n",
      "      ],\r\n",
      "      \"act\": \"api_call\"\r\n",
      "    },\r\n",
      "    {\r\n",
      "      \"speaker\": 2,\r\n",
      "      \"text\": \"The lucky star is a nice place in the south of town serving tasty chinese food.\",\r\n",
      "      \"slots\": [\r\n",
      "        [\r\n",
      "          \"area\",\r\n",
      "          \"south\"\r\n",
      "        ],\r\n",
      "        [\r\n",
      "          \"pricerange\",\r\n",
      "          \"cheap\"\r\n",
      "        ],\r\n",
      "        [\r\n",
      "          \"name\",\r\n",
      "          \"the lucky star\"\r\n",
      "        ],\r\n",
      "        [\r\n",
      "          \"food\",\r\n",
      "          \"chinese\"\r\n",
      "        ]\r\n",
      "      ],\r\n",
      "      \"act\": \"inform_area+inform_food+offer_name\"\r\n",
      "    },\r\n"
     ]
    }
   ],
   "source": [
    "!head -n 101 my_data/simple-dstc2-trn.json"
   ]
  },
  {
   "cell_type": "code",
   "execution_count": 4,
   "metadata": {
    "scrolled": true
   },
   "outputs": [],
   "source": [
    "from deeppavlov.dataset_iterators.dialog_iterator import DialogDatasetIterator\n",
    "\n",
    "iterator = DialogDatasetIterator(data)"
   ]
  },
  {
   "cell_type": "markdown",
   "metadata": {},
   "source": [
    "You can now iterate over batches of preprocessed DSTC-2 dialogs:"
   ]
  },
  {
   "cell_type": "code",
   "execution_count": 5,
   "metadata": {},
   "outputs": [
    {
     "name": "stdout",
     "output_type": "stream",
     "text": [
      "User utterances:\n",
      "----------------\n",
      "\n",
      "[   {'prev_resp_act': None, 'text': ''},\n",
      "    {   'prev_resp_act': 'welcomemsg',\n",
      "        'text': 'a moderately priced restaurant in the south part of town'},\n",
      "    {   'db_result': {   'addr': '152 - 154 hills road',\n",
      "                         'area': 'south',\n",
      "                         'food': 'modern european',\n",
      "                         'name': 'restaurant alimentum',\n",
      "                         'phone': '01223 413000',\n",
      "                         'postcode': 'c.b 2, 8 p.b',\n",
      "                         'pricerange': 'moderate'},\n",
      "        'prev_resp_act': 'api_call',\n",
      "        'text': 'a moderately priced restaurant in the south part of town'},\n",
      "    {   'prev_resp_act': 'inform_area+inform_pricerange+offer_name',\n",
      "        'text': 'what is the address'},\n",
      "    {'prev_resp_act': 'inform_addr+offer_name', 'text': 'thank you good bye'}]\n",
      "\n",
      "System responses:\n",
      "-----------------\n",
      "\n",
      "[   {   'act': 'welcomemsg',\n",
      "        'text': 'Hello, welcome to the Cambridge restaurant system. You can '\n",
      "                'ask for restaurants by area, price range or food type. How '\n",
      "                'may I help you?'},\n",
      "    {   'act': 'api_call',\n",
      "        'text': 'api_call area=\"south\" food=\"dontcare\" pricerange=\"moderate\"'},\n",
      "    {   'act': 'inform_area+inform_pricerange+offer_name',\n",
      "        'text': 'Restaurant alimentum is a nice place in the south of town and '\n",
      "                'the prices are moderate.'},\n",
      "    {   'act': 'inform_addr+offer_name',\n",
      "        'text': 'Sure, restaurant alimentum is on 152 - 154 Hills Road.'},\n",
      "    {'act': 'bye', 'text': 'You are welcome!'}]\n"
     ]
    }
   ],
   "source": [
    "from pprint import pprint\n",
    "\n",
    "for dialog in iterator.gen_batches(batch_size=1, data_type='train'):\n",
    "    turns_x, turns_y = dialog\n",
    "    \n",
    "    print(\"User utterances:\\n----------------\\n\")\n",
    "    pprint(turns_x[0], indent=4)\n",
    "    print(\"\\nSystem responses:\\n-----------------\\n\")\n",
    "    pprint(turns_y[0], indent=4)\n",
    "    \n",
    "    break"
   ]
  },
  {
   "cell_type": "markdown",
   "metadata": {},
   "source": [
    "## 1. Build database of items"
   ]
  },
  {
   "cell_type": "markdown",
   "metadata": {},
   "source": [
    "&nbsp;\n",
    "![gobot_database.png](img/gobot_database.png)\n",
    "&nbsp;"
   ]
  },
  {
   "cell_type": "markdown",
   "metadata": {},
   "source": [
    "For a valid goal-oriented bot there should be a `database` of relevant items. In the case of restaurant booking it will contain all available restaurants and their info.\n",
    "\n",
    "    >> database([{'pricerange': 'cheap', 'area': 'south'}])\n",
    "    \n",
    "    Out[1]: \n",
    "        [[{'name': 'the lucky star',\n",
    "           'food': 'chinese',\n",
    "           'pricerange': 'cheap',\n",
    "           'area': 'south',\n",
    "           'addr': 'cambridge leisure park clifton way cherry hinton',\n",
    "           'phone': '01223 244277',\n",
    "           'postcode': 'c.b 1, 7 d.y'},\n",
    "          {'name': 'nandos',\n",
    "           'food': 'portuguese',\n",
    "           'pricerange': 'cheap',\n",
    "           'area': 'south',\n",
    "           'addr': 'cambridge leisure park clifton way',\n",
    "           'phone': '01223 327908',\n",
    "           'postcode': 'c.b 1, 7 d.y'}]]\n",
    "           \n",
    "The dialogues in the training dataset should contain a `\"db_result\"` dictionary key. It is required for turns where system performs a special type of external action: an api call to the database of items. `\"db_result\"` should contain the result of the api call:"
   ]
  },
  {
   "cell_type": "code",
   "execution_count": 6,
   "metadata": {},
   "outputs": [
    {
     "name": "stdout",
     "output_type": "stream",
     "text": [
      "    {\r\n",
      "      \"speaker\": 2,\r\n",
      "      \"text\": \"api_call area=\\\"south\\\" food=\\\"dontcare\\\" pricerange=\\\"cheap\\\"\",\r\n",
      "      \"db_result\": {\r\n",
      "        \"food\": \"chinese\",\r\n",
      "        \"pricerange\": \"cheap\",\r\n",
      "        \"area\": \"south\",\r\n",
      "        \"addr\": \"cambridge leisure park clifton way cherry hinton\",\r\n",
      "        \"phone\": \"01223 244277\",\r\n",
      "        \"postcode\": \"c.b 1, 7 d.y\",\r\n",
      "        \"name\": \"the lucky star\"\r\n",
      "      },\r\n",
      "      \"slots\": [\r\n",
      "        [\r\n",
      "          \"area\",\r\n",
      "          \"south\"\r\n",
      "        ],\r\n",
      "        [\r\n",
      "          \"pricerange\",\r\n",
      "          \"cheap\"\r\n",
      "        ],\r\n",
      "        [\r\n",
      "          \"food\",\r\n",
      "          \"dontcare\"\r\n",
      "        ]\r\n",
      "      ],\r\n",
      "      \"act\": \"api_call\"\r\n",
      "    },\r\n"
     ]
    }
   ],
   "source": [
    "!head -n 78 my_data/simple-dstc2-trn.json | tail +51"
   ]
  },
  {
   "cell_type": "code",
   "execution_count": 7,
   "metadata": {},
   "outputs": [
    {
     "name": "stderr",
     "output_type": "stream",
     "text": [
      "2019-09-02 18:02:46.620 WARNING in 'deeppavlov.core.models.serializable'['serializable'] at line 47: No load path is set for Sqlite3Database in 'infer' mode. Using save path instead\n",
      "2019-09-02 18:02:46.621 INFO in 'deeppavlov.core.data.sqlite_database'['sqlite_database'] at line 70: Initializing empty database on /home/vimary/code-projects/Pilot/examples/my_bot/db.sqlite.\n"
     ]
    }
   ],
   "source": [
    "from deeppavlov.core.data.sqlite_database import Sqlite3Database\n",
    "\n",
    "database = Sqlite3Database(primary_keys=[\"name\"],\n",
    "                           save_path=\"my_bot/db.sqlite\")"
   ]
  },
  {
   "cell_type": "markdown",
   "metadata": {},
   "source": [
    "Set `primary_keys` to a list of slot names that have unique values for different items (common SQL term). For the case of DSTC-2, the primary slot is restaurant name.\n",
    "\n",
    "Let's find all `\"db_result\"` api call results and add it to our database of restaurants:"
   ]
  },
  {
   "cell_type": "code",
   "execution_count": 8,
   "metadata": {},
   "outputs": [
    {
     "name": "stderr",
     "output_type": "stream",
     "text": [
      "2019-09-02 18:02:47.907 INFO in 'deeppavlov.core.data.sqlite_database'['sqlite_database'] at line 145: Created table with keys {'pricerange': 'text', 'name': 'text', 'area': 'text', 'food': 'text', 'postcode': 'text', 'phone': 'text', 'addr': 'text'}.\n"
     ]
    },
    {
     "name": "stdout",
     "output_type": "stream",
     "text": [
      "Adding 3016 items.\n"
     ]
    }
   ],
   "source": [
    "db_results = []\n",
    "\n",
    "for dialog in iterator.gen_batches(batch_size=1, data_type='all'):\n",
    "    turns_x, turns_y = dialog\n",
    "    db_results.extend(x['db_result'] for x in turns_x[0] if x.get('db_result'))\n",
    "\n",
    "print(f\"Adding {len(db_results)} items.\")\n",
    "if db_results:\n",
    "    database.fit(db_results)"
   ]
  },
  {
   "cell_type": "markdown",
   "metadata": {},
   "source": [
    "We can now play with the database and make requests to it:"
   ]
  },
  {
   "cell_type": "code",
   "execution_count": 9,
   "metadata": {},
   "outputs": [
    {
     "data": {
      "text/plain": [
       "[[{'pricerange': 'cheap',\n",
       "   'name': 'the lucky star',\n",
       "   'area': 'south',\n",
       "   'food': 'chinese',\n",
       "   'postcode': 'c.b 1, 7 d.y',\n",
       "   'phone': '01223 244277',\n",
       "   'addr': 'cambridge leisure park clifton way cherry hinton'},\n",
       "  {'pricerange': 'cheap',\n",
       "   'name': 'nandos',\n",
       "   'area': 'south',\n",
       "   'food': 'portuguese',\n",
       "   'postcode': 'c.b 1, 7 d.y',\n",
       "   'phone': '01223 327908',\n",
       "   'addr': 'cambridge leisure park clifton way'}]]"
      ]
     },
     "execution_count": 9,
     "metadata": {},
     "output_type": "execute_result"
    }
   ],
   "source": [
    "database([{'pricerange': 'cheap', 'area': 'south'}])"
   ]
  },
  {
   "cell_type": "code",
   "execution_count": 10,
   "metadata": {},
   "outputs": [
    {
     "name": "stdout",
     "output_type": "stream",
     "text": [
      "db.sqlite\r\n"
     ]
    }
   ],
   "source": [
    "!ls my_bot"
   ]
  },
  {
   "cell_type": "markdown",
   "metadata": {},
   "source": [
    "## 2. Build Slot Filler"
   ]
  },
  {
   "cell_type": "markdown",
   "metadata": {},
   "source": [
    "&nbsp;\n",
    "![gobot_slotfiller.png](img/gobot_slotfiller.png)\n",
    "&nbsp;"
   ]
  },
  {
   "cell_type": "markdown",
   "metadata": {},
   "source": [
    "Slot Filler is component that inputs text and outputs dictionary of slot names and their values:\n",
    "\n",
    "    >> slot_filler(['I would like some chineese food'])\n",
    "    \n",
    "    Out[1]: [{'food': 'chinese'}]\n",
    "\n",
    "To implement a slot filler you need to provide\n",
    "    \n",
    " - **slot types**\n",
    " - all possible **slot values**\n",
    " - optionally, it will be good to provide examples of mentions for every value of each slot\n",
    " \n",
    "The data should be in `slot_vals.json` file with the following format:\n",
    "\n",
    "    {\n",
    "        'food': {\n",
    "            'chinese': ['chinese', 'chineese', 'chines'],\n",
    "            'french': ['french', 'freench'],\n",
    "            'dontcare': ['any food', 'any type of food']\n",
    "        }\n",
    "    }\n",
    "                \n",
    "\n",
    "Let's use a simple non-trainable slot filler that relies on levenshtein distance:"
   ]
  },
  {
   "cell_type": "code",
   "execution_count": 11,
   "metadata": {},
   "outputs": [
    {
     "name": "stderr",
     "output_type": "stream",
     "text": [
      "2019-09-02 18:02:54.630 INFO in 'deeppavlov.core.data.utils'['utils'] at line 63: Downloading from http://files.deeppavlov.ai/deeppavlov_data/dstc_slot_vals.tar.gz to my_bot/slotfill/dstc_slot_vals.tar.gz\n",
      "100%|██████████| 1.62k/1.62k [00:00<00:00, 1.96MB/s]\n",
      "2019-09-02 18:02:54.638 INFO in 'deeppavlov.core.data.utils'['utils'] at line 201: Extracting my_bot/slotfill/dstc_slot_vals.tar.gz archive into my_bot/slotfill\n"
     ]
    }
   ],
   "source": [
    "from deeppavlov.download import download_decompress\n",
    "\n",
    "download_decompress(url='http://files.deeppavlov.ai/deeppavlov_data/dstc_slot_vals.tar.gz',\n",
    "                    download_path='my_bot/slotfill')"
   ]
  },
  {
   "cell_type": "code",
   "execution_count": 12,
   "metadata": {},
   "outputs": [
    {
     "name": "stdout",
     "output_type": "stream",
     "text": [
      "dstc_slot_vals.json\r\n"
     ]
    }
   ],
   "source": [
    "!ls my_bot/slotfill"
   ]
  },
  {
   "cell_type": "code",
   "execution_count": 13,
   "metadata": {},
   "outputs": [
    {
     "name": "stdout",
     "output_type": "stream",
     "text": [
      "{\r\n",
      "    \"food\": {\r\n",
      "        \"caribbean\": [\r\n",
      "            \"carraibean\",\r\n",
      "            \"carribean\",\r\n",
      "            \"caribbean\"\r\n",
      "        ],\r\n",
      "        \"kosher\": [\r\n",
      "            \"kosher\"\r\n",
      "        ],\r\n"
     ]
    }
   ],
   "source": [
    "!head -n 10 my_bot/slotfill/dstc_slot_vals.json"
   ]
  },
  {
   "cell_type": "markdown",
   "metadata": {},
   "source": [
    "Let's check performance of our slot filler on DSTC-2 dataset:"
   ]
  },
  {
   "cell_type": "code",
   "execution_count": 14,
   "metadata": {},
   "outputs": [],
   "source": [
    "from deeppavlov import configs\n",
    "from deeppavlov.core.common.file import read_json\n",
    "\n",
    "slotfill_raw_config = read_json(configs.ner.slotfill_dstc2_raw)"
   ]
  },
  {
   "cell_type": "markdown",
   "metadata": {},
   "source": [
    "We take [original DSTC2 slot-filling config](https://github.com/deepmipt/DeepPavlov/blob/master/deeppavlov/configs/ner/slotfill_dstc2_raw.json) and change variables determining data paths:"
   ]
  },
  {
   "cell_type": "code",
   "execution_count": 15,
   "metadata": {},
   "outputs": [],
   "source": [
    "slotfill_raw_config['metadata']['variables']['DATA_PATH'] = 'my_data'\n",
    "slotfill_raw_config['metadata']['variables']['SLOT_VALS_PATH'] = 'my_bot/slotfill/dstc_slot_vals.json'"
   ]
  },
  {
   "cell_type": "code",
   "execution_count": 16,
   "metadata": {},
   "outputs": [
    {
     "name": "stderr",
     "output_type": "stream",
     "text": [
      "2019-09-02 18:03:15.686 INFO in 'deeppavlov.dataset_readers.dstc2_reader'['dstc2_reader'] at line 95: [downloading data from http://files.deeppavlov.ai/datasets/dstc2_v2.tar.gz to /home/vimary/code-projects/Pilot/examples/my_data]\n",
      "2019-09-02 18:03:15.703 INFO in 'deeppavlov.core.data.utils'['utils'] at line 63: Downloading from http://files.deeppavlov.ai/datasets/dstc2_v2.tar.gz to /home/vimary/code-projects/Pilot/examples/my_data/dstc2_v2.tar.gz\n",
      "100%|██████████| 506k/506k [00:00<00:00, 49.1MB/s]\n",
      "2019-09-02 18:03:15.715 INFO in 'deeppavlov.core.data.utils'['utils'] at line 201: Extracting /home/vimary/code-projects/Pilot/examples/my_data/dstc2_v2.tar.gz archive into /home/vimary/code-projects/Pilot/examples/my_data\n",
      "2019-09-02 18:03:15.736 INFO in 'deeppavlov.dataset_readers.dstc2_reader'['dstc2_reader'] at line 112: [loading dialogs from /home/vimary/code-projects/Pilot/examples/my_data/dstc2-trn.jsonlist]\n",
      "2019-09-02 18:03:15.879 INFO in 'deeppavlov.dataset_readers.dstc2_reader'['dstc2_reader'] at line 112: [loading dialogs from /home/vimary/code-projects/Pilot/examples/my_data/dstc2-val.jsonlist]\n",
      "2019-09-02 18:03:15.996 INFO in 'deeppavlov.dataset_readers.dstc2_reader'['dstc2_reader'] at line 112: [loading dialogs from /home/vimary/code-projects/Pilot/examples/my_data/dstc2-tst.jsonlist]\n",
      "[nltk_data] Downloading package punkt to /home/vimary/nltk_data...\n",
      "[nltk_data]   Package punkt is already up-to-date!\n",
      "[nltk_data] Downloading package stopwords to /home/vimary/nltk_data...\n",
      "[nltk_data]   Package stopwords is already up-to-date!\n",
      "[nltk_data] Downloading package perluniprops to\n",
      "[nltk_data]     /home/vimary/nltk_data...\n",
      "[nltk_data]   Package perluniprops is already up-to-date!\n",
      "[nltk_data] Downloading package nonbreaking_prefixes to\n",
      "[nltk_data]     /home/vimary/nltk_data...\n",
      "[nltk_data]   Package nonbreaking_prefixes is already up-to-date!\n"
     ]
    },
    {
     "name": "stdout",
     "output_type": "stream",
     "text": [
      "{\"valid\": {\"eval_examples_count\": 1444, \"metrics\": {\"slots_accuracy\": 0.9307}, \"time_spent\": \"0:00:28\"}}\n",
      "{\"test\": {\"eval_examples_count\": 1386, \"metrics\": {\"slots_accuracy\": 0.9481}, \"time_spent\": \"0:00:26\"}}\n"
     ]
    }
   ],
   "source": [
    "from deeppavlov import evaluate_model\n",
    "\n",
    "slotfill_raw = evaluate_model(slotfill_raw_config);"
   ]
  },
  {
   "cell_type": "markdown",
   "metadata": {},
   "source": [
    "We've got slot accuracy of **93% on valid** set and **94% on test** set.\n",
    "\n",
    "Let's interact with it:"
   ]
  },
  {
   "cell_type": "code",
   "execution_count": 17,
   "metadata": {},
   "outputs": [],
   "source": [
    "from deeppavlov import build_model\n",
    "\n",
    "slotfill_raw = build_model(slotfill_raw_config)"
   ]
  },
  {
   "cell_type": "code",
   "execution_count": 18,
   "metadata": {},
   "outputs": [
    {
     "data": {
      "text/plain": [
       "[{'food': 'chinese', 'pricerange': 'cheap'}]"
      ]
     },
     "execution_count": 18,
     "metadata": {},
     "output_type": "execute_result"
    }
   ],
   "source": [
    "slotfill_raw(['i want cheap chinee food'])"
   ]
  },
  {
   "cell_type": "markdown",
   "metadata": {},
   "source": [
    "Saving slotfill config file to disk (we will require it's path later):"
   ]
  },
  {
   "cell_type": "code",
   "execution_count": 19,
   "metadata": {},
   "outputs": [],
   "source": [
    "import json\n",
    "\n",
    "json.dump(slotfill_raw_config, open('my_bot/slotfill_raw_config.json', 'wt'))"
   ]
  },
  {
   "cell_type": "code",
   "execution_count": 20,
   "metadata": {},
   "outputs": [
    {
     "name": "stdout",
     "output_type": "stream",
     "text": [
      "db.sqlite  slotfill  slotfill_raw_config.json\r\n"
     ]
    }
   ],
   "source": [
    "!ls my_bot"
   ]
  },
  {
   "cell_type": "markdown",
   "metadata": {},
   "source": [
    "## 3. Train bot"
   ]
  },
  {
   "cell_type": "markdown",
   "metadata": {},
   "source": [
    "Let's assemble all modules together and train the final module: dialogue policy network.\n",
    "\n",
    "&nbsp;\n",
    "![gobot_policy.png](img/gobot_policy.png)\n",
    "&nbsp;\n",
    "\n",
    "Policy network decides which action the system should take on each turn of a dialogue: should it say goodbye, request user's location or make api call to a database.\n",
    "\n",
    "The policy network is a recurrent neural network (recurrent over utterances represented as bags of words) and a dense layer with softmax function on top. The network classifies user utterance into one of predefined system actions.\n",
    "\n",
    "&nbsp;\n",
    "![gobot_templates.png](img/gobot_templates.png)\n",
    "&nbsp;\n",
    "\n",
    "All actions available for the system should be listed in a `simple-dstc2-templates.txt` file. Each action should be associated with a string of the corresponding system response.\n",
    "\n",
    "Templates should be in the format `<act>TAB<template>`, where `<act>` is a dialogue action and `<template>` is the corresponding response. Response text might contain slot type names, where every `#slot_type` will be filled with the slot value from a dialogue state."
   ]
  },
  {
   "cell_type": "code",
   "execution_count": 21,
   "metadata": {},
   "outputs": [
    {
     "name": "stdout",
     "output_type": "stream",
     "text": [
      "api_call\tapi_call area=\"#area\" food=\"#food\" pricerange=\"#pricerange\"\r\n",
      "bye\tYou are welcome!\r\n",
      "canthear\tSorry, I can't hear you.\r\n",
      "canthelp_area\tI'm sorry but there is no #area american restaurant in the #area of town.\r\n",
      "canthelp_area_food\tSorry there is no #food restaurant in the #area of town.\r\n",
      "canthelp_area_food_pricerange\tSorry there is no #pricerange restaurant in the #area of town serving #food food.\r\n",
      "canthelp_area_pricerange\tSorry there is no #pricerange restaurant in the #area of town serving #area american food.\r\n",
      "canthelp_food\tI am sorry but there is no #food restaurant that matches your request.\r\n",
      "canthelp_food_pricerange\tSorry there is no #food restaurant in the #pricerange price range.\r\n",
      "confirm-domain\tYou are looking for a restaurant is that right?\r\n"
     ]
    }
   ],
   "source": [
    "!head -n 10 my_data/simple-dstc2-templates.txt"
   ]
  },
  {
   "cell_type": "markdown",
   "metadata": {},
   "source": [
    "So, actions are actually classes we classify over. And `simple-dstc2-templates.txt` contains the set of classes.\n",
    "\n",
    "To train the dialogue policy network for classification task you need action label for each system utterance in training dialogues. The DSTC-2 contains `\"act\"` dictionary key that contains action associated with current response.\n",
    "\n",
    "The cell below provides an example of training data for the policy network."
   ]
  },
  {
   "cell_type": "code",
   "execution_count": 23,
   "metadata": {},
   "outputs": [
    {
     "name": "stdout",
     "output_type": "stream",
     "text": [
      "[\r\n",
      "  [\r\n",
      "    {\r\n",
      "      \"speaker\": 2,\r\n",
      "      \"text\": \"Hello, welcome to the Cambridge restaurant system. You can ask for restaurants by area, price range or food type. How may I help you?\",\r\n",
      "      \"slots\": [],\r\n",
      "      \"act\": \"welcomemsg\"\r\n",
      "    },\r\n",
      "    {\r\n",
      "      \"speaker\": 1,\r\n",
      "      \"text\": \"cheap restaurant\",\r\n",
      "      \"slots\": [\r\n",
      "        [\r\n",
      "          \"pricerange\",\r\n",
      "          \"cheap\"\r\n",
      "        ]\r\n",
      "      ]\r\n",
      "    },\r\n",
      "    {\r\n",
      "      \"speaker\": 2,\r\n",
      "      \"text\": \"What kind of food would you like?\",\r\n",
      "      \"slots\": [],\r\n",
      "      \"act\": \"request_food\"\r\n",
      "    },\r\n"
     ]
    }
   ],
   "source": [
    "!head -n 24 my_data/simple-dstc2-trn.json"
   ]
  },
  {
   "cell_type": "markdown",
   "metadata": {},
   "source": [
    "Let's construct the final pipeline of a dialogue system:"
   ]
  },
  {
   "cell_type": "code",
   "execution_count": 24,
   "metadata": {},
   "outputs": [],
   "source": [
    "from deeppavlov import configs\n",
    "from deeppavlov.core.common.file import read_json\n",
    "\n",
    "gobot_config = read_json(configs.go_bot.gobot_dstc2)"
   ]
  },
  {
   "cell_type": "markdown",
   "metadata": {},
   "source": [
    "**Configure** bot to use **templates**:"
   ]
  },
  {
   "cell_type": "code",
   "execution_count": 25,
   "metadata": {},
   "outputs": [],
   "source": [
    "gobot_config['chainer']['pipe'][-1]['template_type'] = 'DefaultTemplate'\n",
    "gobot_config['chainer']['pipe'][-1]['template_path'] = 'my_data/simple-dstc2-templates.txt'"
   ]
  },
  {
   "cell_type": "markdown",
   "metadata": {},
   "source": [
    "**Configure** bot to use our built **database**:"
   ]
  },
  {
   "cell_type": "code",
   "execution_count": 26,
   "metadata": {},
   "outputs": [],
   "source": [
    "gobot_config['chainer']['pipe'][-1]['database'] = {\n",
    "    'class_name': 'sqlite_database',\n",
    "    'primary_keys': [\"name\"],\n",
    "    'save_path': 'my_bot/db.sqlite'\n",
    "}"
   ]
  },
  {
   "cell_type": "markdown",
   "metadata": {},
   "source": [
    "**Configure** bot to use levenshtein distance based **slot filler**:"
   ]
  },
  {
   "cell_type": "code",
   "execution_count": 27,
   "metadata": {},
   "outputs": [],
   "source": [
    "gobot_config['chainer']['pipe'][-1]['slot_filler']['config_path'] = 'my_bot/slotfill_raw_config.json'\n",
    "\n",
    "gobot_config['chainer']['pipe'][-1]['tracker']['slot_names'] = ['pricerange', 'this', 'area', 'food']"
   ]
  },
  {
   "cell_type": "markdown",
   "metadata": {},
   "source": [
    "You can use a simple **bag-of-words as embedder** (by default):"
   ]
  },
  {
   "cell_type": "code",
   "execution_count": 28,
   "metadata": {},
   "outputs": [],
   "source": [
    "gobot_config['chainer']['pipe'][-1]['embedder'] = None"
   ]
  },
  {
   "cell_type": "markdown",
   "metadata": {},
   "source": [
    "Specify train/valid/test **data path** and **path to save** the final bot model:"
   ]
  },
  {
   "cell_type": "code",
   "execution_count": 29,
   "metadata": {},
   "outputs": [],
   "source": [
    "gobot_config['metadata']['variables']['DATA_PATH'] = 'my_data'\n",
    "\n",
    "gobot_config['metadata']['variables']['MODEL_PATH'] = 'my_bot'"
   ]
  },
  {
   "cell_type": "markdown",
   "metadata": {},
   "source": [
    "The whole dialogue system pipeline looks like this:\n",
    "    \n",
    "![gobot_pipeline.png](img/gobot_pipeline.png)"
   ]
  },
  {
   "cell_type": "markdown",
   "metadata": {},
   "source": [
    "##### Training policy network"
   ]
  },
  {
   "cell_type": "code",
   "execution_count": 30,
   "metadata": {},
   "outputs": [
    {
     "name": "stderr",
     "output_type": "stream",
     "text": [
      "2019-09-02 18:10:15.683 INFO in 'deeppavlov.dataset_readers.dstc2_reader'['dstc2_reader'] at line 112: [loading dialogs from /home/vimary/code-projects/Pilot/examples/my_data/dstc2-trn.jsonlist]\n",
      "2019-09-02 18:10:15.878 INFO in 'deeppavlov.dataset_readers.dstc2_reader'['dstc2_reader'] at line 112: [loading dialogs from /home/vimary/code-projects/Pilot/examples/my_data/dstc2-val.jsonlist]\n",
      "2019-09-02 18:10:16.29 INFO in 'deeppavlov.dataset_readers.dstc2_reader'['dstc2_reader'] at line 112: [loading dialogs from /home/vimary/code-projects/Pilot/examples/my_data/dstc2-tst.jsonlist]\n",
      "2019-09-02 18:10:16.344 INFO in 'deeppavlov.core.data.simple_vocab'['simple_vocab'] at line 98: [saving vocabulary to /home/vimary/code-projects/Pilot/examples/my_bot/word.dict]\n",
      "WARNING: Logging before flag parsing goes to stderr.\n",
      "W0902 18:10:17.340889 139952681506432 deprecation_wrapper.py:119] From /home/vimary/code-projects/Pilot/deeppavlov/core/models/tf_model.py:38: The name tf.Session is deprecated. Please use tf.compat.v1.Session instead.\n",
      "\n",
      "W0902 18:10:17.341964 139952681506432 deprecation_wrapper.py:119] From /home/vimary/code-projects/Pilot/deeppavlov/core/models/tf_model.py:223: The name tf.placeholder is deprecated. Please use tf.compat.v1.placeholder instead.\n",
      "\n",
      "W0902 18:10:17.342448 139952681506432 deprecation_wrapper.py:119] From /home/vimary/code-projects/Pilot/deeppavlov/core/models/tf_model.py:223: The name tf.train.Optimizer is deprecated. Please use tf.compat.v1.train.Optimizer instead.\n",
      "\n",
      "2019-09-02 18:10:17.343 WARNING in 'deeppavlov.core.models.serializable'['serializable'] at line 50: No load path is set for Sqlite3Database!\n",
      "W0902 18:10:17.343921 139952681506432 serializable.py:50] No load path is set for Sqlite3Database!\n",
      "2019-09-02 18:10:17.345 INFO in 'deeppavlov.core.data.sqlite_database'['sqlite_database'] at line 66: Loading database from /home/vimary/code-projects/Pilot/examples/my_bot/db.sqlite.\n",
      "I0902 18:10:17.345250 139952681506432 sqlite_database.py:66] Loading database from /home/vimary/code-projects/Pilot/examples/my_bot/db.sqlite.\n",
      "Using TensorFlow backend.\n",
      "W0902 18:10:17.571827 139952681506432 deprecation_wrapper.py:119] From /home/vimary/code-projects/Pilot/deeppavlov/core/common/registry.py:40: The name tf.train.AdamOptimizer is deprecated. Please use tf.compat.v1.train.AdamOptimizer instead.\n",
      "\n",
      "W0902 18:10:17.572390 139952681506432 deprecation_wrapper.py:119] From /home/vimary/code-projects/Pilot/deeppavlov/core/models/tf_model.py:195: The name tf.train.Optimizer is deprecated. Please use tf.compat.v1.train.Optimizer instead.\n",
      "\n",
      "2019-09-02 18:10:17.577 INFO in 'deeppavlov.models.go_bot.network'['network'] at line 161: [loading templates from /home/vimary/code-projects/Pilot/examples/my_data/simple-dstc2-templates.txt]\n",
      "I0902 18:10:17.577074 139952681506432 network.py:161] [loading templates from /home/vimary/code-projects/Pilot/examples/my_data/simple-dstc2-templates.txt]\n",
      "2019-09-02 18:10:17.578 INFO in 'deeppavlov.models.go_bot.network'['network'] at line 164: 46 templates loaded.\n",
      "I0902 18:10:17.578272 139952681506432 network.py:164] 46 templates loaded.\n",
      "2019-09-02 18:10:17.579 INFO in 'deeppavlov.models.go_bot.network'['network'] at line 210: Calculated input size for `GoalOrientedBotNetwork` is 508\n",
      "I0902 18:10:17.579073 139952681506432 network.py:210] Calculated input size for `GoalOrientedBotNetwork` is 508\n",
      "W0902 18:10:17.580447 139952681506432 deprecation_wrapper.py:119] From /home/vimary/code-projects/Pilot/deeppavlov/models/go_bot/network.py:649: The name tf.placeholder_with_default is deprecated. Please use tf.compat.v1.placeholder_with_default instead.\n",
      "\n",
      "W0902 18:10:17.589006 139952681506432 deprecation_wrapper.py:119] From /home/vimary/code-projects/Pilot/deeppavlov/models/go_bot/network.py:670: The name tf.nn.rnn_cell.LSTMStateTuple is deprecated. Please use tf.compat.v1.nn.rnn_cell.LSTMStateTuple instead.\n",
      "\n",
      "W0902 18:10:17.589534 139952681506432 deprecation.py:323] From /home/vimary/code-projects/Pilot/deeppavlov/models/go_bot/network.py:686: dense (from tensorflow.python.layers.core) is deprecated and will be removed in a future version.\n",
      "Instructions for updating:\n",
      "Use keras.layers.dense instead.\n",
      "W0902 18:10:17.757932 139952681506432 deprecation.py:506] From /home/vimary/code-projects/Pilot/deeppavlov/core/layers/tf_layers.py:948: calling dropout (from tensorflow.python.ops.nn_ops) with keep_prob is deprecated and will be removed in a future version.\n",
      "Instructions for updating:\n",
      "Please use `rate` instead of `keep_prob`. Rate should be set to `rate = 1 - keep_prob`.\n",
      "W0902 18:10:17.764831 139952681506432 deprecation.py:323] From /home/vimary/code-projects/Pilot/deeppavlov/models/go_bot/network.py:736: LSTMCell.__init__ (from tensorflow.python.ops.rnn_cell_impl) is deprecated and will be removed in a future version.\n",
      "Instructions for updating:\n",
      "This class is equivalent as tf.keras.layers.LSTMCell, and will be replaced by that in Tensorflow 2.0.\n",
      "W0902 18:10:17.766745 139952681506432 deprecation.py:323] From /home/vimary/code-projects/Pilot/deeppavlov/models/go_bot/network.py:737: to_int32 (from tensorflow.python.ops.math_ops) is deprecated and will be removed in a future version.\n",
      "Instructions for updating:\n",
      "Use `tf.cast` instead.\n",
      "W0902 18:10:17.767830 139952681506432 deprecation.py:323] From /home/vimary/code-projects/Pilot/deeppavlov/models/go_bot/network.py:744: dynamic_rnn (from tensorflow.python.ops.rnn) is deprecated and will be removed in a future version.\n",
      "Instructions for updating:\n",
      "Please use `keras.layers.RNN(cell)`, which is equivalent to this API\n",
      "W0902 18:10:17.810819 139952681506432 deprecation.py:506] From /home/vimary/dp_env/lib/python3.7/site-packages/tensorflow/python/ops/init_ops.py:1251: calling VarianceScaling.__init__ (from tensorflow.python.ops.init_ops) with dtype is deprecated and will be removed in a future version.\n",
      "Instructions for updating:\n",
      "Call initializer instance with the dtype argument instead of passing it to the constructor\n",
      "W0902 18:10:17.816293 139952681506432 deprecation.py:506] From /home/vimary/dp_env/lib/python3.7/site-packages/tensorflow/python/ops/rnn_cell_impl.py:961: calling Zeros.__init__ (from tensorflow.python.ops.init_ops) with dtype is deprecated and will be removed in a future version.\n",
      "Instructions for updating:\n",
      "Call initializer instance with the dtype argument instead of passing it to the constructor\n",
      "W0902 18:10:18.134064 139952681506432 deprecation.py:323] From /home/vimary/dp_env/lib/python3.7/site-packages/tensorflow/python/ops/rnn.py:244: add_dispatch_support.<locals>.wrapper (from tensorflow.python.ops.array_ops) is deprecated and will be removed in a future version.\n",
      "Instructions for updating:\n",
      "Use tf.where in 2.0, which has the same broadcast rule as np.where\n",
      "W0902 18:10:18.334142 139952681506432 deprecation_wrapper.py:119] From /home/vimary/code-projects/Pilot/deeppavlov/models/go_bot/network.py:645: The name tf.losses.get_regularization_loss is deprecated. Please use tf.compat.v1.losses.get_regularization_loss instead.\n",
      "\n",
      "W0902 18:10:18.336435 139952681506432 deprecation_wrapper.py:119] From /home/vimary/code-projects/Pilot/deeppavlov/core/models/tf_model.py:123: The name tf.variable_scope is deprecated. Please use tf.compat.v1.variable_scope instead.\n",
      "\n",
      "W0902 18:10:18.336942 139952681506432 deprecation_wrapper.py:119] From /home/vimary/code-projects/Pilot/deeppavlov/core/models/tf_model.py:128: The name tf.get_collection is deprecated. Please use tf.compat.v1.get_collection instead.\n",
      "\n",
      "W0902 18:10:18.578616 139952681506432 deprecation.py:323] From /home/vimary/dp_env/lib/python3.7/site-packages/tensorflow/python/ops/variables.py:2618: Variable.initialized_value (from tensorflow.python.ops.variables) is deprecated and will be removed in a future version.\n",
      "Instructions for updating:\n",
      "Use Variable.read_value. Variables in 2.X are initialized automatically both in eager and graph (inside tf.defun) contexts.\n",
      "W0902 18:10:19.497706 139952681506432 deprecation.py:323] From /home/vimary/code-projects/Pilot/deeppavlov/models/go_bot/network.py:247: checkpoint_exists (from tensorflow.python.training.checkpoint_management) is deprecated and will be removed in a future version.\n",
      "Instructions for updating:\n",
      "Use standard file APIs to check for files with this prefix.\n"
     ]
    },
    {
     "name": "stderr",
     "output_type": "stream",
     "text": [
      "2019-09-02 18:10:19.498 INFO in 'deeppavlov.models.go_bot.network'['network'] at line 251: [initializing `GoalOrientedBot` from scratch]\n",
      "I0902 18:10:19.498898 139952681506432 network.py:251] [initializing `GoalOrientedBot` from scratch]\n",
      "2019-09-02 18:11:40.632 INFO in 'deeppavlov.core.trainers.nn_trainer'['nn_trainer'] at line 164: New best per_item_dialog_accuracy of 0.0117\n",
      "I0902 18:11:40.632941 139952681506432 nn_trainer.py:164] New best per_item_dialog_accuracy of 0.0117\n",
      "2019-09-02 18:11:40.633 INFO in 'deeppavlov.core.trainers.nn_trainer'['nn_trainer'] at line 166: Saving model\n",
      "I0902 18:11:40.633703 139952681506432 nn_trainer.py:166] Saving model\n",
      "2019-09-02 18:11:40.634 INFO in 'deeppavlov.core.models.tf_model'['tf_model'] at line 76: [saving model to /home/vimary/code-projects/Pilot/examples/my_bot/model]\n",
      "I0902 18:11:40.634723 139952681506432 tf_model.py:76] [saving model to /home/vimary/code-projects/Pilot/examples/my_bot/model]\n",
      "W0902 18:11:40.635666 139952681506432 deprecation_wrapper.py:119] From /home/vimary/code-projects/Pilot/deeppavlov/core/models/tf_model.py:78: The name tf.train.Saver is deprecated. Please use tf.compat.v1.train.Saver instead.\n",
      "\n",
      "2019-09-02 18:11:40.710 INFO in 'deeppavlov.models.go_bot.network'['network'] at line 764: [saving parameters to /home/vimary/code-projects/Pilot/examples/my_bot/model.json]\n",
      "I0902 18:11:40.710920 139952681506432 network.py:764] [saving parameters to /home/vimary/code-projects/Pilot/examples/my_bot/model.json]\n"
     ]
    },
    {
     "name": "stdout",
     "output_type": "stream",
     "text": [
      "{\"valid\": {\"eval_examples_count\": 575, \"metrics\": {\"per_item_dialog_accuracy\": 0.0117}, \"time_spent\": \"0:01:22\", \"epochs_done\": 0, \"batches_seen\": 0, \"train_examples_seen\": 0, \"impatience\": 0, \"patience_limit\": 10}}\n",
      "{\"train\": {\"eval_examples_count\": 400, \"metrics\": {\"per_item_dialog_accuracy\": 0.4774}, \"time_spent\": \"0:03:01\", \"epochs_done\": 0, \"batches_seen\": 50, \"train_examples_seen\": 400, \"learning_rate\": 0.003, \"momentum\": 0.95, \"loss\": 1.4143262553215026}}\n"
     ]
    },
    {
     "name": "stderr",
     "output_type": "stream",
     "text": [
      "2019-09-02 18:14:39.744 INFO in 'deeppavlov.core.trainers.nn_trainer'['nn_trainer'] at line 164: New best per_item_dialog_accuracy of 0.3861\n",
      "I0902 18:14:39.744812 139952681506432 nn_trainer.py:164] New best per_item_dialog_accuracy of 0.3861\n",
      "2019-09-02 18:14:39.745 INFO in 'deeppavlov.core.trainers.nn_trainer'['nn_trainer'] at line 166: Saving model\n",
      "I0902 18:14:39.745602 139952681506432 nn_trainer.py:166] Saving model\n",
      "2019-09-02 18:14:39.746 INFO in 'deeppavlov.core.models.tf_model'['tf_model'] at line 76: [saving model to /home/vimary/code-projects/Pilot/examples/my_bot/model]\n",
      "I0902 18:14:39.746308 139952681506432 tf_model.py:76] [saving model to /home/vimary/code-projects/Pilot/examples/my_bot/model]\n",
      "2019-09-02 18:14:39.812 INFO in 'deeppavlov.models.go_bot.network'['network'] at line 764: [saving parameters to /home/vimary/code-projects/Pilot/examples/my_bot/model.json]\n",
      "I0902 18:14:39.812906 139952681506432 network.py:764] [saving parameters to /home/vimary/code-projects/Pilot/examples/my_bot/model.json]\n"
     ]
    },
    {
     "name": "stdout",
     "output_type": "stream",
     "text": [
      "{\"valid\": {\"eval_examples_count\": 575, \"metrics\": {\"per_item_dialog_accuracy\": 0.3861}, \"time_spent\": \"0:04:21\", \"epochs_done\": 0, \"batches_seen\": 50, \"train_examples_seen\": 400, \"impatience\": 0, \"patience_limit\": 10}}\n",
      "{\"train\": {\"eval_examples_count\": 400, \"metrics\": {\"per_item_dialog_accuracy\": 0.5425}, \"time_spent\": \"0:06:02\", \"epochs_done\": 0, \"batches_seen\": 100, \"train_examples_seen\": 800, \"learning_rate\": 0.003, \"momentum\": 0.95, \"loss\": 0.700360717177391}}\n"
     ]
    },
    {
     "name": "stderr",
     "output_type": "stream",
     "text": [
      "2019-09-02 18:17:40.792 INFO in 'deeppavlov.core.trainers.nn_trainer'['nn_trainer'] at line 170: Did not improve on the per_item_dialog_accuracy of 0.3861\n",
      "I0902 18:17:40.792460 139952681506432 nn_trainer.py:170] Did not improve on the per_item_dialog_accuracy of 0.3861\n"
     ]
    },
    {
     "name": "stdout",
     "output_type": "stream",
     "text": [
      "{\"valid\": {\"eval_examples_count\": 575, \"metrics\": {\"per_item_dialog_accuracy\": 0.3826}, \"time_spent\": \"0:07:22\", \"epochs_done\": 0, \"batches_seen\": 100, \"train_examples_seen\": 800, \"impatience\": 1, \"patience_limit\": 10}}\n",
      "{\"train\": {\"eval_examples_count\": 400, \"metrics\": {\"per_item_dialog_accuracy\": 0.5841}, \"time_spent\": \"0:09:00\", \"epochs_done\": 1, \"batches_seen\": 150, \"train_examples_seen\": 1199, \"learning_rate\": 0.003, \"momentum\": 0.95, \"loss\": 0.5567684131860733}}\n"
     ]
    },
    {
     "name": "stderr",
     "output_type": "stream",
     "text": [
      "2019-09-02 18:20:41.308 INFO in 'deeppavlov.core.trainers.nn_trainer'['nn_trainer'] at line 164: New best per_item_dialog_accuracy of 0.4099\n",
      "I0902 18:20:41.308838 139952681506432 nn_trainer.py:164] New best per_item_dialog_accuracy of 0.4099\n",
      "2019-09-02 18:20:41.309 INFO in 'deeppavlov.core.trainers.nn_trainer'['nn_trainer'] at line 166: Saving model\n",
      "I0902 18:20:41.309651 139952681506432 nn_trainer.py:166] Saving model\n",
      "2019-09-02 18:20:41.310 INFO in 'deeppavlov.core.models.tf_model'['tf_model'] at line 76: [saving model to /home/vimary/code-projects/Pilot/examples/my_bot/model]\n",
      "I0902 18:20:41.310578 139952681506432 tf_model.py:76] [saving model to /home/vimary/code-projects/Pilot/examples/my_bot/model]\n",
      "2019-09-02 18:20:41.381 INFO in 'deeppavlov.models.go_bot.network'['network'] at line 764: [saving parameters to /home/vimary/code-projects/Pilot/examples/my_bot/model.json]\n",
      "I0902 18:20:41.381855 139952681506432 network.py:764] [saving parameters to /home/vimary/code-projects/Pilot/examples/my_bot/model.json]\n"
     ]
    },
    {
     "name": "stdout",
     "output_type": "stream",
     "text": [
      "{\"valid\": {\"eval_examples_count\": 575, \"metrics\": {\"per_item_dialog_accuracy\": 0.4099}, \"time_spent\": \"0:10:22\", \"epochs_done\": 1, \"batches_seen\": 150, \"train_examples_seen\": 1199, \"impatience\": 0, \"patience_limit\": 10}}\n",
      "{\"train\": {\"eval_examples_count\": 400, \"metrics\": {\"per_item_dialog_accuracy\": 0.5869}, \"time_spent\": \"0:12:04\", \"epochs_done\": 1, \"batches_seen\": 200, \"train_examples_seen\": 1599, \"learning_rate\": 0.003, \"momentum\": 0.95, \"loss\": 0.5220139014720917}}\n"
     ]
    },
    {
     "name": "stderr",
     "output_type": "stream",
     "text": [
      "2019-09-02 18:23:43.509 INFO in 'deeppavlov.core.trainers.nn_trainer'['nn_trainer'] at line 170: Did not improve on the per_item_dialog_accuracy of 0.4099\n",
      "I0902 18:23:43.509978 139952681506432 nn_trainer.py:170] Did not improve on the per_item_dialog_accuracy of 0.4099\n",
      "2019-09-02 18:23:43.517 INFO in 'deeppavlov.core.data.simple_vocab'['simple_vocab'] at line 112: [loading vocabulary from /home/vimary/code-projects/Pilot/examples/my_bot/word.dict]\n",
      "I0902 18:23:43.517757 139952681506432 simple_vocab.py:112] [loading vocabulary from /home/vimary/code-projects/Pilot/examples/my_bot/word.dict]\n",
      "2019-09-02 18:23:43.519 WARNING in 'deeppavlov.core.models.serializable'['serializable'] at line 47: No load path is set for Sqlite3Database in 'infer' mode. Using save path instead\n",
      "W0902 18:23:43.519446 139952681506432 serializable.py:47] No load path is set for Sqlite3Database in 'infer' mode. Using save path instead\n",
      "2019-09-02 18:23:43.520 INFO in 'deeppavlov.core.data.sqlite_database'['sqlite_database'] at line 66: Loading database from /home/vimary/code-projects/Pilot/examples/my_bot/db.sqlite.\n",
      "I0902 18:23:43.520225 139952681506432 sqlite_database.py:66] Loading database from /home/vimary/code-projects/Pilot/examples/my_bot/db.sqlite.\n",
      "2019-09-02 18:23:43.605 INFO in 'deeppavlov.models.go_bot.network'['network'] at line 161: [loading templates from /home/vimary/code-projects/Pilot/examples/my_data/simple-dstc2-templates.txt]\n",
      "I0902 18:23:43.605408 139952681506432 network.py:161] [loading templates from /home/vimary/code-projects/Pilot/examples/my_data/simple-dstc2-templates.txt]\n",
      "2019-09-02 18:23:43.606 INFO in 'deeppavlov.models.go_bot.network'['network'] at line 164: 46 templates loaded.\n",
      "I0902 18:23:43.606650 139952681506432 network.py:164] 46 templates loaded.\n",
      "2019-09-02 18:23:43.607 INFO in 'deeppavlov.models.go_bot.network'['network'] at line 210: Calculated input size for `GoalOrientedBotNetwork` is 508\n",
      "I0902 18:23:43.607291 139952681506432 network.py:210] Calculated input size for `GoalOrientedBotNetwork` is 508\n"
     ]
    },
    {
     "name": "stdout",
     "output_type": "stream",
     "text": [
      "{\"valid\": {\"eval_examples_count\": 575, \"metrics\": {\"per_item_dialog_accuracy\": 0.3996}, \"time_spent\": \"0:13:25\", \"epochs_done\": 1, \"batches_seen\": 200, \"train_examples_seen\": 1599, \"impatience\": 1, \"patience_limit\": 10}}\n"
     ]
    },
    {
     "name": "stderr",
     "output_type": "stream",
     "text": [
      "2019-09-02 18:23:44.74 INFO in 'deeppavlov.models.go_bot.network'['network'] at line 248: [initializing `GoalOrientedBot` from saved]\n",
      "I0902 18:23:44.074719 139952681506432 network.py:248] [initializing `GoalOrientedBot` from saved]\n",
      "2019-09-02 18:23:44.75 INFO in 'deeppavlov.models.go_bot.network'['network'] at line 770: [loading parameters from /home/vimary/code-projects/Pilot/examples/my_bot/model.json]\n",
      "I0902 18:23:44.075809 139952681506432 network.py:770] [loading parameters from /home/vimary/code-projects/Pilot/examples/my_bot/model.json]\n",
      "2019-09-02 18:23:44.79 INFO in 'deeppavlov.core.models.tf_model'['tf_model'] at line 52: [loading model from /home/vimary/code-projects/Pilot/examples/my_bot/model]\n",
      "I0902 18:23:44.079855 139952681506432 tf_model.py:52] [loading model from /home/vimary/code-projects/Pilot/examples/my_bot/model]\n"
     ]
    },
    {
     "name": "stdout",
     "output_type": "stream",
     "text": [
      "{\"valid\": {\"eval_examples_count\": 575, \"metrics\": {\"per_item_dialog_accuracy\": 0.4099}, \"time_spent\": \"0:01:22\"}}\n"
     ]
    },
    {
     "name": "stderr",
     "output_type": "stream",
     "text": [
      "2019-09-02 18:26:24.917 INFO in 'deeppavlov.core.data.simple_vocab'['simple_vocab'] at line 112: [loading vocabulary from /home/vimary/code-projects/Pilot/examples/my_bot/word.dict]\n",
      "I0902 18:26:24.917217 139952681506432 simple_vocab.py:112] [loading vocabulary from /home/vimary/code-projects/Pilot/examples/my_bot/word.dict]\n",
      "2019-09-02 18:26:24.918 WARNING in 'deeppavlov.core.models.serializable'['serializable'] at line 47: No load path is set for Sqlite3Database in 'infer' mode. Using save path instead\n",
      "W0902 18:26:24.918635 139952681506432 serializable.py:47] No load path is set for Sqlite3Database in 'infer' mode. Using save path instead\n",
      "2019-09-02 18:26:24.919 INFO in 'deeppavlov.core.data.sqlite_database'['sqlite_database'] at line 66: Loading database from /home/vimary/code-projects/Pilot/examples/my_bot/db.sqlite.\n",
      "I0902 18:26:24.919691 139952681506432 sqlite_database.py:66] Loading database from /home/vimary/code-projects/Pilot/examples/my_bot/db.sqlite.\n",
      "2019-09-02 18:26:25.0 INFO in 'deeppavlov.models.go_bot.network'['network'] at line 161: [loading templates from /home/vimary/code-projects/Pilot/examples/my_data/simple-dstc2-templates.txt]\n",
      "I0902 18:26:25.000345 139952681506432 network.py:161] [loading templates from /home/vimary/code-projects/Pilot/examples/my_data/simple-dstc2-templates.txt]\n",
      "2019-09-02 18:26:25.1 INFO in 'deeppavlov.models.go_bot.network'['network'] at line 164: 46 templates loaded.\n",
      "I0902 18:26:25.001326 139952681506432 network.py:164] 46 templates loaded.\n",
      "2019-09-02 18:26:25.2 INFO in 'deeppavlov.models.go_bot.network'['network'] at line 210: Calculated input size for `GoalOrientedBotNetwork` is 508\n",
      "I0902 18:26:25.002030 139952681506432 network.py:210] Calculated input size for `GoalOrientedBotNetwork` is 508\n"
     ]
    },
    {
     "name": "stdout",
     "output_type": "stream",
     "text": [
      "{\"test\": {\"eval_examples_count\": 576, \"metrics\": {\"per_item_dialog_accuracy\": 0.4115}, \"time_spent\": \"0:01:19\"}}\n"
     ]
    },
    {
     "name": "stderr",
     "output_type": "stream",
     "text": [
      "2019-09-02 18:26:25.631 INFO in 'deeppavlov.models.go_bot.network'['network'] at line 248: [initializing `GoalOrientedBot` from saved]\n",
      "I0902 18:26:25.631606 139952681506432 network.py:248] [initializing `GoalOrientedBot` from saved]\n",
      "2019-09-02 18:26:25.632 INFO in 'deeppavlov.models.go_bot.network'['network'] at line 770: [loading parameters from /home/vimary/code-projects/Pilot/examples/my_bot/model.json]\n",
      "I0902 18:26:25.632694 139952681506432 network.py:770] [loading parameters from /home/vimary/code-projects/Pilot/examples/my_bot/model.json]\n",
      "2019-09-02 18:26:25.635 INFO in 'deeppavlov.core.models.tf_model'['tf_model'] at line 52: [loading model from /home/vimary/code-projects/Pilot/examples/my_bot/model]\n",
      "I0902 18:26:25.635756 139952681506432 tf_model.py:52] [loading model from /home/vimary/code-projects/Pilot/examples/my_bot/model]\n"
     ]
    }
   ],
   "source": [
    "from deeppavlov import train_model\n",
    "\n",
    "gobot_config['train']['batch_size'] = 8 # set batch size\n",
    "gobot_config['train']['max_batches'] = 200 # maximum number of training batches\n",
    "gobot_config['train']['val_every_n_batches'] = 50 # evaluate on full 'valid' split each 50 batches\n",
    "gobot_config['train']['log_every_n_batches'] = 50 # evaluate on 30 batches of 'train' split every 50 batches\n",
    "gobot_config['train']['log_on_k_batches'] = 50\n",
    "\n",
    "train_model(gobot_config);"
   ]
  },
  {
   "cell_type": "markdown",
   "metadata": {},
   "source": [
    "Training takes from 10 to 30 minutes depending on gpu/cpu.\n",
    "\n",
    "See [config doc page](http://docs.deeppavlov.ai/en/master/intro/configuration.html) for advanced configuration of the training process."
   ]
  },
  {
   "cell_type": "markdown",
   "metadata": {},
   "source": [
    "##### Metric scores on valid&test"
   ]
  },
  {
   "cell_type": "markdown",
   "metadata": {},
   "source": [
    "Calculating **accuracy** of trained bot: whether predicted system responses match true responses (full string match)."
   ]
  },
  {
   "cell_type": "code",
   "execution_count": 31,
   "metadata": {
    "scrolled": true
   },
   "outputs": [
    {
     "name": "stderr",
     "output_type": "stream",
     "text": [
      "2019-09-02 18:26:25.672 INFO in 'deeppavlov.dataset_readers.dstc2_reader'['dstc2_reader'] at line 112: [loading dialogs from /home/vimary/code-projects/Pilot/examples/my_data/dstc2-trn.jsonlist]\n",
      "I0902 18:26:25.672325 139952681506432 dstc2_reader.py:112] [loading dialogs from /home/vimary/code-projects/Pilot/examples/my_data/dstc2-trn.jsonlist]\n",
      "2019-09-02 18:26:25.945 INFO in 'deeppavlov.dataset_readers.dstc2_reader'['dstc2_reader'] at line 112: [loading dialogs from /home/vimary/code-projects/Pilot/examples/my_data/dstc2-val.jsonlist]\n",
      "I0902 18:26:25.945016 139952681506432 dstc2_reader.py:112] [loading dialogs from /home/vimary/code-projects/Pilot/examples/my_data/dstc2-val.jsonlist]\n",
      "2019-09-02 18:26:26.13 INFO in 'deeppavlov.dataset_readers.dstc2_reader'['dstc2_reader'] at line 112: [loading dialogs from /home/vimary/code-projects/Pilot/examples/my_data/dstc2-tst.jsonlist]\n",
      "I0902 18:26:26.013795 139952681506432 dstc2_reader.py:112] [loading dialogs from /home/vimary/code-projects/Pilot/examples/my_data/dstc2-tst.jsonlist]\n",
      "2019-09-02 18:26:26.264 INFO in 'deeppavlov.core.data.simple_vocab'['simple_vocab'] at line 112: [loading vocabulary from /home/vimary/code-projects/Pilot/examples/my_bot/word.dict]\n",
      "I0902 18:26:26.264663 139952681506432 simple_vocab.py:112] [loading vocabulary from /home/vimary/code-projects/Pilot/examples/my_bot/word.dict]\n",
      "2019-09-02 18:26:26.266 WARNING in 'deeppavlov.core.models.serializable'['serializable'] at line 47: No load path is set for Sqlite3Database in 'infer' mode. Using save path instead\n",
      "W0902 18:26:26.266370 139952681506432 serializable.py:47] No load path is set for Sqlite3Database in 'infer' mode. Using save path instead\n",
      "2019-09-02 18:26:26.267 INFO in 'deeppavlov.core.data.sqlite_database'['sqlite_database'] at line 66: Loading database from /home/vimary/code-projects/Pilot/examples/my_bot/db.sqlite.\n",
      "I0902 18:26:26.267311 139952681506432 sqlite_database.py:66] Loading database from /home/vimary/code-projects/Pilot/examples/my_bot/db.sqlite.\n",
      "2019-09-02 18:26:26.351 INFO in 'deeppavlov.models.go_bot.network'['network'] at line 161: [loading templates from /home/vimary/code-projects/Pilot/examples/my_data/simple-dstc2-templates.txt]\n",
      "I0902 18:26:26.351014 139952681506432 network.py:161] [loading templates from /home/vimary/code-projects/Pilot/examples/my_data/simple-dstc2-templates.txt]\n",
      "2019-09-02 18:26:26.352 INFO in 'deeppavlov.models.go_bot.network'['network'] at line 164: 46 templates loaded.\n",
      "I0902 18:26:26.352086 139952681506432 network.py:164] 46 templates loaded.\n",
      "2019-09-02 18:26:26.352 INFO in 'deeppavlov.models.go_bot.network'['network'] at line 210: Calculated input size for `GoalOrientedBotNetwork` is 508\n",
      "I0902 18:26:26.352706 139952681506432 network.py:210] Calculated input size for `GoalOrientedBotNetwork` is 508\n",
      "2019-09-02 18:26:26.838 INFO in 'deeppavlov.models.go_bot.network'['network'] at line 248: [initializing `GoalOrientedBot` from saved]\n",
      "I0902 18:26:26.838428 139952681506432 network.py:248] [initializing `GoalOrientedBot` from saved]\n",
      "2019-09-02 18:26:26.839 INFO in 'deeppavlov.models.go_bot.network'['network'] at line 770: [loading parameters from /home/vimary/code-projects/Pilot/examples/my_bot/model.json]\n",
      "I0902 18:26:26.839612 139952681506432 network.py:770] [loading parameters from /home/vimary/code-projects/Pilot/examples/my_bot/model.json]\n",
      "2019-09-02 18:26:26.840 INFO in 'deeppavlov.core.models.tf_model'['tf_model'] at line 52: [loading model from /home/vimary/code-projects/Pilot/examples/my_bot/model]\n",
      "I0902 18:26:26.840973 139952681506432 tf_model.py:52] [loading model from /home/vimary/code-projects/Pilot/examples/my_bot/model]\n"
     ]
    },
    {
     "name": "stdout",
     "output_type": "stream",
     "text": [
      "{\"valid\": {\"eval_examples_count\": 575, \"metrics\": {\"per_item_dialog_accuracy\": 0.4099}, \"time_spent\": \"0:01:22\"}}\n",
      "{\"test\": {\"eval_examples_count\": 576, \"metrics\": {\"per_item_dialog_accuracy\": 0.4115}, \"time_spent\": \"0:01:20\"}}\n"
     ]
    }
   ],
   "source": [
    "from deeppavlov import evaluate_model\n",
    "\n",
    "evaluate_model(gobot_config);"
   ]
  },
  {
   "cell_type": "markdown",
   "metadata": {},
   "source": [
    "With settings of `max_batches=200`, valid accuracy `~ 0.4` and test accuracy is `0.4`."
   ]
  },
  {
   "cell_type": "markdown",
   "metadata": {},
   "source": [
    "##### Chatting with bot"
   ]
  },
  {
   "cell_type": "code",
   "execution_count": 32,
   "metadata": {},
   "outputs": [
    {
     "name": "stderr",
     "output_type": "stream",
     "text": [
      "2019-09-02 18:29:07.670 INFO in 'deeppavlov.core.data.simple_vocab'['simple_vocab'] at line 112: [loading vocabulary from /home/vimary/code-projects/Pilot/examples/my_bot/word.dict]\n",
      "I0902 18:29:07.670491 139952681506432 simple_vocab.py:112] [loading vocabulary from /home/vimary/code-projects/Pilot/examples/my_bot/word.dict]\n",
      "2019-09-02 18:29:07.672 WARNING in 'deeppavlov.core.models.serializable'['serializable'] at line 47: No load path is set for Sqlite3Database in 'infer' mode. Using save path instead\n",
      "W0902 18:29:07.672522 139952681506432 serializable.py:47] No load path is set for Sqlite3Database in 'infer' mode. Using save path instead\n",
      "2019-09-02 18:29:07.673 INFO in 'deeppavlov.core.data.sqlite_database'['sqlite_database'] at line 66: Loading database from /home/vimary/code-projects/Pilot/examples/my_bot/db.sqlite.\n",
      "I0902 18:29:07.673603 139952681506432 sqlite_database.py:66] Loading database from /home/vimary/code-projects/Pilot/examples/my_bot/db.sqlite.\n",
      "2019-09-02 18:29:07.770 INFO in 'deeppavlov.models.go_bot.network'['network'] at line 161: [loading templates from /home/vimary/code-projects/Pilot/examples/my_data/simple-dstc2-templates.txt]\n",
      "I0902 18:29:07.770896 139952681506432 network.py:161] [loading templates from /home/vimary/code-projects/Pilot/examples/my_data/simple-dstc2-templates.txt]\n",
      "2019-09-02 18:29:07.772 INFO in 'deeppavlov.models.go_bot.network'['network'] at line 164: 46 templates loaded.\n",
      "I0902 18:29:07.772241 139952681506432 network.py:164] 46 templates loaded.\n",
      "2019-09-02 18:29:07.773 INFO in 'deeppavlov.models.go_bot.network'['network'] at line 210: Calculated input size for `GoalOrientedBotNetwork` is 508\n",
      "I0902 18:29:07.773486 139952681506432 network.py:210] Calculated input size for `GoalOrientedBotNetwork` is 508\n",
      "2019-09-02 18:29:08.269 INFO in 'deeppavlov.models.go_bot.network'['network'] at line 248: [initializing `GoalOrientedBot` from saved]\n",
      "I0902 18:29:08.269475 139952681506432 network.py:248] [initializing `GoalOrientedBot` from saved]\n",
      "2019-09-02 18:29:08.270 INFO in 'deeppavlov.models.go_bot.network'['network'] at line 770: [loading parameters from /home/vimary/code-projects/Pilot/examples/my_bot/model.json]\n",
      "I0902 18:29:08.270540 139952681506432 network.py:770] [loading parameters from /home/vimary/code-projects/Pilot/examples/my_bot/model.json]\n",
      "2019-09-02 18:29:08.272 INFO in 'deeppavlov.core.models.tf_model'['tf_model'] at line 52: [loading model from /home/vimary/code-projects/Pilot/examples/my_bot/model]\n",
      "I0902 18:29:08.272116 139952681506432 tf_model.py:52] [loading model from /home/vimary/code-projects/Pilot/examples/my_bot/model]\n"
     ]
    }
   ],
   "source": [
    "from deeppavlov import build_model\n",
    "\n",
    "bot = build_model(gobot_config)"
   ]
  },
  {
   "cell_type": "code",
   "execution_count": 33,
   "metadata": {},
   "outputs": [
    {
     "name": "stderr",
     "output_type": "stream",
     "text": [
      "2019-09-02 18:29:08.395 INFO in 'deeppavlov.models.go_bot.network'['network'] at line 505: Made api_call with {'food': 'chinese'}, got 16 results.\n",
      "I0902 18:29:08.395405 139952681506432 network.py:505] Made api_call with {'food': 'chinese'}, got 16 results.\n"
     ]
    },
    {
     "data": {
      "text/plain": [
       "['The lucky star serves chinese food.']"
      ]
     },
     "execution_count": 33,
     "metadata": {},
     "output_type": "execute_result"
    }
   ],
   "source": [
    "bot(['hi, want chinee food, can you suggest a place to go?'])"
   ]
  },
  {
   "cell_type": "code",
   "execution_count": 34,
   "metadata": {},
   "outputs": [
    {
     "data": {
      "text/plain": [
       "['Sure, the lucky star is on cambridge leisure park clifton way cherry hinton.']"
      ]
     },
     "execution_count": 34,
     "metadata": {},
     "output_type": "execute_result"
    }
   ],
   "source": [
    "bot(['ok, i want ther address'])"
   ]
  },
  {
   "cell_type": "code",
   "execution_count": 35,
   "metadata": {},
   "outputs": [
    {
     "name": "stderr",
     "output_type": "stream",
     "text": [
      "2019-09-02 18:29:08.490 INFO in 'deeppavlov.models.go_bot.network'['network'] at line 505: Made api_call with {'food': 'french', 'area': 'centre'}, got 1 results.\n",
      "I0902 18:29:08.490886 139952681506432 network.py:505] Made api_call with {'food': 'french', 'area': 'centre'}, got 1 results.\n"
     ]
    },
    {
     "data": {
      "text/plain": [
       "['Cote is a nice place in the centre of town serving tasty french food.']"
      ]
     },
     "execution_count": 35,
     "metadata": {},
     "output_type": "execute_result"
    }
   ],
   "source": [
    "bot(['now i want french food in the center of town'])"
   ]
  },
  {
   "cell_type": "code",
   "execution_count": 36,
   "metadata": {},
   "outputs": [
    {
     "data": {
      "text/plain": [
       "['Sure, cote is on bridge street city centre.']"
      ]
     },
     "execution_count": 36,
     "metadata": {},
     "output_type": "execute_result"
    }
   ],
   "source": [
    "bot(['thanks, give me their address too'])"
   ]
  },
  {
   "cell_type": "code",
   "execution_count": 37,
   "metadata": {},
   "outputs": [
    {
     "data": {
      "text/plain": [
       "['The post code of cote is c.b 2, 1 u.f.']"
      ]
     },
     "execution_count": 37,
     "metadata": {},
     "output_type": "execute_result"
    }
   ],
   "source": [
    "bot(['and post code'])"
   ]
  },
  {
   "cell_type": "code",
   "execution_count": 38,
   "metadata": {},
   "outputs": [
    {
     "data": {
      "text/plain": [
       "['You are welcome!']"
      ]
     },
     "execution_count": 38,
     "metadata": {},
     "output_type": "execute_result"
    }
   ],
   "source": [
    "bot(['bye'])"
   ]
  },
  {
   "cell_type": "code",
   "execution_count": 39,
   "metadata": {},
   "outputs": [],
   "source": [
    "bot.reset()"
   ]
  },
  {
   "cell_type": "code",
   "execution_count": 40,
   "metadata": {},
   "outputs": [
    {
     "data": {
      "text/plain": [
       "['What kind of food would you like?']"
      ]
     },
     "execution_count": 40,
     "metadata": {},
     "output_type": "execute_result"
    }
   ],
   "source": [
    "bot(['hi, is there any cheap restaurant?'])"
   ]
  },
  {
   "cell_type": "code",
   "execution_count": null,
   "metadata": {},
   "outputs": [],
   "source": []
  }
 ],
 "metadata": {
  "kernelspec": {
   "display_name": "Python (dp_env)",
   "language": "python",
   "name": "dp_env"
  },
  "language_info": {
   "codemirror_mode": {
    "name": "ipython",
    "version": 3
   },
   "file_extension": ".py",
   "mimetype": "text/x-python",
   "name": "python",
   "nbconvert_exporter": "python",
   "pygments_lexer": "ipython3",
   "version": "3.7.3"
  }
 },
 "nbformat": 4,
 "nbformat_minor": 2
}
