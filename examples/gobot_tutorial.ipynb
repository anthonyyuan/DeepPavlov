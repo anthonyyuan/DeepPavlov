{
 "cells": [
  {
   "cell_type": "markdown",
   "metadata": {},
   "source": [
    "## You can also run the notebook in [COLAB](https://colab.research.google.com/github/deepmipt/DeepPavlov/blob/master/examples/gobot_tutorial.ipynb)."
   ]
  },
  {
   "cell_type": "code",
   "execution_count": null,
   "metadata": {},
   "outputs": [],
   "source": [
    "!pip install deeppavlov"
   ]
  },
  {
   "cell_type": "markdown",
   "metadata": {},
   "source": [
    "## Data Preparation"
   ]
  },
  {
   "cell_type": "code",
   "execution_count": 1,
   "metadata": {},
   "outputs": [
    {
     "name": "stderr",
     "output_type": "stream",
     "text": [
      "2019-08-15 18:54:45.171 INFO in 'deeppavlov.dataset_readers.dstc2_reader'['dstc2_reader'] at line 269: [downloading data from http://files.deeppavlov.ai/datasets/simple_dstc2.tar.gz to my_data]\n",
      "2019-08-15 18:54:45.698 INFO in 'deeppavlov.core.data.utils'['utils'] at line 63: Downloading from http://files.deeppavlov.ai/datasets/simple_dstc2.tar.gz to my_data/simple_dstc2.tar.gz\n",
      "100%|██████████| 497k/497k [00:00<00:00, 54.2MB/s]\n",
      "2019-08-15 18:54:45.716 INFO in 'deeppavlov.core.data.utils'['utils'] at line 201: Extracting my_data/simple_dstc2.tar.gz archive into my_data\n",
      "2019-08-15 18:54:45.741 INFO in 'deeppavlov.dataset_readers.dstc2_reader'['dstc2_reader'] at line 289: [loading dialogs from my_data/simple-dstc2-trn.json]\n",
      "2019-08-15 18:54:45.810 INFO in 'deeppavlov.dataset_readers.dstc2_reader'['dstc2_reader'] at line 289: [loading dialogs from my_data/simple-dstc2-val.json]\n",
      "2019-08-15 18:54:45.859 INFO in 'deeppavlov.dataset_readers.dstc2_reader'['dstc2_reader'] at line 289: [loading dialogs from my_data/simple-dstc2-tst.json]\n",
      "2019-08-15 18:54:45.891 INFO in 'deeppavlov.dataset_readers.dstc2_reader'['dstc2_reader'] at line 281: There are 9115 samples in train split.\n",
      "2019-08-15 18:54:45.892 INFO in 'deeppavlov.dataset_readers.dstc2_reader'['dstc2_reader'] at line 282: There are 6231 samples in valid split.\n",
      "2019-08-15 18:54:45.892 INFO in 'deeppavlov.dataset_readers.dstc2_reader'['dstc2_reader'] at line 283: There are 6345 samples in test split.\n"
     ]
    }
   ],
   "source": [
    "from deeppavlov.dataset_readers.dstc2_reader import SimpleDSTC2DatasetReader\n",
    "\n",
    "data = SimpleDSTC2DatasetReader().read('my_data')"
   ]
  },
  {
   "cell_type": "code",
   "execution_count": 2,
   "metadata": {},
   "outputs": [
    {
     "name": "stdout",
     "output_type": "stream",
     "text": [
      "simple-dstc2-templates.txt  simple-dstc2-tst.json\r\n",
      "simple-dstc2-trn.json\t    simple-dstc2-val.json\r\n"
     ]
    }
   ],
   "source": [
    "!ls my_data"
   ]
  },
  {
   "cell_type": "markdown",
   "metadata": {},
   "source": [
    "The input file format of each of `simple-dstc2-trn.json`, `simple-dstc2-val.json` and `simple-dstc2-tst.json` is the following:"
   ]
  },
  {
   "cell_type": "code",
   "execution_count": 3,
   "metadata": {},
   "outputs": [
    {
     "name": "stdout",
     "output_type": "stream",
     "text": [
      "[\r\n",
      "  [\r\n",
      "    {\r\n",
      "      \"speaker\": 2,\r\n",
      "      \"text\": \"Hello, welcome to the Cambridge restaurant system. You can ask for restaurants by area, price range or food type. How may I help you?\",\r\n",
      "      \"slots\": [],\r\n",
      "      \"act\": \"welcomemsg\"\r\n",
      "    },\r\n",
      "    {\r\n",
      "      \"speaker\": 1,\r\n",
      "      \"text\": \"cheap restaurant\",\r\n",
      "      \"slots\": [\r\n",
      "        [\r\n",
      "          \"pricerange\",\r\n",
      "          \"cheap\"\r\n",
      "        ]\r\n",
      "      ]\r\n",
      "    },\r\n"
     ]
    }
   ],
   "source": [
    "!head -n 18 my_data/simple-dstc2-trn.json"
   ]
  },
  {
   "cell_type": "code",
   "execution_count": 4,
   "metadata": {
    "scrolled": true
   },
   "outputs": [],
   "source": [
    "from deeppavlov.dataset_iterators.dialog_iterator import DialogDatasetIterator\n",
    "\n",
    "iterator = DialogDatasetIterator(data)"
   ]
  },
  {
   "cell_type": "markdown",
   "metadata": {},
   "source": [
    "You can now iterate over batches of preprocessed DSTC2 dialogs:"
   ]
  },
  {
   "cell_type": "code",
   "execution_count": 5,
   "metadata": {},
   "outputs": [
    {
     "name": "stdout",
     "output_type": "stream",
     "text": [
      "User utterances:\n",
      "----------------\n",
      "\n",
      "[   {'prev_resp_act': None, 'text': ''},\n",
      "    {   'prev_resp_act': 'welcomemsg',\n",
      "        'text': 'i would like to find a restaurant in the north part of town '\n",
      "                'that serves kosher food'},\n",
      "    {   'db_result': {},\n",
      "        'prev_resp_act': 'api_call',\n",
      "        'text': 'i would like to find a restaurant in the north part of town '\n",
      "                'that serves kosher food'},\n",
      "    {'prev_resp_act': 'canthelp_area_food', 'text': 'italian food'},\n",
      "    {   'db_result': {   'addr': '20 milton road chesterton',\n",
      "                         'area': 'north',\n",
      "                         'food': 'italian',\n",
      "                         'name': 'da vinci pizzeria',\n",
      "                         'phone': '01223 351707',\n",
      "                         'postcode': 'c.b 4, 1 j.y',\n",
      "                         'pricerange': 'cheap'},\n",
      "        'prev_resp_act': 'api_call',\n",
      "        'text': 'italian food'},\n",
      "    {   'prev_resp_act': 'inform_area+inform_food+offer_name',\n",
      "        'text': 'can i have their address and phone number'},\n",
      "    {   'prev_resp_act': 'inform_phone+offer_name',\n",
      "        'text': 'how about the address'},\n",
      "    {   'prev_resp_act': 'inform_addr+offer_name',\n",
      "        'text': 'great thank you good bye'}]\n",
      "\n",
      "System responses:\n",
      "-----------------\n",
      "\n",
      "[   {   'act': 'welcomemsg',\n",
      "        'text': 'Hello, welcome to the Cambridge restaurant system. You can '\n",
      "                'ask for restaurants by area, price range or food type. How '\n",
      "                'may I help you?'},\n",
      "    {   'act': 'api_call',\n",
      "        'text': 'api_call area=\"north\" food=\"kosher\" pricerange=\"dontcare\"'},\n",
      "    {   'act': 'canthelp_area_food',\n",
      "        'text': 'Sorry there is no kosher restaurant in the north of town.'},\n",
      "    {   'act': 'api_call',\n",
      "        'text': 'api_call area=\"north\" food=\"italian\" pricerange=\"dontcare\"'},\n",
      "    {   'act': 'inform_area+inform_food+offer_name',\n",
      "        'text': 'Da vinci pizzeria is a nice place in the north of town '\n",
      "                'serving tasty italian food.'},\n",
      "    {   'act': 'inform_phone+offer_name',\n",
      "        'text': 'The phone number of da vinci pizzeria is 01223 351707.'},\n",
      "    {   'act': 'inform_addr+offer_name',\n",
      "        'text': 'Sure, da vinci pizzeria is on 20 Milton Road Chesterton.'},\n",
      "    {'act': 'bye', 'text': 'You are welcome!'}]\n"
     ]
    }
   ],
   "source": [
    "from pprint import pprint\n",
    "\n",
    "for dialog in iterator.gen_batches(batch_size=1, data_type='train'):\n",
    "    turns_x, turns_y = dialog\n",
    "    \n",
    "    print(\"User utterances:\\n----------------\\n\")\n",
    "    pprint(turns_x[0], indent=4)\n",
    "    print(\"\\nSystem responses:\\n-----------------\\n\")\n",
    "    pprint(turns_y[0], indent=4)\n",
    "    \n",
    "    break"
   ]
  },
  {
   "cell_type": "markdown",
   "metadata": {},
   "source": [
    "## 1. Build database of items"
   ]
  },
  {
   "cell_type": "markdown",
   "metadata": {},
   "source": [
    "For a valid goal-oriented bot there should be a database of relevant items: restarants' information for the task of booking a restaurant, hotels' info for hotel booking etc.\n",
    "\n",
    "    >> database([{'pricerange': 'cheap', 'area': 'south'}])\n",
    "    \n",
    "    Out[1]: \n",
    "        [[{'name': 'the lucky star',\n",
    "           'food': 'chinese',\n",
    "           'pricerange': 'cheap',\n",
    "           'area': 'south',\n",
    "           'addr': 'cambridge leisure park clifton way cherry hinton',\n",
    "           'phone': '01223 244277',\n",
    "           'postcode': 'c.b 1, 7 d.y'},\n",
    "          {'name': 'nandos',\n",
    "           'food': 'portuguese',\n",
    "           'pricerange': 'cheap',\n",
    "           'area': 'south',\n",
    "           'addr': 'cambridge leisure park clifton way',\n",
    "           'phone': '01223 327908',\n",
    "           'postcode': 'c.b 1, 7 d.y'}]]"
   ]
  },
  {
   "cell_type": "code",
   "execution_count": 6,
   "metadata": {},
   "outputs": [
    {
     "name": "stderr",
     "output_type": "stream",
     "text": [
      "2019-08-15 18:54:49.128 WARNING in 'deeppavlov.core.models.serializable'['serializable'] at line 47: No load path is set for Sqlite3Database in 'infer' mode. Using save path instead\n",
      "2019-08-15 18:54:49.129 INFO in 'deeppavlov.core.data.sqlite_database'['sqlite_database'] at line 67: Initializing empty database on /home/vimary/code-projects/Pilot/examples/my_bot/db.sqlite.\n"
     ]
    }
   ],
   "source": [
    "from deeppavlov.core.data.sqlite_database import Sqlite3Database\n",
    "\n",
    "database = Sqlite3Database(table_name=\"mytable\",\n",
    "                           primary_keys=[\"name\"],\n",
    "                           keys=[\"name\", \"food\", \"pricerange\", \"area\", \"addr\", \"phone\", \"postcode\"],\n",
    "                           save_path=\"my_bot/db.sqlite\")"
   ]
  },
  {
   "cell_type": "markdown",
   "metadata": {},
   "source": [
    "Let's find all db_result request results and add it to our database of restaurants:"
   ]
  },
  {
   "cell_type": "code",
   "execution_count": 7,
   "metadata": {},
   "outputs": [
    {
     "name": "stderr",
     "output_type": "stream",
     "text": [
      "2019-08-15 18:54:50.67 INFO in 'deeppavlov.core.data.sqlite_database'['sqlite_database'] at line 138: Created table with keys {'name': 'text', 'food': 'text', 'pricerange': 'text', 'area': 'text', 'addr': 'text', 'phone': 'text', 'postcode': 'text'}.\n"
     ]
    },
    {
     "name": "stdout",
     "output_type": "stream",
     "text": [
      "Adding 3016 items.\n"
     ]
    }
   ],
   "source": [
    "db_results = []\n",
    "\n",
    "for dialog in iterator.gen_batches(batch_size=1, data_type='all'):\n",
    "    turns_x, turns_y = dialog\n",
    "    db_results.extend(x['db_result'] for x in turns_x[0] if x.get('db_result'))\n",
    "\n",
    "print(f\"Adding {len(db_results)} items.\")\n",
    "if db_results:\n",
    "    database.fit(db_results)"
   ]
  },
  {
   "cell_type": "markdown",
   "metadata": {},
   "source": [
    "We can now play with the database and make requests to it:"
   ]
  },
  {
   "cell_type": "code",
   "execution_count": 8,
   "metadata": {},
   "outputs": [
    {
     "data": {
      "text/plain": [
       "[[{'name': 'nandos',\n",
       "   'food': 'portuguese',\n",
       "   'pricerange': 'cheap',\n",
       "   'area': 'south',\n",
       "   'addr': 'cambridge leisure park clifton way',\n",
       "   'phone': '01223 327908',\n",
       "   'postcode': 'c.b 1, 7 d.y'},\n",
       "  {'name': 'the lucky star',\n",
       "   'food': 'chinese',\n",
       "   'pricerange': 'cheap',\n",
       "   'area': 'south',\n",
       "   'addr': 'cambridge leisure park clifton way cherry hinton',\n",
       "   'phone': '01223 244277',\n",
       "   'postcode': 'c.b 1, 7 d.y'}]]"
      ]
     },
     "execution_count": 8,
     "metadata": {},
     "output_type": "execute_result"
    }
   ],
   "source": [
    "database([{'pricerange': 'cheap', 'area': 'south'}])"
   ]
  },
  {
   "cell_type": "code",
   "execution_count": 9,
   "metadata": {},
   "outputs": [
    {
     "name": "stdout",
     "output_type": "stream",
     "text": [
      "db.sqlite\r\n"
     ]
    }
   ],
   "source": [
    "!ls my_bot"
   ]
  },
  {
   "cell_type": "markdown",
   "metadata": {},
   "source": [
    "## 2. Build Slot Filler\n",
    "\n",
    "Slot Filler is component that inputs text and outputs dictionary of slot names and their values:\n",
    "\n",
    "    >> slot_filler(['I would like some chineese food'])\n",
    "    \n",
    "    Out[1]: [{'food': 'chinese'}]\n",
    "\n",
    "To implement a slot filler you need to provide\n",
    "    \n",
    " - **slot types**\n",
    " - all possible **slot values**\n",
    " - optionally, it will be good to provide examples of mentions for every value of each slot\n",
    " \n",
    "The data should be in `slot_vals.json` file with the following format:\n",
    "\n",
    "    {\n",
    "        'food': {\n",
    "            'chinese': ['chinese', 'chineese', 'chines'],\n",
    "            'french': ['french', 'freench'],\n",
    "            'dontcare': ['any food', 'any type of food']\n",
    "        }\n",
    "    }\n",
    "                \n",
    "\n",
    "Let's use a simple non-trainable slot filler that relies on levenshtein distance:"
   ]
  },
  {
   "cell_type": "markdown",
   "metadata": {},
   "source": [
    "### Non-trainable slot filler"
   ]
  },
  {
   "cell_type": "code",
   "execution_count": 10,
   "metadata": {},
   "outputs": [
    {
     "name": "stderr",
     "output_type": "stream",
     "text": [
      "2019-08-15 18:54:52.686 INFO in 'deeppavlov.core.data.utils'['utils'] at line 63: Downloading from http://files.deeppavlov.ai/deeppavlov_data/dstc_slot_vals.tar.gz to my_bot/slotfill/dstc_slot_vals.tar.gz\n",
      "100%|██████████| 1.62k/1.62k [00:00<00:00, 9.24MB/s]\n",
      "2019-08-15 18:54:52.688 INFO in 'deeppavlov.core.data.utils'['utils'] at line 201: Extracting my_bot/slotfill/dstc_slot_vals.tar.gz archive into my_bot/slotfill\n"
     ]
    }
   ],
   "source": [
    "from deeppavlov.download import download_decompress\n",
    "\n",
    "download_decompress(url='http://files.deeppavlov.ai/deeppavlov_data/dstc_slot_vals.tar.gz',\n",
    "                    download_path='my_bot/slotfill')"
   ]
  },
  {
   "cell_type": "code",
   "execution_count": 11,
   "metadata": {},
   "outputs": [
    {
     "name": "stdout",
     "output_type": "stream",
     "text": [
      "dstc_slot_vals.json\r\n"
     ]
    }
   ],
   "source": [
    "!ls my_bot/slotfill"
   ]
  },
  {
   "cell_type": "code",
   "execution_count": 12,
   "metadata": {},
   "outputs": [
    {
     "name": "stdout",
     "output_type": "stream",
     "text": [
      "{\r\n",
      "    \"food\": {\r\n",
      "        \"caribbean\": [\r\n",
      "            \"carraibean\",\r\n",
      "            \"carribean\",\r\n",
      "            \"caribbean\"\r\n",
      "        ],\r\n",
      "        \"kosher\": [\r\n",
      "            \"kosher\"\r\n",
      "        ],\r\n"
     ]
    }
   ],
   "source": [
    "!head -n 10 my_bot/slotfill/dstc_slot_vals.json"
   ]
  },
  {
   "cell_type": "markdown",
   "metadata": {},
   "source": [
    "Let's check performance of our slot filler:"
   ]
  },
  {
   "cell_type": "code",
   "execution_count": 13,
   "metadata": {},
   "outputs": [],
   "source": [
    "from deeppavlov import configs\n",
    "from deeppavlov.core.common.file import read_json\n",
    "\n",
    "\n",
    "slotfill_raw_config = read_json(configs.ner.slotfill_dstc2_raw)"
   ]
  },
  {
   "cell_type": "code",
   "execution_count": 14,
   "metadata": {},
   "outputs": [],
   "source": [
    "slotfill_raw_config['metadata']['variables']['DATA_PATH'] = 'my_data'\n",
    "slotfill_raw_config['metadata']['variables']['SLOT_VALS_PATH'] = 'my_bot/slotfill/dstc_slot_vals.json'"
   ]
  },
  {
   "cell_type": "code",
   "execution_count": 15,
   "metadata": {},
   "outputs": [
    {
     "name": "stderr",
     "output_type": "stream",
     "text": [
      "2019-08-15 18:54:55.258 INFO in 'deeppavlov.dataset_readers.dstc2_reader'['dstc2_reader'] at line 95: [downloading data from http://files.deeppavlov.ai/datasets/dstc2_v2.tar.gz to /home/vimary/code-projects/Pilot/examples/my_data]\n",
      "2019-08-15 18:54:55.287 INFO in 'deeppavlov.core.data.utils'['utils'] at line 63: Downloading from http://files.deeppavlov.ai/datasets/dstc2_v2.tar.gz to /home/vimary/code-projects/Pilot/examples/my_data/dstc2_v2.tar.gz\n",
      "100%|██████████| 506k/506k [00:00<00:00, 55.1MB/s]\n",
      "2019-08-15 18:54:55.299 INFO in 'deeppavlov.core.data.utils'['utils'] at line 201: Extracting /home/vimary/code-projects/Pilot/examples/my_data/dstc2_v2.tar.gz archive into /home/vimary/code-projects/Pilot/examples/my_data\n",
      "2019-08-15 18:54:55.329 INFO in 'deeppavlov.dataset_readers.dstc2_reader'['dstc2_reader'] at line 112: [loading dialogs from /home/vimary/code-projects/Pilot/examples/my_data/dstc2-trn.jsonlist]\n",
      "2019-08-15 18:54:55.469 INFO in 'deeppavlov.dataset_readers.dstc2_reader'['dstc2_reader'] at line 112: [loading dialogs from /home/vimary/code-projects/Pilot/examples/my_data/dstc2-val.jsonlist]\n",
      "2019-08-15 18:54:55.585 INFO in 'deeppavlov.dataset_readers.dstc2_reader'['dstc2_reader'] at line 112: [loading dialogs from /home/vimary/code-projects/Pilot/examples/my_data/dstc2-tst.jsonlist]\n",
      "[nltk_data] Downloading package punkt to /home/vimary/nltk_data...\n",
      "[nltk_data]   Package punkt is already up-to-date!\n",
      "[nltk_data] Downloading package stopwords to /home/vimary/nltk_data...\n",
      "[nltk_data]   Package stopwords is already up-to-date!\n",
      "[nltk_data] Downloading package perluniprops to\n",
      "[nltk_data]     /home/vimary/nltk_data...\n",
      "[nltk_data]   Package perluniprops is already up-to-date!\n",
      "[nltk_data] Downloading package nonbreaking_prefixes to\n",
      "[nltk_data]     /home/vimary/nltk_data...\n",
      "[nltk_data]   Package nonbreaking_prefixes is already up-to-date!\n"
     ]
    },
    {
     "name": "stdout",
     "output_type": "stream",
     "text": [
      "{\"valid\": {\"eval_examples_count\": 1444, \"metrics\": {\"slots_accuracy\": 0.9307}, \"time_spent\": \"0:00:27\"}}\n",
      "{\"test\": {\"eval_examples_count\": 1386, \"metrics\": {\"slots_accuracy\": 0.9481}, \"time_spent\": \"0:00:26\"}}\n"
     ]
    }
   ],
   "source": [
    "from deeppavlov import evaluate_model\n",
    "\n",
    "slotfill_raw = evaluate_model(slotfill_raw_config);"
   ]
  },
  {
   "cell_type": "markdown",
   "metadata": {},
   "source": [
    "We've got slot accuracy of **93% on valid** set and **94% on test** set.\n",
    "\n",
    "Let's interact with it:"
   ]
  },
  {
   "cell_type": "code",
   "execution_count": 16,
   "metadata": {},
   "outputs": [],
   "source": [
    "from deeppavlov import build_model\n",
    "\n",
    "slotfill_raw = build_model(slotfill_raw_config)"
   ]
  },
  {
   "cell_type": "code",
   "execution_count": 17,
   "metadata": {},
   "outputs": [
    {
     "data": {
      "text/plain": [
       "[{'food': 'chinese', 'pricerange': 'cheap'}]"
      ]
     },
     "execution_count": 17,
     "metadata": {},
     "output_type": "execute_result"
    }
   ],
   "source": [
    "slotfill_raw(['i want cheap chinee food'])"
   ]
  },
  {
   "cell_type": "markdown",
   "metadata": {},
   "source": [
    "Saving slotfill config file to disk (we will require it's path later):"
   ]
  },
  {
   "cell_type": "code",
   "execution_count": 18,
   "metadata": {},
   "outputs": [],
   "source": [
    "import json\n",
    "\n",
    "json.dump(slotfill_raw_config, open('my_bot/slotfill_raw_config.json', 'wt'))"
   ]
  },
  {
   "cell_type": "code",
   "execution_count": 19,
   "metadata": {},
   "outputs": [
    {
     "name": "stdout",
     "output_type": "stream",
     "text": [
      "db.sqlite  slotfill  slotfill_raw_config.json\r\n"
     ]
    }
   ],
   "source": [
    "!ls my_bot"
   ]
  },
  {
   "cell_type": "markdown",
   "metadata": {},
   "source": [
    "## Train bot"
   ]
  },
  {
   "cell_type": "code",
   "execution_count": 20,
   "metadata": {},
   "outputs": [],
   "source": [
    "from deeppavlov import configs\n",
    "from deeppavlov.core.common.file import read_json\n",
    "\n",
    "gobot_config = read_json(configs.go_bot.gobot_dstc2)"
   ]
  },
  {
   "cell_type": "markdown",
   "metadata": {},
   "source": [
    "**Configure** bot to use our built **database**:"
   ]
  },
  {
   "cell_type": "code",
   "execution_count": 21,
   "metadata": {},
   "outputs": [],
   "source": [
    "gobot_config['chainer']['pipe'][-1]['database'] = {\n",
    "    'class_name': 'sqlite_database',\n",
    "    'table_name': 'mytable',\n",
    "    'primary_keys': [\"name\"],\n",
    "    'keys': [\"name\", \"food\", \"pricerange\", \"area\", \"addr\", \"phone\", \"postcode\"],\n",
    "    'save_path': 'my_bot/db.sqlite'\n",
    "}"
   ]
  },
  {
   "cell_type": "markdown",
   "metadata": {},
   "source": [
    "**Configure** bot to use levenshtein distance based **slot filler**:"
   ]
  },
  {
   "cell_type": "code",
   "execution_count": 22,
   "metadata": {},
   "outputs": [],
   "source": [
    "gobot_config['chainer']['pipe'][-1]['slot_filler']['config_path'] = 'my_bot/slotfill_raw_config.json'\n",
    "\n",
    "gobot_config['chainer']['pipe'][-1]['tracker']['slot_names'] = \\\n",
    "    ['pricerange', 'this', 'area', 'food']"
   ]
  },
  {
   "cell_type": "markdown",
   "metadata": {},
   "source": [
    "**Configure** bot to use your **response templates**.\n",
    "\n",
    "Templates should be in the format `<act>TAB<template>`, where `<act>` is action label and `<template>` is a corresponding text response. Text response might contain slot type names, every `#slot_type` will be filled with the slot value from the dialogue state."
   ]
  },
  {
   "cell_type": "code",
   "execution_count": 23,
   "metadata": {},
   "outputs": [
    {
     "name": "stdout",
     "output_type": "stream",
     "text": [
      "api_call\tapi_call area=\"#area\" food=\"#food\" pricerange=\"#pricerange\"\r\n",
      "bye\tYou are welcome!\r\n",
      "canthear\tSorry, I can't hear you.\r\n",
      "canthelp_area\tI'm sorry but there is no #area american restaurant in the #area of town.\r\n",
      "canthelp_area_food\tSorry there is no #food restaurant in the #area of town.\r\n"
     ]
    }
   ],
   "source": [
    "!head my_data/simple-dstc2-templates.txt -n 5"
   ]
  },
  {
   "cell_type": "code",
   "execution_count": 24,
   "metadata": {},
   "outputs": [],
   "source": [
    "gobot_config['chainer']['pipe'][-1]['template_type'] = 'DefaultTemplate'\n",
    "gobot_config['chainer']['pipe'][-1]['template_path'] = 'my_data/simple-dstc2-templates.txt'"
   ]
  },
  {
   "cell_type": "markdown",
   "metadata": {},
   "source": [
    "You can use a simple **bag-of-words as embedder** (by default):"
   ]
  },
  {
   "cell_type": "code",
   "execution_count": 25,
   "metadata": {},
   "outputs": [],
   "source": [
    "gobot_config['chainer']['pipe'][-1]['embedder'] = None"
   ]
  },
  {
   "cell_type": "markdown",
   "metadata": {},
   "source": [
    "Specify train/valid/test **data path** and **path to save** the final bot model:"
   ]
  },
  {
   "cell_type": "code",
   "execution_count": 26,
   "metadata": {},
   "outputs": [],
   "source": [
    "gobot_config['metadata']['variables']['DATA_PATH'] = 'my_data'\n",
    "\n",
    "gobot_config['metadata']['variables']['MODEL_PATH'] = 'my_bot'"
   ]
  },
  {
   "cell_type": "markdown",
   "metadata": {},
   "source": [
    "##### Training policy network"
   ]
  },
  {
   "cell_type": "code",
   "execution_count": 27,
   "metadata": {},
   "outputs": [
    {
     "name": "stderr",
     "output_type": "stream",
     "text": [
      "2019-08-15 18:56:34.627 INFO in 'deeppavlov.dataset_readers.dstc2_reader'['dstc2_reader'] at line 112: [loading dialogs from /home/vimary/code-projects/Pilot/examples/my_data/dstc2-trn.jsonlist]\n",
      "2019-08-15 18:56:34.821 INFO in 'deeppavlov.dataset_readers.dstc2_reader'['dstc2_reader'] at line 112: [loading dialogs from /home/vimary/code-projects/Pilot/examples/my_data/dstc2-val.jsonlist]\n",
      "2019-08-15 18:56:34.969 INFO in 'deeppavlov.dataset_readers.dstc2_reader'['dstc2_reader'] at line 112: [loading dialogs from /home/vimary/code-projects/Pilot/examples/my_data/dstc2-tst.jsonlist]\n",
      "2019-08-15 18:56:35.274 INFO in 'deeppavlov.core.data.simple_vocab'['simple_vocab'] at line 98: [saving vocabulary to /home/vimary/code-projects/Pilot/examples/my_bot/word.dict]\n",
      "WARNING: Logging before flag parsing goes to stderr.\n",
      "W0815 18:56:36.276948 140357696087680 deprecation_wrapper.py:119] From /home/vimary/code-projects/Pilot/deeppavlov/core/models/tf_model.py:38: The name tf.Session is deprecated. Please use tf.compat.v1.Session instead.\n",
      "\n",
      "W0815 18:56:36.277759 140357696087680 deprecation_wrapper.py:119] From /home/vimary/code-projects/Pilot/deeppavlov/core/models/tf_model.py:223: The name tf.placeholder is deprecated. Please use tf.compat.v1.placeholder instead.\n",
      "\n",
      "W0815 18:56:36.278152 140357696087680 deprecation_wrapper.py:119] From /home/vimary/code-projects/Pilot/deeppavlov/core/models/tf_model.py:223: The name tf.train.Optimizer is deprecated. Please use tf.compat.v1.train.Optimizer instead.\n",
      "\n",
      "2019-08-15 18:56:36.279 WARNING in 'deeppavlov.core.models.serializable'['serializable'] at line 50: No load path is set for Sqlite3Database!\n",
      "W0815 18:56:36.279500 140357696087680 serializable.py:50] No load path is set for Sqlite3Database!\n",
      "2019-08-15 18:56:36.280 INFO in 'deeppavlov.core.data.sqlite_database'['sqlite_database'] at line 63: Loading database from /home/vimary/code-projects/Pilot/examples/my_bot/db.sqlite.\n",
      "I0815 18:56:36.280518 140357696087680 sqlite_database.py:63] Loading database from /home/vimary/code-projects/Pilot/examples/my_bot/db.sqlite.\n",
      "Using TensorFlow backend.\n",
      "W0815 18:56:36.508538 140357696087680 deprecation_wrapper.py:119] From /home/vimary/code-projects/Pilot/deeppavlov/core/common/registry.py:40: The name tf.train.AdamOptimizer is deprecated. Please use tf.compat.v1.train.AdamOptimizer instead.\n",
      "\n",
      "W0815 18:56:36.509062 140357696087680 deprecation_wrapper.py:119] From /home/vimary/code-projects/Pilot/deeppavlov/core/models/tf_model.py:195: The name tf.train.Optimizer is deprecated. Please use tf.compat.v1.train.Optimizer instead.\n",
      "\n",
      "2019-08-15 18:56:36.514 INFO in 'deeppavlov.models.go_bot.network'['network'] at line 161: [loading templates from /home/vimary/code-projects/Pilot/examples/my_data/simple-dstc2-templates.txt]\n",
      "I0815 18:56:36.514795 140357696087680 network.py:161] [loading templates from /home/vimary/code-projects/Pilot/examples/my_data/simple-dstc2-templates.txt]\n",
      "2019-08-15 18:56:36.515 INFO in 'deeppavlov.models.go_bot.network'['network'] at line 164: 46 templates loaded.\n",
      "I0815 18:56:36.515886 140357696087680 network.py:164] 46 templates loaded.\n",
      "2019-08-15 18:56:36.516 INFO in 'deeppavlov.models.go_bot.network'['network'] at line 210: Calculated input size for `GoalOrientedBotNetwork` is 508\n",
      "I0815 18:56:36.516559 140357696087680 network.py:210] Calculated input size for `GoalOrientedBotNetwork` is 508\n",
      "W0815 18:56:36.517249 140357696087680 deprecation_wrapper.py:119] From /home/vimary/code-projects/Pilot/deeppavlov/models/go_bot/network.py:649: The name tf.placeholder_with_default is deprecated. Please use tf.compat.v1.placeholder_with_default instead.\n",
      "\n",
      "W0815 18:56:36.528613 140357696087680 deprecation_wrapper.py:119] From /home/vimary/code-projects/Pilot/deeppavlov/models/go_bot/network.py:670: The name tf.nn.rnn_cell.LSTMStateTuple is deprecated. Please use tf.compat.v1.nn.rnn_cell.LSTMStateTuple instead.\n",
      "\n",
      "W0815 18:56:36.529148 140357696087680 deprecation.py:323] From /home/vimary/code-projects/Pilot/deeppavlov/models/go_bot/network.py:686: dense (from tensorflow.python.layers.core) is deprecated and will be removed in a future version.\n",
      "Instructions for updating:\n",
      "Use keras.layers.dense instead.\n",
      "W0815 18:56:36.693266 140357696087680 deprecation.py:506] From /home/vimary/code-projects/Pilot/deeppavlov/core/layers/tf_layers.py:948: calling dropout (from tensorflow.python.ops.nn_ops) with keep_prob is deprecated and will be removed in a future version.\n",
      "Instructions for updating:\n",
      "Please use `rate` instead of `keep_prob`. Rate should be set to `rate = 1 - keep_prob`.\n",
      "W0815 18:56:36.700291 140357696087680 deprecation.py:323] From /home/vimary/code-projects/Pilot/deeppavlov/models/go_bot/network.py:736: LSTMCell.__init__ (from tensorflow.python.ops.rnn_cell_impl) is deprecated and will be removed in a future version.\n",
      "Instructions for updating:\n",
      "This class is equivalent as tf.keras.layers.LSTMCell, and will be replaced by that in Tensorflow 2.0.\n",
      "W0815 18:56:36.701877 140357696087680 deprecation.py:323] From /home/vimary/code-projects/Pilot/deeppavlov/models/go_bot/network.py:737: to_int32 (from tensorflow.python.ops.math_ops) is deprecated and will be removed in a future version.\n",
      "Instructions for updating:\n",
      "Use `tf.cast` instead.\n",
      "W0815 18:56:36.702835 140357696087680 deprecation.py:323] From /home/vimary/code-projects/Pilot/deeppavlov/models/go_bot/network.py:744: dynamic_rnn (from tensorflow.python.ops.rnn) is deprecated and will be removed in a future version.\n",
      "Instructions for updating:\n",
      "Please use `keras.layers.RNN(cell)`, which is equivalent to this API\n",
      "W0815 18:56:36.748877 140357696087680 deprecation.py:506] From /home/vimary/dp_env/lib/python3.7/site-packages/tensorflow/python/ops/init_ops.py:1251: calling VarianceScaling.__init__ (from tensorflow.python.ops.init_ops) with dtype is deprecated and will be removed in a future version.\n",
      "Instructions for updating:\n",
      "Call initializer instance with the dtype argument instead of passing it to the constructor\n",
      "W0815 18:56:36.754272 140357696087680 deprecation.py:506] From /home/vimary/dp_env/lib/python3.7/site-packages/tensorflow/python/ops/rnn_cell_impl.py:961: calling Zeros.__init__ (from tensorflow.python.ops.init_ops) with dtype is deprecated and will be removed in a future version.\n",
      "Instructions for updating:\n",
      "Call initializer instance with the dtype argument instead of passing it to the constructor\n",
      "W0815 18:56:37.067284 140357696087680 deprecation.py:323] From /home/vimary/dp_env/lib/python3.7/site-packages/tensorflow/python/ops/rnn.py:244: add_dispatch_support.<locals>.wrapper (from tensorflow.python.ops.array_ops) is deprecated and will be removed in a future version.\n",
      "Instructions for updating:\n",
      "Use tf.where in 2.0, which has the same broadcast rule as np.where\n",
      "W0815 18:56:37.262772 140357696087680 deprecation_wrapper.py:119] From /home/vimary/code-projects/Pilot/deeppavlov/models/go_bot/network.py:645: The name tf.losses.get_regularization_loss is deprecated. Please use tf.compat.v1.losses.get_regularization_loss instead.\n",
      "\n",
      "W0815 18:56:37.264824 140357696087680 deprecation_wrapper.py:119] From /home/vimary/code-projects/Pilot/deeppavlov/core/models/tf_model.py:123: The name tf.variable_scope is deprecated. Please use tf.compat.v1.variable_scope instead.\n",
      "\n",
      "W0815 18:56:37.265321 140357696087680 deprecation_wrapper.py:119] From /home/vimary/code-projects/Pilot/deeppavlov/core/models/tf_model.py:128: The name tf.get_collection is deprecated. Please use tf.compat.v1.get_collection instead.\n",
      "\n",
      "W0815 18:56:37.497543 140357696087680 deprecation.py:323] From /home/vimary/dp_env/lib/python3.7/site-packages/tensorflow/python/ops/variables.py:2618: Variable.initialized_value (from tensorflow.python.ops.variables) is deprecated and will be removed in a future version.\n",
      "Instructions for updating:\n",
      "Use Variable.read_value. Variables in 2.X are initialized automatically both in eager and graph (inside tf.defun) contexts.\n",
      "W0815 18:56:38.409753 140357696087680 deprecation.py:323] From /home/vimary/code-projects/Pilot/deeppavlov/models/go_bot/network.py:247: checkpoint_exists (from tensorflow.python.training.checkpoint_management) is deprecated and will be removed in a future version.\n",
      "Instructions for updating:\n",
      "Use standard file APIs to check for files with this prefix.\n"
     ]
    },
    {
     "name": "stderr",
     "output_type": "stream",
     "text": [
      "2019-08-15 18:56:38.410 INFO in 'deeppavlov.models.go_bot.network'['network'] at line 251: [initializing `GoalOrientedBot` from scratch]\n",
      "I0815 18:56:38.410912 140357696087680 network.py:251] [initializing `GoalOrientedBot` from scratch]\n",
      "2019-08-15 18:57:58.671 INFO in 'deeppavlov.core.trainers.nn_trainer'['nn_trainer'] at line 164: New best per_item_dialog_accuracy of 0.0175\n",
      "I0815 18:57:58.671278 140357696087680 nn_trainer.py:164] New best per_item_dialog_accuracy of 0.0175\n",
      "2019-08-15 18:57:58.672 INFO in 'deeppavlov.core.trainers.nn_trainer'['nn_trainer'] at line 166: Saving model\n",
      "I0815 18:57:58.672056 140357696087680 nn_trainer.py:166] Saving model\n",
      "2019-08-15 18:57:58.672 INFO in 'deeppavlov.core.models.tf_model'['tf_model'] at line 76: [saving model to /home/vimary/code-projects/Pilot/examples/my_bot/model]\n",
      "I0815 18:57:58.672759 140357696087680 tf_model.py:76] [saving model to /home/vimary/code-projects/Pilot/examples/my_bot/model]\n",
      "W0815 18:57:58.673794 140357696087680 deprecation_wrapper.py:119] From /home/vimary/code-projects/Pilot/deeppavlov/core/models/tf_model.py:78: The name tf.train.Saver is deprecated. Please use tf.compat.v1.train.Saver instead.\n",
      "\n",
      "2019-08-15 18:57:58.749 INFO in 'deeppavlov.models.go_bot.network'['network'] at line 764: [saving parameters to /home/vimary/code-projects/Pilot/examples/my_bot/model.json]\n",
      "I0815 18:57:58.749593 140357696087680 network.py:764] [saving parameters to /home/vimary/code-projects/Pilot/examples/my_bot/model.json]\n"
     ]
    },
    {
     "name": "stdout",
     "output_type": "stream",
     "text": [
      "{\"valid\": {\"eval_examples_count\": 575, \"metrics\": {\"per_item_dialog_accuracy\": 0.0175}, \"time_spent\": \"0:01:21\", \"epochs_done\": 0, \"batches_seen\": 0, \"train_examples_seen\": 0, \"impatience\": 0, \"patience_limit\": 10}}\n",
      "{\"train\": {\"eval_examples_count\": 240, \"metrics\": {\"per_item_dialog_accuracy\": 0.4657}, \"time_spent\": \"0:02:38\", \"epochs_done\": 0, \"batches_seen\": 50, \"train_examples_seen\": 400, \"learning_rate\": 0.003, \"momentum\": 0.95, \"loss\": 1.4682220101356507}}\n"
     ]
    },
    {
     "name": "stderr",
     "output_type": "stream",
     "text": [
      "2019-08-15 19:00:35.395 INFO in 'deeppavlov.core.trainers.nn_trainer'['nn_trainer'] at line 164: New best per_item_dialog_accuracy of 0.3343\n",
      "I0815 19:00:35.395404 140357696087680 nn_trainer.py:164] New best per_item_dialog_accuracy of 0.3343\n",
      "2019-08-15 19:00:35.396 INFO in 'deeppavlov.core.trainers.nn_trainer'['nn_trainer'] at line 166: Saving model\n",
      "I0815 19:00:35.396290 140357696087680 nn_trainer.py:166] Saving model\n",
      "2019-08-15 19:00:35.397 INFO in 'deeppavlov.core.models.tf_model'['tf_model'] at line 76: [saving model to /home/vimary/code-projects/Pilot/examples/my_bot/model]\n",
      "I0815 19:00:35.397149 140357696087680 tf_model.py:76] [saving model to /home/vimary/code-projects/Pilot/examples/my_bot/model]\n",
      "2019-08-15 19:00:35.465 INFO in 'deeppavlov.models.go_bot.network'['network'] at line 764: [saving parameters to /home/vimary/code-projects/Pilot/examples/my_bot/model.json]\n",
      "I0815 19:00:35.465843 140357696087680 network.py:764] [saving parameters to /home/vimary/code-projects/Pilot/examples/my_bot/model.json]\n"
     ]
    },
    {
     "name": "stdout",
     "output_type": "stream",
     "text": [
      "{\"valid\": {\"eval_examples_count\": 575, \"metrics\": {\"per_item_dialog_accuracy\": 0.3343}, \"time_spent\": \"0:03:57\", \"epochs_done\": 0, \"batches_seen\": 50, \"train_examples_seen\": 400, \"impatience\": 0, \"patience_limit\": 10}}\n",
      "{\"train\": {\"eval_examples_count\": 240, \"metrics\": {\"per_item_dialog_accuracy\": 0.5442}, \"time_spent\": \"0:05:15\", \"epochs_done\": 0, \"batches_seen\": 100, \"train_examples_seen\": 800, \"learning_rate\": 0.003, \"momentum\": 0.95, \"loss\": 0.7673896300792694}}\n"
     ]
    },
    {
     "name": "stderr",
     "output_type": "stream",
     "text": [
      "2019-08-15 19:03:18.9 INFO in 'deeppavlov.core.trainers.nn_trainer'['nn_trainer'] at line 164: New best per_item_dialog_accuracy of 0.4125\n",
      "I0815 19:03:18.009748 140357696087680 nn_trainer.py:164] New best per_item_dialog_accuracy of 0.4125\n",
      "2019-08-15 19:03:18.10 INFO in 'deeppavlov.core.trainers.nn_trainer'['nn_trainer'] at line 166: Saving model\n",
      "I0815 19:03:18.010640 140357696087680 nn_trainer.py:166] Saving model\n",
      "2019-08-15 19:03:18.11 INFO in 'deeppavlov.core.models.tf_model'['tf_model'] at line 76: [saving model to /home/vimary/code-projects/Pilot/examples/my_bot/model]\n",
      "I0815 19:03:18.011899 140357696087680 tf_model.py:76] [saving model to /home/vimary/code-projects/Pilot/examples/my_bot/model]\n",
      "2019-08-15 19:03:18.82 INFO in 'deeppavlov.models.go_bot.network'['network'] at line 764: [saving parameters to /home/vimary/code-projects/Pilot/examples/my_bot/model.json]\n",
      "I0815 19:03:18.082239 140357696087680 network.py:764] [saving parameters to /home/vimary/code-projects/Pilot/examples/my_bot/model.json]\n"
     ]
    },
    {
     "name": "stdout",
     "output_type": "stream",
     "text": [
      "{\"valid\": {\"eval_examples_count\": 575, \"metrics\": {\"per_item_dialog_accuracy\": 0.4125}, \"time_spent\": \"0:06:40\", \"epochs_done\": 0, \"batches_seen\": 100, \"train_examples_seen\": 800, \"impatience\": 0, \"patience_limit\": 10}}\n",
      "{\"train\": {\"eval_examples_count\": 240, \"metrics\": {\"per_item_dialog_accuracy\": 0.5842}, \"time_spent\": \"0:08:03\", \"epochs_done\": 1, \"batches_seen\": 150, \"train_examples_seen\": 1199, \"learning_rate\": 0.003, \"momentum\": 0.95, \"loss\": 0.5582772207260132}}\n"
     ]
    },
    {
     "name": "stderr",
     "output_type": "stream",
     "text": [
      "2019-08-15 19:06:02.998 INFO in 'deeppavlov.core.trainers.nn_trainer'['nn_trainer'] at line 164: New best per_item_dialog_accuracy of 0.4134\n",
      "I0815 19:06:02.998181 140357696087680 nn_trainer.py:164] New best per_item_dialog_accuracy of 0.4134\n",
      "2019-08-15 19:06:02.999 INFO in 'deeppavlov.core.trainers.nn_trainer'['nn_trainer'] at line 166: Saving model\n",
      "I0815 19:06:02.999110 140357696087680 nn_trainer.py:166] Saving model\n",
      "2019-08-15 19:06:02.999 INFO in 'deeppavlov.core.models.tf_model'['tf_model'] at line 76: [saving model to /home/vimary/code-projects/Pilot/examples/my_bot/model]\n",
      "I0815 19:06:02.999995 140357696087680 tf_model.py:76] [saving model to /home/vimary/code-projects/Pilot/examples/my_bot/model]\n",
      "2019-08-15 19:06:03.74 INFO in 'deeppavlov.models.go_bot.network'['network'] at line 764: [saving parameters to /home/vimary/code-projects/Pilot/examples/my_bot/model.json]\n",
      "I0815 19:06:03.074331 140357696087680 network.py:764] [saving parameters to /home/vimary/code-projects/Pilot/examples/my_bot/model.json]\n",
      "2019-08-15 19:06:03.85 INFO in 'deeppavlov.core.data.simple_vocab'['simple_vocab'] at line 112: [loading vocabulary from /home/vimary/code-projects/Pilot/examples/my_bot/word.dict]\n",
      "I0815 19:06:03.085531 140357696087680 simple_vocab.py:112] [loading vocabulary from /home/vimary/code-projects/Pilot/examples/my_bot/word.dict]\n",
      "2019-08-15 19:06:03.87 WARNING in 'deeppavlov.core.models.serializable'['serializable'] at line 47: No load path is set for Sqlite3Database in 'infer' mode. Using save path instead\n",
      "W0815 19:06:03.087188 140357696087680 serializable.py:47] No load path is set for Sqlite3Database in 'infer' mode. Using save path instead\n",
      "2019-08-15 19:06:03.88 INFO in 'deeppavlov.core.data.sqlite_database'['sqlite_database'] at line 63: Loading database from /home/vimary/code-projects/Pilot/examples/my_bot/db.sqlite.\n",
      "I0815 19:06:03.088094 140357696087680 sqlite_database.py:63] Loading database from /home/vimary/code-projects/Pilot/examples/my_bot/db.sqlite.\n",
      "2019-08-15 19:06:03.176 INFO in 'deeppavlov.models.go_bot.network'['network'] at line 161: [loading templates from /home/vimary/code-projects/Pilot/examples/my_data/simple-dstc2-templates.txt]\n",
      "I0815 19:06:03.176758 140357696087680 network.py:161] [loading templates from /home/vimary/code-projects/Pilot/examples/my_data/simple-dstc2-templates.txt]\n",
      "2019-08-15 19:06:03.178 INFO in 'deeppavlov.models.go_bot.network'['network'] at line 164: 46 templates loaded.\n",
      "I0815 19:06:03.178066 140357696087680 network.py:164] 46 templates loaded.\n",
      "2019-08-15 19:06:03.179 INFO in 'deeppavlov.models.go_bot.network'['network'] at line 210: Calculated input size for `GoalOrientedBotNetwork` is 508\n",
      "I0815 19:06:03.179220 140357696087680 network.py:210] Calculated input size for `GoalOrientedBotNetwork` is 508\n"
     ]
    },
    {
     "name": "stdout",
     "output_type": "stream",
     "text": [
      "{\"valid\": {\"eval_examples_count\": 575, \"metrics\": {\"per_item_dialog_accuracy\": 0.4134}, \"time_spent\": \"0:09:25\", \"epochs_done\": 1, \"batches_seen\": 150, \"train_examples_seen\": 1199, \"impatience\": 0, \"patience_limit\": 10}}\n"
     ]
    },
    {
     "name": "stderr",
     "output_type": "stream",
     "text": [
      "2019-08-15 19:06:03.712 INFO in 'deeppavlov.models.go_bot.network'['network'] at line 248: [initializing `GoalOrientedBot` from saved]\n",
      "I0815 19:06:03.712948 140357696087680 network.py:248] [initializing `GoalOrientedBot` from saved]\n",
      "2019-08-15 19:06:03.714 INFO in 'deeppavlov.models.go_bot.network'['network'] at line 770: [loading parameters from /home/vimary/code-projects/Pilot/examples/my_bot/model.json]\n",
      "I0815 19:06:03.714329 140357696087680 network.py:770] [loading parameters from /home/vimary/code-projects/Pilot/examples/my_bot/model.json]\n",
      "2019-08-15 19:06:03.717 INFO in 'deeppavlov.core.models.tf_model'['tf_model'] at line 52: [loading model from /home/vimary/code-projects/Pilot/examples/my_bot/model]\n",
      "I0815 19:06:03.717086 140357696087680 tf_model.py:52] [loading model from /home/vimary/code-projects/Pilot/examples/my_bot/model]\n"
     ]
    },
    {
     "name": "stdout",
     "output_type": "stream",
     "text": [
      "{\"valid\": {\"eval_examples_count\": 575, \"metrics\": {\"per_item_dialog_accuracy\": 0.4134}, \"time_spent\": \"0:01:24\"}}\n"
     ]
    },
    {
     "name": "stderr",
     "output_type": "stream",
     "text": [
      "2019-08-15 19:08:45.161 INFO in 'deeppavlov.core.data.simple_vocab'['simple_vocab'] at line 112: [loading vocabulary from /home/vimary/code-projects/Pilot/examples/my_bot/word.dict]\n",
      "I0815 19:08:45.161855 140357696087680 simple_vocab.py:112] [loading vocabulary from /home/vimary/code-projects/Pilot/examples/my_bot/word.dict]\n",
      "2019-08-15 19:08:45.163 WARNING in 'deeppavlov.core.models.serializable'['serializable'] at line 47: No load path is set for Sqlite3Database in 'infer' mode. Using save path instead\n",
      "W0815 19:08:45.163285 140357696087680 serializable.py:47] No load path is set for Sqlite3Database in 'infer' mode. Using save path instead\n",
      "2019-08-15 19:08:45.164 INFO in 'deeppavlov.core.data.sqlite_database'['sqlite_database'] at line 63: Loading database from /home/vimary/code-projects/Pilot/examples/my_bot/db.sqlite.\n",
      "I0815 19:08:45.164417 140357696087680 sqlite_database.py:63] Loading database from /home/vimary/code-projects/Pilot/examples/my_bot/db.sqlite.\n",
      "2019-08-15 19:08:45.248 INFO in 'deeppavlov.models.go_bot.network'['network'] at line 161: [loading templates from /home/vimary/code-projects/Pilot/examples/my_data/simple-dstc2-templates.txt]\n",
      "I0815 19:08:45.248002 140357696087680 network.py:161] [loading templates from /home/vimary/code-projects/Pilot/examples/my_data/simple-dstc2-templates.txt]\n",
      "2019-08-15 19:08:45.249 INFO in 'deeppavlov.models.go_bot.network'['network'] at line 164: 46 templates loaded.\n",
      "I0815 19:08:45.249049 140357696087680 network.py:164] 46 templates loaded.\n",
      "2019-08-15 19:08:45.249 INFO in 'deeppavlov.models.go_bot.network'['network'] at line 210: Calculated input size for `GoalOrientedBotNetwork` is 508\n",
      "I0815 19:08:45.249610 140357696087680 network.py:210] Calculated input size for `GoalOrientedBotNetwork` is 508\n"
     ]
    },
    {
     "name": "stdout",
     "output_type": "stream",
     "text": [
      "{\"test\": {\"eval_examples_count\": 576, \"metrics\": {\"per_item_dialog_accuracy\": 0.408}, \"time_spent\": \"0:01:18\"}}\n"
     ]
    },
    {
     "name": "stderr",
     "output_type": "stream",
     "text": [
      "2019-08-15 19:08:45.896 INFO in 'deeppavlov.models.go_bot.network'['network'] at line 248: [initializing `GoalOrientedBot` from saved]\n",
      "I0815 19:08:45.896820 140357696087680 network.py:248] [initializing `GoalOrientedBot` from saved]\n",
      "2019-08-15 19:08:45.897 INFO in 'deeppavlov.models.go_bot.network'['network'] at line 770: [loading parameters from /home/vimary/code-projects/Pilot/examples/my_bot/model.json]\n",
      "I0815 19:08:45.897950 140357696087680 network.py:770] [loading parameters from /home/vimary/code-projects/Pilot/examples/my_bot/model.json]\n",
      "2019-08-15 19:08:45.899 INFO in 'deeppavlov.core.models.tf_model'['tf_model'] at line 52: [loading model from /home/vimary/code-projects/Pilot/examples/my_bot/model]\n",
      "I0815 19:08:45.899963 140357696087680 tf_model.py:52] [loading model from /home/vimary/code-projects/Pilot/examples/my_bot/model]\n"
     ]
    }
   ],
   "source": [
    "from deeppavlov import train_model\n",
    "\n",
    "gobot_config['train']['batch_size'] = 8 # set batch size\n",
    "gobot_config['train']['max_batches'] = 200 # maximum number of training batches\n",
    "gobot_config['train']['val_every_n_batches'] = 50 # evaluate on full 'valid' split each 30 batches\n",
    "gobot_config['train']['log_every_n_batches'] = 50\n",
    "gobot_config['train']['log_on_k_batches'] = 30 # evaluate on 30 batches of 'train' split every 50 batches\n",
    "\n",
    "train_model(gobot_config);"
   ]
  },
  {
   "cell_type": "markdown",
   "metadata": {},
   "source": [
    "See [config doc page](http://docs.deeppavlov.ai/en/master/intro/configuration.html) for advanced configuration of train process."
   ]
  },
  {
   "cell_type": "markdown",
   "metadata": {},
   "source": [
    "##### Metric scores on valid&test"
   ]
  },
  {
   "cell_type": "markdown",
   "metadata": {},
   "source": [
    "Calculating **accuracy** of trained bot: whether predicted system responses match true responses' texts."
   ]
  },
  {
   "cell_type": "code",
   "execution_count": null,
   "metadata": {
    "scrolled": true
   },
   "outputs": [
    {
     "name": "stderr",
     "output_type": "stream",
     "text": [
      "2019-08-15 19:08:46.825 INFO in 'deeppavlov.dataset_readers.dstc2_reader'['dstc2_reader'] at line 112: [loading dialogs from /home/vimary/code-projects/Pilot/examples/my_data/dstc2-trn.jsonlist]\n",
      "I0815 19:08:46.825568 140357696087680 dstc2_reader.py:112] [loading dialogs from /home/vimary/code-projects/Pilot/examples/my_data/dstc2-trn.jsonlist]\n",
      "2019-08-15 19:08:47.96 INFO in 'deeppavlov.dataset_readers.dstc2_reader'['dstc2_reader'] at line 112: [loading dialogs from /home/vimary/code-projects/Pilot/examples/my_data/dstc2-val.jsonlist]\n",
      "I0815 19:08:47.096684 140357696087680 dstc2_reader.py:112] [loading dialogs from /home/vimary/code-projects/Pilot/examples/my_data/dstc2-val.jsonlist]\n",
      "2019-08-15 19:08:47.342 INFO in 'deeppavlov.dataset_readers.dstc2_reader'['dstc2_reader'] at line 112: [loading dialogs from /home/vimary/code-projects/Pilot/examples/my_data/dstc2-tst.jsonlist]\n",
      "I0815 19:08:47.342166 140357696087680 dstc2_reader.py:112] [loading dialogs from /home/vimary/code-projects/Pilot/examples/my_data/dstc2-tst.jsonlist]\n",
      "2019-08-15 19:08:47.435 INFO in 'deeppavlov.core.data.simple_vocab'['simple_vocab'] at line 112: [loading vocabulary from /home/vimary/code-projects/Pilot/examples/my_bot/word.dict]\n",
      "I0815 19:08:47.435250 140357696087680 simple_vocab.py:112] [loading vocabulary from /home/vimary/code-projects/Pilot/examples/my_bot/word.dict]\n",
      "2019-08-15 19:08:47.436 WARNING in 'deeppavlov.core.models.serializable'['serializable'] at line 47: No load path is set for Sqlite3Database in 'infer' mode. Using save path instead\n",
      "W0815 19:08:47.436704 140357696087680 serializable.py:47] No load path is set for Sqlite3Database in 'infer' mode. Using save path instead\n",
      "2019-08-15 19:08:47.437 INFO in 'deeppavlov.core.data.sqlite_database'['sqlite_database'] at line 63: Loading database from /home/vimary/code-projects/Pilot/examples/my_bot/db.sqlite.\n",
      "I0815 19:08:47.437878 140357696087680 sqlite_database.py:63] Loading database from /home/vimary/code-projects/Pilot/examples/my_bot/db.sqlite.\n",
      "2019-08-15 19:08:47.529 INFO in 'deeppavlov.models.go_bot.network'['network'] at line 161: [loading templates from /home/vimary/code-projects/Pilot/examples/my_data/simple-dstc2-templates.txt]\n",
      "I0815 19:08:47.529719 140357696087680 network.py:161] [loading templates from /home/vimary/code-projects/Pilot/examples/my_data/simple-dstc2-templates.txt]\n",
      "2019-08-15 19:08:47.531 INFO in 'deeppavlov.models.go_bot.network'['network'] at line 164: 46 templates loaded.\n",
      "I0815 19:08:47.531059 140357696087680 network.py:164] 46 templates loaded.\n",
      "2019-08-15 19:08:47.531 INFO in 'deeppavlov.models.go_bot.network'['network'] at line 210: Calculated input size for `GoalOrientedBotNetwork` is 508\n",
      "I0815 19:08:47.531872 140357696087680 network.py:210] Calculated input size for `GoalOrientedBotNetwork` is 508\n",
      "2019-08-15 19:08:48.15 INFO in 'deeppavlov.models.go_bot.network'['network'] at line 248: [initializing `GoalOrientedBot` from saved]\n",
      "I0815 19:08:48.015350 140357696087680 network.py:248] [initializing `GoalOrientedBot` from saved]\n",
      "2019-08-15 19:08:48.16 INFO in 'deeppavlov.models.go_bot.network'['network'] at line 770: [loading parameters from /home/vimary/code-projects/Pilot/examples/my_bot/model.json]\n",
      "I0815 19:08:48.016439 140357696087680 network.py:770] [loading parameters from /home/vimary/code-projects/Pilot/examples/my_bot/model.json]\n",
      "2019-08-15 19:08:48.18 INFO in 'deeppavlov.core.models.tf_model'['tf_model'] at line 52: [loading model from /home/vimary/code-projects/Pilot/examples/my_bot/model]\n",
      "I0815 19:08:48.018687 140357696087680 tf_model.py:52] [loading model from /home/vimary/code-projects/Pilot/examples/my_bot/model]\n"
     ]
    },
    {
     "name": "stdout",
     "output_type": "stream",
     "text": [
      "{\"valid\": {\"eval_examples_count\": 575, \"metrics\": {\"per_item_dialog_accuracy\": 0.4134}, \"time_spent\": \"0:01:21\"}}\n"
     ]
    }
   ],
   "source": [
    "from deeppavlov import evaluate_model\n",
    "\n",
    "evaluate_model(gobot_config);"
   ]
  },
  {
   "cell_type": "markdown",
   "metadata": {},
   "source": [
    "With settings of `max_batches=200`, valid accuracy `~ 0.4` and test accuracy is `0.4`."
   ]
  },
  {
   "cell_type": "markdown",
   "metadata": {},
   "source": [
    "##### Chatting with bot"
   ]
  },
  {
   "cell_type": "code",
   "execution_count": 28,
   "metadata": {},
   "outputs": [
    {
     "name": "stderr",
     "output_type": "stream",
     "text": [
      "2019-08-15 19:08:45.938 INFO in 'deeppavlov.core.data.simple_vocab'['simple_vocab'] at line 112: [loading vocabulary from /home/vimary/code-projects/Pilot/examples/my_bot/word.dict]\n",
      "I0815 19:08:45.938536 140357696087680 simple_vocab.py:112] [loading vocabulary from /home/vimary/code-projects/Pilot/examples/my_bot/word.dict]\n",
      "2019-08-15 19:08:45.940 WARNING in 'deeppavlov.core.models.serializable'['serializable'] at line 47: No load path is set for Sqlite3Database in 'infer' mode. Using save path instead\n",
      "W0815 19:08:45.940229 140357696087680 serializable.py:47] No load path is set for Sqlite3Database in 'infer' mode. Using save path instead\n",
      "2019-08-15 19:08:45.941 INFO in 'deeppavlov.core.data.sqlite_database'['sqlite_database'] at line 63: Loading database from /home/vimary/code-projects/Pilot/examples/my_bot/db.sqlite.\n",
      "I0815 19:08:45.941222 140357696087680 sqlite_database.py:63] Loading database from /home/vimary/code-projects/Pilot/examples/my_bot/db.sqlite.\n",
      "2019-08-15 19:08:46.28 INFO in 'deeppavlov.models.go_bot.network'['network'] at line 161: [loading templates from /home/vimary/code-projects/Pilot/examples/my_data/simple-dstc2-templates.txt]\n",
      "I0815 19:08:46.028576 140357696087680 network.py:161] [loading templates from /home/vimary/code-projects/Pilot/examples/my_data/simple-dstc2-templates.txt]\n",
      "2019-08-15 19:08:46.29 INFO in 'deeppavlov.models.go_bot.network'['network'] at line 164: 46 templates loaded.\n",
      "I0815 19:08:46.029613 140357696087680 network.py:164] 46 templates loaded.\n",
      "2019-08-15 19:08:46.30 INFO in 'deeppavlov.models.go_bot.network'['network'] at line 210: Calculated input size for `GoalOrientedBotNetwork` is 508\n",
      "I0815 19:08:46.030208 140357696087680 network.py:210] Calculated input size for `GoalOrientedBotNetwork` is 508\n",
      "2019-08-15 19:08:46.505 INFO in 'deeppavlov.models.go_bot.network'['network'] at line 248: [initializing `GoalOrientedBot` from saved]\n",
      "I0815 19:08:46.505206 140357696087680 network.py:248] [initializing `GoalOrientedBot` from saved]\n",
      "2019-08-15 19:08:46.506 INFO in 'deeppavlov.models.go_bot.network'['network'] at line 770: [loading parameters from /home/vimary/code-projects/Pilot/examples/my_bot/model.json]\n",
      "I0815 19:08:46.506157 140357696087680 network.py:770] [loading parameters from /home/vimary/code-projects/Pilot/examples/my_bot/model.json]\n",
      "2019-08-15 19:08:46.507 INFO in 'deeppavlov.core.models.tf_model'['tf_model'] at line 52: [loading model from /home/vimary/code-projects/Pilot/examples/my_bot/model]\n",
      "I0815 19:08:46.507575 140357696087680 tf_model.py:52] [loading model from /home/vimary/code-projects/Pilot/examples/my_bot/model]\n"
     ]
    }
   ],
   "source": [
    "from deeppavlov import build_model\n",
    "\n",
    "bot = build_model(gobot_config)"
   ]
  },
  {
   "cell_type": "code",
   "execution_count": 29,
   "metadata": {},
   "outputs": [
    {
     "name": "stderr",
     "output_type": "stream",
     "text": [
      "2019-08-15 19:08:46.629 INFO in 'deeppavlov.models.go_bot.network'['network'] at line 505: Made api_call with {'food': 'chinese'}, got 16 results.\n",
      "I0815 19:08:46.629126 140357696087680 network.py:505] Made api_call with {'food': 'chinese'}, got 16 results.\n"
     ]
    },
    {
     "data": {
      "text/plain": [
       "['Rice house serves chinese food.']"
      ]
     },
     "execution_count": 29,
     "metadata": {},
     "output_type": "execute_result"
    }
   ],
   "source": [
    "bot(['hi, want chinee food, can you suggest a place to go?'])"
   ]
  },
  {
   "cell_type": "code",
   "execution_count": 30,
   "metadata": {},
   "outputs": [
    {
     "data": {
      "text/plain": [
       "['Sure, rice house is on 88 mill road city centre.']"
      ]
     },
     "execution_count": 30,
     "metadata": {},
     "output_type": "execute_result"
    }
   ],
   "source": [
    "bot(['ok, i want ther address'])"
   ]
  },
  {
   "cell_type": "code",
   "execution_count": 31,
   "metadata": {},
   "outputs": [
    {
     "name": "stderr",
     "output_type": "stream",
     "text": [
      "2019-08-15 19:08:46.724 INFO in 'deeppavlov.models.go_bot.network'['network'] at line 505: Made api_call with {'food': 'french', 'area': 'centre'}, got 1 results.\n",
      "I0815 19:08:46.724561 140357696087680 network.py:505] Made api_call with {'food': 'french', 'area': 'centre'}, got 1 results.\n"
     ]
    },
    {
     "data": {
      "text/plain": [
       "['Cote is a nice place in the centre of town serving tasty french food.']"
      ]
     },
     "execution_count": 31,
     "metadata": {},
     "output_type": "execute_result"
    }
   ],
   "source": [
    "bot(['now i want french food in the center of town'])"
   ]
  },
  {
   "cell_type": "code",
   "execution_count": 32,
   "metadata": {},
   "outputs": [
    {
     "data": {
      "text/plain": [
       "['Sure, cote is on bridge street city centre.']"
      ]
     },
     "execution_count": 32,
     "metadata": {},
     "output_type": "execute_result"
    }
   ],
   "source": [
    "bot(['thanks, give me their address too'])"
   ]
  },
  {
   "cell_type": "code",
   "execution_count": 33,
   "metadata": {},
   "outputs": [
    {
     "data": {
      "text/plain": [
       "['The post code of cote is c.b 2, 1 u.f.']"
      ]
     },
     "execution_count": 33,
     "metadata": {},
     "output_type": "execute_result"
    }
   ],
   "source": [
    "bot(['and post code'])"
   ]
  },
  {
   "cell_type": "code",
   "execution_count": 34,
   "metadata": {},
   "outputs": [
    {
     "data": {
      "text/plain": [
       "['You are welcome!']"
      ]
     },
     "execution_count": 34,
     "metadata": {},
     "output_type": "execute_result"
    }
   ],
   "source": [
    "bot(['bye'])"
   ]
  },
  {
   "cell_type": "code",
   "execution_count": 35,
   "metadata": {},
   "outputs": [],
   "source": [
    "bot.reset()"
   ]
  },
  {
   "cell_type": "code",
   "execution_count": null,
   "metadata": {},
   "outputs": [],
   "source": []
  }
 ],
 "metadata": {
  "kernelspec": {
   "display_name": "Python (dp_env)",
   "language": "python",
   "name": "dp_env"
  },
  "language_info": {
   "codemirror_mode": {
    "name": "ipython",
    "version": 3
   },
   "file_extension": ".py",
   "mimetype": "text/x-python",
   "name": "python",
   "nbconvert_exporter": "python",
   "pygments_lexer": "ipython3",
   "version": "3.7.3"
  }
 },
 "nbformat": 4,
 "nbformat_minor": 2
}
