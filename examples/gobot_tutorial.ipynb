{
 "cells": [
  {
   "cell_type": "markdown",
   "metadata": {},
   "source": [
    "## You can also run the notebook in [COLAB](https://colab.research.google.com/github/deepmipt/DeepPavlov/blob/master/examples/gobot_tutorial.ipynb)."
   ]
  },
  {
   "cell_type": "code",
   "execution_count": null,
   "metadata": {},
   "outputs": [],
   "source": [
    "!pip install deeppavlov"
   ]
  },
  {
   "cell_type": "markdown",
   "metadata": {},
   "source": [
    "## Data Preparation"
   ]
  },
  {
   "cell_type": "code",
   "execution_count": 3,
   "metadata": {},
   "outputs": [
    {
     "name": "stderr",
     "output_type": "stream",
     "text": [
      "2019-08-09 18:04:37.130 INFO in 'deeppavlov.dataset_readers.dstc2_reader'['dstc2_reader'] at line 95: [downloading data from http://files.deeppavlov.ai/datasets/dstc2_v2.tar.gz to my_data]\n",
      "2019-08-09 18:04:37.137 INFO in 'deeppavlov.core.data.utils'['utils'] at line 63: Downloading from http://files.deeppavlov.ai/datasets/dstc2_v2.tar.gz to my_data/dstc2_v2.tar.gz\n",
      "100%|██████████| 506k/506k [00:00<00:00, 37.1MB/s]\n",
      "2019-08-09 18:04:37.155 INFO in 'deeppavlov.core.data.utils'['utils'] at line 201: Extracting my_data/dstc2_v2.tar.gz archive into my_data\n",
      "2019-08-09 18:04:37.177 INFO in 'deeppavlov.dataset_readers.dstc2_reader'['dstc2_reader'] at line 112: [loading dialogs from my_data/dstc2-trn.jsonlist]\n",
      "2019-08-09 18:04:37.346 INFO in 'deeppavlov.dataset_readers.dstc2_reader'['dstc2_reader'] at line 112: [loading dialogs from my_data/dstc2-val.jsonlist]\n",
      "2019-08-09 18:04:37.493 INFO in 'deeppavlov.dataset_readers.dstc2_reader'['dstc2_reader'] at line 112: [loading dialogs from my_data/dstc2-tst.jsonlist]\n"
     ]
    }
   ],
   "source": [
    "from deeppavlov.dataset_readers.dstc2_reader import DSTC2DatasetReader\n",
    "\n",
    "data = DSTC2DatasetReader().read('my_data')"
   ]
  },
  {
   "cell_type": "code",
   "execution_count": 4,
   "metadata": {},
   "outputs": [
    {
     "data": {
      "text/plain": [
       "({'text': 'cheap restaurant',\n",
       "  'intents': [{'slots': [['pricerange', 'cheap']], 'act': 'inform'}]},\n",
       " {'text': 'What kind of food would you like?', 'act': 'request_food'})"
      ]
     },
     "execution_count": 4,
     "metadata": {},
     "output_type": "execute_result"
    }
   ],
   "source": [
    "data['train'][1]"
   ]
  },
  {
   "cell_type": "code",
   "execution_count": 5,
   "metadata": {
    "scrolled": true
   },
   "outputs": [],
   "source": [
    "from deeppavlov.dataset_iterators.dialog_iterator import DialogDatasetIterator\n",
    "\n",
    "iterator = DialogDatasetIterator(data)"
   ]
  },
  {
   "cell_type": "code",
   "execution_count": 6,
   "metadata": {},
   "outputs": [
    {
     "data": {
      "text/plain": [
       "[{'text': '', 'intents': [], 'prev_resp_act': None},\n",
       " {'text': 'cheap restaurant',\n",
       "  'intents': [{'slots': [['pricerange', 'cheap']], 'act': 'inform'}],\n",
       "  'prev_resp_act': 'welcomemsg'},\n",
       " {'text': 'any',\n",
       "  'intents': [{'slots': [['this', 'dontcare']], 'act': 'inform'}],\n",
       "  'prev_resp_act': 'request_food'},\n",
       " {'text': 'south',\n",
       "  'intents': [{'slots': [['area', 'south']], 'act': 'inform'}],\n",
       "  'prev_resp_act': 'request_area'},\n",
       " {'text': 'south',\n",
       "  'intents': [{'slots': [['area', 'south']], 'act': 'inform'}],\n",
       "  'db_result': {'food': 'chinese',\n",
       "   'pricerange': 'cheap',\n",
       "   'area': 'south',\n",
       "   'addr': 'cambridge leisure park clifton way cherry hinton',\n",
       "   'phone': '01223 244277',\n",
       "   'postcode': 'c.b 1, 7 d.y',\n",
       "   'name': 'the lucky star'},\n",
       "  'prev_resp_act': 'api_call'},\n",
       " {'text': 'address',\n",
       "  'intents': [{'slots': [['slot', 'addr']], 'act': 'request'}],\n",
       "  'prev_resp_act': 'inform_area+inform_food+offer_name'},\n",
       " {'text': 'phone number',\n",
       "  'intents': [{'slots': [['slot', 'phone']], 'act': 'request'}],\n",
       "  'prev_resp_act': 'inform_addr+offer_name'},\n",
       " {'text': 'thank you good bye',\n",
       "  'intents': [{'slots': [], 'act': 'thankyou'}, {'slots': [], 'act': 'bye'}],\n",
       "  'prev_resp_act': 'inform_phone+offer_name'}]"
      ]
     },
     "execution_count": 6,
     "metadata": {},
     "output_type": "execute_result"
    }
   ],
   "source": [
    "x_dialog, y_dialog = iterator.train[0]\n",
    "x_dialog"
   ]
  },
  {
   "cell_type": "markdown",
   "metadata": {},
   "source": [
    "## 1. Build database of items"
   ]
  },
  {
   "cell_type": "code",
   "execution_count": 7,
   "metadata": {},
   "outputs": [
    {
     "name": "stderr",
     "output_type": "stream",
     "text": [
      "2019-08-09 18:04:39.554 WARNING in 'deeppavlov.core.models.serializable'['serializable'] at line 47: No load path is set for Sqlite3Database in 'infer' mode. Using save path instead\n",
      "2019-08-09 18:04:39.555 INFO in 'deeppavlov.core.data.sqlite_database'['sqlite_database'] at line 67: Initializing empty database on /home/vimary/code-projects/Pilot/examples/my_bot/db.sqlite.\n"
     ]
    }
   ],
   "source": [
    "from deeppavlov.core.data.sqlite_database import Sqlite3Database\n",
    "\n",
    "database = Sqlite3Database(table_name=\"mytable\",\n",
    "                           primary_keys=[\"name\"],\n",
    "                           keys=[\"name\", \"food\", \"pricerange\", \"area\", \"addr\", \"phone\", \"postcode\"],\n",
    "                           save_path=\"my_bot/db.sqlite\")"
   ]
  },
  {
   "cell_type": "code",
   "execution_count": 8,
   "metadata": {},
   "outputs": [
    {
     "name": "stderr",
     "output_type": "stream",
     "text": [
      "2019-08-09 18:04:40.105 INFO in 'deeppavlov.core.data.sqlite_database'['sqlite_database'] at line 138: Created table with keys {'name': 'text', 'food': 'text', 'pricerange': 'text', 'area': 'text', 'addr': 'text', 'phone': 'text', 'postcode': 'text'}.\n"
     ]
    },
    {
     "name": "stdout",
     "output_type": "stream",
     "text": [
      "Adding 3016 items.\n"
     ]
    }
   ],
   "source": [
    "db_results = []\n",
    "for dialog in iterator.gen_batches(batch_size=1, data_type='all'):\n",
    "    turns_x, turns_y = dialog\n",
    "    db_results.extend(x['db_result'] for x in turns_x[0] if x.get('db_result'))\n",
    "\n",
    "print(f\"Adding {len(db_results)} items.\")\n",
    "if db_results:\n",
    "    database.fit(db_results)"
   ]
  },
  {
   "cell_type": "code",
   "execution_count": 9,
   "metadata": {},
   "outputs": [
    {
     "data": {
      "text/plain": [
       "[[{'name': 'the lucky star',\n",
       "   'food': 'chinese',\n",
       "   'pricerange': 'cheap',\n",
       "   'area': 'south',\n",
       "   'addr': 'cambridge leisure park clifton way cherry hinton',\n",
       "   'phone': '01223 244277',\n",
       "   'postcode': 'c.b 1, 7 d.y'},\n",
       "  {'name': 'nandos',\n",
       "   'food': 'portuguese',\n",
       "   'pricerange': 'cheap',\n",
       "   'area': 'south',\n",
       "   'addr': 'cambridge leisure park clifton way',\n",
       "   'phone': '01223 327908',\n",
       "   'postcode': 'c.b 1, 7 d.y'}]]"
      ]
     },
     "execution_count": 9,
     "metadata": {},
     "output_type": "execute_result"
    }
   ],
   "source": [
    "database([{'pricerange': 'cheap', 'area': 'south'}])"
   ]
  },
  {
   "cell_type": "code",
   "execution_count": 10,
   "metadata": {},
   "outputs": [
    {
     "name": "stdout",
     "output_type": "stream",
     "text": [
      "db.sqlite\r\n"
     ]
    }
   ],
   "source": [
    "!ls my_bot"
   ]
  },
  {
   "cell_type": "markdown",
   "metadata": {},
   "source": [
    "## 2. Build Slot Filler\n",
    "\n",
    "Slot Filler is component that inputs text and outputs dictionary of slot names and their values:\n",
    "\n",
    "    slot_filler(['I would like some chineese food'])\n",
    "    >> [{'food': 'chinese'}]\n",
    "\n",
    "To implement a slot filler you need to provide\n",
    "    \n",
    " - **slot types**\n",
    " - all possible **slot values**\n",
    " - optionally, it will be good to provide examples of mentions for every value of a slot\n",
    " \n",
    "The data should be provided in `slot_vals.json` file with the following format:\n",
    "\n",
    "    {\n",
    "        'food': {\n",
    "            'chinese': ['chinese', 'chineese', 'chines'],\n",
    "            'french': ['french', 'freench'],\n",
    "            'dontcare': ['any food', 'any type of food']\n",
    "        }\n",
    "    }\n",
    "                \n",
    "\n",
    "There are two possible models for a slot filler:\n",
    "\n",
    "   1. A non-trainable levenshtein distance based slot filler [[tutor section]](#2.1.-Non-trainable-slot-filler)\n",
    "   2. A tranaible slot filler with a neural network solving the task of named entity tagging [[tutor section]](#2.2.-Trainable-slot-filler)"
   ]
  },
  {
   "cell_type": "code",
   "execution_count": 11,
   "metadata": {},
   "outputs": [
    {
     "name": "stderr",
     "output_type": "stream",
     "text": [
      "2019-08-09 18:04:42.256 INFO in 'deeppavlov.core.data.utils'['utils'] at line 63: Downloading from http://files.deeppavlov.ai/deeppavlov_data/dstc_slot_vals.tar.gz to my_bot/slotfill/dstc_slot_vals.tar.gz\n",
      "100%|██████████| 1.62k/1.62k [00:00<00:00, 5.77MB/s]\n",
      "2019-08-09 18:04:42.258 INFO in 'deeppavlov.core.data.utils'['utils'] at line 201: Extracting my_bot/slotfill/dstc_slot_vals.tar.gz archive into my_bot/slotfill\n"
     ]
    }
   ],
   "source": [
    "from deeppavlov.download import download_decompress\n",
    "\n",
    "download_decompress(url='http://files.deeppavlov.ai/deeppavlov_data/dstc_slot_vals.tar.gz',\n",
    "                    download_path='my_bot/slotfill')"
   ]
  },
  {
   "cell_type": "code",
   "execution_count": 12,
   "metadata": {},
   "outputs": [
    {
     "name": "stdout",
     "output_type": "stream",
     "text": [
      "dstc_slot_vals.json\r\n"
     ]
    }
   ],
   "source": [
    "!ls my_bot/slotfill"
   ]
  },
  {
   "cell_type": "markdown",
   "metadata": {},
   "source": [
    "### 2.1. Non-trainable slot filler"
   ]
  },
  {
   "cell_type": "code",
   "execution_count": 13,
   "metadata": {},
   "outputs": [],
   "source": [
    "from deeppavlov import configs\n",
    "from deeppavlov.core.common.file import read_json\n",
    "\n",
    "\n",
    "slotfill_raw_config = read_json(configs.ner.slotfill_dstc2_raw)"
   ]
  },
  {
   "cell_type": "code",
   "execution_count": 14,
   "metadata": {},
   "outputs": [],
   "source": [
    "slotfill_raw_config['metadata']['variables']['DATA_PATH'] = 'my_data'\n",
    "slotfill_raw_config['metadata']['variables']['SLOT_VALS_PATH'] = 'my_bot/slotfill/dstc_slot_vals.json'"
   ]
  },
  {
   "cell_type": "code",
   "execution_count": 15,
   "metadata": {},
   "outputs": [
    {
     "name": "stderr",
     "output_type": "stream",
     "text": [
      "2019-08-09 18:04:44.668 INFO in 'deeppavlov.dataset_readers.dstc2_reader'['dstc2_reader'] at line 112: [loading dialogs from /home/vimary/code-projects/Pilot/examples/my_data/dstc2-trn.jsonlist]\n",
      "2019-08-09 18:04:44.851 INFO in 'deeppavlov.dataset_readers.dstc2_reader'['dstc2_reader'] at line 112: [loading dialogs from /home/vimary/code-projects/Pilot/examples/my_data/dstc2-val.jsonlist]\n",
      "2019-08-09 18:04:44.999 INFO in 'deeppavlov.dataset_readers.dstc2_reader'['dstc2_reader'] at line 112: [loading dialogs from /home/vimary/code-projects/Pilot/examples/my_data/dstc2-tst.jsonlist]\n",
      "[nltk_data] Downloading package punkt to /home/vimary/nltk_data...\n",
      "[nltk_data]   Package punkt is already up-to-date!\n",
      "[nltk_data] Downloading package stopwords to /home/vimary/nltk_data...\n",
      "[nltk_data]   Package stopwords is already up-to-date!\n",
      "[nltk_data] Downloading package perluniprops to\n",
      "[nltk_data]     /home/vimary/nltk_data...\n",
      "[nltk_data]   Package perluniprops is already up-to-date!\n",
      "[nltk_data] Downloading package nonbreaking_prefixes to\n",
      "[nltk_data]     /home/vimary/nltk_data...\n",
      "[nltk_data]   Package nonbreaking_prefixes is already up-to-date!\n"
     ]
    },
    {
     "name": "stdout",
     "output_type": "stream",
     "text": [
      "{\"valid\": {\"eval_examples_count\": 1444, \"metrics\": {\"slots_accuracy\": 0.9307}, \"time_spent\": \"0:00:27\"}}\n",
      "{\"test\": {\"eval_examples_count\": 1386, \"metrics\": {\"slots_accuracy\": 0.9481}, \"time_spent\": \"0:00:25\"}}\n"
     ]
    }
   ],
   "source": [
    "from deeppavlov import evaluate_model\n",
    "\n",
    "slotfill_raw = evaluate_model(slotfill_raw_config);"
   ]
  },
  {
   "cell_type": "markdown",
   "metadata": {},
   "source": [
    "We've got slot accuracy of 93% on valid set and 94% on test set."
   ]
  },
  {
   "cell_type": "code",
   "execution_count": 16,
   "metadata": {},
   "outputs": [],
   "source": [
    "from deeppavlov import build_model\n",
    "\n",
    "slotfill_raw = build_model(slotfill_raw_config)"
   ]
  },
  {
   "cell_type": "code",
   "execution_count": 17,
   "metadata": {},
   "outputs": [
    {
     "data": {
      "text/plain": [
       "[{'food': 'chinese', 'pricerange': 'cheap'}]"
      ]
     },
     "execution_count": 17,
     "metadata": {},
     "output_type": "execute_result"
    }
   ],
   "source": [
    "slotfill_raw(['i want cheap chinese food'])"
   ]
  },
  {
   "cell_type": "markdown",
   "metadata": {},
   "source": [
    "### 2.2. Trainable slot filler"
   ]
  },
  {
   "cell_type": "code",
   "execution_count": 18,
   "metadata": {},
   "outputs": [],
   "source": [
    "from deeppavlov import configs\n",
    "from deeppavlov.core.common.file import read_json\n",
    "\n",
    "\n",
    "ner_config = read_json(configs.ner.ner_dstc2)"
   ]
  },
  {
   "cell_type": "code",
   "execution_count": 19,
   "metadata": {},
   "outputs": [],
   "source": [
    "ner_config['metadata']['variables']['DATA_PATH'] = 'my_data'\n",
    "ner_config['metadata']['variables']['SLOT_VALS_PATH'] = 'my_bot/slotfill/dstc_slot_vals.json'\n",
    "ner_config['metadata']['variables']['MODEL_PATH'] = 'my_bot/slotfill'"
   ]
  },
  {
   "cell_type": "code",
   "execution_count": 20,
   "metadata": {
    "scrolled": true
   },
   "outputs": [
    {
     "name": "stderr",
     "output_type": "stream",
     "text": [
      "2019-08-09 18:06:19.6 INFO in 'deeppavlov.dataset_readers.dstc2_reader'['dstc2_reader'] at line 112: [loading dialogs from /home/vimary/code-projects/Pilot/examples/my_data/dstc2-trn.jsonlist]\n",
      "2019-08-09 18:06:19.241 INFO in 'deeppavlov.dataset_readers.dstc2_reader'['dstc2_reader'] at line 112: [loading dialogs from /home/vimary/code-projects/Pilot/examples/my_data/dstc2-val.jsonlist]\n",
      "2019-08-09 18:06:19.440 INFO in 'deeppavlov.dataset_readers.dstc2_reader'['dstc2_reader'] at line 112: [loading dialogs from /home/vimary/code-projects/Pilot/examples/my_data/dstc2-tst.jsonlist]\n",
      "2019-08-09 18:06:19.748 INFO in 'deeppavlov.core.data.simple_vocab'['simple_vocab'] at line 98: [saving vocabulary to /home/vimary/code-projects/Pilot/examples/my_bot/slotfill/word.dict]\n",
      "2019-08-09 18:06:19.757 INFO in 'deeppavlov.core.data.simple_vocab'['simple_vocab'] at line 98: [saving vocabulary to /home/vimary/code-projects/Pilot/examples/my_bot/slotfill/tag.dict]\n",
      "WARNING: Logging before flag parsing goes to stderr.\n",
      "W0809 18:06:20.605350 139777813403264 deprecation_wrapper.py:119] From /home/vimary/code-projects/Pilot/deeppavlov/core/models/tf_model.py:38: The name tf.Session is deprecated. Please use tf.compat.v1.Session instead.\n",
      "\n",
      "W0809 18:06:20.606389 139777813403264 deprecation_wrapper.py:119] From /home/vimary/code-projects/Pilot/deeppavlov/core/models/tf_model.py:223: The name tf.placeholder is deprecated. Please use tf.compat.v1.placeholder instead.\n",
      "\n",
      "W0809 18:06:20.606951 139777813403264 deprecation_wrapper.py:119] From /home/vimary/code-projects/Pilot/deeppavlov/core/models/tf_model.py:223: The name tf.train.Optimizer is deprecated. Please use tf.compat.v1.train.Optimizer instead.\n",
      "\n",
      "Using TensorFlow backend.\n",
      "W0809 18:06:20.633317 139777813403264 deprecation_wrapper.py:119] From /home/vimary/code-projects/Pilot/deeppavlov/models/ner/network.py:96: The name tf.set_random_seed is deprecated. Please use tf.compat.v1.set_random_seed instead.\n",
      "\n",
      "W0809 18:06:20.634257 139777813403264 deprecation_wrapper.py:119] From /home/vimary/code-projects/Pilot/deeppavlov/core/models/tf_model.py:194: The name tf.train.AdamOptimizer is deprecated. Please use tf.compat.v1.train.AdamOptimizer instead.\n",
      "\n",
      "W0809 18:06:20.639091 139777813403264 deprecation_wrapper.py:119] From /home/vimary/code-projects/Pilot/deeppavlov/models/ner/network.py:170: The name tf.placeholder_with_default is deprecated. Please use tf.compat.v1.placeholder_with_default instead.\n",
      "\n",
      "W0809 18:06:20.653951 139777813403264 deprecation.py:506] From /home/vimary/code-projects/Pilot/deeppavlov/core/layers/tf_layers.py:948: calling dropout (from tensorflow.python.ops.nn_ops) with keep_prob is deprecated and will be removed in a future version.\n",
      "Instructions for updating:\n",
      "Please use `rate` instead of `keep_prob`. Rate should be set to `rate = 1 - keep_prob`.\n",
      "W0809 18:06:20.660851 139777813403264 deprecation.py:323] From /home/vimary/code-projects/Pilot/deeppavlov/core/layers/tf_layers.py:66: conv1d (from tensorflow.python.layers.convolutional) is deprecated and will be removed in a future version.\n",
      "Instructions for updating:\n",
      "Use `tf.keras.layers.Conv1D` instead.\n",
      "W0809 18:06:20.724188 139777813403264 deprecation.py:323] From /home/vimary/code-projects/Pilot/deeppavlov/core/layers/tf_layers.py:69: batch_normalization (from tensorflow.python.layers.normalization) is deprecated and will be removed in a future version.\n",
      "Instructions for updating:\n",
      "Use keras.layers.BatchNormalization instead.  In particular, `tf.control_dependencies(tf.GraphKeys.UPDATE_OPS)` should not be used (consult the `tf.keras.layers.batch_normalization` documentation).\n",
      "W0809 18:06:20.839594 139777813403264 deprecation.py:323] From /home/vimary/code-projects/Pilot/deeppavlov/models/ner/network.py:248: dense (from tensorflow.python.layers.core) is deprecated and will be removed in a future version.\n",
      "Instructions for updating:\n",
      "Use keras.layers.dense instead.\n",
      "W0809 18:06:21.001144 139777813403264 deprecation.py:323] From /home/vimary/code-projects/Pilot/deeppavlov/models/ner/network.py:259: softmax_cross_entropy_with_logits (from tensorflow.python.ops.nn_ops) is deprecated and will be removed in a future version.\n",
      "Instructions for updating:\n",
      "\n",
      "Future major versions of TensorFlow will allow gradients to flow\n",
      "into the labels input on backprop by default.\n",
      "\n",
      "See `tf.nn.softmax_cross_entropy_with_logits_v2`.\n",
      "\n",
      "W0809 18:06:21.016944 139777813403264 deprecation_wrapper.py:119] From /home/vimary/code-projects/Pilot/deeppavlov/core/models/tf_model.py:123: The name tf.variable_scope is deprecated. Please use tf.compat.v1.variable_scope instead.\n",
      "\n",
      "W0809 18:06:21.201183 139777813403264 deprecation.py:323] From /home/vimary/dp_env/lib/python3.7/site-packages/tensorflow/python/ops/clip_ops.py:157: add_dispatch_support.<locals>.wrapper (from tensorflow.python.ops.array_ops) is deprecated and will be removed in a future version.\n",
      "Instructions for updating:\n",
      "Use tf.where in 2.0, which has the same broadcast rule as np.where\n",
      "W0809 18:06:22.065819 139777813403264 deprecation.py:323] From /home/vimary/code-projects/Pilot/deeppavlov/core/models/tf_model.py:51: checkpoint_exists (from tensorflow.python.training.checkpoint_management) is deprecated and will be removed in a future version.\n",
      "Instructions for updating:\n",
      "Use standard file APIs to check for files with this prefix.\n",
      "2019-08-09 18:06:23.50 DEBUG in 'deeppavlov.metrics.fmeasure'['fmeasure'] at line 390: processed 8424 tokens with 1244 phrases; found: 8110 phrases; correct: 0.\n",
      "\n",
      "precision:  5.83%; recall:  38.02%; FB1:  10.11\n",
      "\n",
      "\tarea: precision:  5.56%; recall:  2.67%; F1:  3.60 144\n",
      "\n",
      "\tfood: precision:  6.44%; recall:  74.84%; F1:  11.86 7203\n",
      "\n",
      "\tname: precision:  0.00%; recall:  0.00%; F1:  0.00 173\n",
      "\n",
      "\tpricerange: precision:  0.00%; recall:  0.00%; F1:  0.00 49\n",
      "\n",
      "\tthis: precision:  0.18%; recall:  3.12%; F1:  0.35 541\n",
      "\n",
      "\n",
      "I0809 18:06:23.050280 139777813403264 fmeasure.py:390] processed 8424 tokens with 1244 phrases; found: 8110 phrases; correct: 0.\n",
      "\n",
      "precision:  5.83%; recall:  38.02%; FB1:  10.11\n",
      "\n",
      "\tarea: precision:  5.56%; recall:  2.67%; F1:  3.60 144\n",
      "\n",
      "\tfood: precision:  6.44%; recall:  74.84%; F1:  11.86 7203\n",
      "\n",
      "\tname: precision:  0.00%; recall:  0.00%; F1:  0.00 173\n",
      "\n",
      "\tpricerange: precision:  0.00%; recall:  0.00%; F1:  0.00 49\n",
      "\n",
      "\tthis: precision:  0.18%; recall:  3.12%; F1:  0.35 541\n",
      "\n",
      "\n",
      "2019-08-09 18:06:23.52 INFO in 'deeppavlov.core.trainers.nn_trainer'['nn_trainer'] at line 164: New best ner_f1 of 10.1133\n",
      "I0809 18:06:23.052067 139777813403264 nn_trainer.py:164] New best ner_f1 of 10.1133\n",
      "2019-08-09 18:06:23.52 INFO in 'deeppavlov.core.trainers.nn_trainer'['nn_trainer'] at line 166: Saving model\n",
      "I0809 18:06:23.052815 139777813403264 nn_trainer.py:166] Saving model\n",
      "2019-08-09 18:06:23.53 INFO in 'deeppavlov.core.models.tf_model'['tf_model'] at line 76: [saving model to /home/vimary/code-projects/Pilot/examples/my_bot/slotfill/model]\n",
      "I0809 18:06:23.053784 139777813403264 tf_model.py:76] [saving model to /home/vimary/code-projects/Pilot/examples/my_bot/slotfill/model]\n",
      "W0809 18:06:23.054455 139777813403264 deprecation_wrapper.py:119] From /home/vimary/code-projects/Pilot/deeppavlov/core/models/tf_model.py:78: The name tf.train.Saver is deprecated. Please use tf.compat.v1.train.Saver instead.\n",
      "\n"
     ]
    },
    {
     "name": "stdout",
     "output_type": "stream",
     "text": [
      "{\"valid\": {\"eval_examples_count\": 1444, \"metrics\": {\"ner_f1\": 10.1133, \"per_token_accuracy\": 0.0715}, \"time_spent\": \"0:00:01\", \"epochs_done\": 0, \"batches_seen\": 0, \"train_examples_seen\": 0, \"impatience\": 0, \"patience_limit\": 5}}\n"
     ]
    },
    {
     "name": "stderr",
     "output_type": "stream",
     "text": [
      "2019-08-09 18:06:23.849 DEBUG in 'deeppavlov.metrics.fmeasure'['fmeasure'] at line 390: processed 422 tokens with 62 phrases; found: 62 phrases; correct: 0.\n",
      "\n",
      "precision:  98.39%; recall:  98.39%; FB1:  98.39\n",
      "\n",
      "\tarea: precision:  95.45%; recall:  100.00%; F1:  97.67 22\n",
      "\n",
      "\tfood: precision:  100.00%; recall:  100.00%; F1:  100.00 25\n",
      "\n",
      "\tname: precision:  0.00%; recall:  0.00%; F1:  0.00 0\n",
      "\n",
      "\tpricerange: precision:  100.00%; recall:  100.00%; F1:  100.00 15\n",
      "\n",
      "\n",
      "I0809 18:06:23.849567 139777813403264 fmeasure.py:390] processed 422 tokens with 62 phrases; found: 62 phrases; correct: 0.\n",
      "\n",
      "precision:  98.39%; recall:  98.39%; FB1:  98.39\n",
      "\n",
      "\tarea: precision:  95.45%; recall:  100.00%; F1:  97.67 22\n",
      "\n",
      "\tfood: precision:  100.00%; recall:  100.00%; F1:  100.00 25\n",
      "\n",
      "\tname: precision:  0.00%; recall:  0.00%; F1:  0.00 0\n",
      "\n",
      "\tpricerange: precision:  100.00%; recall:  100.00%; F1:  100.00 15\n",
      "\n",
      "\n"
     ]
    },
    {
     "name": "stdout",
     "output_type": "stream",
     "text": [
      "{\"train\": {\"eval_examples_count\": 64, \"metrics\": {\"ner_f1\": 98.3871, \"per_token_accuracy\": 0.9953}, \"time_spent\": \"0:00:02\", \"epochs_done\": 3, \"batches_seen\": 100, \"train_examples_seen\": 6247, \"learning_rate\": 0.01, \"momentum\": null, \"loss\": 0.07777087733149529}}\n"
     ]
    },
    {
     "name": "stderr",
     "output_type": "stream",
     "text": [
      "2019-08-09 18:06:24.220 DEBUG in 'deeppavlov.metrics.fmeasure'['fmeasure'] at line 390: processed 8424 tokens with 1244 phrases; found: 1258 phrases; correct: 0.\n",
      "\n",
      "precision:  96.26%; recall:  97.35%; FB1:  96.80\n",
      "\n",
      "\tarea: precision:  98.34%; recall:  99.00%; F1:  98.67 302\n",
      "\n",
      "\tfood: precision:  96.65%; recall:  97.58%; F1:  97.11 626\n",
      "\n",
      "\tname: precision:  0.00%; recall:  0.00%; F1:  0.00 0\n",
      "\n",
      "\tpricerange: precision:  96.94%; recall:  98.28%; F1:  97.60 294\n",
      "\n",
      "\tthis: precision:  66.67%; recall:  75.00%; F1:  70.59 36\n",
      "\n",
      "\n",
      "I0809 18:06:24.220485 139777813403264 fmeasure.py:390] processed 8424 tokens with 1244 phrases; found: 1258 phrases; correct: 0.\n",
      "\n",
      "precision:  96.26%; recall:  97.35%; FB1:  96.80\n",
      "\n",
      "\tarea: precision:  98.34%; recall:  99.00%; F1:  98.67 302\n",
      "\n",
      "\tfood: precision:  96.65%; recall:  97.58%; F1:  97.11 626\n",
      "\n",
      "\tname: precision:  0.00%; recall:  0.00%; F1:  0.00 0\n",
      "\n",
      "\tpricerange: precision:  96.94%; recall:  98.28%; F1:  97.60 294\n",
      "\n",
      "\tthis: precision:  66.67%; recall:  75.00%; F1:  70.59 36\n",
      "\n",
      "\n",
      "2019-08-09 18:06:24.222 INFO in 'deeppavlov.core.trainers.nn_trainer'['nn_trainer'] at line 164: New best ner_f1 of 96.8026\n",
      "I0809 18:06:24.222732 139777813403264 nn_trainer.py:164] New best ner_f1 of 96.8026\n",
      "2019-08-09 18:06:24.223 INFO in 'deeppavlov.core.trainers.nn_trainer'['nn_trainer'] at line 166: Saving model\n",
      "I0809 18:06:24.223505 139777813403264 nn_trainer.py:166] Saving model\n",
      "2019-08-09 18:06:24.224 INFO in 'deeppavlov.core.models.tf_model'['tf_model'] at line 76: [saving model to /home/vimary/code-projects/Pilot/examples/my_bot/slotfill/model]\n",
      "I0809 18:06:24.224558 139777813403264 tf_model.py:76] [saving model to /home/vimary/code-projects/Pilot/examples/my_bot/slotfill/model]\n"
     ]
    },
    {
     "name": "stdout",
     "output_type": "stream",
     "text": [
      "{\"valid\": {\"eval_examples_count\": 1444, \"metrics\": {\"ner_f1\": 96.8026, \"per_token_accuracy\": 0.9911}, \"time_spent\": \"0:00:03\", \"epochs_done\": 5, \"batches_seen\": 155, \"train_examples_seen\": 9665, \"impatience\": 0, \"patience_limit\": 5}}\n"
     ]
    },
    {
     "name": "stderr",
     "output_type": "stream",
     "text": [
      "2019-08-09 18:06:24.554 DEBUG in 'deeppavlov.metrics.fmeasure'['fmeasure'] at line 390: processed 448 tokens with 63 phrases; found: 63 phrases; correct: 0.\n",
      "\n",
      "precision:  98.41%; recall:  98.41%; FB1:  98.41\n",
      "\n",
      "\tarea: precision:  100.00%; recall:  100.00%; F1:  100.00 20\n",
      "\n",
      "\tfood: precision:  96.67%; recall:  96.67%; F1:  96.67 30\n",
      "\n",
      "\tpricerange: precision:  100.00%; recall:  100.00%; F1:  100.00 11\n",
      "\n",
      "\tthis: precision:  100.00%; recall:  100.00%; F1:  100.00 2\n",
      "\n",
      "\n",
      "I0809 18:06:24.554224 139777813403264 fmeasure.py:390] processed 448 tokens with 63 phrases; found: 63 phrases; correct: 0.\n",
      "\n",
      "precision:  98.41%; recall:  98.41%; FB1:  98.41\n",
      "\n",
      "\tarea: precision:  100.00%; recall:  100.00%; F1:  100.00 20\n",
      "\n",
      "\tfood: precision:  96.67%; recall:  96.67%; F1:  96.67 30\n",
      "\n",
      "\tpricerange: precision:  100.00%; recall:  100.00%; F1:  100.00 11\n",
      "\n",
      "\tthis: precision:  100.00%; recall:  100.00%; F1:  100.00 2\n",
      "\n",
      "\n"
     ]
    },
    {
     "name": "stdout",
     "output_type": "stream",
     "text": [
      "{\"train\": {\"eval_examples_count\": 64, \"metrics\": {\"ner_f1\": 98.4127, \"per_token_accuracy\": 0.9978}, \"time_spent\": \"0:00:03\", \"epochs_done\": 6, \"batches_seen\": 200, \"train_examples_seen\": 12494, \"learning_rate\": 0.01, \"momentum\": null, \"loss\": 0.013241253941087052}}\n"
     ]
    },
    {
     "name": "stderr",
     "output_type": "stream",
     "text": [
      "2019-08-09 18:06:25.43 DEBUG in 'deeppavlov.metrics.fmeasure'['fmeasure'] at line 390: processed 403 tokens with 55 phrases; found: 55 phrases; correct: 0.\n",
      "\n",
      "precision:  100.00%; recall:  100.00%; FB1:  100.00\n",
      "\n",
      "\tarea: precision:  100.00%; recall:  100.00%; F1:  100.00 13\n",
      "\n",
      "\tfood: precision:  100.00%; recall:  100.00%; F1:  100.00 28\n",
      "\n",
      "\tpricerange: precision:  100.00%; recall:  100.00%; F1:  100.00 12\n",
      "\n",
      "\tthis: precision:  100.00%; recall:  100.00%; F1:  100.00 2\n",
      "\n",
      "\n",
      "I0809 18:06:25.043571 139777813403264 fmeasure.py:390] processed 403 tokens with 55 phrases; found: 55 phrases; correct: 0.\n",
      "\n",
      "precision:  100.00%; recall:  100.00%; FB1:  100.00\n",
      "\n",
      "\tarea: precision:  100.00%; recall:  100.00%; F1:  100.00 13\n",
      "\n",
      "\tfood: precision:  100.00%; recall:  100.00%; F1:  100.00 28\n",
      "\n",
      "\tpricerange: precision:  100.00%; recall:  100.00%; F1:  100.00 12\n",
      "\n",
      "\tthis: precision:  100.00%; recall:  100.00%; F1:  100.00 2\n",
      "\n",
      "\n",
      "2019-08-09 18:06:25.213 DEBUG in 'deeppavlov.metrics.fmeasure'['fmeasure'] at line 390: processed 8424 tokens with 1244 phrases; found: 1252 phrases; correct: 0.\n",
      "\n",
      "precision:  96.88%; recall:  97.51%; FB1:  97.20\n",
      "\n",
      "\tarea: precision:  98.68%; recall:  99.33%; F1:  99.00 302\n",
      "\n",
      "\tfood: precision:  96.95%; recall:  97.42%; F1:  97.18 623\n",
      "\n",
      "\tname: precision:  0.00%; recall:  0.00%; F1:  0.00 1\n",
      "\n",
      "\tpricerange: precision:  97.96%; recall:  99.31%; F1:  98.63 294\n",
      "\n",
      "\tthis: precision:  71.88%; recall:  71.88%; F1:  71.88 32\n",
      "\n",
      "\n",
      "I0809 18:06:25.213141 139777813403264 fmeasure.py:390] processed 8424 tokens with 1244 phrases; found: 1252 phrases; correct: 0.\n",
      "\n",
      "precision:  96.88%; recall:  97.51%; FB1:  97.20\n",
      "\n",
      "\tarea: precision:  98.68%; recall:  99.33%; F1:  99.00 302\n",
      "\n",
      "\tfood: precision:  96.95%; recall:  97.42%; F1:  97.18 623\n",
      "\n",
      "\tname: precision:  0.00%; recall:  0.00%; F1:  0.00 1\n",
      "\n",
      "\tpricerange: precision:  97.96%; recall:  99.31%; F1:  98.63 294\n",
      "\n",
      "\tthis: precision:  71.88%; recall:  71.88%; F1:  71.88 32\n",
      "\n",
      "\n",
      "2019-08-09 18:06:25.215 INFO in 'deeppavlov.core.trainers.nn_trainer'['nn_trainer'] at line 164: New best ner_f1 of 97.1955\n",
      "I0809 18:06:25.215008 139777813403264 nn_trainer.py:164] New best ner_f1 of 97.1955\n",
      "2019-08-09 18:06:25.215 INFO in 'deeppavlov.core.trainers.nn_trainer'['nn_trainer'] at line 166: Saving model\n",
      "I0809 18:06:25.215728 139777813403264 nn_trainer.py:166] Saving model\n",
      "2019-08-09 18:06:25.216 INFO in 'deeppavlov.core.models.tf_model'['tf_model'] at line 76: [saving model to /home/vimary/code-projects/Pilot/examples/my_bot/slotfill/model]\n",
      "I0809 18:06:25.216459 139777813403264 tf_model.py:76] [saving model to /home/vimary/code-projects/Pilot/examples/my_bot/slotfill/model]\n"
     ]
    },
    {
     "name": "stdout",
     "output_type": "stream",
     "text": [
      "{\"train\": {\"eval_examples_count\": 64, \"metrics\": {\"ner_f1\": 100.0, \"per_token_accuracy\": 1.0}, \"time_spent\": \"0:00:03\", \"epochs_done\": 9, \"batches_seen\": 300, \"train_examples_seen\": 18741, \"learning_rate\": 0.01, \"momentum\": null, \"loss\": 0.007982977222418412}}\n",
      "{\"valid\": {\"eval_examples_count\": 1444, \"metrics\": {\"ner_f1\": 97.1955, \"per_token_accuracy\": 0.9912}, \"time_spent\": \"0:00:04\", \"epochs_done\": 10, \"batches_seen\": 310, \"train_examples_seen\": 19330, \"impatience\": 0, \"patience_limit\": 5}}\n"
     ]
    },
    {
     "name": "stderr",
     "output_type": "stream",
     "text": [
      "2019-08-09 18:06:25.760 DEBUG in 'deeppavlov.metrics.fmeasure'['fmeasure'] at line 390: processed 365 tokens with 52 phrases; found: 52 phrases; correct: 0.\n",
      "\n",
      "precision:  100.00%; recall:  100.00%; FB1:  100.00\n",
      "\n",
      "\tarea: precision:  100.00%; recall:  100.00%; F1:  100.00 12\n",
      "\n",
      "\tfood: precision:  100.00%; recall:  100.00%; F1:  100.00 28\n",
      "\n",
      "\tname: precision:  100.00%; recall:  100.00%; F1:  100.00 1\n",
      "\n",
      "\tpricerange: precision:  100.00%; recall:  100.00%; F1:  100.00 10\n",
      "\n",
      "\tthis: precision:  100.00%; recall:  100.00%; F1:  100.00 1\n",
      "\n",
      "\n",
      "I0809 18:06:25.760308 139777813403264 fmeasure.py:390] processed 365 tokens with 52 phrases; found: 52 phrases; correct: 0.\n",
      "\n",
      "precision:  100.00%; recall:  100.00%; FB1:  100.00\n",
      "\n",
      "\tarea: precision:  100.00%; recall:  100.00%; F1:  100.00 12\n",
      "\n",
      "\tfood: precision:  100.00%; recall:  100.00%; F1:  100.00 28\n",
      "\n",
      "\tname: precision:  100.00%; recall:  100.00%; F1:  100.00 1\n",
      "\n",
      "\tpricerange: precision:  100.00%; recall:  100.00%; F1:  100.00 10\n",
      "\n",
      "\tthis: precision:  100.00%; recall:  100.00%; F1:  100.00 1\n",
      "\n",
      "\n"
     ]
    },
    {
     "name": "stdout",
     "output_type": "stream",
     "text": [
      "{\"train\": {\"eval_examples_count\": 64, \"metrics\": {\"ner_f1\": 100.0, \"per_token_accuracy\": 1.0}, \"time_spent\": \"0:00:04\", \"epochs_done\": 12, \"batches_seen\": 400, \"train_examples_seen\": 24988, \"learning_rate\": 0.01, \"momentum\": null, \"loss\": 0.00528700486109301}}\n"
     ]
    },
    {
     "name": "stderr",
     "output_type": "stream",
     "text": [
      "2019-08-09 18:06:26.216 DEBUG in 'deeppavlov.metrics.fmeasure'['fmeasure'] at line 390: processed 8424 tokens with 1244 phrases; found: 1233 phrases; correct: 0.\n",
      "\n",
      "precision:  98.38%; recall:  97.51%; FB1:  97.94\n",
      "\n",
      "\tarea: precision:  99.67%; recall:  99.33%; F1:  99.50 299\n",
      "\n",
      "\tfood: precision:  99.01%; recall:  96.77%; F1:  97.88 606\n",
      "\n",
      "\tname: precision:  0.00%; recall:  0.00%; F1:  0.00 1\n",
      "\n",
      "\tpricerange: precision:  97.96%; recall:  99.31%; F1:  98.63 294\n",
      "\n",
      "\tthis: precision:  81.82%; recall:  84.38%; F1:  83.08 33\n",
      "\n",
      "\n",
      "I0809 18:06:26.216442 139777813403264 fmeasure.py:390] processed 8424 tokens with 1244 phrases; found: 1233 phrases; correct: 0.\n",
      "\n",
      "precision:  98.38%; recall:  97.51%; FB1:  97.94\n",
      "\n",
      "\tarea: precision:  99.67%; recall:  99.33%; F1:  99.50 299\n",
      "\n",
      "\tfood: precision:  99.01%; recall:  96.77%; F1:  97.88 606\n",
      "\n",
      "\tname: precision:  0.00%; recall:  0.00%; F1:  0.00 1\n",
      "\n",
      "\tpricerange: precision:  97.96%; recall:  99.31%; F1:  98.63 294\n",
      "\n",
      "\tthis: precision:  81.82%; recall:  84.38%; F1:  83.08 33\n",
      "\n",
      "\n",
      "2019-08-09 18:06:26.218 INFO in 'deeppavlov.core.trainers.nn_trainer'['nn_trainer'] at line 164: New best ner_f1 of 97.9411\n",
      "I0809 18:06:26.218686 139777813403264 nn_trainer.py:164] New best ner_f1 of 97.9411\n",
      "2019-08-09 18:06:26.220 INFO in 'deeppavlov.core.trainers.nn_trainer'['nn_trainer'] at line 166: Saving model\n",
      "I0809 18:06:26.220007 139777813403264 nn_trainer.py:166] Saving model\n",
      "2019-08-09 18:06:26.221 INFO in 'deeppavlov.core.models.tf_model'['tf_model'] at line 76: [saving model to /home/vimary/code-projects/Pilot/examples/my_bot/slotfill/model]\n",
      "I0809 18:06:26.221000 139777813403264 tf_model.py:76] [saving model to /home/vimary/code-projects/Pilot/examples/my_bot/slotfill/model]\n",
      "2019-08-09 18:06:26.513 DEBUG in 'deeppavlov.metrics.fmeasure'['fmeasure'] at line 390: processed 398 tokens with 52 phrases; found: 52 phrases; correct: 0.\n",
      "\n",
      "precision:  100.00%; recall:  100.00%; FB1:  100.00\n",
      "\n",
      "\tarea: precision:  100.00%; recall:  100.00%; F1:  100.00 13\n",
      "\n",
      "\tfood: precision:  100.00%; recall:  100.00%; F1:  100.00 26\n",
      "\n",
      "\tpricerange: precision:  100.00%; recall:  100.00%; F1:  100.00 13\n",
      "\n",
      "\n",
      "I0809 18:06:26.513005 139777813403264 fmeasure.py:390] processed 398 tokens with 52 phrases; found: 52 phrases; correct: 0.\n",
      "\n",
      "precision:  100.00%; recall:  100.00%; FB1:  100.00\n",
      "\n",
      "\tarea: precision:  100.00%; recall:  100.00%; F1:  100.00 13\n",
      "\n",
      "\tfood: precision:  100.00%; recall:  100.00%; F1:  100.00 26\n",
      "\n",
      "\tpricerange: precision:  100.00%; recall:  100.00%; F1:  100.00 13\n",
      "\n",
      "\n"
     ]
    },
    {
     "name": "stdout",
     "output_type": "stream",
     "text": [
      "{\"valid\": {\"eval_examples_count\": 1444, \"metrics\": {\"ner_f1\": 97.9411, \"per_token_accuracy\": 0.9932}, \"time_spent\": \"0:00:05\", \"epochs_done\": 15, \"batches_seen\": 465, \"train_examples_seen\": 28995, \"impatience\": 0, \"patience_limit\": 5}}\n",
      "{\"train\": {\"eval_examples_count\": 64, \"metrics\": {\"ner_f1\": 100.0, \"per_token_accuracy\": 1.0}, \"time_spent\": \"0:00:05\", \"epochs_done\": 16, \"batches_seen\": 500, \"train_examples_seen\": 31184, \"learning_rate\": 0.01, \"momentum\": null, \"loss\": 0.0041977644560392945}}\n"
     ]
    },
    {
     "name": "stderr",
     "output_type": "stream",
     "text": [
      "2019-08-09 18:06:27.2 DEBUG in 'deeppavlov.metrics.fmeasure'['fmeasure'] at line 390: processed 410 tokens with 61 phrases; found: 61 phrases; correct: 0.\n",
      "\n",
      "precision:  98.36%; recall:  98.36%; FB1:  98.36\n",
      "\n",
      "\tarea: precision:  100.00%; recall:  100.00%; F1:  100.00 19\n",
      "\n",
      "\tfood: precision:  96.00%; recall:  100.00%; F1:  97.96 25\n",
      "\n",
      "\tname: precision:  0.00%; recall:  0.00%; F1:  0.00 0\n",
      "\n",
      "\tpricerange: precision:  100.00%; recall:  100.00%; F1:  100.00 16\n",
      "\n",
      "\tthis: precision:  100.00%; recall:  100.00%; F1:  100.00 1\n",
      "\n",
      "\n",
      "I0809 18:06:27.002207 139777813403264 fmeasure.py:390] processed 410 tokens with 61 phrases; found: 61 phrases; correct: 0.\n",
      "\n",
      "precision:  98.36%; recall:  98.36%; FB1:  98.36\n",
      "\n",
      "\tarea: precision:  100.00%; recall:  100.00%; F1:  100.00 19\n",
      "\n",
      "\tfood: precision:  96.00%; recall:  100.00%; F1:  97.96 25\n",
      "\n",
      "\tname: precision:  0.00%; recall:  0.00%; F1:  0.00 0\n",
      "\n",
      "\tpricerange: precision:  100.00%; recall:  100.00%; F1:  100.00 16\n",
      "\n",
      "\tthis: precision:  100.00%; recall:  100.00%; F1:  100.00 1\n",
      "\n",
      "\n"
     ]
    },
    {
     "name": "stdout",
     "output_type": "stream",
     "text": [
      "{\"train\": {\"eval_examples_count\": 64, \"metrics\": {\"ner_f1\": 98.3607, \"per_token_accuracy\": 0.9976}, \"time_spent\": \"0:00:05\", \"epochs_done\": 19, \"batches_seen\": 600, \"train_examples_seen\": 37431, \"learning_rate\": 0.01, \"momentum\": null, \"loss\": 0.0033272233200113987}}\n"
     ]
    },
    {
     "name": "stderr",
     "output_type": "stream",
     "text": [
      "2019-08-09 18:06:27.210 DEBUG in 'deeppavlov.metrics.fmeasure'['fmeasure'] at line 390: processed 8424 tokens with 1244 phrases; found: 1250 phrases; correct: 0.\n",
      "\n",
      "precision:  97.84%; recall:  98.31%; FB1:  98.08\n",
      "\n",
      "\tarea: precision:  99.34%; recall:  99.67%; F1:  99.50 301\n",
      "\n",
      "\tfood: precision:  97.59%; recall:  97.90%; F1:  97.75 622\n",
      "\n",
      "\tname: precision:  0.00%; recall:  0.00%; F1:  0.00 1\n",
      "\n",
      "\tpricerange: precision:  98.29%; recall:  99.31%; F1:  98.80 293\n",
      "\n",
      "\tthis: precision:  87.88%; recall:  90.62%; F1:  89.23 33\n",
      "\n",
      "\n",
      "I0809 18:06:27.210841 139777813403264 fmeasure.py:390] processed 8424 tokens with 1244 phrases; found: 1250 phrases; correct: 0.\n",
      "\n",
      "precision:  97.84%; recall:  98.31%; FB1:  98.08\n",
      "\n",
      "\tarea: precision:  99.34%; recall:  99.67%; F1:  99.50 301\n",
      "\n",
      "\tfood: precision:  97.59%; recall:  97.90%; F1:  97.75 622\n",
      "\n",
      "\tname: precision:  0.00%; recall:  0.00%; F1:  0.00 1\n",
      "\n",
      "\tpricerange: precision:  98.29%; recall:  99.31%; F1:  98.80 293\n",
      "\n",
      "\tthis: precision:  87.88%; recall:  90.62%; F1:  89.23 33\n",
      "\n",
      "\n",
      "2019-08-09 18:06:27.212 INFO in 'deeppavlov.core.trainers.nn_trainer'['nn_trainer'] at line 164: New best ner_f1 of 98.0754\n",
      "I0809 18:06:27.212919 139777813403264 nn_trainer.py:164] New best ner_f1 of 98.0754\n",
      "2019-08-09 18:06:27.213 INFO in 'deeppavlov.core.trainers.nn_trainer'['nn_trainer'] at line 166: Saving model\n",
      "I0809 18:06:27.213639 139777813403264 nn_trainer.py:166] Saving model\n",
      "2019-08-09 18:06:27.215 INFO in 'deeppavlov.core.models.tf_model'['tf_model'] at line 76: [saving model to /home/vimary/code-projects/Pilot/examples/my_bot/slotfill/model]\n",
      "I0809 18:06:27.215556 139777813403264 tf_model.py:76] [saving model to /home/vimary/code-projects/Pilot/examples/my_bot/slotfill/model]\n"
     ]
    },
    {
     "name": "stdout",
     "output_type": "stream",
     "text": [
      "{\"valid\": {\"eval_examples_count\": 1444, \"metrics\": {\"ner_f1\": 98.0754, \"per_token_accuracy\": 0.9932}, \"time_spent\": \"0:00:06\", \"epochs_done\": 20, \"batches_seen\": 620, \"train_examples_seen\": 38660, \"impatience\": 0, \"patience_limit\": 5}}\n"
     ]
    },
    {
     "name": "stderr",
     "output_type": "stream",
     "text": [
      "2019-08-09 18:06:27.718 DEBUG in 'deeppavlov.metrics.fmeasure'['fmeasure'] at line 390: processed 318 tokens with 43 phrases; found: 43 phrases; correct: 0.\n",
      "\n",
      "precision:  100.00%; recall:  100.00%; FB1:  100.00\n",
      "\n",
      "\tarea: precision:  100.00%; recall:  100.00%; F1:  100.00 8\n",
      "\n",
      "\tfood: precision:  100.00%; recall:  100.00%; F1:  100.00 22\n",
      "\n",
      "\tpricerange: precision:  100.00%; recall:  100.00%; F1:  100.00 13\n",
      "\n",
      "\n",
      "I0809 18:06:27.718801 139777813403264 fmeasure.py:390] processed 318 tokens with 43 phrases; found: 43 phrases; correct: 0.\n",
      "\n",
      "precision:  100.00%; recall:  100.00%; FB1:  100.00\n",
      "\n",
      "\tarea: precision:  100.00%; recall:  100.00%; F1:  100.00 8\n",
      "\n",
      "\tfood: precision:  100.00%; recall:  100.00%; F1:  100.00 22\n",
      "\n",
      "\tpricerange: precision:  100.00%; recall:  100.00%; F1:  100.00 13\n",
      "\n",
      "\n"
     ]
    },
    {
     "name": "stdout",
     "output_type": "stream",
     "text": [
      "{\"train\": {\"eval_examples_count\": 64, \"metrics\": {\"ner_f1\": 100.0, \"per_token_accuracy\": 1.0}, \"time_spent\": \"0:00:06\", \"epochs_done\": 22, \"batches_seen\": 700, \"train_examples_seen\": 43678, \"learning_rate\": 0.01, \"momentum\": null, \"loss\": 0.003370387958275387}}\n"
     ]
    },
    {
     "name": "stderr",
     "output_type": "stream",
     "text": [
      "2019-08-09 18:06:28.215 DEBUG in 'deeppavlov.metrics.fmeasure'['fmeasure'] at line 390: processed 8424 tokens with 1244 phrases; found: 1227 phrases; correct: 0.\n",
      "\n",
      "precision:  98.70%; recall:  97.35%; FB1:  98.02\n",
      "\n",
      "\tarea: precision:  99.67%; recall:  99.33%; F1:  99.50 299\n",
      "\n",
      "\tfood: precision:  99.17%; recall:  96.61%; F1:  97.88 604\n",
      "\n",
      "\tname: precision:  0.00%; recall:  0.00%; F1:  0.00 1\n",
      "\n",
      "\tpricerange: precision:  97.95%; recall:  98.97%; F1:  98.46 293\n",
      "\n",
      "\tthis: precision:  90.00%; recall:  84.38%; F1:  87.10 30\n",
      "\n",
      "\n",
      "I0809 18:06:28.215773 139777813403264 fmeasure.py:390] processed 8424 tokens with 1244 phrases; found: 1227 phrases; correct: 0.\n",
      "\n",
      "precision:  98.70%; recall:  97.35%; FB1:  98.02\n",
      "\n",
      "\tarea: precision:  99.67%; recall:  99.33%; F1:  99.50 299\n",
      "\n",
      "\tfood: precision:  99.17%; recall:  96.61%; F1:  97.88 604\n",
      "\n",
      "\tname: precision:  0.00%; recall:  0.00%; F1:  0.00 1\n",
      "\n",
      "\tpricerange: precision:  97.95%; recall:  98.97%; F1:  98.46 293\n",
      "\n",
      "\tthis: precision:  90.00%; recall:  84.38%; F1:  87.10 30\n",
      "\n",
      "\n",
      "2019-08-09 18:06:28.217 INFO in 'deeppavlov.core.trainers.nn_trainer'['nn_trainer'] at line 170: Did not improve on the ner_f1 of 98.0754\n",
      "I0809 18:06:28.217755 139777813403264 nn_trainer.py:170] Did not improve on the ner_f1 of 98.0754\n",
      "2019-08-09 18:06:28.357 DEBUG in 'deeppavlov.metrics.fmeasure'['fmeasure'] at line 390: processed 410 tokens with 54 phrases; found: 54 phrases; correct: 0.\n",
      "\n",
      "precision:  100.00%; recall:  100.00%; FB1:  100.00\n",
      "\n",
      "\tarea: precision:  100.00%; recall:  100.00%; F1:  100.00 19\n",
      "\n",
      "\tfood: precision:  100.00%; recall:  100.00%; F1:  100.00 21\n",
      "\n",
      "\tpricerange: precision:  100.00%; recall:  100.00%; F1:  100.00 14\n",
      "\n",
      "\n",
      "I0809 18:06:28.357383 139777813403264 fmeasure.py:390] processed 410 tokens with 54 phrases; found: 54 phrases; correct: 0.\n",
      "\n",
      "precision:  100.00%; recall:  100.00%; FB1:  100.00\n",
      "\n",
      "\tarea: precision:  100.00%; recall:  100.00%; F1:  100.00 19\n",
      "\n",
      "\tfood: precision:  100.00%; recall:  100.00%; F1:  100.00 21\n",
      "\n",
      "\tpricerange: precision:  100.00%; recall:  100.00%; F1:  100.00 14\n",
      "\n",
      "\n"
     ]
    },
    {
     "name": "stdout",
     "output_type": "stream",
     "text": [
      "{\"valid\": {\"eval_examples_count\": 1444, \"metrics\": {\"ner_f1\": 98.017, \"per_token_accuracy\": 0.9932}, \"time_spent\": \"0:00:07\", \"epochs_done\": 25, \"batches_seen\": 775, \"train_examples_seen\": 48325, \"impatience\": 1, \"patience_limit\": 5}}\n",
      "{\"train\": {\"eval_examples_count\": 64, \"metrics\": {\"ner_f1\": 100.0, \"per_token_accuracy\": 1.0}, \"time_spent\": \"0:00:07\", \"epochs_done\": 25, \"batches_seen\": 800, \"train_examples_seen\": 49925, \"learning_rate\": 0.01, \"momentum\": null, \"loss\": 0.0025607238159136613}}\n"
     ]
    },
    {
     "name": "stderr",
     "output_type": "stream",
     "text": [
      "2019-08-09 18:06:28.887 DEBUG in 'deeppavlov.metrics.fmeasure'['fmeasure'] at line 390: processed 397 tokens with 65 phrases; found: 65 phrases; correct: 0.\n",
      "\n",
      "precision:  100.00%; recall:  100.00%; FB1:  100.00\n",
      "\n",
      "\tarea: precision:  100.00%; recall:  100.00%; F1:  100.00 18\n",
      "\n",
      "\tfood: precision:  100.00%; recall:  100.00%; F1:  100.00 30\n",
      "\n",
      "\tpricerange: precision:  100.00%; recall:  100.00%; F1:  100.00 17\n",
      "\n",
      "\n",
      "I0809 18:06:28.887870 139777813403264 fmeasure.py:390] processed 397 tokens with 65 phrases; found: 65 phrases; correct: 0.\n",
      "\n",
      "precision:  100.00%; recall:  100.00%; FB1:  100.00\n",
      "\n",
      "\tarea: precision:  100.00%; recall:  100.00%; F1:  100.00 18\n",
      "\n",
      "\tfood: precision:  100.00%; recall:  100.00%; F1:  100.00 30\n",
      "\n",
      "\tpricerange: precision:  100.00%; recall:  100.00%; F1:  100.00 17\n",
      "\n",
      "\n"
     ]
    },
    {
     "name": "stdout",
     "output_type": "stream",
     "text": [
      "{\"train\": {\"eval_examples_count\": 64, \"metrics\": {\"ner_f1\": 100.0, \"per_token_accuracy\": 1.0}, \"time_spent\": \"0:00:07\", \"epochs_done\": 29, \"batches_seen\": 900, \"train_examples_seen\": 56121, \"learning_rate\": 0.01, \"momentum\": null, \"loss\": 0.0021684754939269623}}\n"
     ]
    },
    {
     "name": "stderr",
     "output_type": "stream",
     "text": [
      "2019-08-09 18:06:29.141 DEBUG in 'deeppavlov.metrics.fmeasure'['fmeasure'] at line 390: processed 8424 tokens with 1244 phrases; found: 1233 phrases; correct: 0.\n",
      "\n",
      "precision:  98.46%; recall:  97.59%; FB1:  98.02\n",
      "\n",
      "\tarea: precision:  99.34%; recall:  99.67%; F1:  99.50 301\n",
      "\n",
      "\tfood: precision:  99.17%; recall:  96.61%; F1:  97.88 604\n",
      "\n",
      "\tname: precision:  0.00%; recall:  0.00%; F1:  0.00 1\n",
      "\n",
      "\tpricerange: precision:  97.95%; recall:  98.97%; F1:  98.46 293\n",
      "\n",
      "\tthis: precision:  85.29%; recall:  90.62%; F1:  87.88 34\n",
      "\n",
      "\n",
      "I0809 18:06:29.141071 139777813403264 fmeasure.py:390] processed 8424 tokens with 1244 phrases; found: 1233 phrases; correct: 0.\n",
      "\n",
      "precision:  98.46%; recall:  97.59%; FB1:  98.02\n",
      "\n",
      "\tarea: precision:  99.34%; recall:  99.67%; F1:  99.50 301\n",
      "\n",
      "\tfood: precision:  99.17%; recall:  96.61%; F1:  97.88 604\n",
      "\n",
      "\tname: precision:  0.00%; recall:  0.00%; F1:  0.00 1\n",
      "\n",
      "\tpricerange: precision:  97.95%; recall:  98.97%; F1:  98.46 293\n",
      "\n",
      "\tthis: precision:  85.29%; recall:  90.62%; F1:  87.88 34\n",
      "\n",
      "\n",
      "2019-08-09 18:06:29.143 INFO in 'deeppavlov.core.trainers.nn_trainer'['nn_trainer'] at line 170: Did not improve on the ner_f1 of 98.0754\n",
      "I0809 18:06:29.143054 139777813403264 nn_trainer.py:170] Did not improve on the ner_f1 of 98.0754\n"
     ]
    },
    {
     "name": "stdout",
     "output_type": "stream",
     "text": [
      "{\"valid\": {\"eval_examples_count\": 1444, \"metrics\": {\"ner_f1\": 98.0218, \"per_token_accuracy\": 0.9934}, \"time_spent\": \"0:00:08\", \"epochs_done\": 30, \"batches_seen\": 930, \"train_examples_seen\": 57990, \"impatience\": 2, \"patience_limit\": 5}}\n"
     ]
    },
    {
     "name": "stderr",
     "output_type": "stream",
     "text": [
      "2019-08-09 18:06:29.538 DEBUG in 'deeppavlov.metrics.fmeasure'['fmeasure'] at line 390: processed 398 tokens with 66 phrases; found: 67 phrases; correct: 0.\n",
      "\n",
      "precision:  98.51%; recall:  100.00%; FB1:  99.25\n",
      "\n",
      "\tarea: precision:  100.00%; recall:  100.00%; F1:  100.00 21\n",
      "\n",
      "\tfood: precision:  96.15%; recall:  100.00%; F1:  98.04 26\n",
      "\n",
      "\tpricerange: precision:  100.00%; recall:  100.00%; F1:  100.00 17\n",
      "\n",
      "\tthis: precision:  100.00%; recall:  100.00%; F1:  100.00 3\n",
      "\n",
      "\n",
      "I0809 18:06:29.538910 139777813403264 fmeasure.py:390] processed 398 tokens with 66 phrases; found: 67 phrases; correct: 0.\n",
      "\n",
      "precision:  98.51%; recall:  100.00%; FB1:  99.25\n",
      "\n",
      "\tarea: precision:  100.00%; recall:  100.00%; F1:  100.00 21\n",
      "\n",
      "\tfood: precision:  96.15%; recall:  100.00%; F1:  98.04 26\n",
      "\n",
      "\tpricerange: precision:  100.00%; recall:  100.00%; F1:  100.00 17\n",
      "\n",
      "\tthis: precision:  100.00%; recall:  100.00%; F1:  100.00 3\n",
      "\n",
      "\n"
     ]
    },
    {
     "name": "stdout",
     "output_type": "stream",
     "text": [
      "{\"train\": {\"eval_examples_count\": 64, \"metrics\": {\"ner_f1\": 99.2481, \"per_token_accuracy\": 0.9975}, \"time_spent\": \"0:00:08\", \"epochs_done\": 32, \"batches_seen\": 1000, \"train_examples_seen\": 62368, \"learning_rate\": 0.01, \"momentum\": null, \"loss\": 0.0027747692484990693}}\n"
     ]
    },
    {
     "name": "stderr",
     "output_type": "stream",
     "text": [
      "2019-08-09 18:06:30.66 DEBUG in 'deeppavlov.metrics.fmeasure'['fmeasure'] at line 390: processed 8424 tokens with 1244 phrases; found: 1235 phrases; correct: 0.\n",
      "\n",
      "precision:  98.46%; recall:  97.75%; FB1:  98.10\n",
      "\n",
      "\tarea: precision:  99.34%; recall:  99.67%; F1:  99.50 301\n",
      "\n",
      "\tfood: precision:  98.85%; recall:  96.94%; F1:  97.88 608\n",
      "\n",
      "\tname: precision:  0.00%; recall:  0.00%; F1:  0.00 1\n",
      "\n",
      "\tpricerange: precision:  97.95%; recall:  98.97%; F1:  98.46 293\n",
      "\n",
      "\tthis: precision:  90.62%; recall:  90.62%; F1:  90.62 32\n",
      "\n",
      "\n",
      "I0809 18:06:30.066594 139777813403264 fmeasure.py:390] processed 8424 tokens with 1244 phrases; found: 1235 phrases; correct: 0.\n",
      "\n",
      "precision:  98.46%; recall:  97.75%; FB1:  98.10\n",
      "\n",
      "\tarea: precision:  99.34%; recall:  99.67%; F1:  99.50 301\n",
      "\n",
      "\tfood: precision:  98.85%; recall:  96.94%; F1:  97.88 608\n",
      "\n",
      "\tname: precision:  0.00%; recall:  0.00%; F1:  0.00 1\n",
      "\n",
      "\tpricerange: precision:  97.95%; recall:  98.97%; F1:  98.46 293\n",
      "\n",
      "\tthis: precision:  90.62%; recall:  90.62%; F1:  90.62 32\n",
      "\n",
      "\n",
      "2019-08-09 18:06:30.68 INFO in 'deeppavlov.core.trainers.nn_trainer'['nn_trainer'] at line 164: New best ner_f1 of 98.1041\n",
      "I0809 18:06:30.068634 139777813403264 nn_trainer.py:164] New best ner_f1 of 98.1041\n",
      "2019-08-09 18:06:30.69 INFO in 'deeppavlov.core.trainers.nn_trainer'['nn_trainer'] at line 166: Saving model\n",
      "I0809 18:06:30.069896 139777813403264 nn_trainer.py:166] Saving model\n",
      "2019-08-09 18:06:30.71 INFO in 'deeppavlov.core.models.tf_model'['tf_model'] at line 76: [saving model to /home/vimary/code-projects/Pilot/examples/my_bot/slotfill/model]\n",
      "I0809 18:06:30.071213 139777813403264 tf_model.py:76] [saving model to /home/vimary/code-projects/Pilot/examples/my_bot/slotfill/model]\n",
      "2019-08-09 18:06:30.281 DEBUG in 'deeppavlov.metrics.fmeasure'['fmeasure'] at line 390: processed 437 tokens with 60 phrases; found: 60 phrases; correct: 0.\n",
      "\n",
      "precision:  100.00%; recall:  100.00%; FB1:  100.00\n",
      "\n",
      "\tarea: precision:  100.00%; recall:  100.00%; F1:  100.00 20\n",
      "\n",
      "\tfood: precision:  100.00%; recall:  100.00%; F1:  100.00 19\n",
      "\n",
      "\tpricerange: precision:  100.00%; recall:  100.00%; F1:  100.00 17\n",
      "\n",
      "\tthis: precision:  100.00%; recall:  100.00%; F1:  100.00 4\n",
      "\n",
      "\n",
      "I0809 18:06:30.281557 139777813403264 fmeasure.py:390] processed 437 tokens with 60 phrases; found: 60 phrases; correct: 0.\n",
      "\n",
      "precision:  100.00%; recall:  100.00%; FB1:  100.00\n",
      "\n",
      "\tarea: precision:  100.00%; recall:  100.00%; F1:  100.00 20\n",
      "\n",
      "\tfood: precision:  100.00%; recall:  100.00%; F1:  100.00 19\n",
      "\n",
      "\tpricerange: precision:  100.00%; recall:  100.00%; F1:  100.00 17\n",
      "\n",
      "\tthis: precision:  100.00%; recall:  100.00%; F1:  100.00 4\n",
      "\n",
      "\n"
     ]
    },
    {
     "name": "stdout",
     "output_type": "stream",
     "text": [
      "{\"valid\": {\"eval_examples_count\": 1444, \"metrics\": {\"ner_f1\": 98.1041, \"per_token_accuracy\": 0.9931}, \"time_spent\": \"0:00:09\", \"epochs_done\": 35, \"batches_seen\": 1085, \"train_examples_seen\": 67655, \"impatience\": 0, \"patience_limit\": 5}}\n",
      "{\"train\": {\"eval_examples_count\": 64, \"metrics\": {\"ner_f1\": 100.0, \"per_token_accuracy\": 1.0}, \"time_spent\": \"0:00:09\", \"epochs_done\": 35, \"batches_seen\": 1100, \"train_examples_seen\": 68615, \"learning_rate\": 0.01, \"momentum\": null, \"loss\": 0.0027207134580021376}}\n"
     ]
    },
    {
     "name": "stderr",
     "output_type": "stream",
     "text": [
      "2019-08-09 18:06:30.788 DEBUG in 'deeppavlov.metrics.fmeasure'['fmeasure'] at line 390: processed 374 tokens with 58 phrases; found: 59 phrases; correct: 0.\n",
      "\n",
      "precision:  96.61%; recall:  98.28%; FB1:  97.44\n",
      "\n",
      "\tarea: precision:  100.00%; recall:  100.00%; F1:  100.00 12\n",
      "\n",
      "\tfood: precision:  95.65%; recall:  100.00%; F1:  97.78 23\n",
      "\n",
      "\tname: precision:  0.00%; recall:  0.00%; F1:  0.00 0\n",
      "\n",
      "\tpricerange: precision:  100.00%; recall:  100.00%; F1:  100.00 21\n",
      "\n",
      "\tthis: precision:  66.67%; recall:  100.00%; F1:  80.00 3\n",
      "\n",
      "\n",
      "I0809 18:06:30.788492 139777813403264 fmeasure.py:390] processed 374 tokens with 58 phrases; found: 59 phrases; correct: 0.\n",
      "\n",
      "precision:  96.61%; recall:  98.28%; FB1:  97.44\n",
      "\n",
      "\tarea: precision:  100.00%; recall:  100.00%; F1:  100.00 12\n",
      "\n",
      "\tfood: precision:  95.65%; recall:  100.00%; F1:  97.78 23\n",
      "\n",
      "\tname: precision:  0.00%; recall:  0.00%; F1:  0.00 0\n",
      "\n",
      "\tpricerange: precision:  100.00%; recall:  100.00%; F1:  100.00 21\n",
      "\n",
      "\tthis: precision:  66.67%; recall:  100.00%; F1:  80.00 3\n",
      "\n",
      "\n"
     ]
    },
    {
     "name": "stdout",
     "output_type": "stream",
     "text": [
      "{\"train\": {\"eval_examples_count\": 64, \"metrics\": {\"ner_f1\": 97.4359, \"per_token_accuracy\": 0.9947}, \"time_spent\": \"0:00:09\", \"epochs_done\": 38, \"batches_seen\": 1200, \"train_examples_seen\": 74862, \"learning_rate\": 0.01, \"momentum\": null, \"loss\": 0.0015533770971887862}}\n"
     ]
    },
    {
     "name": "stderr",
     "output_type": "stream",
     "text": [
      "2019-08-09 18:06:31.108 DEBUG in 'deeppavlov.metrics.fmeasure'['fmeasure'] at line 390: processed 8424 tokens with 1244 phrases; found: 1234 phrases; correct: 0.\n",
      "\n",
      "precision:  98.46%; recall:  97.67%; FB1:  98.06\n",
      "\n",
      "\tarea: precision:  99.01%; recall:  99.67%; F1:  99.34 302\n",
      "\n",
      "\tfood: precision:  99.01%; recall:  96.77%; F1:  97.88 606\n",
      "\n",
      "\tname: precision:  0.00%; recall:  0.00%; F1:  0.00 2\n",
      "\n",
      "\tpricerange: precision:  98.29%; recall:  98.97%; F1:  98.63 292\n",
      "\n",
      "\tthis: precision:  90.62%; recall:  90.62%; F1:  90.62 32\n",
      "\n",
      "\n",
      "I0809 18:06:31.108302 139777813403264 fmeasure.py:390] processed 8424 tokens with 1244 phrases; found: 1234 phrases; correct: 0.\n",
      "\n",
      "precision:  98.46%; recall:  97.67%; FB1:  98.06\n",
      "\n",
      "\tarea: precision:  99.01%; recall:  99.67%; F1:  99.34 302\n",
      "\n",
      "\tfood: precision:  99.01%; recall:  96.77%; F1:  97.88 606\n",
      "\n",
      "\tname: precision:  0.00%; recall:  0.00%; F1:  0.00 2\n",
      "\n",
      "\tpricerange: precision:  98.29%; recall:  98.97%; F1:  98.63 292\n",
      "\n",
      "\tthis: precision:  90.62%; recall:  90.62%; F1:  90.62 32\n",
      "\n",
      "\n",
      "2019-08-09 18:06:31.110 INFO in 'deeppavlov.core.trainers.nn_trainer'['nn_trainer'] at line 170: Did not improve on the ner_f1 of 98.1041\n",
      "I0809 18:06:31.110352 139777813403264 nn_trainer.py:170] Did not improve on the ner_f1 of 98.1041\n"
     ]
    },
    {
     "name": "stdout",
     "output_type": "stream",
     "text": [
      "{\"valid\": {\"eval_examples_count\": 1444, \"metrics\": {\"ner_f1\": 98.063, \"per_token_accuracy\": 0.993}, \"time_spent\": \"0:00:10\", \"epochs_done\": 40, \"batches_seen\": 1240, \"train_examples_seen\": 77320, \"impatience\": 1, \"patience_limit\": 5}}\n"
     ]
    },
    {
     "name": "stderr",
     "output_type": "stream",
     "text": [
      "2019-08-09 18:06:31.423 DEBUG in 'deeppavlov.metrics.fmeasure'['fmeasure'] at line 390: processed 383 tokens with 66 phrases; found: 66 phrases; correct: 0.\n",
      "\n",
      "precision:  100.00%; recall:  100.00%; FB1:  100.00\n",
      "\n",
      "\tarea: precision:  100.00%; recall:  100.00%; F1:  100.00 16\n",
      "\n",
      "\tfood: precision:  100.00%; recall:  100.00%; F1:  100.00 34\n",
      "\n",
      "\tpricerange: precision:  100.00%; recall:  100.00%; F1:  100.00 14\n",
      "\n",
      "\tthis: precision:  100.00%; recall:  100.00%; F1:  100.00 2\n",
      "\n",
      "\n",
      "I0809 18:06:31.423301 139777813403264 fmeasure.py:390] processed 383 tokens with 66 phrases; found: 66 phrases; correct: 0.\n",
      "\n",
      "precision:  100.00%; recall:  100.00%; FB1:  100.00\n",
      "\n",
      "\tarea: precision:  100.00%; recall:  100.00%; F1:  100.00 16\n",
      "\n",
      "\tfood: precision:  100.00%; recall:  100.00%; F1:  100.00 34\n",
      "\n",
      "\tpricerange: precision:  100.00%; recall:  100.00%; F1:  100.00 14\n",
      "\n",
      "\tthis: precision:  100.00%; recall:  100.00%; F1:  100.00 2\n",
      "\n",
      "\n"
     ]
    },
    {
     "name": "stdout",
     "output_type": "stream",
     "text": [
      "{\"train\": {\"eval_examples_count\": 64, \"metrics\": {\"ner_f1\": 100.0, \"per_token_accuracy\": 1.0}, \"time_spent\": \"0:00:10\", \"epochs_done\": 41, \"batches_seen\": 1300, \"train_examples_seen\": 81109, \"learning_rate\": 0.01, \"momentum\": null, \"loss\": 0.002294767475086701}}\n"
     ]
    },
    {
     "name": "stderr",
     "output_type": "stream",
     "text": [
      "2019-08-09 18:06:32.25 DEBUG in 'deeppavlov.metrics.fmeasure'['fmeasure'] at line 390: processed 8424 tokens with 1244 phrases; found: 1232 phrases; correct: 0.\n",
      "\n",
      "precision:  98.70%; recall:  97.75%; FB1:  98.22\n",
      "\n",
      "\tarea: precision:  100.00%; recall:  99.67%; F1:  99.83 299\n",
      "\n",
      "\tfood: precision:  99.17%; recall:  96.94%; F1:  98.04 606\n",
      "\n",
      "\tname: precision:  0.00%; recall:  0.00%; F1:  0.00 1\n",
      "\n",
      "\tpricerange: precision:  98.29%; recall:  98.97%; F1:  98.63 292\n",
      "\n",
      "\tthis: precision:  85.29%; recall:  90.62%; F1:  87.88 34\n",
      "\n",
      "\n",
      "I0809 18:06:32.025723 139777813403264 fmeasure.py:390] processed 8424 tokens with 1244 phrases; found: 1232 phrases; correct: 0.\n",
      "\n",
      "precision:  98.70%; recall:  97.75%; FB1:  98.22\n",
      "\n",
      "\tarea: precision:  100.00%; recall:  99.67%; F1:  99.83 299\n",
      "\n",
      "\tfood: precision:  99.17%; recall:  96.94%; F1:  98.04 606\n",
      "\n",
      "\tname: precision:  0.00%; recall:  0.00%; F1:  0.00 1\n",
      "\n",
      "\tpricerange: precision:  98.29%; recall:  98.97%; F1:  98.63 292\n",
      "\n",
      "\tthis: precision:  85.29%; recall:  90.62%; F1:  87.88 34\n",
      "\n",
      "\n",
      "2019-08-09 18:06:32.27 INFO in 'deeppavlov.core.trainers.nn_trainer'['nn_trainer'] at line 164: New best ner_f1 of 98.2229\n",
      "I0809 18:06:32.027636 139777813403264 nn_trainer.py:164] New best ner_f1 of 98.2229\n",
      "2019-08-09 18:06:32.28 INFO in 'deeppavlov.core.trainers.nn_trainer'['nn_trainer'] at line 166: Saving model\n",
      "I0809 18:06:32.028271 139777813403264 nn_trainer.py:166] Saving model\n",
      "2019-08-09 18:06:32.29 INFO in 'deeppavlov.core.models.tf_model'['tf_model'] at line 76: [saving model to /home/vimary/code-projects/Pilot/examples/my_bot/slotfill/model]\n",
      "I0809 18:06:32.029283 139777813403264 tf_model.py:76] [saving model to /home/vimary/code-projects/Pilot/examples/my_bot/slotfill/model]\n",
      "2019-08-09 18:06:32.188 DEBUG in 'deeppavlov.metrics.fmeasure'['fmeasure'] at line 390: processed 421 tokens with 55 phrases; found: 55 phrases; correct: 0.\n",
      "\n",
      "precision:  100.00%; recall:  100.00%; FB1:  100.00\n",
      "\n",
      "\tarea: precision:  100.00%; recall:  100.00%; F1:  100.00 18\n",
      "\n",
      "\tfood: precision:  100.00%; recall:  100.00%; F1:  100.00 29\n",
      "\n",
      "\tpricerange: precision:  100.00%; recall:  100.00%; F1:  100.00 6\n",
      "\n",
      "\tthis: precision:  100.00%; recall:  100.00%; F1:  100.00 2\n",
      "\n",
      "\n",
      "I0809 18:06:32.188637 139777813403264 fmeasure.py:390] processed 421 tokens with 55 phrases; found: 55 phrases; correct: 0.\n",
      "\n",
      "precision:  100.00%; recall:  100.00%; FB1:  100.00\n",
      "\n",
      "\tarea: precision:  100.00%; recall:  100.00%; F1:  100.00 18\n",
      "\n",
      "\tfood: precision:  100.00%; recall:  100.00%; F1:  100.00 29\n",
      "\n",
      "\tpricerange: precision:  100.00%; recall:  100.00%; F1:  100.00 6\n",
      "\n",
      "\tthis: precision:  100.00%; recall:  100.00%; F1:  100.00 2\n",
      "\n",
      "\n"
     ]
    },
    {
     "name": "stdout",
     "output_type": "stream",
     "text": [
      "{\"valid\": {\"eval_examples_count\": 1444, \"metrics\": {\"ner_f1\": 98.2229, \"per_token_accuracy\": 0.9936}, \"time_spent\": \"0:00:10\", \"epochs_done\": 45, \"batches_seen\": 1395, \"train_examples_seen\": 86985, \"impatience\": 0, \"patience_limit\": 5}}\n",
      "{\"train\": {\"eval_examples_count\": 64, \"metrics\": {\"ner_f1\": 100.0, \"per_token_accuracy\": 1.0}, \"time_spent\": \"0:00:11\", \"epochs_done\": 45, \"batches_seen\": 1400, \"train_examples_seen\": 87305, \"learning_rate\": 0.01, \"momentum\": null, \"loss\": 0.0013058880460539513}}\n"
     ]
    },
    {
     "name": "stderr",
     "output_type": "stream",
     "text": [
      "2019-08-09 18:06:32.721 DEBUG in 'deeppavlov.metrics.fmeasure'['fmeasure'] at line 390: processed 433 tokens with 54 phrases; found: 54 phrases; correct: 0.\n",
      "\n",
      "precision:  100.00%; recall:  100.00%; FB1:  100.00\n",
      "\n",
      "\tarea: precision:  100.00%; recall:  100.00%; F1:  100.00 18\n",
      "\n",
      "\tfood: precision:  100.00%; recall:  100.00%; F1:  100.00 19\n",
      "\n",
      "\tpricerange: precision:  100.00%; recall:  100.00%; F1:  100.00 15\n",
      "\n",
      "\tthis: precision:  100.00%; recall:  100.00%; F1:  100.00 2\n",
      "\n",
      "\n",
      "I0809 18:06:32.721581 139777813403264 fmeasure.py:390] processed 433 tokens with 54 phrases; found: 54 phrases; correct: 0.\n",
      "\n",
      "precision:  100.00%; recall:  100.00%; FB1:  100.00\n",
      "\n",
      "\tarea: precision:  100.00%; recall:  100.00%; F1:  100.00 18\n",
      "\n",
      "\tfood: precision:  100.00%; recall:  100.00%; F1:  100.00 19\n",
      "\n",
      "\tpricerange: precision:  100.00%; recall:  100.00%; F1:  100.00 15\n",
      "\n",
      "\tthis: precision:  100.00%; recall:  100.00%; F1:  100.00 2\n",
      "\n",
      "\n"
     ]
    },
    {
     "name": "stdout",
     "output_type": "stream",
     "text": [
      "{\"train\": {\"eval_examples_count\": 64, \"metrics\": {\"ner_f1\": 100.0, \"per_token_accuracy\": 1.0}, \"time_spent\": \"0:00:11\", \"epochs_done\": 48, \"batches_seen\": 1500, \"train_examples_seen\": 93552, \"learning_rate\": 0.01, \"momentum\": null, \"loss\": 0.001620456460150308}}\n"
     ]
    },
    {
     "name": "stderr",
     "output_type": "stream",
     "text": [
      "2019-08-09 18:06:33.83 DEBUG in 'deeppavlov.metrics.fmeasure'['fmeasure'] at line 390: processed 8424 tokens with 1244 phrases; found: 1238 phrases; correct: 0.\n",
      "\n",
      "precision:  98.47%; recall:  97.99%; FB1:  98.23\n",
      "\n",
      "\tarea: precision:  99.67%; recall:  99.67%; F1:  99.67 300\n",
      "\n",
      "\tfood: precision:  98.69%; recall:  97.58%; F1:  98.13 613\n",
      "\n",
      "\tname: precision:  0.00%; recall:  0.00%; F1:  0.00 2\n",
      "\n",
      "\tpricerange: precision:  98.29%; recall:  99.31%; F1:  98.80 293\n",
      "\n",
      "\tthis: precision:  90.00%; recall:  84.38%; F1:  87.10 30\n",
      "\n",
      "\n",
      "I0809 18:06:33.083960 139777813403264 fmeasure.py:390] processed 8424 tokens with 1244 phrases; found: 1238 phrases; correct: 0.\n",
      "\n",
      "precision:  98.47%; recall:  97.99%; FB1:  98.23\n",
      "\n",
      "\tarea: precision:  99.67%; recall:  99.67%; F1:  99.67 300\n",
      "\n",
      "\tfood: precision:  98.69%; recall:  97.58%; F1:  98.13 613\n",
      "\n",
      "\tname: precision:  0.00%; recall:  0.00%; F1:  0.00 2\n",
      "\n",
      "\tpricerange: precision:  98.29%; recall:  99.31%; F1:  98.80 293\n",
      "\n",
      "\tthis: precision:  90.00%; recall:  84.38%; F1:  87.10 30\n",
      "\n",
      "\n",
      "2019-08-09 18:06:33.86 INFO in 'deeppavlov.core.trainers.nn_trainer'['nn_trainer'] at line 164: New best ner_f1 of 98.2272\n",
      "I0809 18:06:33.086211 139777813403264 nn_trainer.py:164] New best ner_f1 of 98.2272\n",
      "2019-08-09 18:06:33.87 INFO in 'deeppavlov.core.trainers.nn_trainer'['nn_trainer'] at line 166: Saving model\n",
      "I0809 18:06:33.087322 139777813403264 nn_trainer.py:166] Saving model\n",
      "2019-08-09 18:06:33.88 INFO in 'deeppavlov.core.models.tf_model'['tf_model'] at line 76: [saving model to /home/vimary/code-projects/Pilot/examples/my_bot/slotfill/model]\n",
      "I0809 18:06:33.088498 139777813403264 tf_model.py:76] [saving model to /home/vimary/code-projects/Pilot/examples/my_bot/slotfill/model]\n"
     ]
    },
    {
     "name": "stdout",
     "output_type": "stream",
     "text": [
      "{\"valid\": {\"eval_examples_count\": 1444, \"metrics\": {\"ner_f1\": 98.2272, \"per_token_accuracy\": 0.9937}, \"time_spent\": \"0:00:12\", \"epochs_done\": 50, \"batches_seen\": 1550, \"train_examples_seen\": 96650, \"impatience\": 0, \"patience_limit\": 5}}\n"
     ]
    },
    {
     "name": "stderr",
     "output_type": "stream",
     "text": [
      "2019-08-09 18:06:33.466 DEBUG in 'deeppavlov.metrics.fmeasure'['fmeasure'] at line 390: processed 447 tokens with 58 phrases; found: 58 phrases; correct: 0.\n",
      "\n",
      "precision:  100.00%; recall:  100.00%; FB1:  100.00\n",
      "\n",
      "\tarea: precision:  100.00%; recall:  100.00%; F1:  100.00 22\n",
      "\n",
      "\tfood: precision:  100.00%; recall:  100.00%; F1:  100.00 25\n",
      "\n",
      "\tpricerange: precision:  100.00%; recall:  100.00%; F1:  100.00 9\n",
      "\n",
      "\tthis: precision:  100.00%; recall:  100.00%; F1:  100.00 2\n",
      "\n",
      "\n",
      "I0809 18:06:33.466464 139777813403264 fmeasure.py:390] processed 447 tokens with 58 phrases; found: 58 phrases; correct: 0.\n",
      "\n",
      "precision:  100.00%; recall:  100.00%; FB1:  100.00\n",
      "\n",
      "\tarea: precision:  100.00%; recall:  100.00%; F1:  100.00 22\n",
      "\n",
      "\tfood: precision:  100.00%; recall:  100.00%; F1:  100.00 25\n",
      "\n",
      "\tpricerange: precision:  100.00%; recall:  100.00%; F1:  100.00 9\n",
      "\n",
      "\tthis: precision:  100.00%; recall:  100.00%; F1:  100.00 2\n",
      "\n",
      "\n"
     ]
    },
    {
     "name": "stdout",
     "output_type": "stream",
     "text": [
      "{\"train\": {\"eval_examples_count\": 64, \"metrics\": {\"ner_f1\": 100.0, \"per_token_accuracy\": 1.0}, \"time_spent\": \"0:00:12\", \"epochs_done\": 51, \"batches_seen\": 1600, \"train_examples_seen\": 99799, \"learning_rate\": 0.01, \"momentum\": null, \"loss\": 0.001560488030600027}}\n"
     ]
    },
    {
     "name": "stderr",
     "output_type": "stream",
     "text": [
      "2019-08-09 18:06:33.981 DEBUG in 'deeppavlov.metrics.fmeasure'['fmeasure'] at line 390: processed 369 tokens with 50 phrases; found: 50 phrases; correct: 0.\n",
      "\n",
      "precision:  100.00%; recall:  100.00%; FB1:  100.00\n",
      "\n",
      "\tarea: precision:  100.00%; recall:  100.00%; F1:  100.00 11\n",
      "\n",
      "\tfood: precision:  100.00%; recall:  100.00%; F1:  100.00 22\n",
      "\n",
      "\tpricerange: precision:  100.00%; recall:  100.00%; F1:  100.00 13\n",
      "\n",
      "\tthis: precision:  100.00%; recall:  100.00%; F1:  100.00 4\n",
      "\n",
      "\n",
      "I0809 18:06:33.981549 139777813403264 fmeasure.py:390] processed 369 tokens with 50 phrases; found: 50 phrases; correct: 0.\n",
      "\n",
      "precision:  100.00%; recall:  100.00%; FB1:  100.00\n",
      "\n",
      "\tarea: precision:  100.00%; recall:  100.00%; F1:  100.00 11\n",
      "\n",
      "\tfood: precision:  100.00%; recall:  100.00%; F1:  100.00 22\n",
      "\n",
      "\tpricerange: precision:  100.00%; recall:  100.00%; F1:  100.00 13\n",
      "\n",
      "\tthis: precision:  100.00%; recall:  100.00%; F1:  100.00 4\n",
      "\n",
      "\n"
     ]
    },
    {
     "name": "stdout",
     "output_type": "stream",
     "text": [
      "{\"train\": {\"eval_examples_count\": 64, \"metrics\": {\"ner_f1\": 100.0, \"per_token_accuracy\": 1.0}, \"time_spent\": \"0:00:12\", \"epochs_done\": 54, \"batches_seen\": 1700, \"train_examples_seen\": 106046, \"learning_rate\": 0.01, \"momentum\": null, \"loss\": 0.001016534280988708}}\n"
     ]
    },
    {
     "name": "stderr",
     "output_type": "stream",
     "text": [
      "2019-08-09 18:06:34.301 DEBUG in 'deeppavlov.metrics.fmeasure'['fmeasure'] at line 390: processed 8424 tokens with 1244 phrases; found: 1232 phrases; correct: 0.\n",
      "\n",
      "precision:  98.86%; recall:  97.91%; FB1:  98.38\n",
      "\n",
      "\tarea: precision:  99.67%; recall:  99.67%; F1:  99.67 300\n",
      "\n",
      "\tfood: precision:  99.18%; recall:  97.26%; F1:  98.21 608\n",
      "\n",
      "\tname: precision:  0.00%; recall:  0.00%; F1:  0.00 1\n",
      "\n",
      "\tpricerange: precision:  98.29%; recall:  98.97%; F1:  98.63 292\n",
      "\n",
      "\tthis: precision:  93.55%; recall:  90.62%; F1:  92.06 31\n",
      "\n",
      "\n",
      "I0809 18:06:34.301625 139777813403264 fmeasure.py:390] processed 8424 tokens with 1244 phrases; found: 1232 phrases; correct: 0.\n",
      "\n",
      "precision:  98.86%; recall:  97.91%; FB1:  98.38\n",
      "\n",
      "\tarea: precision:  99.67%; recall:  99.67%; F1:  99.67 300\n",
      "\n",
      "\tfood: precision:  99.18%; recall:  97.26%; F1:  98.21 608\n",
      "\n",
      "\tname: precision:  0.00%; recall:  0.00%; F1:  0.00 1\n",
      "\n",
      "\tpricerange: precision:  98.29%; recall:  98.97%; F1:  98.63 292\n",
      "\n",
      "\tthis: precision:  93.55%; recall:  90.62%; F1:  92.06 31\n",
      "\n",
      "\n",
      "2019-08-09 18:06:34.303 INFO in 'deeppavlov.core.trainers.nn_trainer'['nn_trainer'] at line 164: New best ner_f1 of 98.3845\n",
      "I0809 18:06:34.303261 139777813403264 nn_trainer.py:164] New best ner_f1 of 98.3845\n",
      "2019-08-09 18:06:34.304 INFO in 'deeppavlov.core.trainers.nn_trainer'['nn_trainer'] at line 166: Saving model\n",
      "I0809 18:06:34.304051 139777813403264 nn_trainer.py:166] Saving model\n",
      "2019-08-09 18:06:34.305 INFO in 'deeppavlov.core.models.tf_model'['tf_model'] at line 76: [saving model to /home/vimary/code-projects/Pilot/examples/my_bot/slotfill/model]\n",
      "I0809 18:06:34.305063 139777813403264 tf_model.py:76] [saving model to /home/vimary/code-projects/Pilot/examples/my_bot/slotfill/model]\n"
     ]
    },
    {
     "name": "stdout",
     "output_type": "stream",
     "text": [
      "{\"valid\": {\"eval_examples_count\": 1444, \"metrics\": {\"ner_f1\": 98.3845, \"per_token_accuracy\": 0.9941}, \"time_spent\": \"0:00:13\", \"epochs_done\": 55, \"batches_seen\": 1705, \"train_examples_seen\": 106315, \"impatience\": 0, \"patience_limit\": 5}}\n"
     ]
    },
    {
     "name": "stderr",
     "output_type": "stream",
     "text": [
      "2019-08-09 18:06:34.937 DEBUG in 'deeppavlov.metrics.fmeasure'['fmeasure'] at line 390: processed 389 tokens with 63 phrases; found: 63 phrases; correct: 0.\n",
      "\n",
      "precision:  100.00%; recall:  100.00%; FB1:  100.00\n",
      "\n",
      "\tarea: precision:  100.00%; recall:  100.00%; F1:  100.00 17\n",
      "\n",
      "\tfood: precision:  100.00%; recall:  100.00%; F1:  100.00 26\n",
      "\n",
      "\tpricerange: precision:  100.00%; recall:  100.00%; F1:  100.00 19\n",
      "\n",
      "\tthis: precision:  100.00%; recall:  100.00%; F1:  100.00 1\n",
      "\n",
      "\n",
      "I0809 18:06:34.937359 139777813403264 fmeasure.py:390] processed 389 tokens with 63 phrases; found: 63 phrases; correct: 0.\n",
      "\n",
      "precision:  100.00%; recall:  100.00%; FB1:  100.00\n",
      "\n",
      "\tarea: precision:  100.00%; recall:  100.00%; F1:  100.00 17\n",
      "\n",
      "\tfood: precision:  100.00%; recall:  100.00%; F1:  100.00 26\n",
      "\n",
      "\tpricerange: precision:  100.00%; recall:  100.00%; F1:  100.00 19\n",
      "\n",
      "\tthis: precision:  100.00%; recall:  100.00%; F1:  100.00 1\n",
      "\n",
      "\n"
     ]
    },
    {
     "name": "stdout",
     "output_type": "stream",
     "text": [
      "{\"train\": {\"eval_examples_count\": 64, \"metrics\": {\"ner_f1\": 100.0, \"per_token_accuracy\": 1.0}, \"time_spent\": \"0:00:13\", \"epochs_done\": 58, \"batches_seen\": 1800, \"train_examples_seen\": 112242, \"learning_rate\": 0.01, \"momentum\": null, \"loss\": 0.0009119898035805818}}\n"
     ]
    },
    {
     "name": "stderr",
     "output_type": "stream",
     "text": [
      "2019-08-09 18:06:35.394 DEBUG in 'deeppavlov.metrics.fmeasure'['fmeasure'] at line 390: processed 8424 tokens with 1244 phrases; found: 1230 phrases; correct: 0.\n",
      "\n",
      "precision:  98.70%; recall:  97.59%; FB1:  98.14\n",
      "\n",
      "\tarea: precision:  99.67%; recall:  99.67%; F1:  99.67 300\n",
      "\n",
      "\tfood: precision:  98.85%; recall:  96.77%; F1:  97.80 607\n",
      "\n",
      "\tname: precision:  0.00%; recall:  0.00%; F1:  0.00 1\n",
      "\n",
      "\tpricerange: precision:  97.95%; recall:  98.97%; F1:  98.46 293\n",
      "\n",
      "\tthis: precision:  96.55%; recall:  87.50%; F1:  91.80 29\n",
      "\n",
      "\n",
      "I0809 18:06:35.394798 139777813403264 fmeasure.py:390] processed 8424 tokens with 1244 phrases; found: 1230 phrases; correct: 0.\n",
      "\n",
      "precision:  98.70%; recall:  97.59%; FB1:  98.14\n",
      "\n",
      "\tarea: precision:  99.67%; recall:  99.67%; F1:  99.67 300\n",
      "\n",
      "\tfood: precision:  98.85%; recall:  96.77%; F1:  97.80 607\n",
      "\n",
      "\tname: precision:  0.00%; recall:  0.00%; F1:  0.00 1\n",
      "\n",
      "\tpricerange: precision:  97.95%; recall:  98.97%; F1:  98.46 293\n",
      "\n",
      "\tthis: precision:  96.55%; recall:  87.50%; F1:  91.80 29\n",
      "\n",
      "\n",
      "2019-08-09 18:06:35.396 INFO in 'deeppavlov.core.trainers.nn_trainer'['nn_trainer'] at line 170: Did not improve on the ner_f1 of 98.3845\n",
      "I0809 18:06:35.396792 139777813403264 nn_trainer.py:170] Did not improve on the ner_f1 of 98.3845\n"
     ]
    },
    {
     "name": "stdout",
     "output_type": "stream",
     "text": [
      "{\"valid\": {\"eval_examples_count\": 1444, \"metrics\": {\"ner_f1\": 98.1407, \"per_token_accuracy\": 0.9937}, \"time_spent\": \"0:00:14\", \"epochs_done\": 60, \"batches_seen\": 1860, \"train_examples_seen\": 115980, \"impatience\": 1, \"patience_limit\": 5}}\n"
     ]
    },
    {
     "name": "stderr",
     "output_type": "stream",
     "text": [
      "2019-08-09 18:06:35.659 DEBUG in 'deeppavlov.metrics.fmeasure'['fmeasure'] at line 390: processed 365 tokens with 49 phrases; found: 49 phrases; correct: 0.\n",
      "\n",
      "precision:  100.00%; recall:  100.00%; FB1:  100.00\n",
      "\n",
      "\tarea: precision:  100.00%; recall:  100.00%; F1:  100.00 14\n",
      "\n",
      "\tfood: precision:  100.00%; recall:  100.00%; F1:  100.00 22\n",
      "\n",
      "\tpricerange: precision:  100.00%; recall:  100.00%; F1:  100.00 11\n",
      "\n",
      "\tthis: precision:  100.00%; recall:  100.00%; F1:  100.00 2\n",
      "\n",
      "\n",
      "I0809 18:06:35.659898 139777813403264 fmeasure.py:390] processed 365 tokens with 49 phrases; found: 49 phrases; correct: 0.\n",
      "\n",
      "precision:  100.00%; recall:  100.00%; FB1:  100.00\n",
      "\n",
      "\tarea: precision:  100.00%; recall:  100.00%; F1:  100.00 14\n",
      "\n",
      "\tfood: precision:  100.00%; recall:  100.00%; F1:  100.00 22\n",
      "\n",
      "\tpricerange: precision:  100.00%; recall:  100.00%; F1:  100.00 11\n",
      "\n",
      "\tthis: precision:  100.00%; recall:  100.00%; F1:  100.00 2\n",
      "\n",
      "\n"
     ]
    },
    {
     "name": "stdout",
     "output_type": "stream",
     "text": [
      "{\"train\": {\"eval_examples_count\": 64, \"metrics\": {\"ner_f1\": 100.0, \"per_token_accuracy\": 1.0}, \"time_spent\": \"0:00:14\", \"epochs_done\": 61, \"batches_seen\": 1900, \"train_examples_seen\": 118489, \"learning_rate\": 0.01, \"momentum\": null, \"loss\": 0.001181101034873109}}\n"
     ]
    },
    {
     "name": "stderr",
     "output_type": "stream",
     "text": [
      "2019-08-09 18:06:36.191 DEBUG in 'deeppavlov.metrics.fmeasure'['fmeasure'] at line 390: processed 457 tokens with 77 phrases; found: 77 phrases; correct: 0.\n",
      "\n",
      "precision:  100.00%; recall:  100.00%; FB1:  100.00\n",
      "\n",
      "\tarea: precision:  100.00%; recall:  100.00%; F1:  100.00 25\n",
      "\n",
      "\tfood: precision:  100.00%; recall:  100.00%; F1:  100.00 30\n",
      "\n",
      "\tpricerange: precision:  100.00%; recall:  100.00%; F1:  100.00 22\n",
      "\n",
      "\n",
      "I0809 18:06:36.191221 139777813403264 fmeasure.py:390] processed 457 tokens with 77 phrases; found: 77 phrases; correct: 0.\n",
      "\n",
      "precision:  100.00%; recall:  100.00%; FB1:  100.00\n",
      "\n",
      "\tarea: precision:  100.00%; recall:  100.00%; F1:  100.00 25\n",
      "\n",
      "\tfood: precision:  100.00%; recall:  100.00%; F1:  100.00 30\n",
      "\n",
      "\tpricerange: precision:  100.00%; recall:  100.00%; F1:  100.00 22\n",
      "\n",
      "\n",
      "2019-08-09 18:06:36.378 DEBUG in 'deeppavlov.metrics.fmeasure'['fmeasure'] at line 390: processed 8424 tokens with 1244 phrases; found: 1252 phrases; correct: 0.\n",
      "\n",
      "precision:  96.88%; recall:  97.51%; FB1:  97.20\n",
      "\n",
      "\tarea: precision:  99.34%; recall:  99.67%; F1:  99.50 301\n",
      "\n",
      "\tfood: precision:  96.33%; recall:  97.26%; F1:  96.79 626\n",
      "\n",
      "\tname: precision:  0.00%; recall:  0.00%; F1:  0.00 2\n",
      "\n",
      "\tpricerange: precision:  96.95%; recall:  98.62%; F1:  97.78 295\n",
      "\n",
      "\tthis: precision:  89.29%; recall:  78.12%; F1:  83.33 28\n",
      "\n",
      "\n",
      "I0809 18:06:36.378409 139777813403264 fmeasure.py:390] processed 8424 tokens with 1244 phrases; found: 1252 phrases; correct: 0.\n",
      "\n",
      "precision:  96.88%; recall:  97.51%; FB1:  97.20\n",
      "\n",
      "\tarea: precision:  99.34%; recall:  99.67%; F1:  99.50 301\n",
      "\n",
      "\tfood: precision:  96.33%; recall:  97.26%; F1:  96.79 626\n",
      "\n",
      "\tname: precision:  0.00%; recall:  0.00%; F1:  0.00 2\n",
      "\n",
      "\tpricerange: precision:  96.95%; recall:  98.62%; F1:  97.78 295\n",
      "\n",
      "\tthis: precision:  89.29%; recall:  78.12%; F1:  83.33 28\n",
      "\n",
      "\n",
      "2019-08-09 18:06:36.380 INFO in 'deeppavlov.core.trainers.nn_trainer'['nn_trainer'] at line 170: Did not improve on the ner_f1 of 98.3845\n",
      "I0809 18:06:36.380234 139777813403264 nn_trainer.py:170] Did not improve on the ner_f1 of 98.3845\n"
     ]
    },
    {
     "name": "stdout",
     "output_type": "stream",
     "text": [
      "{\"train\": {\"eval_examples_count\": 64, \"metrics\": {\"ner_f1\": 100.0, \"per_token_accuracy\": 1.0}, \"time_spent\": \"0:00:15\", \"epochs_done\": 64, \"batches_seen\": 2000, \"train_examples_seen\": 124736, \"learning_rate\": 0.01, \"momentum\": null, \"loss\": 0.0018986650550095873}}\n",
      "{\"valid\": {\"eval_examples_count\": 1444, \"metrics\": {\"ner_f1\": 97.1955, \"per_token_accuracy\": 0.9916}, \"time_spent\": \"0:00:15\", \"epochs_done\": 65, \"batches_seen\": 2015, \"train_examples_seen\": 125645, \"impatience\": 2, \"patience_limit\": 5}}\n"
     ]
    },
    {
     "name": "stderr",
     "output_type": "stream",
     "text": [
      "2019-08-09 18:06:36.875 DEBUG in 'deeppavlov.metrics.fmeasure'['fmeasure'] at line 390: processed 445 tokens with 63 phrases; found: 63 phrases; correct: 0.\n",
      "\n",
      "precision:  100.00%; recall:  100.00%; FB1:  100.00\n",
      "\n",
      "\tarea: precision:  100.00%; recall:  100.00%; F1:  100.00 20\n",
      "\n",
      "\tfood: precision:  100.00%; recall:  100.00%; F1:  100.00 25\n",
      "\n",
      "\tname: precision:  100.00%; recall:  100.00%; F1:  100.00 1\n",
      "\n",
      "\tpricerange: precision:  100.00%; recall:  100.00%; F1:  100.00 16\n",
      "\n",
      "\tthis: precision:  100.00%; recall:  100.00%; F1:  100.00 1\n",
      "\n",
      "\n",
      "I0809 18:06:36.875633 139777813403264 fmeasure.py:390] processed 445 tokens with 63 phrases; found: 63 phrases; correct: 0.\n",
      "\n",
      "precision:  100.00%; recall:  100.00%; FB1:  100.00\n",
      "\n",
      "\tarea: precision:  100.00%; recall:  100.00%; F1:  100.00 20\n",
      "\n",
      "\tfood: precision:  100.00%; recall:  100.00%; F1:  100.00 25\n",
      "\n",
      "\tname: precision:  100.00%; recall:  100.00%; F1:  100.00 1\n",
      "\n",
      "\tpricerange: precision:  100.00%; recall:  100.00%; F1:  100.00 16\n",
      "\n",
      "\tthis: precision:  100.00%; recall:  100.00%; F1:  100.00 1\n",
      "\n",
      "\n"
     ]
    },
    {
     "name": "stdout",
     "output_type": "stream",
     "text": [
      "{\"train\": {\"eval_examples_count\": 64, \"metrics\": {\"ner_f1\": 100.0, \"per_token_accuracy\": 1.0}, \"time_spent\": \"0:00:15\", \"epochs_done\": 67, \"batches_seen\": 2100, \"train_examples_seen\": 130983, \"learning_rate\": 0.01, \"momentum\": null, \"loss\": 0.00225341394591851}}\n"
     ]
    },
    {
     "name": "stderr",
     "output_type": "stream",
     "text": [
      "2019-08-09 18:06:37.389 DEBUG in 'deeppavlov.metrics.fmeasure'['fmeasure'] at line 390: processed 8424 tokens with 1244 phrases; found: 1239 phrases; correct: 0.\n",
      "\n",
      "precision:  98.31%; recall:  97.91%; FB1:  98.11\n",
      "\n",
      "\tarea: precision:  99.67%; recall:  99.67%; F1:  99.67 300\n",
      "\n",
      "\tfood: precision:  98.69%; recall:  97.10%; F1:  97.89 610\n",
      "\n",
      "\tname: precision:  0.00%; recall:  0.00%; F1:  0.00 3\n",
      "\n",
      "\tpricerange: precision:  97.96%; recall:  99.31%; F1:  98.63 294\n",
      "\n",
      "\tthis: precision:  90.62%; recall:  90.62%; F1:  90.62 32\n",
      "\n",
      "\n",
      "I0809 18:06:37.389734 139777813403264 fmeasure.py:390] processed 8424 tokens with 1244 phrases; found: 1239 phrases; correct: 0.\n",
      "\n",
      "precision:  98.31%; recall:  97.91%; FB1:  98.11\n",
      "\n",
      "\tarea: precision:  99.67%; recall:  99.67%; F1:  99.67 300\n",
      "\n",
      "\tfood: precision:  98.69%; recall:  97.10%; F1:  97.89 610\n",
      "\n",
      "\tname: precision:  0.00%; recall:  0.00%; F1:  0.00 3\n",
      "\n",
      "\tpricerange: precision:  97.96%; recall:  99.31%; F1:  98.63 294\n",
      "\n",
      "\tthis: precision:  90.62%; recall:  90.62%; F1:  90.62 32\n",
      "\n",
      "\n",
      "2019-08-09 18:06:37.391 INFO in 'deeppavlov.core.trainers.nn_trainer'['nn_trainer'] at line 170: Did not improve on the ner_f1 of 98.3845\n",
      "I0809 18:06:37.391680 139777813403264 nn_trainer.py:170] Did not improve on the ner_f1 of 98.3845\n",
      "2019-08-09 18:06:37.573 DEBUG in 'deeppavlov.metrics.fmeasure'['fmeasure'] at line 390: processed 406 tokens with 49 phrases; found: 49 phrases; correct: 0.\n",
      "\n",
      "precision:  100.00%; recall:  100.00%; FB1:  100.00\n",
      "\n",
      "\tarea: precision:  100.00%; recall:  100.00%; F1:  100.00 14\n",
      "\n",
      "\tfood: precision:  100.00%; recall:  100.00%; F1:  100.00 26\n",
      "\n",
      "\tpricerange: precision:  100.00%; recall:  100.00%; F1:  100.00 8\n",
      "\n",
      "\tthis: precision:  100.00%; recall:  100.00%; F1:  100.00 1\n",
      "\n",
      "\n",
      "I0809 18:06:37.573453 139777813403264 fmeasure.py:390] processed 406 tokens with 49 phrases; found: 49 phrases; correct: 0.\n",
      "\n",
      "precision:  100.00%; recall:  100.00%; FB1:  100.00\n",
      "\n",
      "\tarea: precision:  100.00%; recall:  100.00%; F1:  100.00 14\n",
      "\n",
      "\tfood: precision:  100.00%; recall:  100.00%; F1:  100.00 26\n",
      "\n",
      "\tpricerange: precision:  100.00%; recall:  100.00%; F1:  100.00 8\n",
      "\n",
      "\tthis: precision:  100.00%; recall:  100.00%; F1:  100.00 1\n",
      "\n",
      "\n"
     ]
    },
    {
     "name": "stdout",
     "output_type": "stream",
     "text": [
      "{\"valid\": {\"eval_examples_count\": 1444, \"metrics\": {\"ner_f1\": 98.1071, \"per_token_accuracy\": 0.9932}, \"time_spent\": \"0:00:16\", \"epochs_done\": 70, \"batches_seen\": 2170, \"train_examples_seen\": 135310, \"impatience\": 3, \"patience_limit\": 5}}\n",
      "{\"train\": {\"eval_examples_count\": 64, \"metrics\": {\"ner_f1\": 100.0, \"per_token_accuracy\": 1.0}, \"time_spent\": \"0:00:16\", \"epochs_done\": 70, \"batches_seen\": 2200, \"train_examples_seen\": 137230, \"learning_rate\": 0.01, \"momentum\": null, \"loss\": 0.0016768889812556155}}\n"
     ]
    },
    {
     "name": "stderr",
     "output_type": "stream",
     "text": [
      "2019-08-09 18:06:38.127 DEBUG in 'deeppavlov.metrics.fmeasure'['fmeasure'] at line 390: processed 412 tokens with 64 phrases; found: 64 phrases; correct: 0.\n",
      "\n",
      "precision:  100.00%; recall:  100.00%; FB1:  100.00\n",
      "\n",
      "\tarea: precision:  100.00%; recall:  100.00%; F1:  100.00 22\n",
      "\n",
      "\tfood: precision:  100.00%; recall:  100.00%; F1:  100.00 27\n",
      "\n",
      "\tpricerange: precision:  100.00%; recall:  100.00%; F1:  100.00 14\n",
      "\n",
      "\tthis: precision:  100.00%; recall:  100.00%; F1:  100.00 1\n",
      "\n",
      "\n",
      "I0809 18:06:38.127303 139777813403264 fmeasure.py:390] processed 412 tokens with 64 phrases; found: 64 phrases; correct: 0.\n",
      "\n",
      "precision:  100.00%; recall:  100.00%; FB1:  100.00\n",
      "\n",
      "\tarea: precision:  100.00%; recall:  100.00%; F1:  100.00 22\n",
      "\n",
      "\tfood: precision:  100.00%; recall:  100.00%; F1:  100.00 27\n",
      "\n",
      "\tpricerange: precision:  100.00%; recall:  100.00%; F1:  100.00 14\n",
      "\n",
      "\tthis: precision:  100.00%; recall:  100.00%; F1:  100.00 1\n",
      "\n",
      "\n"
     ]
    },
    {
     "name": "stdout",
     "output_type": "stream",
     "text": [
      "{\"train\": {\"eval_examples_count\": 64, \"metrics\": {\"ner_f1\": 100.0, \"per_token_accuracy\": 1.0}, \"time_spent\": \"0:00:17\", \"epochs_done\": 74, \"batches_seen\": 2300, \"train_examples_seen\": 143426, \"learning_rate\": 0.01, \"momentum\": null, \"loss\": 0.0009778671346475675}}\n"
     ]
    },
    {
     "name": "stderr",
     "output_type": "stream",
     "text": [
      "2019-08-09 18:06:38.357 DEBUG in 'deeppavlov.metrics.fmeasure'['fmeasure'] at line 390: processed 8424 tokens with 1244 phrases; found: 1236 phrases; correct: 0.\n",
      "\n",
      "precision:  98.30%; recall:  97.67%; FB1:  97.98\n",
      "\n",
      "\tarea: precision:  99.34%; recall:  99.67%; F1:  99.50 301\n",
      "\n",
      "\tfood: precision:  98.36%; recall:  96.94%; F1:  97.64 611\n",
      "\n",
      "\tname: precision:  0.00%; recall:  0.00%; F1:  0.00 2\n",
      "\n",
      "\tpricerange: precision:  98.29%; recall:  98.97%; F1:  98.63 292\n",
      "\n",
      "\tthis: precision:  93.33%; recall:  87.50%; F1:  90.32 30\n",
      "\n",
      "\n",
      "I0809 18:06:38.357901 139777813403264 fmeasure.py:390] processed 8424 tokens with 1244 phrases; found: 1236 phrases; correct: 0.\n",
      "\n",
      "precision:  98.30%; recall:  97.67%; FB1:  97.98\n",
      "\n",
      "\tarea: precision:  99.34%; recall:  99.67%; F1:  99.50 301\n",
      "\n",
      "\tfood: precision:  98.36%; recall:  96.94%; F1:  97.64 611\n",
      "\n",
      "\tname: precision:  0.00%; recall:  0.00%; F1:  0.00 2\n",
      "\n",
      "\tpricerange: precision:  98.29%; recall:  98.97%; F1:  98.63 292\n",
      "\n",
      "\tthis: precision:  93.33%; recall:  87.50%; F1:  90.32 30\n",
      "\n",
      "\n",
      "2019-08-09 18:06:38.359 INFO in 'deeppavlov.core.trainers.nn_trainer'['nn_trainer'] at line 170: Did not improve on the ner_f1 of 98.3845\n",
      "I0809 18:06:38.359768 139777813403264 nn_trainer.py:170] Did not improve on the ner_f1 of 98.3845\n"
     ]
    },
    {
     "name": "stdout",
     "output_type": "stream",
     "text": [
      "{\"valid\": {\"eval_examples_count\": 1444, \"metrics\": {\"ner_f1\": 97.9839, \"per_token_accuracy\": 0.9928}, \"time_spent\": \"0:00:17\", \"epochs_done\": 75, \"batches_seen\": 2325, \"train_examples_seen\": 144975, \"impatience\": 4, \"patience_limit\": 5}}\n"
     ]
    },
    {
     "name": "stderr",
     "output_type": "stream",
     "text": [
      "2019-08-09 18:06:38.791 DEBUG in 'deeppavlov.metrics.fmeasure'['fmeasure'] at line 390: processed 368 tokens with 57 phrases; found: 57 phrases; correct: 0.\n",
      "\n",
      "precision:  100.00%; recall:  100.00%; FB1:  100.00\n",
      "\n",
      "\tarea: precision:  100.00%; recall:  100.00%; F1:  100.00 13\n",
      "\n",
      "\tfood: precision:  100.00%; recall:  100.00%; F1:  100.00 27\n",
      "\n",
      "\tpricerange: precision:  100.00%; recall:  100.00%; F1:  100.00 15\n",
      "\n",
      "\tthis: precision:  100.00%; recall:  100.00%; F1:  100.00 2\n",
      "\n",
      "\n",
      "I0809 18:06:38.791357 139777813403264 fmeasure.py:390] processed 368 tokens with 57 phrases; found: 57 phrases; correct: 0.\n",
      "\n",
      "precision:  100.00%; recall:  100.00%; FB1:  100.00\n",
      "\n",
      "\tarea: precision:  100.00%; recall:  100.00%; F1:  100.00 13\n",
      "\n",
      "\tfood: precision:  100.00%; recall:  100.00%; F1:  100.00 27\n",
      "\n",
      "\tpricerange: precision:  100.00%; recall:  100.00%; F1:  100.00 15\n",
      "\n",
      "\tthis: precision:  100.00%; recall:  100.00%; F1:  100.00 2\n",
      "\n",
      "\n"
     ]
    },
    {
     "name": "stdout",
     "output_type": "stream",
     "text": [
      "{\"train\": {\"eval_examples_count\": 64, \"metrics\": {\"ner_f1\": 100.0, \"per_token_accuracy\": 1.0}, \"time_spent\": \"0:00:17\", \"epochs_done\": 77, \"batches_seen\": 2400, \"train_examples_seen\": 149673, \"learning_rate\": 0.01, \"momentum\": null, \"loss\": 0.0014576419719469413}}\n"
     ]
    },
    {
     "name": "stderr",
     "output_type": "stream",
     "text": [
      "2019-08-09 18:06:39.308 DEBUG in 'deeppavlov.metrics.fmeasure'['fmeasure'] at line 390: processed 8424 tokens with 1244 phrases; found: 1226 phrases; correct: 0.\n",
      "\n",
      "precision:  98.86%; recall:  97.43%; FB1:  98.14\n",
      "\n",
      "\tarea: precision:  99.67%; recall:  99.67%; F1:  99.67 300\n",
      "\n",
      "\tfood: precision:  99.34%; recall:  96.61%; F1:  97.96 603\n",
      "\n",
      "\tname: precision:  0.00%; recall:  0.00%; F1:  0.00 2\n",
      "\n",
      "\tpricerange: precision:  98.29%; recall:  98.97%; F1:  98.63 292\n",
      "\n",
      "\tthis: precision:  93.10%; recall:  84.38%; F1:  88.52 29\n",
      "\n",
      "\n",
      "I0809 18:06:39.308403 139777813403264 fmeasure.py:390] processed 8424 tokens with 1244 phrases; found: 1226 phrases; correct: 0.\n",
      "\n",
      "precision:  98.86%; recall:  97.43%; FB1:  98.14\n",
      "\n",
      "\tarea: precision:  99.67%; recall:  99.67%; F1:  99.67 300\n",
      "\n",
      "\tfood: precision:  99.34%; recall:  96.61%; F1:  97.96 603\n",
      "\n",
      "\tname: precision:  0.00%; recall:  0.00%; F1:  0.00 2\n",
      "\n",
      "\tpricerange: precision:  98.29%; recall:  98.97%; F1:  98.63 292\n",
      "\n",
      "\tthis: precision:  93.10%; recall:  84.38%; F1:  88.52 29\n",
      "\n",
      "\n",
      "2019-08-09 18:06:39.310 INFO in 'deeppavlov.core.trainers.nn_trainer'['nn_trainer'] at line 170: Did not improve on the ner_f1 of 98.3845\n",
      "I0809 18:06:39.310734 139777813403264 nn_trainer.py:170] Did not improve on the ner_f1 of 98.3845\n",
      "2019-08-09 18:06:39.349 INFO in 'deeppavlov.core.models.lr_scheduled_model'['lr_scheduled_model'] at line 430: New learning rate dividor = 10.0\n",
      "I0809 18:06:39.349309 139777813403264 lr_scheduled_model.py:430] New learning rate dividor = 10.0\n",
      "2019-08-09 18:06:39.388 INFO in 'deeppavlov.core.trainers.nn_trainer'['nn_trainer'] at line 286: Ran out of patience\n",
      "I0809 18:06:39.388966 139777813403264 nn_trainer.py:286] Ran out of patience\n",
      "2019-08-09 18:06:39.406 INFO in 'deeppavlov.core.data.simple_vocab'['simple_vocab'] at line 112: [loading vocabulary from /home/vimary/code-projects/Pilot/examples/my_bot/slotfill/word.dict]\n",
      "I0809 18:06:39.406003 139777813403264 simple_vocab.py:112] [loading vocabulary from /home/vimary/code-projects/Pilot/examples/my_bot/slotfill/word.dict]\n",
      "2019-08-09 18:06:39.410 INFO in 'deeppavlov.core.data.simple_vocab'['simple_vocab'] at line 112: [loading vocabulary from /home/vimary/code-projects/Pilot/examples/my_bot/slotfill/tag.dict]\n",
      "I0809 18:06:39.410699 139777813403264 simple_vocab.py:112] [loading vocabulary from /home/vimary/code-projects/Pilot/examples/my_bot/slotfill/tag.dict]\n"
     ]
    },
    {
     "name": "stdout",
     "output_type": "stream",
     "text": [
      "{\"valid\": {\"eval_examples_count\": 1444, \"metrics\": {\"ner_f1\": 98.1377, \"per_token_accuracy\": 0.9932}, \"time_spent\": \"0:00:18\", \"epochs_done\": 80, \"batches_seen\": 2480, \"train_examples_seen\": 154640, \"impatience\": 5, \"patience_limit\": 5}}\n"
     ]
    },
    {
     "name": "stderr",
     "output_type": "stream",
     "text": [
      "2019-08-09 18:06:39.986 INFO in 'deeppavlov.core.models.tf_model'['tf_model'] at line 52: [loading model from /home/vimary/code-projects/Pilot/examples/my_bot/slotfill/model]\n",
      "I0809 18:06:39.986219 139777813403264 tf_model.py:52] [loading model from /home/vimary/code-projects/Pilot/examples/my_bot/slotfill/model]\n",
      "2019-08-09 18:06:40.219 DEBUG in 'deeppavlov.metrics.fmeasure'['fmeasure'] at line 390: processed 8424 tokens with 1244 phrases; found: 1232 phrases; correct: 0.\n",
      "\n",
      "precision:  98.86%; recall:  97.91%; FB1:  98.38\n",
      "\n",
      "\tarea: precision:  99.67%; recall:  99.67%; F1:  99.67 300\n",
      "\n",
      "\tfood: precision:  99.18%; recall:  97.26%; F1:  98.21 608\n",
      "\n",
      "\tname: precision:  0.00%; recall:  0.00%; F1:  0.00 1\n",
      "\n",
      "\tpricerange: precision:  98.29%; recall:  98.97%; F1:  98.63 292\n",
      "\n",
      "\tthis: precision:  93.55%; recall:  90.62%; F1:  92.06 31\n",
      "\n",
      "\n",
      "I0809 18:06:40.219339 139777813403264 fmeasure.py:390] processed 8424 tokens with 1244 phrases; found: 1232 phrases; correct: 0.\n",
      "\n",
      "precision:  98.86%; recall:  97.91%; FB1:  98.38\n",
      "\n",
      "\tarea: precision:  99.67%; recall:  99.67%; F1:  99.67 300\n",
      "\n",
      "\tfood: precision:  99.18%; recall:  97.26%; F1:  98.21 608\n",
      "\n",
      "\tname: precision:  0.00%; recall:  0.00%; F1:  0.00 1\n",
      "\n",
      "\tpricerange: precision:  98.29%; recall:  98.97%; F1:  98.63 292\n",
      "\n",
      "\tthis: precision:  93.55%; recall:  90.62%; F1:  92.06 31\n",
      "\n",
      "\n",
      "2019-08-09 18:06:40.358 DEBUG in 'deeppavlov.metrics.fmeasure'['fmeasure'] at line 390: processed 7797 tokens with 1185 phrases; found: 1186 phrases; correct: 0.\n",
      "\n",
      "precision:  97.13%; recall:  97.22%; FB1:  97.17\n",
      "\n",
      "\tarea: precision:  97.52%; recall:  99.06%; F1:  98.28 323\n",
      "\n",
      "\tfood: precision:  97.72%; recall:  97.37%; F1:  97.54 569\n",
      "\n",
      "\tname: precision:  0.00%; recall:  0.00%; F1:  0.00 2\n",
      "\n",
      "\tpricerange: precision:  98.86%; recall:  99.62%; F1:  99.24 264\n",
      "\n",
      "\tthis: precision:  71.43%; recall:  83.33%; F1:  76.92 28\n",
      "\n",
      "\n",
      "I0809 18:06:40.358022 139777813403264 fmeasure.py:390] processed 7797 tokens with 1185 phrases; found: 1186 phrases; correct: 0.\n",
      "\n",
      "precision:  97.13%; recall:  97.22%; FB1:  97.17\n",
      "\n",
      "\tarea: precision:  97.52%; recall:  99.06%; F1:  98.28 323\n",
      "\n",
      "\tfood: precision:  97.72%; recall:  97.37%; F1:  97.54 569\n",
      "\n",
      "\tname: precision:  0.00%; recall:  0.00%; F1:  0.00 2\n",
      "\n",
      "\tpricerange: precision:  98.86%; recall:  99.62%; F1:  99.24 264\n",
      "\n",
      "\tthis: precision:  71.43%; recall:  83.33%; F1:  76.92 28\n",
      "\n",
      "\n",
      "2019-08-09 18:06:40.364 INFO in 'deeppavlov.core.data.simple_vocab'['simple_vocab'] at line 112: [loading vocabulary from /home/vimary/code-projects/Pilot/examples/my_bot/slotfill/word.dict]\n",
      "I0809 18:06:40.364465 139777813403264 simple_vocab.py:112] [loading vocabulary from /home/vimary/code-projects/Pilot/examples/my_bot/slotfill/word.dict]\n",
      "2019-08-09 18:06:40.367 INFO in 'deeppavlov.core.data.simple_vocab'['simple_vocab'] at line 112: [loading vocabulary from /home/vimary/code-projects/Pilot/examples/my_bot/slotfill/tag.dict]\n",
      "I0809 18:06:40.367828 139777813403264 simple_vocab.py:112] [loading vocabulary from /home/vimary/code-projects/Pilot/examples/my_bot/slotfill/tag.dict]\n"
     ]
    },
    {
     "name": "stdout",
     "output_type": "stream",
     "text": [
      "{\"valid\": {\"eval_examples_count\": 1444, \"metrics\": {\"ner_f1\": 98.3845, \"per_token_accuracy\": 0.9941}, \"time_spent\": \"0:00:01\"}}\n",
      "{\"test\": {\"eval_examples_count\": 1386, \"metrics\": {\"ner_f1\": 97.1742, \"per_token_accuracy\": 0.9904}, \"time_spent\": \"0:00:01\"}}\n"
     ]
    },
    {
     "name": "stderr",
     "output_type": "stream",
     "text": [
      "2019-08-09 18:06:40.978 INFO in 'deeppavlov.core.models.tf_model'['tf_model'] at line 52: [loading model from /home/vimary/code-projects/Pilot/examples/my_bot/slotfill/model]\n",
      "I0809 18:06:40.978024 139777813403264 tf_model.py:52] [loading model from /home/vimary/code-projects/Pilot/examples/my_bot/slotfill/model]\n"
     ]
    }
   ],
   "source": [
    "from deeppavlov import train_model\n",
    "\n",
    "train_model(ner_config);"
   ]
  },
  {
   "cell_type": "markdown",
   "metadata": {},
   "source": [
    "Tags (& counts) found in the data are:"
   ]
  },
  {
   "cell_type": "code",
   "execution_count": 21,
   "metadata": {},
   "outputs": [
    {
     "name": "stdout",
     "output_type": "stream",
     "text": [
      "O\t9973\r\n",
      "B-food\t777\r\n",
      "B-area\t491\r\n",
      "B-pricerange\t408\r\n",
      "I-food\t41\r\n",
      "I-pricerange\t40\r\n",
      "B-this\t36\r\n",
      "I-this\t33\r\n",
      "I-area\t26\r\n",
      "B-name\t8\r\n",
      "I-name\t8\r\n"
     ]
    }
   ],
   "source": [
    "!cat my_bot/slotfill/tag.dict"
   ]
  },
  {
   "cell_type": "code",
   "execution_count": 22,
   "metadata": {},
   "outputs": [
    {
     "name": "stderr",
     "output_type": "stream",
     "text": [
      "2019-08-09 18:06:41.206 INFO in 'deeppavlov.dataset_readers.dstc2_reader'['dstc2_reader'] at line 112: [loading dialogs from /home/vimary/code-projects/Pilot/examples/my_data/dstc2-trn.jsonlist]\n",
      "I0809 18:06:41.206093 139777813403264 dstc2_reader.py:112] [loading dialogs from /home/vimary/code-projects/Pilot/examples/my_data/dstc2-trn.jsonlist]\n",
      "2019-08-09 18:06:41.599 INFO in 'deeppavlov.dataset_readers.dstc2_reader'['dstc2_reader'] at line 112: [loading dialogs from /home/vimary/code-projects/Pilot/examples/my_data/dstc2-val.jsonlist]\n",
      "I0809 18:06:41.599298 139777813403264 dstc2_reader.py:112] [loading dialogs from /home/vimary/code-projects/Pilot/examples/my_data/dstc2-val.jsonlist]\n",
      "2019-08-09 18:06:41.868 INFO in 'deeppavlov.dataset_readers.dstc2_reader'['dstc2_reader'] at line 112: [loading dialogs from /home/vimary/code-projects/Pilot/examples/my_data/dstc2-tst.jsonlist]\n",
      "I0809 18:06:41.868273 139777813403264 dstc2_reader.py:112] [loading dialogs from /home/vimary/code-projects/Pilot/examples/my_data/dstc2-tst.jsonlist]\n",
      "2019-08-09 18:06:42.37 INFO in 'deeppavlov.core.data.simple_vocab'['simple_vocab'] at line 112: [loading vocabulary from /home/vimary/code-projects/Pilot/examples/my_bot/slotfill/word.dict]\n",
      "I0809 18:06:42.037806 139777813403264 simple_vocab.py:112] [loading vocabulary from /home/vimary/code-projects/Pilot/examples/my_bot/slotfill/word.dict]\n",
      "2019-08-09 18:06:42.41 INFO in 'deeppavlov.core.data.simple_vocab'['simple_vocab'] at line 112: [loading vocabulary from /home/vimary/code-projects/Pilot/examples/my_bot/slotfill/tag.dict]\n",
      "I0809 18:06:42.041665 139777813403264 simple_vocab.py:112] [loading vocabulary from /home/vimary/code-projects/Pilot/examples/my_bot/slotfill/tag.dict]\n",
      "2019-08-09 18:06:42.604 INFO in 'deeppavlov.core.models.tf_model'['tf_model'] at line 52: [loading model from /home/vimary/code-projects/Pilot/examples/my_bot/slotfill/model]\n",
      "I0809 18:06:42.604910 139777813403264 tf_model.py:52] [loading model from /home/vimary/code-projects/Pilot/examples/my_bot/slotfill/model]\n",
      "2019-08-09 18:06:43.74 DEBUG in 'deeppavlov.metrics.fmeasure'['fmeasure'] at line 390: processed 8424 tokens with 1244 phrases; found: 1232 phrases; correct: 0.\n",
      "\n",
      "precision:  98.86%; recall:  97.91%; FB1:  98.38\n",
      "\n",
      "\tarea: precision:  99.67%; recall:  99.67%; F1:  99.67 300\n",
      "\n",
      "\tfood: precision:  99.18%; recall:  97.26%; F1:  98.21 608\n",
      "\n",
      "\tname: precision:  0.00%; recall:  0.00%; F1:  0.00 1\n",
      "\n",
      "\tpricerange: precision:  98.29%; recall:  98.97%; F1:  98.63 292\n",
      "\n",
      "\tthis: precision:  93.55%; recall:  90.62%; F1:  92.06 31\n",
      "\n",
      "\n",
      "I0809 18:06:43.074244 139777813403264 fmeasure.py:390] processed 8424 tokens with 1244 phrases; found: 1232 phrases; correct: 0.\n",
      "\n",
      "precision:  98.86%; recall:  97.91%; FB1:  98.38\n",
      "\n",
      "\tarea: precision:  99.67%; recall:  99.67%; F1:  99.67 300\n",
      "\n",
      "\tfood: precision:  99.18%; recall:  97.26%; F1:  98.21 608\n",
      "\n",
      "\tname: precision:  0.00%; recall:  0.00%; F1:  0.00 1\n",
      "\n",
      "\tpricerange: precision:  98.29%; recall:  98.97%; F1:  98.63 292\n",
      "\n",
      "\tthis: precision:  93.55%; recall:  90.62%; F1:  92.06 31\n",
      "\n",
      "\n",
      "2019-08-09 18:06:43.200 DEBUG in 'deeppavlov.metrics.fmeasure'['fmeasure'] at line 390: processed 7797 tokens with 1185 phrases; found: 1186 phrases; correct: 0.\n",
      "\n",
      "precision:  97.13%; recall:  97.22%; FB1:  97.17\n",
      "\n",
      "\tarea: precision:  97.52%; recall:  99.06%; F1:  98.28 323\n",
      "\n",
      "\tfood: precision:  97.72%; recall:  97.37%; F1:  97.54 569\n",
      "\n",
      "\tname: precision:  0.00%; recall:  0.00%; F1:  0.00 2\n",
      "\n",
      "\tpricerange: precision:  98.86%; recall:  99.62%; F1:  99.24 264\n",
      "\n",
      "\tthis: precision:  71.43%; recall:  83.33%; F1:  76.92 28\n",
      "\n",
      "\n",
      "I0809 18:06:43.200783 139777813403264 fmeasure.py:390] processed 7797 tokens with 1185 phrases; found: 1186 phrases; correct: 0.\n",
      "\n",
      "precision:  97.13%; recall:  97.22%; FB1:  97.17\n",
      "\n",
      "\tarea: precision:  97.52%; recall:  99.06%; F1:  98.28 323\n",
      "\n",
      "\tfood: precision:  97.72%; recall:  97.37%; F1:  97.54 569\n",
      "\n",
      "\tname: precision:  0.00%; recall:  0.00%; F1:  0.00 2\n",
      "\n",
      "\tpricerange: precision:  98.86%; recall:  99.62%; F1:  99.24 264\n",
      "\n",
      "\tthis: precision:  71.43%; recall:  83.33%; F1:  76.92 28\n",
      "\n",
      "\n"
     ]
    },
    {
     "name": "stdout",
     "output_type": "stream",
     "text": [
      "{\"valid\": {\"eval_examples_count\": 1444, \"metrics\": {\"ner_f1\": 98.3845, \"per_token_accuracy\": 0.9941}, \"time_spent\": \"0:00:01\"}}\n",
      "{\"test\": {\"eval_examples_count\": 1386, \"metrics\": {\"ner_f1\": 97.1742, \"per_token_accuracy\": 0.9904}, \"time_spent\": \"0:00:01\"}}\n"
     ]
    }
   ],
   "source": [
    "from deeppavlov import evaluate_model\n",
    "\n",
    "evaluate_model(ner_config);"
   ]
  },
  {
   "cell_type": "markdown",
   "metadata": {},
   "source": [
    "We've got tagging F1-score=98 on valid set and 97 on test set."
   ]
  },
  {
   "cell_type": "code",
   "execution_count": 23,
   "metadata": {},
   "outputs": [
    {
     "name": "stderr",
     "output_type": "stream",
     "text": [
      "2019-08-09 18:07:35.901 INFO in 'deeppavlov.core.data.simple_vocab'['simple_vocab'] at line 112: [loading vocabulary from /home/vimary/code-projects/Pilot/examples/my_bot/slotfill/word.dict]\n",
      "I0809 18:07:35.901416 139777813403264 simple_vocab.py:112] [loading vocabulary from /home/vimary/code-projects/Pilot/examples/my_bot/slotfill/word.dict]\n",
      "2019-08-09 18:07:35.904 INFO in 'deeppavlov.core.data.simple_vocab'['simple_vocab'] at line 112: [loading vocabulary from /home/vimary/code-projects/Pilot/examples/my_bot/slotfill/tag.dict]\n",
      "I0809 18:07:35.904371 139777813403264 simple_vocab.py:112] [loading vocabulary from /home/vimary/code-projects/Pilot/examples/my_bot/slotfill/tag.dict]\n",
      "2019-08-09 18:07:36.454 INFO in 'deeppavlov.core.models.tf_model'['tf_model'] at line 52: [loading model from /home/vimary/code-projects/Pilot/examples/my_bot/slotfill/model]\n",
      "I0809 18:07:36.454594 139777813403264 tf_model.py:52] [loading model from /home/vimary/code-projects/Pilot/examples/my_bot/slotfill/model]\n"
     ]
    }
   ],
   "source": [
    "from deeppavlov import build_model\n",
    "\n",
    "ner = build_model(ner_config)"
   ]
  },
  {
   "cell_type": "code",
   "execution_count": 24,
   "metadata": {},
   "outputs": [
    {
     "data": {
      "text/plain": [
       "[[['hi', 'i', 'want', 'some', 'cheap', 'chinese', 'food']],\n",
       " [['O', 'O', 'O', 'O', 'B-pricerange', 'B-food', 'O']]]"
      ]
     },
     "execution_count": 24,
     "metadata": {},
     "output_type": "execute_result"
    }
   ],
   "source": [
    "ner(['hi i want some cheap chinese food'])"
   ]
  },
  {
   "cell_type": "code",
   "execution_count": 25,
   "metadata": {},
   "outputs": [
    {
     "name": "stdout",
     "output_type": "stream",
     "text": [
      "db.sqlite  ner_config.json  slotfill\r\n"
     ]
    }
   ],
   "source": [
    "import json\n",
    "\n",
    "json.dump(ner_config, open('my_bot/ner_config.json', 'wt'), indent=2)\n",
    "\n",
    "!ls my_bot"
   ]
  },
  {
   "cell_type": "code",
   "execution_count": 26,
   "metadata": {},
   "outputs": [],
   "source": [
    "slotfill_config = read_json(configs.ner.slotfill_dstc2)"
   ]
  },
  {
   "cell_type": "code",
   "execution_count": 27,
   "metadata": {},
   "outputs": [],
   "source": [
    "slotfill_config['metadata']['variables']['DATA_PATH'] = 'my_data'\n",
    "slotfill_config['metadata']['variables']['SLOT_VALS_PATH'] = 'my_bot/slotfill/dstc_slot_vals.json'\n",
    "\n",
    "slotfill_config['metadata']['variables']['MODEL_PATH'] = 'my_bot/slotfill'\n",
    "slotfill_config['metadata']['variables']['NER_CONFIG_PATH'] = 'my_bot/ner_config.json'"
   ]
  },
  {
   "cell_type": "code",
   "execution_count": 28,
   "metadata": {},
   "outputs": [
    {
     "name": "stderr",
     "output_type": "stream",
     "text": [
      "2019-08-09 18:07:43.486 INFO in 'deeppavlov.dataset_readers.dstc2_reader'['dstc2_reader'] at line 112: [loading dialogs from /home/vimary/code-projects/Pilot/examples/my_data/dstc2-trn.jsonlist]\n",
      "I0809 18:07:43.486081 139777813403264 dstc2_reader.py:112] [loading dialogs from /home/vimary/code-projects/Pilot/examples/my_data/dstc2-trn.jsonlist]\n",
      "2019-08-09 18:07:43.598 INFO in 'deeppavlov.dataset_readers.dstc2_reader'['dstc2_reader'] at line 112: [loading dialogs from /home/vimary/code-projects/Pilot/examples/my_data/dstc2-val.jsonlist]\n",
      "I0809 18:07:43.598820 139777813403264 dstc2_reader.py:112] [loading dialogs from /home/vimary/code-projects/Pilot/examples/my_data/dstc2-val.jsonlist]\n",
      "2019-08-09 18:07:43.902 INFO in 'deeppavlov.dataset_readers.dstc2_reader'['dstc2_reader'] at line 112: [loading dialogs from /home/vimary/code-projects/Pilot/examples/my_data/dstc2-tst.jsonlist]\n",
      "I0809 18:07:43.902823 139777813403264 dstc2_reader.py:112] [loading dialogs from /home/vimary/code-projects/Pilot/examples/my_data/dstc2-tst.jsonlist]\n",
      "2019-08-09 18:07:44.73 INFO in 'deeppavlov.core.data.simple_vocab'['simple_vocab'] at line 112: [loading vocabulary from /home/vimary/code-projects/Pilot/examples/my_bot/slotfill/word.dict]\n",
      "I0809 18:07:44.073825 139777813403264 simple_vocab.py:112] [loading vocabulary from /home/vimary/code-projects/Pilot/examples/my_bot/slotfill/word.dict]\n",
      "2019-08-09 18:07:44.76 INFO in 'deeppavlov.core.data.simple_vocab'['simple_vocab'] at line 112: [loading vocabulary from /home/vimary/code-projects/Pilot/examples/my_bot/slotfill/tag.dict]\n",
      "I0809 18:07:44.076652 139777813403264 simple_vocab.py:112] [loading vocabulary from /home/vimary/code-projects/Pilot/examples/my_bot/slotfill/tag.dict]\n",
      "2019-08-09 18:07:44.864 INFO in 'deeppavlov.core.models.tf_model'['tf_model'] at line 52: [loading model from /home/vimary/code-projects/Pilot/examples/my_bot/slotfill/model]\n",
      "I0809 18:07:44.864141 139777813403264 tf_model.py:52] [loading model from /home/vimary/code-projects/Pilot/examples/my_bot/slotfill/model]\n",
      "/home/vimary/dp_env/lib/python3.7/site-packages/fuzzywuzzy-0.17.0-py3.7.egg/fuzzywuzzy/fuzz.py:11: UserWarning: Using slow pure-python SequenceMatcher. Install python-Levenshtein to remove this warning\n",
      "  warnings.warn('Using slow pure-python SequenceMatcher. Install python-Levenshtein to remove this warning')\n",
      "2019-08-09 18:07:44.923 INFO in 'deeppavlov.core.data.utils'['utils'] at line 63: Downloading from http://files.deeppavlov.ai/datasets/dstc_slot_vals.json to /home/vimary/code-projects/Pilot/examples/my_bot/slotfill/model\n",
      "I0809 18:07:44.923236 139777813403264 utils.py:63] Downloading from http://files.deeppavlov.ai/datasets/dstc_slot_vals.json to /home/vimary/code-projects/Pilot/examples/my_bot/slotfill/model\n",
      "100%|██████████| 8.49k/8.49k [00:00<00:00, 53.4MB/s]\n"
     ]
    },
    {
     "name": "stdout",
     "output_type": "stream",
     "text": [
      "{\"valid\": {\"eval_examples_count\": 1444, \"metrics\": {\"slots_accuracy\": 0.9778}, \"time_spent\": \"0:00:11\"}}\n",
      "{\"test\": {\"eval_examples_count\": 1386, \"metrics\": {\"slots_accuracy\": 0.9683}, \"time_spent\": \"0:00:10\"}}\n"
     ]
    }
   ],
   "source": [
    "evaluate_model(slotfill_config);"
   ]
  },
  {
   "cell_type": "markdown",
   "metadata": {},
   "source": [
    "We've got slot accuracy of 97% on valid set and 96% on test set."
   ]
  },
  {
   "cell_type": "code",
   "execution_count": 29,
   "metadata": {},
   "outputs": [
    {
     "name": "stderr",
     "output_type": "stream",
     "text": [
      "2019-08-09 18:08:14.305 INFO in 'deeppavlov.core.data.simple_vocab'['simple_vocab'] at line 112: [loading vocabulary from /home/vimary/code-projects/Pilot/examples/my_bot/slotfill/word.dict]\n",
      "I0809 18:08:14.305612 139777813403264 simple_vocab.py:112] [loading vocabulary from /home/vimary/code-projects/Pilot/examples/my_bot/slotfill/word.dict]\n",
      "2019-08-09 18:08:14.308 INFO in 'deeppavlov.core.data.simple_vocab'['simple_vocab'] at line 112: [loading vocabulary from /home/vimary/code-projects/Pilot/examples/my_bot/slotfill/tag.dict]\n",
      "I0809 18:08:14.308433 139777813403264 simple_vocab.py:112] [loading vocabulary from /home/vimary/code-projects/Pilot/examples/my_bot/slotfill/tag.dict]\n",
      "2019-08-09 18:08:14.850 INFO in 'deeppavlov.core.models.tf_model'['tf_model'] at line 52: [loading model from /home/vimary/code-projects/Pilot/examples/my_bot/slotfill/model]\n",
      "I0809 18:08:14.850203 139777813403264 tf_model.py:52] [loading model from /home/vimary/code-projects/Pilot/examples/my_bot/slotfill/model]\n"
     ]
    }
   ],
   "source": [
    "slotfill = build_model(slotfill_config)"
   ]
  },
  {
   "cell_type": "code",
   "execution_count": 30,
   "metadata": {},
   "outputs": [
    {
     "data": {
      "text/plain": [
       "[{'pricerange': 'cheap', 'food': 'chinese'}]"
      ]
     },
     "execution_count": 30,
     "metadata": {},
     "output_type": "execute_result"
    }
   ],
   "source": [
    "slotfill(['i want cheap chinese food, pls'])"
   ]
  },
  {
   "cell_type": "markdown",
   "metadata": {},
   "source": [
    "## Train bot"
   ]
  },
  {
   "cell_type": "code",
   "execution_count": null,
   "metadata": {},
   "outputs": [],
   "source": [
    "config = {\n",
    "  \"dataset_reader\": {\n",
    "    \"class_name\": \"dstc2_reader\",\n",
    "    \"data_path\": \"{DOWNLOADS_PATH}\"\n",
    "  },\n",
    "  \"dataset_iterator\": {\n",
    "    \"class_name\": \"dialog_iterator\"\n",
    "  },\n",
    "  \"chainer\": {\n",
    "    \"in\": [\"x\"],\n",
    "    \"in_y\": [\"y\"],\n",
    "    \"out\": [\"y_predicted\"],\n",
    "    \"pipe\": [\n",
    "      {\n",
    "        \"class_name\": \"deeppavlov.models.go_bot.wrapper:DialogComponentWrapper\",\n",
    "        \"component\": {\n",
    "            \"class_name\": \"split_tokenizer\"\n",
    "        },\n",
    "        \"in\": [\"x\"],\n",
    "        \"out\": [\"x_tokens\"]\n",
    "      },\n",
    "      {\n",
    "        \"id\": \"word_vocab\",\n",
    "        \"class_name\": \"simple_vocab\",\n",
    "        \"fit_on\": [\"x_tokens\"],\n",
    "        \"save_path\": \"{BOT_PATH}/word.dict\",\n",
    "        \"load_path\": \"{BOT_PATH}/word.dict\"\n",
    "      },\n",
    "      {\n",
    "        \"id\": \"restaurant_database\",\n",
    "        \"class_name\": \"sqlite_database\",\n",
    "        \"table_name\": \"mytable\",\n",
    "        \"primary_keys\": [\"name\"],\n",
    "        \"save_path\": \"{DOWNLOADS_PATH}/db.sqlite\"\n",
    "      },\n",
    "      {\n",
    "        \"class_name\": \"go_bot\",\n",
    "        \"load_path\": \"{BOT_PATH}/model\",\n",
    "        \"save_path\": \"{BOT_PATH}/model\",\n",
    "        \"in\": [\"x\"],\n",
    "        \"in_y\": [\"y\"],\n",
    "        \"out\": [\"y_predicted\"],\n",
    "        \"main\": True,\n",
    "        \"debug\": False,\n",
    "        \"learning_rate\": 0.003,\n",
    "        \"learning_rate_drop_patience\": 5,\n",
    "        \"learning_rate_drop_div\": 10.0,\n",
    "        \"momentum\": 0.95,\n",
    "        \"optimizer\": \"tensorflow.train:AdamOptimizer\",\n",
    "        \"clip_norm\": 2.0,\n",
    "        \"dropout_rate\": 0.4,\n",
    "        \"l2_reg_coef\": 3e-4,\n",
    "        \"hidden_size\": 128,\n",
    "        \"dense_size\": 160,\n",
    "        \"word_vocab\": \"#word_vocab\",\n",
    "        \"template_path\": \"{DOWNLOADS_PATH}/templates.txt\",\n",
    "        \"template_type\": \"DualTemplate\",\n",
    "        \"database\": \"#restaurant_database\",\n",
    "        \"api_call_action\": \"api_call\",\n",
    "        \"use_action_mask\": False,\n",
    "        \"slot_filler\": {\n",
    "          \"config_path\": \"{CONFIGS_PATH}/ner/slotfill_dstc2.json\"\n",
    "        },\n",
    "        \"intent_classifier\": None,\n",
    "        \"embedder\": {\n",
    "          \"class_name\": \"glove\",\n",
    "          \"load_path\": \"{DOWNLOADS_PATH}/glove.6B.100d.txt\"\n",
    "        },\n",
    "        \"bow_embedder\": {\n",
    "          \"class_name\": \"bow\",\n",
    "          \"depth\": \"#word_vocab.__len__()\",\n",
    "          \"with_counts\": True\n",
    "        },\n",
    "        \"tokenizer\": {\n",
    "          \"class_name\": \"stream_spacy_tokenizer\",\n",
    "          \"lowercase\": False\n",
    "        },\n",
    "        \"tracker\": {\n",
    "          \"class_name\": \"featurized_tracker\",\n",
    "          \"slot_names\": [\"pricerange\", \"this\", \"area\", \"food\", \"name\"]\n",
    "        }\n",
    "      }\n",
    "    ]\n",
    "  },\n",
    "  \"train\": {\n",
    "    \"epochs\": 200,\n",
    "    \"batch_size\": 8,\n",
    "\n",
    "    \"metrics\": [\"per_item_dialog_accuracy\"],\n",
    "    \"validation_patience\": 10,\n",
    "    \"val_every_n_batches\": 15,\n",
    "\n",
    "    \"log_every_n_batches\": 15,\n",
    "    \"show_examples\": False,\n",
    "    \"evaluation_targets\": [\n",
    "      \"valid\",\n",
    "      \"test\"\n",
    "    ],\n",
    "    \"class_name\": \"nn_trainer\"\n",
    "  },\n",
    "  \"metadata\": {\n",
    "    \"variables\": {\n",
    "      \"ROOT_PATH\": \".\",\n",
    "      \"DOWNLOADS_PATH\": \"{ROOT_PATH}/my_data\",\n",
    "      \"MODEL_PATH\": \"{ROOT_PATH}/my_model\",\n",
    "      \"CONFIGS_PATH\": \"{DEEPPAVLOV_PATH}/configs\"\n",
    "    },\n",
    "    \"requirements\": [\n",
    "      \"{DEEPPAVLOV_PATH}/requirements/tf.txt\",\n",
    "      \"{DEEPPAVLOV_PATH}/requirements/gensim.txt\",\n",
    "      \"{DEEPPAVLOV_PATH}/requirements/spacy.txt\",\n",
    "      \"{DEEPPAVLOV_PATH}/requirements/en_core_web_sm.txt\"\n",
    "    ],\n",
    "    \"labels\": {\n",
    "      \"telegram_utils\": \"GoalOrientedBot\",\n",
    "      \"server_utils\": \"GoalOrientedBot\"\n",
    "    },\n",
    "    \"download\": [\n",
    "      {\n",
    "        \"url\": \"http://files.deeppavlov.ai/embeddings/glove.6B.100d.txt\",\n",
    "        \"subdir\": \"{DOWNLOADS_PATH}/embeddings\"\n",
    "      }\n",
    "    ]\n",
    "  }\n",
    "}"
   ]
  },
  {
   "cell_type": "code",
   "execution_count": null,
   "metadata": {},
   "outputs": [],
   "source": [
    "from deeppavlov import configs, parse_json\n",
    "\n"
   ]
  }
 ],
 "metadata": {
  "kernelspec": {
   "display_name": "Python (dp_env)",
   "language": "python",
   "name": "dp_env"
  },
  "language_info": {
   "codemirror_mode": {
    "name": "ipython",
    "version": 3
   },
   "file_extension": ".py",
   "mimetype": "text/x-python",
   "name": "python",
   "nbconvert_exporter": "python",
   "pygments_lexer": "ipython3",
   "version": "3.7.3"
  }
 },
 "nbformat": 4,
 "nbformat_minor": 2
}
