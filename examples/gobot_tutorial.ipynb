{
 "cells": [
  {
   "cell_type": "markdown",
   "metadata": {},
   "source": [
    "## You can also run the notebook in [COLAB](https://colab.research.google.com/github/deepmipt/DeepPavlov/blob/master/examples/gobot_tutorial.ipynb)."
   ]
  },
  {
   "cell_type": "code",
   "execution_count": null,
   "metadata": {},
   "outputs": [],
   "source": [
    "!pip install deeppavlov"
   ]
  },
  {
   "cell_type": "markdown",
   "metadata": {},
   "source": [
    "## Data Preparation"
   ]
  },
  {
   "cell_type": "code",
   "execution_count": 1,
   "metadata": {},
   "outputs": [
    {
     "name": "stderr",
     "output_type": "stream",
     "text": [
      "2019-08-15 12:03:21.424 INFO in 'deeppavlov.dataset_readers.dstc2_reader'['dstc2_reader'] at line 269: [downloading data from http://files.deeppavlov.ai/datasets/simple_dstc2.tar.gz to my_data]\n",
      "2019-08-15 12:03:21.452 INFO in 'deeppavlov.core.data.utils'['utils'] at line 63: Downloading from http://files.deeppavlov.ai/datasets/simple_dstc2.tar.gz to my_data/simple_dstc2.tar.gz\n",
      "100%|██████████| 497k/497k [00:00<00:00, 47.4MB/s]\n",
      "2019-08-15 12:03:21.466 INFO in 'deeppavlov.core.data.utils'['utils'] at line 201: Extracting my_data/simple_dstc2.tar.gz archive into my_data\n",
      "2019-08-15 12:03:21.491 INFO in 'deeppavlov.dataset_readers.dstc2_reader'['dstc2_reader'] at line 289: [loading dialogs from my_data/simple-dstc2-trn.json]\n",
      "2019-08-15 12:03:21.558 INFO in 'deeppavlov.dataset_readers.dstc2_reader'['dstc2_reader'] at line 289: [loading dialogs from my_data/simple-dstc2-val.json]\n",
      "2019-08-15 12:03:21.607 INFO in 'deeppavlov.dataset_readers.dstc2_reader'['dstc2_reader'] at line 289: [loading dialogs from my_data/simple-dstc2-tst.json]\n",
      "2019-08-15 12:03:21.639 INFO in 'deeppavlov.dataset_readers.dstc2_reader'['dstc2_reader'] at line 281: there are 9115 samples in train split.\n",
      "2019-08-15 12:03:21.640 INFO in 'deeppavlov.dataset_readers.dstc2_reader'['dstc2_reader'] at line 282: there are 6231 samples in valid split.\n",
      "2019-08-15 12:03:21.640 INFO in 'deeppavlov.dataset_readers.dstc2_reader'['dstc2_reader'] at line 283: There are 6345 samples in test split.\n"
     ]
    }
   ],
   "source": [
    "from deeppavlov.dataset_readers.dstc2_reader import SimpleDSTC2DatasetReader\n",
    "\n",
    "data = SimpleDSTC2DatasetReader().read('my_data')"
   ]
  },
  {
   "cell_type": "code",
   "execution_count": 2,
   "metadata": {},
   "outputs": [
    {
     "name": "stdout",
     "output_type": "stream",
     "text": [
      "simple-dstc2-templates.txt  simple-dstc2-tst.json\r\n",
      "simple-dstc2-trn.json\t    simple-dstc2-val.json\r\n"
     ]
    }
   ],
   "source": [
    "!ls my_data"
   ]
  },
  {
   "cell_type": "code",
   "execution_count": 5,
   "metadata": {},
   "outputs": [
    {
     "name": "stdout",
     "output_type": "stream",
     "text": [
      "[\r\n",
      "  [\r\n",
      "    {\r\n",
      "      \"speaker\": 2,\r\n",
      "      \"text\": \"Hello, welcome to the Cambridge restaurant system. You can ask for restaurants by area, price range or food type. How may I help you?\",\r\n",
      "      \"slots\": [],\r\n",
      "      \"act\": \"welcomemsg\"\r\n",
      "    },\r\n",
      "    {\r\n",
      "      \"speaker\": 1,\r\n",
      "      \"text\": \"cheap restaurant\",\r\n",
      "      \"slots\": [\r\n",
      "        [\r\n",
      "          \"pricerange\",\r\n",
      "          \"cheap\"\r\n",
      "        ]\r\n",
      "      ]\r\n",
      "    },\r\n"
     ]
    }
   ],
   "source": [
    "!head -n 18 my_data/simple-dstc2-trn.json"
   ]
  },
  {
   "cell_type": "code",
   "execution_count": 6,
   "metadata": {
    "scrolled": true
   },
   "outputs": [],
   "source": [
    "from deeppavlov.dataset_iterators.dialog_iterator import DialogDatasetIterator\n",
    "\n",
    "iterator = DialogDatasetIterator(data)"
   ]
  },
  {
   "cell_type": "code",
   "execution_count": 7,
   "metadata": {},
   "outputs": [
    {
     "name": "stdout",
     "output_type": "stream",
     "text": [
      "[   {'prev_resp_act': None, 'text': ''},\n",
      "    {'prev_resp_act': 'welcomemsg', 'text': 'cheap restaurant'},\n",
      "    {'prev_resp_act': 'request_food', 'text': 'any'},\n",
      "    {'prev_resp_act': 'request_area', 'text': 'south'},\n",
      "    {   'db_result': {   'addr': 'cambridge leisure park clifton way cherry '\n",
      "                                 'hinton',\n",
      "                         'area': 'south',\n",
      "                         'food': 'chinese',\n",
      "                         'name': 'the lucky star',\n",
      "                         'phone': '01223 244277',\n",
      "                         'postcode': 'c.b 1, 7 d.y',\n",
      "                         'pricerange': 'cheap'},\n",
      "        'prev_resp_act': 'api_call',\n",
      "        'text': 'south'},\n",
      "    {'prev_resp_act': 'inform_area+inform_food+offer_name', 'text': 'address'},\n",
      "    {'prev_resp_act': 'inform_addr+offer_name', 'text': 'phone number'},\n",
      "    {'prev_resp_act': 'inform_phone+offer_name', 'text': 'thank you good bye'}]\n"
     ]
    }
   ],
   "source": [
    "from pprint import pprint\n",
    "\n",
    "x_dialog, y_dialog = iterator.train[0]\n",
    "pprint(x_dialog, indent=4)"
   ]
  },
  {
   "cell_type": "markdown",
   "metadata": {},
   "source": [
    "## 1. Build database of items"
   ]
  },
  {
   "cell_type": "code",
   "execution_count": 8,
   "metadata": {},
   "outputs": [
    {
     "name": "stderr",
     "output_type": "stream",
     "text": [
      "2019-08-15 12:04:40.898 WARNING in 'deeppavlov.core.models.serializable'['serializable'] at line 47: No load path is set for Sqlite3Database in 'infer' mode. Using save path instead\n",
      "2019-08-15 12:04:40.898 INFO in 'deeppavlov.core.data.sqlite_database'['sqlite_database'] at line 67: Initializing empty database on /home/vimary/code-projects/Pilot/examples/my_bot/db.sqlite.\n"
     ]
    }
   ],
   "source": [
    "from deeppavlov.core.data.sqlite_database import Sqlite3Database\n",
    "\n",
    "database = Sqlite3Database(table_name=\"mytable\",\n",
    "                           primary_keys=[\"name\"],\n",
    "                           keys=[\"name\", \"food\", \"pricerange\", \"area\", \"addr\", \"phone\", \"postcode\"],\n",
    "                           save_path=\"my_bot/db.sqlite\")"
   ]
  },
  {
   "cell_type": "code",
   "execution_count": 9,
   "metadata": {},
   "outputs": [
    {
     "name": "stderr",
     "output_type": "stream",
     "text": [
      "2019-08-15 12:04:41.763 INFO in 'deeppavlov.core.data.sqlite_database'['sqlite_database'] at line 138: Created table with keys {'name': 'text', 'food': 'text', 'pricerange': 'text', 'area': 'text', 'addr': 'text', 'phone': 'text', 'postcode': 'text'}.\n"
     ]
    },
    {
     "name": "stdout",
     "output_type": "stream",
     "text": [
      "Adding 3016 items.\n"
     ]
    }
   ],
   "source": [
    "db_results = []\n",
    "for dialog in iterator.gen_batches(batch_size=1, data_type='all'):\n",
    "    turns_x, turns_y = dialog\n",
    "    db_results.extend(x['db_result'] for x in turns_x[0] if x.get('db_result'))\n",
    "\n",
    "print(f\"Adding {len(db_results)} items.\")\n",
    "if db_results:\n",
    "    database.fit(db_results)"
   ]
  },
  {
   "cell_type": "code",
   "execution_count": 10,
   "metadata": {},
   "outputs": [
    {
     "data": {
      "text/plain": [
       "[[{'name': 'the lucky star',\n",
       "   'food': 'chinese',\n",
       "   'pricerange': 'cheap',\n",
       "   'area': 'south',\n",
       "   'addr': 'cambridge leisure park clifton way cherry hinton',\n",
       "   'phone': '01223 244277',\n",
       "   'postcode': 'c.b 1, 7 d.y'},\n",
       "  {'name': 'nandos',\n",
       "   'food': 'portuguese',\n",
       "   'pricerange': 'cheap',\n",
       "   'area': 'south',\n",
       "   'addr': 'cambridge leisure park clifton way',\n",
       "   'phone': '01223 327908',\n",
       "   'postcode': 'c.b 1, 7 d.y'}]]"
      ]
     },
     "execution_count": 10,
     "metadata": {},
     "output_type": "execute_result"
    }
   ],
   "source": [
    "database([{'pricerange': 'cheap', 'area': 'south'}])"
   ]
  },
  {
   "cell_type": "code",
   "execution_count": 11,
   "metadata": {},
   "outputs": [
    {
     "name": "stdout",
     "output_type": "stream",
     "text": [
      "db.sqlite\r\n"
     ]
    }
   ],
   "source": [
    "!ls my_bot"
   ]
  },
  {
   "cell_type": "markdown",
   "metadata": {},
   "source": [
    "## 2. Build Slot Filler\n",
    "\n",
    "Slot Filler is component that inputs text and outputs dictionary of slot names and their values:\n",
    "\n",
    "    slot_filler(['I would like some chineese food'])\n",
    "    >> [{'food': 'chinese'}]\n",
    "\n",
    "To implement a slot filler you need to provide\n",
    "    \n",
    " - **slot types**\n",
    " - all possible **slot values**\n",
    " - optionally, it will be good to provide examples of mentions for every value of each slot\n",
    " \n",
    "The data should be in `slot_vals.json` file with the following format:\n",
    "\n",
    "    {\n",
    "        'food': {\n",
    "            'chinese': ['chinese', 'chineese', 'chines'],\n",
    "            'french': ['french', 'freench'],\n",
    "            'dontcare': ['any food', 'any type of food']\n",
    "        }\n",
    "    }\n",
    "                \n",
    "\n",
    "Let's use a simple non-trainable slot filler that relies on levenshtein distance:"
   ]
  },
  {
   "cell_type": "markdown",
   "metadata": {},
   "source": [
    "### Non-trainable slot filler"
   ]
  },
  {
   "cell_type": "code",
   "execution_count": 12,
   "metadata": {},
   "outputs": [
    {
     "name": "stderr",
     "output_type": "stream",
     "text": [
      "2019-08-15 12:04:45.398 INFO in 'deeppavlov.core.data.utils'['utils'] at line 63: Downloading from http://files.deeppavlov.ai/deeppavlov_data/dstc_slot_vals.tar.gz to my_bot/slotfill/dstc_slot_vals.tar.gz\n",
      "100%|██████████| 1.62k/1.62k [00:00<00:00, 10.9MB/s]\n",
      "2019-08-15 12:04:45.400 INFO in 'deeppavlov.core.data.utils'['utils'] at line 201: Extracting my_bot/slotfill/dstc_slot_vals.tar.gz archive into my_bot/slotfill\n"
     ]
    }
   ],
   "source": [
    "from deeppavlov.download import download_decompress\n",
    "\n",
    "download_decompress(url='http://files.deeppavlov.ai/deeppavlov_data/dstc_slot_vals.tar.gz',\n",
    "                    download_path='my_bot/slotfill')"
   ]
  },
  {
   "cell_type": "code",
   "execution_count": 13,
   "metadata": {},
   "outputs": [
    {
     "name": "stdout",
     "output_type": "stream",
     "text": [
      "dstc_slot_vals.json\r\n"
     ]
    }
   ],
   "source": [
    "!ls my_bot/slotfill"
   ]
  },
  {
   "cell_type": "code",
   "execution_count": 17,
   "metadata": {},
   "outputs": [
    {
     "name": "stdout",
     "output_type": "stream",
     "text": [
      "{\r\n",
      "    \"food\": {\r\n",
      "        \"caribbean\": [\r\n",
      "            \"carraibean\",\r\n",
      "            \"carribean\",\r\n",
      "            \"caribbean\"\r\n",
      "        ],\r\n",
      "        \"kosher\": [\r\n",
      "            \"kosher\"\r\n",
      "        ],\r\n"
     ]
    }
   ],
   "source": [
    "!head -n 10 my_bot/slotfill/dstc_slot_vals.json"
   ]
  },
  {
   "cell_type": "code",
   "execution_count": 18,
   "metadata": {},
   "outputs": [],
   "source": [
    "from deeppavlov import configs\n",
    "from deeppavlov.core.common.file import read_json\n",
    "\n",
    "\n",
    "slotfill_raw_config = read_json(configs.ner.slotfill_dstc2_raw)"
   ]
  },
  {
   "cell_type": "code",
   "execution_count": 19,
   "metadata": {},
   "outputs": [],
   "source": [
    "slotfill_raw_config['metadata']['variables']['DATA_PATH'] = 'my_data'\n",
    "slotfill_raw_config['metadata']['variables']['SLOT_VALS_PATH'] = 'my_bot/slotfill/dstc_slot_vals.json'"
   ]
  },
  {
   "cell_type": "code",
   "execution_count": 20,
   "metadata": {},
   "outputs": [
    {
     "name": "stderr",
     "output_type": "stream",
     "text": [
      "2019-08-15 12:05:18.812 INFO in 'deeppavlov.dataset_readers.dstc2_reader'['dstc2_reader'] at line 95: [downloading data from http://files.deeppavlov.ai/datasets/dstc2_v2.tar.gz to /home/vimary/code-projects/Pilot/examples/my_data]\n",
      "2019-08-15 12:05:18.819 INFO in 'deeppavlov.core.data.utils'['utils'] at line 63: Downloading from http://files.deeppavlov.ai/datasets/dstc2_v2.tar.gz to /home/vimary/code-projects/Pilot/examples/my_data/dstc2_v2.tar.gz\n",
      "100%|██████████| 506k/506k [00:00<00:00, 35.5MB/s]\n",
      "2019-08-15 12:05:18.834 INFO in 'deeppavlov.core.data.utils'['utils'] at line 201: Extracting /home/vimary/code-projects/Pilot/examples/my_data/dstc2_v2.tar.gz archive into /home/vimary/code-projects/Pilot/examples/my_data\n",
      "2019-08-15 12:05:18.856 INFO in 'deeppavlov.dataset_readers.dstc2_reader'['dstc2_reader'] at line 112: [loading dialogs from /home/vimary/code-projects/Pilot/examples/my_data/dstc2-trn.jsonlist]\n",
      "2019-08-15 12:05:18.998 INFO in 'deeppavlov.dataset_readers.dstc2_reader'['dstc2_reader'] at line 112: [loading dialogs from /home/vimary/code-projects/Pilot/examples/my_data/dstc2-val.jsonlist]\n",
      "2019-08-15 12:05:19.108 INFO in 'deeppavlov.dataset_readers.dstc2_reader'['dstc2_reader'] at line 112: [loading dialogs from /home/vimary/code-projects/Pilot/examples/my_data/dstc2-tst.jsonlist]\n",
      "[nltk_data] Downloading package punkt to /home/vimary/nltk_data...\n",
      "[nltk_data]   Package punkt is already up-to-date!\n",
      "[nltk_data] Downloading package stopwords to /home/vimary/nltk_data...\n",
      "[nltk_data]   Package stopwords is already up-to-date!\n",
      "[nltk_data] Downloading package perluniprops to\n",
      "[nltk_data]     /home/vimary/nltk_data...\n",
      "[nltk_data]   Package perluniprops is already up-to-date!\n",
      "[nltk_data] Downloading package nonbreaking_prefixes to\n",
      "[nltk_data]     /home/vimary/nltk_data...\n",
      "[nltk_data]   Package nonbreaking_prefixes is already up-to-date!\n"
     ]
    },
    {
     "name": "stdout",
     "output_type": "stream",
     "text": [
      "{\"valid\": {\"eval_examples_count\": 1444, \"metrics\": {\"slots_accuracy\": 0.9307}, \"time_spent\": \"0:00:27\"}}\n",
      "{\"test\": {\"eval_examples_count\": 1386, \"metrics\": {\"slots_accuracy\": 0.9481}, \"time_spent\": \"0:00:25\"}}\n"
     ]
    }
   ],
   "source": [
    "from deeppavlov import evaluate_model\n",
    "\n",
    "slotfill_raw = evaluate_model(slotfill_raw_config);"
   ]
  },
  {
   "cell_type": "markdown",
   "metadata": {},
   "source": [
    "We've got slot accuracy of **93% on valid** set and **94% on test** set."
   ]
  },
  {
   "cell_type": "code",
   "execution_count": 21,
   "metadata": {},
   "outputs": [],
   "source": [
    "from deeppavlov import build_model\n",
    "\n",
    "slotfill_raw = build_model(slotfill_raw_config)"
   ]
  },
  {
   "cell_type": "code",
   "execution_count": 24,
   "metadata": {},
   "outputs": [
    {
     "data": {
      "text/plain": [
       "[{'food': 'chinese', 'pricerange': 'cheap'}]"
      ]
     },
     "execution_count": 24,
     "metadata": {},
     "output_type": "execute_result"
    }
   ],
   "source": [
    "slotfill_raw(['i want cheap chinee food'])"
   ]
  },
  {
   "cell_type": "markdown",
   "metadata": {},
   "source": [
    "Saving slotfill config file to disk (we will require it's path later):"
   ]
  },
  {
   "cell_type": "code",
   "execution_count": 23,
   "metadata": {},
   "outputs": [
    {
     "name": "stdout",
     "output_type": "stream",
     "text": [
      "db.sqlite  slotfill  slotfill_raw_config.json\r\n"
     ]
    }
   ],
   "source": [
    "import json\n",
    "\n",
    "json.dump(slotfill_raw_config, open('my_bot/slotfill_raw_config.json', 'wt'))\n",
    "\n",
    "!ls my_bot"
   ]
  },
  {
   "cell_type": "markdown",
   "metadata": {},
   "source": [
    "## Train bot"
   ]
  },
  {
   "cell_type": "code",
   "execution_count": 25,
   "metadata": {},
   "outputs": [],
   "source": [
    "from deeppavlov import configs\n",
    "from deeppavlov.core.common.file import read_json\n",
    "\n",
    "gobot_config = read_json(configs.go_bot.gobot_dstc2)"
   ]
  },
  {
   "cell_type": "markdown",
   "metadata": {},
   "source": [
    "**Configure** bot to use our built **database**:"
   ]
  },
  {
   "cell_type": "code",
   "execution_count": 26,
   "metadata": {},
   "outputs": [],
   "source": [
    "gobot_config['chainer']['pipe'][-1]['database'] = {\n",
    "    'class_name': 'sqlite_database',\n",
    "    'table_name': 'mytable',\n",
    "    'primary_keys': [\"name\"],\n",
    "    'keys': [\"name\", \"food\", \"pricerange\", \"area\", \"addr\", \"phone\", \"postcode\"],\n",
    "    'save_path': 'my_bot/db.sqlite'\n",
    "}"
   ]
  },
  {
   "cell_type": "markdown",
   "metadata": {},
   "source": [
    "**Configure** bot to use levenshtein distance based **slot filler**:"
   ]
  },
  {
   "cell_type": "code",
   "execution_count": 27,
   "metadata": {},
   "outputs": [],
   "source": [
    "gobot_config['chainer']['pipe'][-1]['slot_filler']['config_path'] = 'my_bot/slotfill_raw_config.json'\n",
    "\n",
    "gobot_config['chainer']['pipe'][-1]['tracker']['slot_names'] = \\\n",
    "    ['pricerange', 'this', 'area', 'food']"
   ]
  },
  {
   "cell_type": "markdown",
   "metadata": {},
   "source": [
    "**Configure** bot to use your **response templates**:"
   ]
  },
  {
   "cell_type": "code",
   "execution_count": 28,
   "metadata": {},
   "outputs": [
    {
     "name": "stdout",
     "output_type": "stream",
     "text": [
      "api_call\tapi_call area=\"#area\" food=\"#food\" pricerange=\"#pricerange\"\r\n",
      "bye\tYou are welcome!\r\n",
      "canthear\tSorry, I can't hear you.\r\n",
      "canthelp_area\tI'm sorry but there is no #area american restaurant in the #area of town.\r\n",
      "canthelp_area_food\tSorry there is no #food restaurant in the #area of town.\r\n"
     ]
    }
   ],
   "source": [
    "!head my_data/simple-dstc2-templates.txt -n 5"
   ]
  },
  {
   "cell_type": "code",
   "execution_count": 29,
   "metadata": {},
   "outputs": [],
   "source": [
    "gobot_config['chainer']['pipe'][-1]['slot_filler']['template_path'] = 'my_data/simple-dstc2-templates.txt'"
   ]
  },
  {
   "cell_type": "markdown",
   "metadata": {},
   "source": [
    "You can use a simple **bag-of-words as embedder** (by default):"
   ]
  },
  {
   "cell_type": "code",
   "execution_count": 30,
   "metadata": {},
   "outputs": [],
   "source": [
    "gobot_config['chainer']['pipe'][-1]['embedder'] = None"
   ]
  },
  {
   "cell_type": "markdown",
   "metadata": {},
   "source": [
    "Specify train/valid/test **data path** and **path to save** the final bot model:"
   ]
  },
  {
   "cell_type": "code",
   "execution_count": 31,
   "metadata": {},
   "outputs": [],
   "source": [
    "gobot_config['metadata']['variables']['DATA_PATH'] = 'my_data'\n",
    "\n",
    "gobot_config['metadata']['variables']['MODEL_PATH'] = 'my_bot'"
   ]
  },
  {
   "cell_type": "markdown",
   "metadata": {},
   "source": [
    "##### Training "
   ]
  },
  {
   "cell_type": "code",
   "execution_count": 32,
   "metadata": {},
   "outputs": [
    {
     "name": "stderr",
     "output_type": "stream",
     "text": [
      "2019-08-15 12:06:41.840 INFO in 'deeppavlov.dataset_readers.dstc2_reader'['dstc2_reader'] at line 112: [loading dialogs from /home/vimary/code-projects/Pilot/examples/my_data/dstc2-trn.jsonlist]\n",
      "2019-08-15 12:06:42.34 INFO in 'deeppavlov.dataset_readers.dstc2_reader'['dstc2_reader'] at line 112: [loading dialogs from /home/vimary/code-projects/Pilot/examples/my_data/dstc2-val.jsonlist]\n",
      "2019-08-15 12:06:42.185 INFO in 'deeppavlov.dataset_readers.dstc2_reader'['dstc2_reader'] at line 112: [loading dialogs from /home/vimary/code-projects/Pilot/examples/my_data/dstc2-tst.jsonlist]\n",
      "2019-08-15 12:06:42.493 INFO in 'deeppavlov.core.data.simple_vocab'['simple_vocab'] at line 98: [saving vocabulary to /home/vimary/code-projects/Pilot/examples/my_bot/word.dict]\n",
      "WARNING: Logging before flag parsing goes to stderr.\n",
      "W0815 12:06:43.502739 140072615057024 deprecation_wrapper.py:119] From /home/vimary/code-projects/Pilot/deeppavlov/core/models/tf_model.py:38: The name tf.Session is deprecated. Please use tf.compat.v1.Session instead.\n",
      "\n",
      "W0815 12:06:43.503744 140072615057024 deprecation_wrapper.py:119] From /home/vimary/code-projects/Pilot/deeppavlov/core/models/tf_model.py:223: The name tf.placeholder is deprecated. Please use tf.compat.v1.placeholder instead.\n",
      "\n",
      "W0815 12:06:43.504146 140072615057024 deprecation_wrapper.py:119] From /home/vimary/code-projects/Pilot/deeppavlov/core/models/tf_model.py:223: The name tf.train.Optimizer is deprecated. Please use tf.compat.v1.train.Optimizer instead.\n",
      "\n",
      "2019-08-15 12:06:43.505 WARNING in 'deeppavlov.core.models.serializable'['serializable'] at line 50: No load path is set for Sqlite3Database!\n",
      "W0815 12:06:43.505765 140072615057024 serializable.py:50] No load path is set for Sqlite3Database!\n",
      "2019-08-15 12:06:43.506 INFO in 'deeppavlov.core.data.sqlite_database'['sqlite_database'] at line 63: Loading database from /home/vimary/code-projects/Pilot/examples/my_bot/db.sqlite.\n",
      "I0815 12:06:43.506835 140072615057024 sqlite_database.py:63] Loading database from /home/vimary/code-projects/Pilot/examples/my_bot/db.sqlite.\n",
      "Using TensorFlow backend.\n",
      "W0815 12:06:43.737544 140072615057024 deprecation_wrapper.py:119] From /home/vimary/code-projects/Pilot/deeppavlov/core/common/registry.py:40: The name tf.train.AdamOptimizer is deprecated. Please use tf.compat.v1.train.AdamOptimizer instead.\n",
      "\n",
      "W0815 12:06:43.738073 140072615057024 deprecation_wrapper.py:119] From /home/vimary/code-projects/Pilot/deeppavlov/core/models/tf_model.py:195: The name tf.train.Optimizer is deprecated. Please use tf.compat.v1.train.Optimizer instead.\n",
      "\n",
      "2019-08-15 12:06:43.742 INFO in 'deeppavlov.models.go_bot.network'['network'] at line 160: [loading templates from /home/vimary/.deeppavlov/downloads/dstc2/dstc2-templates.txt]\n",
      "I0815 12:06:43.742649 140072615057024 network.py:160] [loading templates from /home/vimary/.deeppavlov/downloads/dstc2/dstc2-templates.txt]\n",
      "2019-08-15 12:06:43.743 INFO in 'deeppavlov.models.go_bot.network'['network'] at line 163: 46 templates loaded\n",
      "I0815 12:06:43.743571 140072615057024 network.py:163] 46 templates loaded\n",
      "2019-08-15 12:06:43.744 INFO in 'deeppavlov.models.go_bot.network'['network'] at line 202: Calculated input size for `GoalOrientedBotNetwork` is 508\n",
      "I0815 12:06:43.744524 140072615057024 network.py:202] Calculated input size for `GoalOrientedBotNetwork` is 508\n",
      "W0815 12:06:43.745196 140072615057024 deprecation_wrapper.py:119] From /home/vimary/code-projects/Pilot/deeppavlov/models/go_bot/network.py:588: The name tf.placeholder_with_default is deprecated. Please use tf.compat.v1.placeholder_with_default instead.\n",
      "\n",
      "W0815 12:06:43.757079 140072615057024 deprecation_wrapper.py:119] From /home/vimary/code-projects/Pilot/deeppavlov/models/go_bot/network.py:609: The name tf.nn.rnn_cell.LSTMStateTuple is deprecated. Please use tf.compat.v1.nn.rnn_cell.LSTMStateTuple instead.\n",
      "\n",
      "W0815 12:06:43.757641 140072615057024 deprecation.py:323] From /home/vimary/code-projects/Pilot/deeppavlov/models/go_bot/network.py:625: dense (from tensorflow.python.layers.core) is deprecated and will be removed in a future version.\n",
      "Instructions for updating:\n",
      "Use keras.layers.dense instead.\n",
      "W0815 12:06:43.935809 140072615057024 deprecation.py:506] From /home/vimary/code-projects/Pilot/deeppavlov/core/layers/tf_layers.py:948: calling dropout (from tensorflow.python.ops.nn_ops) with keep_prob is deprecated and will be removed in a future version.\n",
      "Instructions for updating:\n",
      "Please use `rate` instead of `keep_prob`. Rate should be set to `rate = 1 - keep_prob`.\n",
      "W0815 12:06:43.942761 140072615057024 deprecation.py:323] From /home/vimary/code-projects/Pilot/deeppavlov/models/go_bot/network.py:675: LSTMCell.__init__ (from tensorflow.python.ops.rnn_cell_impl) is deprecated and will be removed in a future version.\n",
      "Instructions for updating:\n",
      "This class is equivalent as tf.keras.layers.LSTMCell, and will be replaced by that in Tensorflow 2.0.\n",
      "W0815 12:06:43.944407 140072615057024 deprecation.py:323] From /home/vimary/code-projects/Pilot/deeppavlov/models/go_bot/network.py:676: to_int32 (from tensorflow.python.ops.math_ops) is deprecated and will be removed in a future version.\n",
      "Instructions for updating:\n",
      "Use `tf.cast` instead.\n",
      "W0815 12:06:43.945373 140072615057024 deprecation.py:323] From /home/vimary/code-projects/Pilot/deeppavlov/models/go_bot/network.py:681: dynamic_rnn (from tensorflow.python.ops.rnn) is deprecated and will be removed in a future version.\n",
      "Instructions for updating:\n",
      "Please use `keras.layers.RNN(cell)`, which is equivalent to this API\n",
      "W0815 12:06:43.987448 140072615057024 deprecation.py:506] From /home/vimary/dp_env/lib/python3.7/site-packages/tensorflow/python/ops/init_ops.py:1251: calling VarianceScaling.__init__ (from tensorflow.python.ops.init_ops) with dtype is deprecated and will be removed in a future version.\n",
      "Instructions for updating:\n",
      "Call initializer instance with the dtype argument instead of passing it to the constructor\n",
      "W0815 12:06:43.993379 140072615057024 deprecation.py:506] From /home/vimary/dp_env/lib/python3.7/site-packages/tensorflow/python/ops/rnn_cell_impl.py:961: calling Zeros.__init__ (from tensorflow.python.ops.init_ops) with dtype is deprecated and will be removed in a future version.\n",
      "Instructions for updating:\n",
      "Call initializer instance with the dtype argument instead of passing it to the constructor\n",
      "W0815 12:06:44.300557 140072615057024 deprecation.py:323] From /home/vimary/dp_env/lib/python3.7/site-packages/tensorflow/python/ops/rnn.py:244: add_dispatch_support.<locals>.wrapper (from tensorflow.python.ops.array_ops) is deprecated and will be removed in a future version.\n",
      "Instructions for updating:\n",
      "Use tf.where in 2.0, which has the same broadcast rule as np.where\n",
      "W0815 12:06:44.498474 140072615057024 deprecation_wrapper.py:119] From /home/vimary/code-projects/Pilot/deeppavlov/models/go_bot/network.py:584: The name tf.losses.get_regularization_loss is deprecated. Please use tf.compat.v1.losses.get_regularization_loss instead.\n",
      "\n",
      "W0815 12:06:44.500733 140072615057024 deprecation_wrapper.py:119] From /home/vimary/code-projects/Pilot/deeppavlov/core/models/tf_model.py:123: The name tf.variable_scope is deprecated. Please use tf.compat.v1.variable_scope instead.\n",
      "\n",
      "W0815 12:06:44.501269 140072615057024 deprecation_wrapper.py:119] From /home/vimary/code-projects/Pilot/deeppavlov/core/models/tf_model.py:128: The name tf.get_collection is deprecated. Please use tf.compat.v1.get_collection instead.\n",
      "\n",
      "W0815 12:06:44.733592 140072615057024 deprecation.py:323] From /home/vimary/dp_env/lib/python3.7/site-packages/tensorflow/python/ops/variables.py:2618: Variable.initialized_value (from tensorflow.python.ops.variables) is deprecated and will be removed in a future version.\n",
      "Instructions for updating:\n",
      "Use Variable.read_value. Variables in 2.X are initialized automatically both in eager and graph (inside tf.defun) contexts.\n",
      "W0815 12:06:45.603881 140072615057024 deprecation.py:323] From /home/vimary/code-projects/Pilot/deeppavlov/models/go_bot/network.py:239: checkpoint_exists (from tensorflow.python.training.checkpoint_management) is deprecated and will be removed in a future version.\n",
      "Instructions for updating:\n",
      "Use standard file APIs to check for files with this prefix.\n"
     ]
    },
    {
     "name": "stderr",
     "output_type": "stream",
     "text": [
      "2019-08-15 12:06:45.605 INFO in 'deeppavlov.models.go_bot.network'['network'] at line 243: [initializing `GoalOrientedBot` from scratch]\n",
      "I0815 12:06:45.605098 140072615057024 network.py:243] [initializing `GoalOrientedBot` from scratch]\n",
      "2019-08-15 12:08:06.88 INFO in 'deeppavlov.core.trainers.nn_trainer'['nn_trainer'] at line 164: New best per_item_dialog_accuracy of 0.0268\n",
      "I0815 12:08:06.088352 140072615057024 nn_trainer.py:164] New best per_item_dialog_accuracy of 0.0268\n",
      "2019-08-15 12:08:06.89 INFO in 'deeppavlov.core.trainers.nn_trainer'['nn_trainer'] at line 166: Saving model\n",
      "I0815 12:08:06.089135 140072615057024 nn_trainer.py:166] Saving model\n",
      "2019-08-15 12:08:06.90 INFO in 'deeppavlov.core.models.tf_model'['tf_model'] at line 76: [saving model to /home/vimary/code-projects/Pilot/examples/my_bot/model]\n",
      "I0815 12:08:06.090179 140072615057024 tf_model.py:76] [saving model to /home/vimary/code-projects/Pilot/examples/my_bot/model]\n",
      "W0815 12:08:06.091090 140072615057024 deprecation_wrapper.py:119] From /home/vimary/code-projects/Pilot/deeppavlov/core/models/tf_model.py:78: The name tf.train.Saver is deprecated. Please use tf.compat.v1.train.Saver instead.\n",
      "\n",
      "2019-08-15 12:08:06.167 INFO in 'deeppavlov.models.go_bot.network'['network'] at line 701: [saving parameters to /home/vimary/code-projects/Pilot/examples/my_bot/model.json]\n",
      "I0815 12:08:06.167629 140072615057024 network.py:701] [saving parameters to /home/vimary/code-projects/Pilot/examples/my_bot/model.json]\n"
     ]
    },
    {
     "name": "stdout",
     "output_type": "stream",
     "text": [
      "{\"valid\": {\"eval_examples_count\": 575, \"metrics\": {\"per_item_dialog_accuracy\": 0.0268}, \"time_spent\": \"0:01:21\", \"epochs_done\": 0, \"batches_seen\": 0, \"train_examples_seen\": 0, \"impatience\": 0, \"patience_limit\": 10}}\n",
      "{\"train\": {\"eval_examples_count\": 8, \"metrics\": {\"per_item_dialog_accuracy\": 0.1667}, \"time_spent\": \"0:01:36\", \"epochs_done\": 0, \"batches_seen\": 15, \"train_examples_seen\": 120, \"learning_rate\": 0.003, \"momentum\": 0.95, \"loss\": 1.9908068497975668}}\n",
      "{\"train\": {\"eval_examples_count\": 8, \"metrics\": {\"per_item_dialog_accuracy\": 0.5128}, \"time_spent\": \"0:01:50\", \"epochs_done\": 0, \"batches_seen\": 30, \"train_examples_seen\": 240, \"learning_rate\": 0.003, \"momentum\": 0.95, \"loss\": 1.4560860872268677}}\n"
     ]
    },
    {
     "name": "stderr",
     "output_type": "stream",
     "text": [
      "2019-08-15 12:09:55.443 INFO in 'deeppavlov.core.trainers.nn_trainer'['nn_trainer'] at line 164: New best per_item_dialog_accuracy of 0.4229\n",
      "I0815 12:09:55.443168 140072615057024 nn_trainer.py:164] New best per_item_dialog_accuracy of 0.4229\n",
      "2019-08-15 12:09:55.443 INFO in 'deeppavlov.core.trainers.nn_trainer'['nn_trainer'] at line 166: Saving model\n",
      "I0815 12:09:55.443898 140072615057024 nn_trainer.py:166] Saving model\n",
      "2019-08-15 12:09:55.444 INFO in 'deeppavlov.core.models.tf_model'['tf_model'] at line 76: [saving model to /home/vimary/code-projects/Pilot/examples/my_bot/model]\n",
      "I0815 12:09:55.444832 140072615057024 tf_model.py:76] [saving model to /home/vimary/code-projects/Pilot/examples/my_bot/model]\n",
      "2019-08-15 12:09:55.516 INFO in 'deeppavlov.models.go_bot.network'['network'] at line 701: [saving parameters to /home/vimary/code-projects/Pilot/examples/my_bot/model.json]\n",
      "I0815 12:09:55.516048 140072615057024 network.py:701] [saving parameters to /home/vimary/code-projects/Pilot/examples/my_bot/model.json]\n"
     ]
    },
    {
     "name": "stdout",
     "output_type": "stream",
     "text": [
      "{\"valid\": {\"eval_examples_count\": 575, \"metrics\": {\"per_item_dialog_accuracy\": 0.4229}, \"time_spent\": \"0:03:10\", \"epochs_done\": 0, \"batches_seen\": 30, \"train_examples_seen\": 240, \"impatience\": 0, \"patience_limit\": 10}}\n",
      "{\"train\": {\"eval_examples_count\": 8, \"metrics\": {\"per_item_dialog_accuracy\": 0.6667}, \"time_spent\": \"0:03:25\", \"epochs_done\": 0, \"batches_seen\": 45, \"train_examples_seen\": 360, \"learning_rate\": 0.003, \"momentum\": 0.95, \"loss\": 1.181053606669108}}\n",
      "{\"train\": {\"eval_examples_count\": 8, \"metrics\": {\"per_item_dialog_accuracy\": 0.5}, \"time_spent\": \"0:03:40\", \"epochs_done\": 0, \"batches_seen\": 60, \"train_examples_seen\": 480, \"learning_rate\": 0.003, \"momentum\": 0.95, \"loss\": 0.9603077689806621}}\n"
     ]
    },
    {
     "name": "stderr",
     "output_type": "stream",
     "text": [
      "2019-08-15 12:11:43.650 INFO in 'deeppavlov.core.trainers.nn_trainer'['nn_trainer'] at line 164: New best per_item_dialog_accuracy of 0.4776\n",
      "I0815 12:11:43.650254 140072615057024 nn_trainer.py:164] New best per_item_dialog_accuracy of 0.4776\n",
      "2019-08-15 12:11:43.651 INFO in 'deeppavlov.core.trainers.nn_trainer'['nn_trainer'] at line 166: Saving model\n",
      "I0815 12:11:43.651148 140072615057024 nn_trainer.py:166] Saving model\n",
      "2019-08-15 12:11:43.651 INFO in 'deeppavlov.core.models.tf_model'['tf_model'] at line 76: [saving model to /home/vimary/code-projects/Pilot/examples/my_bot/model]\n",
      "I0815 12:11:43.651861 140072615057024 tf_model.py:76] [saving model to /home/vimary/code-projects/Pilot/examples/my_bot/model]\n",
      "2019-08-15 12:11:43.722 INFO in 'deeppavlov.models.go_bot.network'['network'] at line 701: [saving parameters to /home/vimary/code-projects/Pilot/examples/my_bot/model.json]\n",
      "I0815 12:11:43.722516 140072615057024 network.py:701] [saving parameters to /home/vimary/code-projects/Pilot/examples/my_bot/model.json]\n"
     ]
    },
    {
     "name": "stdout",
     "output_type": "stream",
     "text": [
      "{\"valid\": {\"eval_examples_count\": 575, \"metrics\": {\"per_item_dialog_accuracy\": 0.4776}, \"time_spent\": \"0:04:59\", \"epochs_done\": 0, \"batches_seen\": 60, \"train_examples_seen\": 480, \"impatience\": 0, \"patience_limit\": 10}}\n",
      "{\"train\": {\"eval_examples_count\": 8, \"metrics\": {\"per_item_dialog_accuracy\": 0.4762}, \"time_spent\": \"0:05:14\", \"epochs_done\": 0, \"batches_seen\": 75, \"train_examples_seen\": 600, \"learning_rate\": 0.003, \"momentum\": 0.95, \"loss\": 0.6361810545126597}}\n",
      "{\"train\": {\"eval_examples_count\": 8, \"metrics\": {\"per_item_dialog_accuracy\": 0.75}, \"time_spent\": \"0:05:28\", \"epochs_done\": 0, \"batches_seen\": 90, \"train_examples_seen\": 720, \"learning_rate\": 0.003, \"momentum\": 0.95, \"loss\": 0.6751010199387868}}\n"
     ]
    },
    {
     "name": "stderr",
     "output_type": "stream",
     "text": [
      "2019-08-15 12:13:31.784 INFO in 'deeppavlov.core.trainers.nn_trainer'['nn_trainer'] at line 164: New best per_item_dialog_accuracy of 0.4819\n",
      "I0815 12:13:31.784088 140072615057024 nn_trainer.py:164] New best per_item_dialog_accuracy of 0.4819\n",
      "2019-08-15 12:13:31.784 INFO in 'deeppavlov.core.trainers.nn_trainer'['nn_trainer'] at line 166: Saving model\n",
      "I0815 12:13:31.784956 140072615057024 nn_trainer.py:166] Saving model\n",
      "2019-08-15 12:13:31.785 INFO in 'deeppavlov.core.models.tf_model'['tf_model'] at line 76: [saving model to /home/vimary/code-projects/Pilot/examples/my_bot/model]\n",
      "I0815 12:13:31.785662 140072615057024 tf_model.py:76] [saving model to /home/vimary/code-projects/Pilot/examples/my_bot/model]\n",
      "2019-08-15 12:13:31.857 INFO in 'deeppavlov.models.go_bot.network'['network'] at line 701: [saving parameters to /home/vimary/code-projects/Pilot/examples/my_bot/model.json]\n",
      "I0815 12:13:31.857128 140072615057024 network.py:701] [saving parameters to /home/vimary/code-projects/Pilot/examples/my_bot/model.json]\n"
     ]
    },
    {
     "name": "stdout",
     "output_type": "stream",
     "text": [
      "{\"valid\": {\"eval_examples_count\": 575, \"metrics\": {\"per_item_dialog_accuracy\": 0.4819}, \"time_spent\": \"0:06:47\", \"epochs_done\": 0, \"batches_seen\": 90, \"train_examples_seen\": 720, \"impatience\": 0, \"patience_limit\": 10}}\n",
      "{\"train\": {\"eval_examples_count\": 8, \"metrics\": {\"per_item_dialog_accuracy\": 0.6452}, \"time_spent\": \"0:07:01\", \"epochs_done\": 0, \"batches_seen\": 105, \"train_examples_seen\": 840, \"learning_rate\": 0.003, \"momentum\": 0.95, \"loss\": 0.6399111151695251}}\n",
      "{\"train\": {\"eval_examples_count\": 8, \"metrics\": {\"per_item_dialog_accuracy\": 0.8022}, \"time_spent\": \"0:07:16\", \"epochs_done\": 0, \"batches_seen\": 120, \"train_examples_seen\": 960, \"learning_rate\": 0.003, \"momentum\": 0.95, \"loss\": 0.5913254141807556}}\n"
     ]
    },
    {
     "name": "stderr",
     "output_type": "stream",
     "text": [
      "2019-08-15 12:15:19.815 INFO in 'deeppavlov.core.trainers.nn_trainer'['nn_trainer'] at line 164: New best per_item_dialog_accuracy of 0.5092\n",
      "I0815 12:15:19.815698 140072615057024 nn_trainer.py:164] New best per_item_dialog_accuracy of 0.5092\n",
      "2019-08-15 12:15:19.816 INFO in 'deeppavlov.core.trainers.nn_trainer'['nn_trainer'] at line 166: Saving model\n",
      "I0815 12:15:19.816464 140072615057024 nn_trainer.py:166] Saving model\n",
      "2019-08-15 12:15:19.817 INFO in 'deeppavlov.core.models.tf_model'['tf_model'] at line 76: [saving model to /home/vimary/code-projects/Pilot/examples/my_bot/model]\n",
      "I0815 12:15:19.817499 140072615057024 tf_model.py:76] [saving model to /home/vimary/code-projects/Pilot/examples/my_bot/model]\n",
      "2019-08-15 12:15:19.887 INFO in 'deeppavlov.models.go_bot.network'['network'] at line 701: [saving parameters to /home/vimary/code-projects/Pilot/examples/my_bot/model.json]\n",
      "I0815 12:15:19.887879 140072615057024 network.py:701] [saving parameters to /home/vimary/code-projects/Pilot/examples/my_bot/model.json]\n",
      "2019-08-15 12:15:19.899 INFO in 'deeppavlov.core.data.simple_vocab'['simple_vocab'] at line 112: [loading vocabulary from /home/vimary/code-projects/Pilot/examples/my_bot/word.dict]\n",
      "I0815 12:15:19.899368 140072615057024 simple_vocab.py:112] [loading vocabulary from /home/vimary/code-projects/Pilot/examples/my_bot/word.dict]\n",
      "2019-08-15 12:15:19.901 WARNING in 'deeppavlov.core.models.serializable'['serializable'] at line 47: No load path is set for Sqlite3Database in 'infer' mode. Using save path instead\n",
      "W0815 12:15:19.901460 140072615057024 serializable.py:47] No load path is set for Sqlite3Database in 'infer' mode. Using save path instead\n",
      "2019-08-15 12:15:19.902 INFO in 'deeppavlov.core.data.sqlite_database'['sqlite_database'] at line 63: Loading database from /home/vimary/code-projects/Pilot/examples/my_bot/db.sqlite.\n",
      "I0815 12:15:19.902453 140072615057024 sqlite_database.py:63] Loading database from /home/vimary/code-projects/Pilot/examples/my_bot/db.sqlite.\n",
      "2019-08-15 12:15:19.988 INFO in 'deeppavlov.models.go_bot.network'['network'] at line 160: [loading templates from /home/vimary/.deeppavlov/downloads/dstc2/dstc2-templates.txt]\n",
      "I0815 12:15:19.988161 140072615057024 network.py:160] [loading templates from /home/vimary/.deeppavlov/downloads/dstc2/dstc2-templates.txt]\n",
      "2019-08-15 12:15:19.989 INFO in 'deeppavlov.models.go_bot.network'['network'] at line 163: 46 templates loaded\n",
      "I0815 12:15:19.989377 140072615057024 network.py:163] 46 templates loaded\n",
      "2019-08-15 12:15:19.990 INFO in 'deeppavlov.models.go_bot.network'['network'] at line 202: Calculated input size for `GoalOrientedBotNetwork` is 508\n",
      "I0815 12:15:19.990031 140072615057024 network.py:202] Calculated input size for `GoalOrientedBotNetwork` is 508\n"
     ]
    },
    {
     "name": "stdout",
     "output_type": "stream",
     "text": [
      "{\"valid\": {\"eval_examples_count\": 575, \"metrics\": {\"per_item_dialog_accuracy\": 0.5092}, \"time_spent\": \"0:08:35\", \"epochs_done\": 0, \"batches_seen\": 120, \"train_examples_seen\": 960, \"impatience\": 0, \"patience_limit\": 10}}\n"
     ]
    },
    {
     "name": "stderr",
     "output_type": "stream",
     "text": [
      "2019-08-15 12:15:20.455 INFO in 'deeppavlov.models.go_bot.network'['network'] at line 240: [initializing `GoalOrientedBot` from saved]\n",
      "I0815 12:15:20.455870 140072615057024 network.py:240] [initializing `GoalOrientedBot` from saved]\n",
      "2019-08-15 12:15:20.456 INFO in 'deeppavlov.models.go_bot.network'['network'] at line 707: [loading parameters from /home/vimary/code-projects/Pilot/examples/my_bot/model.json]\n",
      "I0815 12:15:20.456933 140072615057024 network.py:707] [loading parameters from /home/vimary/code-projects/Pilot/examples/my_bot/model.json]\n",
      "2019-08-15 12:15:20.459 INFO in 'deeppavlov.core.models.tf_model'['tf_model'] at line 52: [loading model from /home/vimary/code-projects/Pilot/examples/my_bot/model]\n",
      "I0815 12:15:20.459510 140072615057024 tf_model.py:52] [loading model from /home/vimary/code-projects/Pilot/examples/my_bot/model]\n",
      "2019-08-15 12:15:20.500 INFO in 'deeppavlov.core.data.simple_vocab'['simple_vocab'] at line 112: [loading vocabulary from /home/vimary/code-projects/Pilot/examples/my_bot/word.dict]\n",
      "I0815 12:15:20.500081 140072615057024 simple_vocab.py:112] [loading vocabulary from /home/vimary/code-projects/Pilot/examples/my_bot/word.dict]\n",
      "2019-08-15 12:15:20.502 WARNING in 'deeppavlov.core.models.serializable'['serializable'] at line 47: No load path is set for Sqlite3Database in 'infer' mode. Using save path instead\n",
      "W0815 12:15:20.502249 140072615057024 serializable.py:47] No load path is set for Sqlite3Database in 'infer' mode. Using save path instead\n",
      "2019-08-15 12:15:20.503 INFO in 'deeppavlov.core.data.sqlite_database'['sqlite_database'] at line 63: Loading database from /home/vimary/code-projects/Pilot/examples/my_bot/db.sqlite.\n",
      "I0815 12:15:20.503558 140072615057024 sqlite_database.py:63] Loading database from /home/vimary/code-projects/Pilot/examples/my_bot/db.sqlite.\n",
      "2019-08-15 12:15:20.586 INFO in 'deeppavlov.models.go_bot.network'['network'] at line 160: [loading templates from /home/vimary/.deeppavlov/downloads/dstc2/dstc2-templates.txt]\n",
      "I0815 12:15:20.586147 140072615057024 network.py:160] [loading templates from /home/vimary/.deeppavlov/downloads/dstc2/dstc2-templates.txt]\n",
      "2019-08-15 12:15:20.587 INFO in 'deeppavlov.models.go_bot.network'['network'] at line 163: 46 templates loaded\n",
      "I0815 12:15:20.587453 140072615057024 network.py:163] 46 templates loaded\n",
      "2019-08-15 12:15:20.588 INFO in 'deeppavlov.models.go_bot.network'['network'] at line 202: Calculated input size for `GoalOrientedBotNetwork` is 508\n",
      "I0815 12:15:20.588291 140072615057024 network.py:202] Calculated input size for `GoalOrientedBotNetwork` is 508\n",
      "2019-08-15 12:15:21.215 INFO in 'deeppavlov.models.go_bot.network'['network'] at line 240: [initializing `GoalOrientedBot` from saved]\n",
      "I0815 12:15:21.215064 140072615057024 network.py:240] [initializing `GoalOrientedBot` from saved]\n",
      "2019-08-15 12:15:21.216 INFO in 'deeppavlov.models.go_bot.network'['network'] at line 707: [loading parameters from /home/vimary/code-projects/Pilot/examples/my_bot/model.json]\n",
      "I0815 12:15:21.216182 140072615057024 network.py:707] [loading parameters from /home/vimary/code-projects/Pilot/examples/my_bot/model.json]\n",
      "2019-08-15 12:15:21.221 INFO in 'deeppavlov.core.models.tf_model'['tf_model'] at line 52: [loading model from /home/vimary/code-projects/Pilot/examples/my_bot/model]\n",
      "I0815 12:15:21.221276 140072615057024 tf_model.py:52] [loading model from /home/vimary/code-projects/Pilot/examples/my_bot/model]\n"
     ]
    }
   ],
   "source": [
    "from deeppavlov import train_model\n",
    "\n",
    "gobot_config['train']['max_batches'] = 120 # maximum number of training batches\n",
    "gobot_config['train']['batch_size'] = 8 # set batch size\n",
    "gobot_config['train']['val_every_n_batches'] = 30 # evaluate on 'valid' each 30 batches\n",
    "gobot_config['train']['evaluation_targets'] = [] # do not evaluate after end of train (less time)\n",
    "\n",
    "train_model(gobot_config);"
   ]
  },
  {
   "cell_type": "markdown",
   "metadata": {},
   "source": [
    "See [config doc page](http://docs.deeppavlov.ai/en/master/intro/configuration.html) for advanced training configuration."
   ]
  },
  {
   "cell_type": "markdown",
   "metadata": {},
   "source": [
    "##### Metric scores on valid&test"
   ]
  },
  {
   "cell_type": "code",
   "execution_count": 110,
   "metadata": {
    "scrolled": true
   },
   "outputs": [
    {
     "name": "stderr",
     "output_type": "stream",
     "text": [
      "2019-08-13 19:28:27.912 INFO in 'deeppavlov.dataset_readers.dstc2_reader'['dstc2_reader'] at line 112: [loading dialogs from /home/vimary/code-projects/Pilot/examples/my_data/dstc2-trn.jsonlist]\n",
      "I0813 19:28:27.912971 139769053288064 dstc2_reader.py:112] [loading dialogs from /home/vimary/code-projects/Pilot/examples/my_data/dstc2-trn.jsonlist]\n",
      "2019-08-13 19:28:28.17 INFO in 'deeppavlov.dataset_readers.dstc2_reader'['dstc2_reader'] at line 112: [loading dialogs from /home/vimary/code-projects/Pilot/examples/my_data/dstc2-val.jsonlist]\n",
      "I0813 19:28:28.017149 139769053288064 dstc2_reader.py:112] [loading dialogs from /home/vimary/code-projects/Pilot/examples/my_data/dstc2-val.jsonlist]\n",
      "2019-08-13 19:28:28.91 INFO in 'deeppavlov.dataset_readers.dstc2_reader'['dstc2_reader'] at line 112: [loading dialogs from /home/vimary/code-projects/Pilot/examples/my_data/dstc2-tst.jsonlist]\n",
      "I0813 19:28:28.091510 139769053288064 dstc2_reader.py:112] [loading dialogs from /home/vimary/code-projects/Pilot/examples/my_data/dstc2-tst.jsonlist]\n",
      "2019-08-13 19:28:28.543 INFO in 'deeppavlov.core.data.simple_vocab'['simple_vocab'] at line 112: [loading vocabulary from /home/vimary/code-projects/Pilot/examples/my_bot/word.dict]\n",
      "I0813 19:28:28.543950 139769053288064 simple_vocab.py:112] [loading vocabulary from /home/vimary/code-projects/Pilot/examples/my_bot/word.dict]\n",
      "2019-08-13 19:28:28.545 WARNING in 'deeppavlov.core.models.serializable'['serializable'] at line 47: No load path is set for Sqlite3Database in 'infer' mode. Using save path instead\n",
      "W0813 19:28:28.545783 139769053288064 serializable.py:47] No load path is set for Sqlite3Database in 'infer' mode. Using save path instead\n",
      "2019-08-13 19:28:28.546 INFO in 'deeppavlov.core.data.sqlite_database'['sqlite_database'] at line 63: Loading database from /home/vimary/code-projects/Pilot/examples/my_bot/db.sqlite.\n",
      "I0813 19:28:28.546911 139769053288064 sqlite_database.py:63] Loading database from /home/vimary/code-projects/Pilot/examples/my_bot/db.sqlite.\n",
      "2019-08-13 19:28:28.631 INFO in 'deeppavlov.models.go_bot.network'['network'] at line 160: [loading templates from /home/vimary/.deeppavlov/downloads/dstc2/dstc2-templates.txt]\n",
      "I0813 19:28:28.631160 139769053288064 network.py:160] [loading templates from /home/vimary/.deeppavlov/downloads/dstc2/dstc2-templates.txt]\n",
      "2019-08-13 19:28:28.632 INFO in 'deeppavlov.models.go_bot.network'['network'] at line 163: 46 templates loaded\n",
      "I0813 19:28:28.632234 139769053288064 network.py:163] 46 templates loaded\n",
      "2019-08-13 19:28:28.632 INFO in 'deeppavlov.models.go_bot.network'['network'] at line 202: Calculated input size for `GoalOrientedBotNetwork` is 511\n",
      "I0813 19:28:28.632943 139769053288064 network.py:202] Calculated input size for `GoalOrientedBotNetwork` is 511\n",
      "2019-08-13 19:28:29.94 INFO in 'deeppavlov.models.go_bot.network'['network'] at line 240: [initializing `GoalOrientedBot` from saved]\n",
      "I0813 19:28:29.094210 139769053288064 network.py:240] [initializing `GoalOrientedBot` from saved]\n",
      "2019-08-13 19:28:29.95 INFO in 'deeppavlov.models.go_bot.network'['network'] at line 707: [loading parameters from /home/vimary/code-projects/Pilot/examples/my_bot/model.json]\n",
      "I0813 19:28:29.095326 139769053288064 network.py:707] [loading parameters from /home/vimary/code-projects/Pilot/examples/my_bot/model.json]\n",
      "2019-08-13 19:28:29.97 INFO in 'deeppavlov.core.models.tf_model'['tf_model'] at line 52: [loading model from /home/vimary/code-projects/Pilot/examples/my_bot/model]\n",
      "I0813 19:28:29.097333 139769053288064 tf_model.py:52] [loading model from /home/vimary/code-projects/Pilot/examples/my_bot/model]\n"
     ]
    },
    {
     "name": "stdout",
     "output_type": "stream",
     "text": [
      "{\"valid\": {\"eval_examples_count\": 575, \"metrics\": {\"per_item_dialog_accuracy\": 0.5131}, \"time_spent\": \"0:01:21\"}}\n",
      "{\"test\": {\"eval_examples_count\": 576, \"metrics\": {\"per_item_dialog_accuracy\": 0.5059}, \"time_spent\": \"0:01:19\"}}\n"
     ]
    }
   ],
   "source": [
    "from deeppavlov import evaluate_model\n",
    "\n",
    "evaluate_model(gobot_config);"
   ]
  },
  {
   "cell_type": "markdown",
   "metadata": {},
   "source": [
    "##### Chatting with bot"
   ]
  },
  {
   "cell_type": "code",
   "execution_count": 33,
   "metadata": {},
   "outputs": [
    {
     "name": "stderr",
     "output_type": "stream",
     "text": [
      "2019-08-15 12:15:21.260 INFO in 'deeppavlov.core.data.simple_vocab'['simple_vocab'] at line 112: [loading vocabulary from /home/vimary/code-projects/Pilot/examples/my_bot/word.dict]\n",
      "I0815 12:15:21.260463 140072615057024 simple_vocab.py:112] [loading vocabulary from /home/vimary/code-projects/Pilot/examples/my_bot/word.dict]\n",
      "2019-08-15 12:15:21.263 WARNING in 'deeppavlov.core.models.serializable'['serializable'] at line 47: No load path is set for Sqlite3Database in 'infer' mode. Using save path instead\n",
      "W0815 12:15:21.263086 140072615057024 serializable.py:47] No load path is set for Sqlite3Database in 'infer' mode. Using save path instead\n",
      "2019-08-15 12:15:21.264 INFO in 'deeppavlov.core.data.sqlite_database'['sqlite_database'] at line 63: Loading database from /home/vimary/code-projects/Pilot/examples/my_bot/db.sqlite.\n",
      "I0815 12:15:21.264299 140072615057024 sqlite_database.py:63] Loading database from /home/vimary/code-projects/Pilot/examples/my_bot/db.sqlite.\n",
      "2019-08-15 12:15:21.350 INFO in 'deeppavlov.models.go_bot.network'['network'] at line 160: [loading templates from /home/vimary/.deeppavlov/downloads/dstc2/dstc2-templates.txt]\n",
      "I0815 12:15:21.350113 140072615057024 network.py:160] [loading templates from /home/vimary/.deeppavlov/downloads/dstc2/dstc2-templates.txt]\n",
      "2019-08-15 12:15:21.351 INFO in 'deeppavlov.models.go_bot.network'['network'] at line 163: 46 templates loaded\n",
      "I0815 12:15:21.351206 140072615057024 network.py:163] 46 templates loaded\n",
      "2019-08-15 12:15:21.351 INFO in 'deeppavlov.models.go_bot.network'['network'] at line 202: Calculated input size for `GoalOrientedBotNetwork` is 508\n",
      "I0815 12:15:21.351897 140072615057024 network.py:202] Calculated input size for `GoalOrientedBotNetwork` is 508\n",
      "2019-08-15 12:15:21.816 INFO in 'deeppavlov.models.go_bot.network'['network'] at line 240: [initializing `GoalOrientedBot` from saved]\n",
      "I0815 12:15:21.816591 140072615057024 network.py:240] [initializing `GoalOrientedBot` from saved]\n",
      "2019-08-15 12:15:21.817 INFO in 'deeppavlov.models.go_bot.network'['network'] at line 707: [loading parameters from /home/vimary/code-projects/Pilot/examples/my_bot/model.json]\n",
      "I0815 12:15:21.817473 140072615057024 network.py:707] [loading parameters from /home/vimary/code-projects/Pilot/examples/my_bot/model.json]\n",
      "2019-08-15 12:15:21.819 INFO in 'deeppavlov.core.models.tf_model'['tf_model'] at line 52: [loading model from /home/vimary/code-projects/Pilot/examples/my_bot/model]\n",
      "I0815 12:15:21.819099 140072615057024 tf_model.py:52] [loading model from /home/vimary/code-projects/Pilot/examples/my_bot/model]\n"
     ]
    }
   ],
   "source": [
    "from deeppavlov import build_model\n",
    "\n",
    "bot = build_model(gobot_config)"
   ]
  },
  {
   "cell_type": "code",
   "execution_count": 63,
   "metadata": {},
   "outputs": [
    {
     "name": "stderr",
     "output_type": "stream",
     "text": [
      "2019-08-15 12:17:09.783 INFO in 'deeppavlov.models.go_bot.network'['network'] at line 472: Made api_call with {'food': 'chinese'}, got 16 results.\n",
      "I0815 12:17:09.783282 140072615057024 network.py:472] Made api_call with {'food': 'chinese'}, got 16 results.\n"
     ]
    },
    {
     "data": {
      "text/plain": [
       "['The lucky star serves chinese food.']"
      ]
     },
     "execution_count": 63,
     "metadata": {},
     "output_type": "execute_result"
    }
   ],
   "source": [
    "bot(['hi, want chinee food, can you suggest a place to go?'])"
   ]
  },
  {
   "cell_type": "code",
   "execution_count": 64,
   "metadata": {},
   "outputs": [
    {
     "data": {
      "text/plain": [
       "['Sure, the lucky star is on cambridge leisure park clifton way cherry hinton.']"
      ]
     },
     "execution_count": 64,
     "metadata": {},
     "output_type": "execute_result"
    }
   ],
   "source": [
    "bot(['ok, i want ther address'])"
   ]
  },
  {
   "cell_type": "code",
   "execution_count": 65,
   "metadata": {},
   "outputs": [
    {
     "name": "stderr",
     "output_type": "stream",
     "text": [
      "2019-08-15 12:17:10.616 INFO in 'deeppavlov.models.go_bot.network'['network'] at line 472: Made api_call with {'food': 'french', 'area': 'centre'}, got 1 results.\n",
      "I0815 12:17:10.616809 140072615057024 network.py:472] Made api_call with {'food': 'french', 'area': 'centre'}, got 1 results.\n"
     ]
    },
    {
     "data": {
      "text/plain": [
       "['Cote is a nice place in the centre of town serving tasty french food.']"
      ]
     },
     "execution_count": 65,
     "metadata": {},
     "output_type": "execute_result"
    }
   ],
   "source": [
    "bot(['now i want french food in the center of town'])"
   ]
  },
  {
   "cell_type": "code",
   "execution_count": 66,
   "metadata": {},
   "outputs": [
    {
     "data": {
      "text/plain": [
       "['Sure, cote is on bridge street city centre.']"
      ]
     },
     "execution_count": 66,
     "metadata": {},
     "output_type": "execute_result"
    }
   ],
   "source": [
    "bot(['thanks, give me their address too'])"
   ]
  },
  {
   "cell_type": "code",
   "execution_count": 67,
   "metadata": {},
   "outputs": [
    {
     "data": {
      "text/plain": [
       "['The post code of cote is c.b 2, 1 u.f.']"
      ]
     },
     "execution_count": 67,
     "metadata": {},
     "output_type": "execute_result"
    }
   ],
   "source": [
    "bot(['and post code'])"
   ]
  },
  {
   "cell_type": "code",
   "execution_count": 68,
   "metadata": {},
   "outputs": [
    {
     "data": {
      "text/plain": [
       "['You are welcome!']"
      ]
     },
     "execution_count": 68,
     "metadata": {},
     "output_type": "execute_result"
    }
   ],
   "source": [
    "bot(['bye'])"
   ]
  },
  {
   "cell_type": "code",
   "execution_count": 69,
   "metadata": {},
   "outputs": [],
   "source": [
    "bot.reset()"
   ]
  },
  {
   "cell_type": "code",
   "execution_count": null,
   "metadata": {},
   "outputs": [],
   "source": []
  }
 ],
 "metadata": {
  "kernelspec": {
   "display_name": "Python (dp_env)",
   "language": "python",
   "name": "dp_env"
  },
  "language_info": {
   "codemirror_mode": {
    "name": "ipython",
    "version": 3
   },
   "file_extension": ".py",
   "mimetype": "text/x-python",
   "name": "python",
   "nbconvert_exporter": "python",
   "pygments_lexer": "ipython3",
   "version": "3.7.3"
  }
 },
 "nbformat": 4,
 "nbformat_minor": 2
}
